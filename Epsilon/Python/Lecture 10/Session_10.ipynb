{
 "cells": [
  {
   "cell_type": "code",
   "execution_count": 2,
   "id": "0a876dc1",
   "metadata": {},
   "outputs": [
    {
     "name": "stdout",
     "output_type": "stream",
     "text": [
      "omar\n",
      "25\n",
      "data analyst\n"
     ]
    }
   ],
   "source": [
    "import json\n",
    "json_text='{\"name\":\"omar\",\"age\":\"25\",\"job\":\"data analyst\"}'\n",
    "json_output=json.loads(json_text)\n",
    "print(json_output[\"name\"])\n",
    "print(json_output[\"age\"])\n",
    "print(json_output[\"job\"])"
   ]
  },
  {
   "cell_type": "code",
   "execution_count": null,
   "id": "2d4c2574",
   "metadata": {},
   "outputs": [],
   "source": []
  }
 ],
 "metadata": {
  "kernelspec": {
   "display_name": "Python 3 (ipykernel)",
   "language": "python",
   "name": "python3"
  },
  "language_info": {
   "codemirror_mode": {
    "name": "ipython",
    "version": 3
   },
   "file_extension": ".py",
   "mimetype": "text/x-python",
   "name": "python",
   "nbconvert_exporter": "python",
   "pygments_lexer": "ipython3",
   "version": "3.9.13"
  }
 },
 "nbformat": 4,
 "nbformat_minor": 5
}
