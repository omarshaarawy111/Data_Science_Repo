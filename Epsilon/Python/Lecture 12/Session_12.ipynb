{
 "cells": [
  {
   "cell_type": "code",
   "execution_count": 11,
   "id": "bf14fbf7",
   "metadata": {},
   "outputs": [
    {
     "name": "stdout",
     "output_type": "stream",
     "text": [
      "3.14\n",
      "3.14\n",
      "4\n",
      "3.14\n",
      "100\n",
      "113.04\n"
     ]
    }
   ],
   "source": [
    "#OOP \n",
    "\n",
    "class Circle:\n",
    "    pi=3.14\n",
    "    def __init__(self,radius==1):\n",
    "        self.radius=radius\n",
    "    def get_area(self):\n",
    "        return self.pi* self.radius ** 2\n",
    "c1=Circle(5)\n",
    "c2=Circle(6)\n",
    "print(c1.pi)\n",
    "print(c2.pi)\n",
    "c1.pi=4\n",
    "print(c1.pi)\n",
    "print(c2.pi)\n",
    "\n",
    "print(c1.get_area())\n",
    "print(c2.get_area())\n",
    "        "
   ]
  },
  {
   "cell_type": "code",
   "execution_count": 19,
   "id": "7c1b3faa",
   "metadata": {},
   "outputs": [
    {
     "name": "stdout",
     "output_type": "stream",
     "text": [
      "Hi mister\n"
     ]
    }
   ],
   "source": [
    "class Person:\n",
    "    def __init__(self,name,age,gender):\n",
    "        self.name=name\n",
    "        self.age=age\n",
    "        self.gender=gender\n",
    "    def greet(self):\n",
    "        if self.gender == 'Male' :\n",
    "            print(\"Hi mister\")\n",
    "        else :\n",
    "            print(\"Hi miss\")\n",
    "            \n",
    "p1=Person('Omar',25,'Male')\n",
    "p1.greet()"
   ]
  },
  {
   "cell_type": "code",
   "execution_count": 23,
   "id": "790b1332",
   "metadata": {},
   "outputs": [
    {
     "name": "stdout",
     "output_type": "stream",
     "text": [
      "3.14\n",
      "3.14\n",
      "4\n",
      "3.14\n"
     ]
    },
    {
     "ename": "AttributeError",
     "evalue": "'Circle' object has no attribute 'radius'",
     "output_type": "error",
     "traceback": [
      "\u001b[1;31m---------------------------------------------------------------------------\u001b[0m",
      "\u001b[1;31mAttributeError\u001b[0m                            Traceback (most recent call last)",
      "\u001b[1;32m~\\AppData\\Local\\Temp\\ipykernel_7868\\1689115620.py\u001b[0m in \u001b[0;36m<module>\u001b[1;34m\u001b[0m\n\u001b[0;32m     13\u001b[0m \u001b[0mprint\u001b[0m\u001b[1;33m(\u001b[0m\u001b[0mc2\u001b[0m\u001b[1;33m.\u001b[0m\u001b[0mpi\u001b[0m\u001b[1;33m)\u001b[0m\u001b[1;33m\u001b[0m\u001b[1;33m\u001b[0m\u001b[0m\n\u001b[0;32m     14\u001b[0m \u001b[1;33m\u001b[0m\u001b[0m\n\u001b[1;32m---> 15\u001b[1;33m \u001b[0mprint\u001b[0m\u001b[1;33m(\u001b[0m\u001b[0mc1\u001b[0m\u001b[1;33m.\u001b[0m\u001b[0mget_area\u001b[0m\u001b[1;33m(\u001b[0m\u001b[1;33m)\u001b[0m\u001b[1;33m)\u001b[0m\u001b[1;33m\u001b[0m\u001b[1;33m\u001b[0m\u001b[0m\n\u001b[0m\u001b[0;32m     16\u001b[0m \u001b[0mprint\u001b[0m\u001b[1;33m(\u001b[0m\u001b[0mc2\u001b[0m\u001b[1;33m.\u001b[0m\u001b[0mget_area\u001b[0m\u001b[1;33m(\u001b[0m\u001b[1;33m)\u001b[0m\u001b[1;33m)\u001b[0m\u001b[1;33m\u001b[0m\u001b[1;33m\u001b[0m\u001b[0m\n",
      "\u001b[1;32m~\\AppData\\Local\\Temp\\ipykernel_7868\\1689115620.py\u001b[0m in \u001b[0;36mget_area\u001b[1;34m(self)\u001b[0m\n\u001b[0;32m      4\u001b[0m         \u001b[0mself\u001b[0m\u001b[1;33m.\u001b[0m\u001b[0m__radius\u001b[0m\u001b[1;33m=\u001b[0m\u001b[0mradius\u001b[0m\u001b[1;33m\u001b[0m\u001b[1;33m\u001b[0m\u001b[0m\n\u001b[0;32m      5\u001b[0m     \u001b[1;32mdef\u001b[0m \u001b[0mget_area\u001b[0m\u001b[1;33m(\u001b[0m\u001b[0mself\u001b[0m\u001b[1;33m)\u001b[0m\u001b[1;33m:\u001b[0m\u001b[1;33m\u001b[0m\u001b[1;33m\u001b[0m\u001b[0m\n\u001b[1;32m----> 6\u001b[1;33m         \u001b[1;32mreturn\u001b[0m \u001b[0mself\u001b[0m\u001b[1;33m.\u001b[0m\u001b[0mpi\u001b[0m\u001b[1;33m*\u001b[0m \u001b[0mself\u001b[0m\u001b[1;33m.\u001b[0m\u001b[0mradius\u001b[0m \u001b[1;33m**\u001b[0m \u001b[1;36m2\u001b[0m\u001b[1;33m\u001b[0m\u001b[1;33m\u001b[0m\u001b[0m\n\u001b[0m\u001b[0;32m      7\u001b[0m \u001b[0mc1\u001b[0m\u001b[1;33m=\u001b[0m\u001b[0mCircle\u001b[0m\u001b[1;33m(\u001b[0m\u001b[1;36m5\u001b[0m\u001b[1;33m)\u001b[0m\u001b[1;33m\u001b[0m\u001b[1;33m\u001b[0m\u001b[0m\n\u001b[0;32m      8\u001b[0m \u001b[0mc2\u001b[0m\u001b[1;33m=\u001b[0m\u001b[0mCircle\u001b[0m\u001b[1;33m(\u001b[0m\u001b[1;36m6\u001b[0m\u001b[1;33m)\u001b[0m\u001b[1;33m\u001b[0m\u001b[1;33m\u001b[0m\u001b[0m\n",
      "\u001b[1;31mAttributeError\u001b[0m: 'Circle' object has no attribute 'radius'"
     ]
    }
   ],
   "source": [
    "class Circle:\n",
    "    pi=3.14\n",
    "    def __init__(self,radius=1):\n",
    "        self.__radius=radius\n",
    "    def get_area(self):\n",
    "        return self.pi* self.radius ** 2\n",
    "c1=Circle(5)\n",
    "c2=Circle(6)\n",
    "print(c1.pi)\n",
    "print(c2.pi)\n",
    "c1.pi=4\n",
    "print(c1.pi)\n",
    "print(c2.pi)\n",
    "\n",
    "print(c1.get_area())\n",
    "print(c2.get_area())\n"
   ]
  },
  {
   "cell_type": "code",
   "execution_count": 5,
   "id": "f2ba2b50",
   "metadata": {},
   "outputs": [
    {
     "name": "stdout",
     "output_type": "stream",
     "text": [
      "Error Type\n",
      "78.5\n",
      "None\n",
      "10\n",
      "5\n"
     ]
    }
   ],
   "source": [
    "class Circle:\n",
    "    pi=3.14\n",
    "    def __init__(self,radius):\n",
    "        if type(radius)==int :\n",
    "        #if radius is not int :\n",
    "            self.__radius=radius\n",
    "        else :\n",
    "            print(\"Error Type\")\n",
    "    def get_area(self):\n",
    "        return self.pi* self.__radius ** 2\n",
    "    \n",
    "    def set_radius(self,new_radius):\n",
    "        if type(new_radius)==int :\n",
    "            self.__radius=new_radius\n",
    "        else :\n",
    "            print(\"Error Type\")     \n",
    "    def get_radius(self):\n",
    "        return self.__radius\n",
    "    \n",
    "c1=Circle('asd')\n",
    "c2=Circle(5)\n",
    "print(c2.get_area())\n",
    "try :\n",
    "    print(c1.set_radius(10))\n",
    "    print(c1.get_radius())\n",
    "except Exception as e :\n",
    "    print(e)\n",
    "print(c2.get_radius())\n",
    "\n"
   ]
  },
  {
   "cell_type": "code",
   "execution_count": 54,
   "id": "50e09978",
   "metadata": {},
   "outputs": [
    {
     "name": "stdout",
     "output_type": "stream",
     "text": [
      "my model is =  1\n",
      "my color is =  red\n",
      "True\n"
     ]
    }
   ],
   "source": [
    "class Car:\n",
    "    def __init__(self,model,color):\n",
    "        self.model=model\n",
    "        self.color=color\n",
    "    def get_model(self):\n",
    "        print(\"my model is = \",self.model)\n",
    "    def get_color(self):\n",
    "        print(\"my color is = \",self.color)    \n",
    "        \n",
    "class Volvo(Car):\n",
    "    def __init__(self,model,color,have_turbo):\n",
    "        Car.__init__(self,model,color)\n",
    "        self.have_turbo=have_turbo\n",
    "    def get_turbo(self):\n",
    "        print(str(self.have_turbo)) \n",
    "\n",
    "v1 = Volvo('1','red',True)\n",
    "\n",
    "v1.get_model()\n",
    "v1.get_color()\n",
    "v1.get_turbo()"
   ]
  },
  {
   "cell_type": "code",
   "execution_count": null,
   "id": "5e20ce56",
   "metadata": {},
   "outputs": [],
   "source": []
  }
 ],
 "metadata": {
  "kernelspec": {
   "display_name": "Python 3 (ipykernel)",
   "language": "python",
   "name": "python3"
  },
  "language_info": {
   "codemirror_mode": {
    "name": "ipython",
    "version": 3
   },
   "file_extension": ".py",
   "mimetype": "text/x-python",
   "name": "python",
   "nbconvert_exporter": "python",
   "pygments_lexer": "ipython3",
   "version": "3.9.13"
  }
 },
 "nbformat": 4,
 "nbformat_minor": 5
}
