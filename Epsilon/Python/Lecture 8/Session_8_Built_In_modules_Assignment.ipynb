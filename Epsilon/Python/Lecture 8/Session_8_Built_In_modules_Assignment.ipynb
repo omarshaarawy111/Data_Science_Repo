{
 "cells": [
  {
   "cell_type": "markdown",
   "metadata": {
    "id": "VCs8y-zA1N8o"
   },
   "source": [
    "> # Dear Epsilon Students, \n",
    "> # The More you practice The better You'll Be."
   ]
  },
  {
   "cell_type": "markdown",
   "metadata": {
    "id": "jF-MIWao1N8v"
   },
   "source": [
    "### Instructions: \n",
    "- Make sure that you understand this topics before you start.\n",
    "- If you found something hard to do, try and try then google it and finally ask someone. \n",
    "- You can divide this work into daily tasks so that you do not feel pressure.\n",
    "- After you finish, go to model answer and rate yourself. \n",
    "- If you find something ambiguous, Try to make a hypothesis to solve a problem. "
   ]
  },
  {
   "cell_type": "markdown",
   "metadata": {
    "id": "bNhZCnvF1N8x"
   },
   "source": [
    "### Question classification: \n",
    "- Green is level 1 \n",
    "- Orange is level 2 \n",
    "- Red is level 3 "
   ]
  },
  {
   "cell_type": "markdown",
   "metadata": {
    "id": "RNNbBoZX1N8z"
   },
   "source": [
    "# <center> Let's start 💪 </center> "
   ]
  },
  {
   "cell_type": "markdown",
   "metadata": {
    "id": "8QZncM6u1N80"
   },
   "source": [
    "## <p style=\"color:green;\">Q.01 Write a Python program to select a random element from a list. Use random.choice()</p>\n"
   ]
  },
  {
   "cell_type": "code",
   "execution_count": 5,
   "metadata": {
    "id": "9c0sFoWH1N81"
   },
   "outputs": [
    {
     "name": "stdout",
     "output_type": "stream",
     "text": [
      "enter list : 1 2 3 4\n",
      "3\n"
     ]
    }
   ],
   "source": [
    "# Answer here \n",
    "import random\n",
    "lst=map(int,input(\"enter list : \").split())\n",
    "lst=list(lst)\n",
    "rand=random.choice(lst)\n",
    "print(rand)"
   ]
  },
  {
   "cell_type": "markdown",
   "metadata": {
    "id": "Nz0Go4bL1N84"
   },
   "source": [
    "## <p style=\"color:green;\">Q.02 Write a Python program to shuffle the elements of a given list. Use random.shuffle()\n",
    "</p>"
   ]
  },
  {
   "cell_type": "code",
   "execution_count": 12,
   "metadata": {
    "id": "PYVEWP9d1N87"
   },
   "outputs": [
    {
     "name": "stdout",
     "output_type": "stream",
     "text": [
      "enter list : 1 2 3 4\n",
      "[1, 3, 4, 2]\n"
     ]
    }
   ],
   "source": [
    "# Answer here \n",
    "import random\n",
    "lst=map(int,input(\"enter list : \").split())\n",
    "lst=list(lst)\n",
    "random.shuffle(lst)\n",
    "print(lst)"
   ]
  },
  {
   "cell_type": "markdown",
   "metadata": {
    "id": "kTl_ulYr1N9F"
   },
   "source": [
    "## <p style=\"color:green;\">Q.03 Write a Python program to get the name of current working directory.</p>\n"
   ]
  },
  {
   "cell_type": "code",
   "execution_count": 13,
   "metadata": {
    "id": "j_IF-EDE1N9G"
   },
   "outputs": [
    {
     "name": "stdout",
     "output_type": "stream",
     "text": [
      "C:\\Users\\tony-\\OneDrive\\Desktop\\Work\\Session 8\\Quiz\n"
     ]
    }
   ],
   "source": [
    "# Answer here \n",
    "import os\n",
    "current_directory=os.getcwd()\n",
    "print(current_directory)\n"
   ]
  },
  {
   "cell_type": "markdown",
   "metadata": {
    "id": "xfP4GWz61N9G"
   },
   "source": [
    "# <center> Thank's for your effort ❤️ </center> "
   ]
  }
 ],
 "metadata": {
  "colab": {
   "provenance": []
  },
  "kernelspec": {
   "display_name": "Python 3",
   "language": "python",
   "name": "python3"
  },
  "language_info": {
   "codemirror_mode": {
    "name": "ipython",
    "version": 3
   },
   "file_extension": ".py",
   "mimetype": "text/x-python",
   "name": "python",
   "nbconvert_exporter": "python",
   "pygments_lexer": "ipython3",
   "version": "3.7.6"
  }
 },
 "nbformat": 4,
 "nbformat_minor": 1
}
