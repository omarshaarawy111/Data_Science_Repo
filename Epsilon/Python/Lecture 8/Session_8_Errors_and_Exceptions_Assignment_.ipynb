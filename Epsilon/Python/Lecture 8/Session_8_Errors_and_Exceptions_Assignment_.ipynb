{
 "cells": [
  {
   "cell_type": "markdown",
   "metadata": {
    "id": "vFwV4MQl1yMJ"
   },
   "source": [
    "> # Dear Epsilon Students, \n",
    "> # The More you practice The better You'll Be."
   ]
  },
  {
   "cell_type": "markdown",
   "metadata": {
    "id": "C-52pIvR1yMM"
   },
   "source": [
    "### Instructions: \n",
    "- Make sure that you understand this topics before you start.\n",
    "- If you found something hard to do, try and try then google it and finally ask someone. \n",
    "- You can divide this work into daily tasks so that you do not feel pressure.\n",
    "- After you finish, go to model answer and rate yourself. \n",
    "- If you find something ambiguous, Try to make a hypothesis to solve a problem. "
   ]
  },
  {
   "cell_type": "markdown",
   "metadata": {
    "id": "u_lfzoZx1yMN"
   },
   "source": [
    "### Question classification: \n",
    "- Green is level 1 \n",
    "- Orange is level 2 \n",
    "- Red is level 3 "
   ]
  },
  {
   "cell_type": "markdown",
   "metadata": {
    "id": "s71SnlxR1yMN"
   },
   "source": [
    "# <center> Let's start 💪 </center> "
   ]
  },
  {
   "cell_type": "markdown",
   "metadata": {
    "id": "ne_iQE2b1yMO"
   },
   "source": [
    "## <p style=\"color:green;\">Q.01 Handle the exception thrown by the code below by using <code>try</code> and <code>except</code> blocks.</p>\n"
   ]
  },
  {
   "cell_type": "code",
   "execution_count": 2,
   "metadata": {
    "id": "Wx23A-At1yMP",
    "outputId": "6342b3f4-18de-423e-ee2a-20cdcfd1cb0c"
   },
   "outputs": [
    {
     "name": "stdout",
     "output_type": "stream",
     "text": [
      "unsupported operand type(s) for ** or pow(): 'str' and 'int'\n",
      "string canot take power \n"
     ]
    }
   ],
   "source": [
    "# Answer here \n",
    "try :\n",
    "    for i in ['a','b','c']:\n",
    "        print(i**2)\n",
    "except TypeError as e  :\n",
    "    print(e)\n",
    "    print(\"string canot take power \")"
   ]
  },
  {
   "cell_type": "markdown",
   "metadata": {
    "id": "7kj50_a11yMR"
   },
   "source": [
    "## <p style=\"color:green;\">Q.02 Handle the exception thrown by the code below by using <code>try</code> and <code>except</code> blocks. Then use a <code>finally</code> block to print 'All Done.'</p>"
   ]
  },
  {
   "cell_type": "code",
   "execution_count": 3,
   "metadata": {
    "id": "5gm2R_Mp1yMR",
    "outputId": "de646b3f-5604-4aae-b044-8d26e7488e7a"
   },
   "outputs": [
    {
     "name": "stdout",
     "output_type": "stream",
     "text": [
      "division by zero\n",
      "canot be devided by zero\n",
      "All Done.\n"
     ]
    }
   ],
   "source": [
    "# Answer here \n",
    "x = 5\n",
    "y = 0\n",
    "try :\n",
    "    z = x/y\n",
    "    print(z)\n",
    "except ZeroDivisionError as e  :\n",
    "    print(e)\n",
    "    print(\"canot be devided by zero\")\n",
    "finally :\n",
    "    print(\"All Done.\")\n",
    "    "
   ]
  },
  {
   "cell_type": "markdown",
   "metadata": {
    "id": "L3d6su5w1yMS"
   },
   "source": [
    "## <p style=\"color:green;\">Q.03 Write a function that asks for an integer and prints the square of it. Use a <code>while</code> loop with a <code>try</code>, <code>except</code>, <code>else</code> block to account for incorrect inputs.</p>"
   ]
  },
  {
   "cell_type": "code",
   "execution_count": null,
   "metadata": {
    "id": "mIX9yCez1yMS"
   },
   "outputs": [
    {
     "name": "stdout",
     "output_type": "stream",
     "text": [
      "please enter number : 1\n",
      "1\n",
      "no error has been found\n",
      "please enter number : 2.5\n",
      "invalid literal for int() with base 10: '2.5'\n",
      "please enter number : ASDFSD\n",
      "invalid literal for int() with base 10: 'ASDFSD'\n",
      "please enter number : -5\n",
      "25\n",
      "no error has been found\n",
      "please enter number : J1\n",
      "invalid literal for int() with base 10: 'J1'\n",
      "please enter number : 1+J\n",
      "invalid literal for int() with base 10: '1+J'\n"
     ]
    }
   ],
   "source": [
    "# Answer here \n",
    "def ask():\n",
    "    while 1 :\n",
    "        try :\n",
    "            number=int(input(\"please enter number : \"))\n",
    "            print(number ** 2) \n",
    "        except Exception as e :\n",
    "            print(e)\n",
    "        else :\n",
    "            print(\"no error has been found\")\n",
    "def take():\n",
    "        ask()\n",
    "take()    "
   ]
  },
  {
   "cell_type": "markdown",
   "metadata": {
    "id": "KTxtCV_z1yMS"
   },
   "source": [
    "# <center> Thank's for your effort ❤️ </center> "
   ]
  }
 ],
 "metadata": {
  "colab": {
   "provenance": []
  },
  "kernelspec": {
   "display_name": "Python 3",
   "language": "python",
   "name": "python3"
  },
  "language_info": {
   "codemirror_mode": {
    "name": "ipython",
    "version": 3
   },
   "file_extension": ".py",
   "mimetype": "text/x-python",
   "name": "python",
   "nbconvert_exporter": "python",
   "pygments_lexer": "ipython3",
   "version": "3.7.6"
  }
 },
 "nbformat": 4,
 "nbformat_minor": 1
}
