{
 "cells": [
  {
   "cell_type": "markdown",
   "id": "c3126937",
   "metadata": {
    "id": "f53cdab4"
   },
   "source": [
    "## EX1 : ask user to enter integer & float & string variables "
   ]
  },
  {
   "cell_type": "code",
   "execution_count": null,
   "id": "bf5513c6",
   "metadata": {},
   "outputs": [],
   "source": [
    "num1=int(input(\"Please enter integer\"))\n",
    "num2=float(input(\"Please enter float\"))\n",
    "num3=str(input(\"Please enter string\"))\n",
    "print(type(num3))\n",
    "\n"
   ]
  },
  {
   "cell_type": "markdown",
   "id": "f68cfa77",
   "metadata": {
    "id": "b4c46916"
   },
   "source": [
    "## EX2: ask user to input two numbers and compare between them which of them is bigger  "
   ]
  },
  {
   "cell_type": "code",
   "execution_count": null,
   "id": "8fc81d58",
   "metadata": {},
   "outputs": [],
   "source": [
    "num1=int(input(\"Enter first number : \"))\n",
    "num2=int(input(\"Enter second number : \"))\n",
    "if(num1>num2):\n",
    "    print(\"num1 is greater\")  \n",
    "elif(num1<num2):    \n",
    "    print(\"num2 is greater\")   \n",
    "else:    \n",
    "    print(\"numbers are equal\")       "
   ]
  },
  {
   "cell_type": "markdown",
   "id": "fffc56b7",
   "metadata": {
    "id": "193ead92"
   },
   "source": [
    "## EX3: ask user for enter float input and show if this number is positive or negative "
   ]
  },
  {
   "cell_type": "code",
   "execution_count": null,
   "id": "6eddaad1",
   "metadata": {},
   "outputs": [],
   "source": [
    "num1=float(input(\"please enter  number\"))\n",
    "if (num1>0):\n",
    "    print(\"Positive\")  \n",
    "elif (num1<0):\n",
    "    print(\"Negative\")\n",
    "else:\n",
    "    print(\"this number is zero\")\n",
    "    "
   ]
  },
  {
   "cell_type": "markdown",
   "id": "4cc7092b",
   "metadata": {
    "id": "287c522a"
   },
   "source": [
    "## EX4: ask user to enter number and show this number is even or not \n",
    "* use arithmetic operation \n",
    "* a number is even if it is divisible by 2 (no reminder after dividing by 2)"
   ]
  },
  {
   "cell_type": "code",
   "execution_count": null,
   "id": "bb8045e3",
   "metadata": {},
   "outputs": [],
   "source": [
    "num1=int(input(\"please enter  number\"))\n",
    "if (num1 % 2 == 0):\n",
    "    print(\"even\")    \n",
    "else:\n",
    "    print(\"odd\")\n",
    "    "
   ]
  },
  {
   "cell_type": "markdown",
   "id": "b91e48e7",
   "metadata": {
    "id": "a1ff19e2"
   },
   "source": [
    "## EX5: ask user to enter number and show whether this number is divisible by 2 and 3 "
   ]
  },
  {
   "cell_type": "code",
   "execution_count": null,
   "id": "03913022",
   "metadata": {},
   "outputs": [],
   "source": [
    "num1=int(input(\"please enter number\"))\n",
    "if ((num1%2==0) and (num1%3==0)):\n",
    "    print(\"True\")  \n",
    "\n",
    "else:\n",
    "    print(\"False\")\n",
    "    "
   ]
  },
  {
   "cell_type": "markdown",
   "id": "f11b3789",
   "metadata": {
    "id": "a9c34d09"
   },
   "source": [
    "## EX6: ask user to enter two numbers and operation and perform this operation"
   ]
  },
  {
   "cell_type": "code",
   "execution_count": null,
   "id": "8ef33cf3",
   "metadata": {},
   "outputs": [],
   "source": [
    "num1 = float(input('Enter First number '))\n",
    "num2 = float(input('Enter Second number '))\n",
    "op = input('Enter operation [+ , - , * , / , %] : ')"
   ]
  },
  {
   "cell_type": "code",
   "execution_count": null,
   "id": "dbd1da61",
   "metadata": {},
   "outputs": [],
   "source": [
    "num1=float(input(\"please enter first number\"))\n",
    "num2=float(input(\"please enter second number\"))\n",
    "num2=float(num2)\n",
    "op = input('Enter operation [+ , - , * , / , %] : ')\n",
    "while (1) :\n",
    "    if (op=='+'):\n",
    "        Print(num1+num2)    \n",
    "    elif (op=='-'):\n",
    "        print(num1-num2)\n",
    "    elif (op=='*'):\n",
    "        print(num1*num2) \n",
    "    elif (op=='/'):\n",
    "        if(num2 !=0):\n",
    "            print(num1/num2)  \n",
    "        else:\n",
    "            print(\"Cannot devided by zero\")\n",
    "    elif (op=='%'):\n",
    "        print(num1%num2)      \n",
    "    else:\n",
    "        print(\"invalid choice\")\n",
    "    \n",
    "    "
   ]
  },
  {
   "cell_type": "markdown",
   "id": "fdda6fd8",
   "metadata": {
    "id": "9834dc95"
   },
   "source": [
    "## EX7: ask user to enter word and print only characters with even index using slicing ?"
   ]
  },
  {
   "cell_type": "code",
   "execution_count": null,
   "id": "b0cfefa8",
   "metadata": {},
   "outputs": [],
   "source": [
    "word=input(\"please enter word : \")\n",
    "even_chars = []\n",
    "for i in range(0,len(word)):\n",
    "    if i % 2 == 0:\n",
    "        even_chars.append(word[i])\n",
    "    \n",
    "print('Even characters: {}'.format(even_chars))\n",
    "\n",
    "print(word[0:len(word):2])"
   ]
  },
  {
   "cell_type": "markdown",
   "id": "4e004cc1",
   "metadata": {
    "id": "816f09ca"
   },
   "source": [
    "## EX8: ask user to enter word and print only characters with odd index using slicing ?"
   ]
  },
  {
   "cell_type": "code",
   "execution_count": null,
   "id": "b38b78cb",
   "metadata": {},
   "outputs": [],
   "source": [
    "word=input(\"please enter word : \")\n",
    "odd_chars = []\n",
    "for i in range(0,len(word)):\n",
    "    if i % 2 != 0:\n",
    "        odd_chars.append(word[i])\n",
    "    \n",
    "print('Odd characters: {}'.format(odd_chars))\n",
    "\n",
    "print(word[1:len(word):2])\n"
   ]
  },
  {
   "cell_type": "markdown",
   "id": "d6468d63",
   "metadata": {
    "id": "1b6ba6f1"
   },
   "source": [
    "## EX9 : ask user to enter word and print this word reversed ? "
   ]
  },
  {
   "cell_type": "code",
   "execution_count": 47,
   "id": "a8fa6c66",
   "metadata": {},
   "outputs": [
    {
     "name": "stdout",
     "output_type": "stream",
     "text": [
      "please enter word : omar\n",
      "reverse characters: ['r', 'a', 'm', 'o']\n",
      "ramo\n",
      "ra\n",
      "ramo\n"
     ]
    }
   ],
   "source": [
    "word=input(\"please enter word : \")\n",
    "reverse_chars = []\n",
    "for i in range(len(word),0,-1):\n",
    "        reverse_chars.append(word[i-1])\n",
    "    \n",
    "print('reverse characters: {}'.format(reverse_chars))\n",
    "print(word[::-1])\n",
    "print(word[len(word)::-1])"
   ]
  },
  {
   "cell_type": "markdown",
   "id": "80237b38",
   "metadata": {
    "id": "f79fbfa1"
   },
   "source": [
    "## EX10: ask user to enter sentence if sentence capitalized print as it else capitalize it ? "
   ]
  },
  {
   "cell_type": "code",
   "execution_count": 57,
   "id": "2afbc5c5",
   "metadata": {},
   "outputs": [
    {
     "name": "stdout",
     "output_type": "stream",
     "text": [
      "enter word : Omar\n",
      "done\n"
     ]
    }
   ],
   "source": [
    "word=input(\"enter word : \")\n",
    "if word[0].isupper() :\n",
    "    print(\"done\")\n",
    "else :  \n",
    "    print(word.capitalize())"
   ]
  },
  {
   "cell_type": "code",
   "execution_count": null,
   "id": "9ca5ce3d",
   "metadata": {},
   "outputs": [],
   "source": []
  },
  {
   "cell_type": "code",
   "execution_count": null,
   "id": "866c78f1",
   "metadata": {},
   "outputs": [],
   "source": []
  },
  {
   "cell_type": "markdown",
   "id": "4cd469ea",
   "metadata": {
    "id": "044ed6f6"
   },
   "source": [
    "## EX11: ask user to enter word and character and show whether this character inside word or not ?"
   ]
  },
  {
   "cell_type": "code",
   "execution_count": 67,
   "id": "22098d56",
   "metadata": {},
   "outputs": [
    {
     "name": "stdout",
     "output_type": "stream",
     "text": [
      "enter word : omar\n",
      "enter char : o\n",
      "exist\n"
     ]
    }
   ],
   "source": [
    "word=input(\"enter word : \")\n",
    "char=input(\"enter char : \")\n",
    "if word.find(char) !=-1 :\n",
    "    print(\"exist\")\n",
    "else :\n",
    "    print(\"not exist\")"
   ]
  },
  {
   "cell_type": "markdown",
   "id": "ec17bb43",
   "metadata": {
    "id": "52a7ea6f"
   },
   "source": [
    "## EX12: ask user to enter string and if that string contain only numbers convert it to integer\n",
    "* hint: which function check if the string contains only numbers? "
   ]
  },
  {
   "cell_type": "code",
   "execution_count": 65,
   "id": "d5098d84",
   "metadata": {},
   "outputs": [
    {
     "name": "stdout",
     "output_type": "stream",
     "text": [
      "enter word : 123\n",
      "123 <class 'int'>\n"
     ]
    }
   ],
   "source": [
    "word=input(\"enter word : \")\n",
    "if word.isdecimal():\n",
    "    word=int(word)\n",
    "    print(word,type(word))\n",
    "else :\n",
    "    print(\"invalid\")"
   ]
  },
  {
   "cell_type": "markdown",
   "id": "8b5ef1d3",
   "metadata": {
    "id": "dc7e30a7"
   },
   "source": [
    "## EX13: ask user to enter float number and take integer part in variable and floating part in another variable using strings\n",
    "* output: 12.3 is 12 + 0.3\n",
    "* hint: use split()"
   ]
  },
  {
   "cell_type": "code",
   "execution_count": 78,
   "id": "f990dc4b",
   "metadata": {},
   "outputs": [
    {
     "name": "stdout",
     "output_type": "stream",
     "text": [
      "enter number1.5\n",
      "integer part :  1\n",
      "float part :  0.5\n",
      "<class 'int'>\n",
      "<class 'float'>\n"
     ]
    }
   ],
   "source": [
    "number=input(\"enter number\").split(\".\")\n",
    "for i in range(0,len(number)) :\n",
    "    if i % 2 ==0:\n",
    "        number[i]=int(number[i])\n",
    "    else :\n",
    "        number[i]=float('.'+(number[i]))    \n",
    "print(\"integer part : \",number[0])\n",
    "print(\"float part : \",number[1])\n",
    "print(type(number[0]))\n",
    "print(type(number[1]))\n"
   ]
  },
  {
   "cell_type": "markdown",
   "id": "eccb244f",
   "metadata": {
    "id": "130ba196"
   },
   "source": [
    "## EX15: ask user to enter string and this string contains at least one (a) character replace the first occurrence of this character only to it's upper case ?"
   ]
  },
  {
   "cell_type": "code",
   "execution_count": 80,
   "id": "966eaee6",
   "metadata": {},
   "outputs": [
    {
     "name": "stdout",
     "output_type": "stream",
     "text": [
      "enter wordomar\n",
      "omAr\n"
     ]
    }
   ],
   "source": [
    "word=input(\"enter word : \")\n",
    "if word.find(\"a\") != -1 :\n",
    "    print(word.replace(\"a\",\"A\",1))\n",
    "else :\n",
    "    print(\"not found\")"
   ]
  },
  {
   "cell_type": "markdown",
   "id": "54e49b64",
   "metadata": {},
   "source": [
    "#  ** advanced question Alert **"
   ]
  },
  {
   "cell_type": "markdown",
   "id": "37518737",
   "metadata": {
    "id": "a8134e25"
   },
   "source": [
    "## EX14 : ask user to enter binary number (string contain (0 , 1)) then check whether this is valid binary number or not ?\n",
    "* hint: can you use find()"
   ]
  },
  {
   "cell_type": "code",
   "execution_count": 85,
   "id": "9c52569f",
   "metadata": {},
   "outputs": [
    {
     "name": "stdout",
     "output_type": "stream",
     "text": [
      "enter binary number0101010\n",
      "{number} is valid\n"
     ]
    }
   ],
   "source": [
    "number=input(\"enter binary number\")\n",
    "count_0=number.count('0')\n",
    "count_1=number.count('1')\n",
    "if count_0+count_1 == len(number) :\n",
    "    print(\"{number} is valid\")\n",
    "else :\n",
    "    print(\"{number} is not valid\")"
   ]
  },
  {
   "cell_type": "code",
   "execution_count": null,
   "id": "def3df27",
   "metadata": {},
   "outputs": [],
   "source": []
  }
 ],
 "metadata": {
  "kernelspec": {
   "display_name": "Python 3 (ipykernel)",
   "language": "python",
   "name": "python3"
  },
  "language_info": {
   "codemirror_mode": {
    "name": "ipython",
    "version": 3
   },
   "file_extension": ".py",
   "mimetype": "text/x-python",
   "name": "python",
   "nbconvert_exporter": "python",
   "pygments_lexer": "ipython3",
   "version": "3.9.13"
  }
 },
 "nbformat": 4,
 "nbformat_minor": 5
}
