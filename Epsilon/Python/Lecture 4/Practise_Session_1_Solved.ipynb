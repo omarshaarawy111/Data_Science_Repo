{
 "cells": [
  {
   "cell_type": "markdown",
   "metadata": {},
   "source": [
    "# <center>Practical session 1</center>\n"
   ]
  },
  {
   "cell_type": "markdown",
   "metadata": {},
   "source": [
    "# Session outlines \n",
    "- Variables \n",
    "- Inputs & Outputs "
   ]
  },
  {
   "cell_type": "code",
   "execution_count": null,
   "metadata": {},
   "outputs": [],
   "source": [
    "numbers  = 11233\n",
    "text = \"Practice Session\"\n",
    "decimal = 3.14\n",
    "boolean = True \n"
   ]
  },
  {
   "cell_type": "code",
   "execution_count": 2,
   "metadata": {},
   "outputs": [
    {
     "data": {
      "text/plain": [
       "3"
      ]
     },
     "execution_count": 2,
     "metadata": {},
     "output_type": "execute_result"
    }
   ],
   "source": [
    "test = 3\n",
    "test"
   ]
  },
  {
   "cell_type": "code",
   "execution_count": 6,
   "metadata": {},
   "outputs": [
    {
     "name": "stdout",
     "output_type": "stream",
     "text": [
      "Please enter circle radius 4\n",
      "4\n"
     ]
    }
   ],
   "source": [
    "user_input = input(\"Please enter circle radius \")\n",
    "print(\"Circle Radius:\", user_input)"
   ]
  },
  {
   "cell_type": "markdown",
   "metadata": {},
   "source": [
    "##### Get user name and pint \"Hello, Username\"."
   ]
  },
  {
   "cell_type": "code",
   "execution_count": 7,
   "metadata": {},
   "outputs": [
    {
     "name": "stdout",
     "output_type": "stream",
     "text": [
      " plz enter your name Hussein\n",
      "hello Hussein\n"
     ]
    }
   ],
   "source": [
    "name = input ( \" plz enter your name \" )\n",
    "print ( \"hello\" , name )"
   ]
  },
  {
   "cell_type": "code",
   "execution_count": 8,
   "metadata": {},
   "outputs": [
    {
     "name": "stdout",
     "output_type": "stream",
     "text": [
      "Please Enter your name : Ahmed\n",
      "Hello Ahmed\n"
     ]
    }
   ],
   "source": [
    "# Answer here \n",
    "name = input(\"Please Enter your name : \")\n",
    "print(\"Hello\",name)"
   ]
  },
  {
   "cell_type": "markdown",
   "metadata": {},
   "source": [
    "##### How to take multiple variables ? "
   ]
  },
  {
   "cell_type": "code",
   "execution_count": 10,
   "metadata": {},
   "outputs": [
    {
     "name": "stdout",
     "output_type": "stream",
     "text": [
      "x value :  1\n",
      "y value :  3\n",
      "z value :  4\n"
     ]
    }
   ],
   "source": [
    "# Answer here\n",
    "w,x,y,z = 1,3,4,6 \n",
    "print(\"x value : \",x)\n",
    "print(\"y value : \",y)\n",
    "print(\"z value : \",z)"
   ]
  },
  {
   "cell_type": "code",
   "execution_count": null,
   "metadata": {},
   "outputs": [],
   "source": [
    "calculate  : (w+x)-(y+z)"
   ]
  },
  {
   "cell_type": "code",
   "execution_count": 11,
   "metadata": {},
   "outputs": [
    {
     "name": "stdout",
     "output_type": "stream",
     "text": [
      "123\n",
      "x value :  1\n",
      "y value :  2\n",
      "z value :  3\n"
     ]
    }
   ],
   "source": [
    "w,x,y,z = input()\n",
    "print(\"x value : \",x)\n",
    "print(\"y value : \",y)\n",
    "print(\"z value : \",z)"
   ]
  },
  {
   "cell_type": "code",
   "execution_count": 13,
   "metadata": {},
   "outputs": [
    {
     "name": "stdout",
     "output_type": "stream",
     "text": [
      "4321\n",
      "Result =  4\n"
     ]
    }
   ],
   "source": [
    "w,x,y,z = input()\n",
    "w = int(w)\n",
    "x = int(x)\n",
    "y = int(y)\n",
    "z= int(z)\n",
    "result = (w+x)-(y+z)\n",
    "print(\"Result = \", result)"
   ]
  },
  {
   "cell_type": "code",
   "execution_count": 19,
   "metadata": {},
   "outputs": [
    {
     "data": {
      "text/plain": [
       "5"
      ]
     },
     "execution_count": 19,
     "metadata": {},
     "output_type": "execute_result"
    }
   ],
   "source": [
    "2+3"
   ]
  },
  {
   "cell_type": "code",
   "execution_count": 20,
   "metadata": {},
   "outputs": [
    {
     "data": {
      "text/plain": [
       "1"
      ]
     },
     "execution_count": 20,
     "metadata": {},
     "output_type": "execute_result"
    }
   ],
   "source": [
    "4-3"
   ]
  },
  {
   "cell_type": "code",
   "execution_count": 21,
   "metadata": {},
   "outputs": [
    {
     "data": {
      "text/plain": [
       "12"
      ]
     },
     "execution_count": 21,
     "metadata": {},
     "output_type": "execute_result"
    }
   ],
   "source": [
    "4*3"
   ]
  },
  {
   "cell_type": "code",
   "execution_count": null,
   "metadata": {},
   "outputs": [],
   "source": [
    "ceil : //"
   ]
  },
  {
   "cell_type": "code",
   "execution_count": 16,
   "metadata": {},
   "outputs": [
    {
     "data": {
      "text/plain": [
       "1"
      ]
     },
     "execution_count": 16,
     "metadata": {},
     "output_type": "execute_result"
    }
   ],
   "source": [
    "5%2"
   ]
  },
  {
   "cell_type": "code",
   "execution_count": 18,
   "metadata": {},
   "outputs": [
    {
     "data": {
      "text/plain": [
       "4.0"
      ]
     },
     "execution_count": 18,
     "metadata": {},
     "output_type": "execute_result"
    }
   ],
   "source": [
    "16**0.5"
   ]
  },
  {
   "cell_type": "code",
   "execution_count": null,
   "metadata": {},
   "outputs": [],
   "source": []
  },
  {
   "cell_type": "code",
   "execution_count": null,
   "metadata": {},
   "outputs": [],
   "source": [
    "13"
   ]
  },
  {
   "cell_type": "code",
   "execution_count": null,
   "metadata": {},
   "outputs": [],
   "source": [
    "3"
   ]
  },
  {
   "cell_type": "markdown",
   "metadata": {},
   "source": [
    "##### Take number from user and print last number (the ones place)"
   ]
  },
  {
   "cell_type": "code",
   "execution_count": 23,
   "metadata": {},
   "outputs": [
    {
     "name": "stdout",
     "output_type": "stream",
     "text": [
      "enter the radius : 3.5\n",
      "21.98\n"
     ]
    }
   ],
   "source": [
    "radius = float(input(\"enter the radius : \"))\n",
    "print(3.14*2*radius)"
   ]
  },
  {
   "cell_type": "code",
   "execution_count": 22,
   "metadata": {},
   "outputs": [
    {
     "name": "stdout",
     "output_type": "stream",
     "text": [
      "enter the number : 13\n",
      "3\n"
     ]
    }
   ],
   "source": [
    "# Answer here \n",
    "number = int(input(\"enter the number : \"))\n",
    "print(number%10)"
   ]
  },
  {
   "cell_type": "markdown",
   "metadata": {},
   "source": [
    "##### Write ceil devesion implementation. "
   ]
  },
  {
   "cell_type": "code",
   "execution_count": 49,
   "metadata": {},
   "outputs": [
    {
     "data": {
      "text/plain": [
       "2"
      ]
     },
     "execution_count": 49,
     "metadata": {},
     "output_type": "execute_result"
    }
   ],
   "source": [
    "# Answer here \n",
    "5//2"
   ]
  },
  {
   "cell_type": "markdown",
   "metadata": {},
   "source": [
    "##### Given  a number of days print the following: \n",
    "- How many years ? \n",
    "- How many months ?\n",
    "- How many days ?"
   ]
  },
  {
   "cell_type": "code",
   "execution_count": null,
   "metadata": {},
   "outputs": [],
   "source": [
    "# Answer here \n",
    "#  399 > 1 year 1 month 4 days\n"
   ]
  },
  {
   "cell_type": "code",
   "execution_count": 37,
   "metadata": {},
   "outputs": [
    {
     "name": "stdout",
     "output_type": "stream",
     "text": [
      "399\n",
      "Years =  1  Months =  1  Days =  4\n"
     ]
    }
   ],
   "source": [
    "# sloution \n",
    "days_from_user = int(input())\n",
    "years = days_from_user // 365\n",
    "months = (days_from_user%365) // 30\n",
    "days = days_from_user -  (365 * years + 30 * months)\n",
    "print(\"Years = \",years, \" Months = \",months,\" Days = \",days)"
   ]
  },
  {
   "cell_type": "markdown",
   "metadata": {},
   "source": [
    "##### Given  a number of seconds print the following: \n",
    "- How many hours ? \n",
    "- How many minutes ?\n",
    "- How many seconds ?"
   ]
  },
  {
   "cell_type": "code",
   "execution_count": null,
   "metadata": {},
   "outputs": [],
   "source": [
    "# Answer here \n",
    "# 1 hour = 3600 second \n",
    "# test case : 11260 , 3 hours , 7 mintues ,40 second\n"
   ]
  },
  {
   "cell_type": "code",
   "execution_count": 46,
   "metadata": {
    "scrolled": true
   },
   "outputs": [
    {
     "name": "stdout",
     "output_type": "stream",
     "text": [
      "enter the number : 11260\n",
      " 3 hours 7 minutes  40 sec \n"
     ]
    }
   ],
   "source": [
    "number = int(input(\"enter the number : \"))\n",
    "hours=number//3600\n",
    "minutes=(number%3600)//60\n",
    "sec= number-(3600*hours+60*minutes)\n",
    "print(\" {} hours {} minutes  {} sec \".format(hours,minutes,sec))"
   ]
  },
  {
   "cell_type": "markdown",
   "metadata": {},
   "source": [
    "##### Which of the following is invalid? \n",
    "-  _a = 1\n",
    "-  __a = 1\n",
    "-  __str__ = 1\n",
    "-  none of the mentioned"
   ]
  },
  {
   "cell_type": "markdown",
   "metadata": {},
   "source": [
    "# <center>Best of luck ❤️</center>\n"
   ]
  }
 ],
 "metadata": {
  "kernelspec": {
   "display_name": "Python 3 (ipykernel)",
   "language": "python",
   "name": "python3"
  },
  "language_info": {
   "codemirror_mode": {
    "name": "ipython",
    "version": 3
   },
   "file_extension": ".py",
   "mimetype": "text/x-python",
   "name": "python",
   "nbconvert_exporter": "python",
   "pygments_lexer": "ipython3",
   "version": "3.9.7"
  }
 },
 "nbformat": 4,
 "nbformat_minor": 4
}
