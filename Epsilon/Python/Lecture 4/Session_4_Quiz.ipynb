{
 "cells": [
  {
   "cell_type": "markdown",
   "metadata": {
    "id": "9U4CJsicumjM"
   },
   "source": [
    "> # Dear Epsilon Students, \n",
    "> # The More you practice The better You'll Be."
   ]
  },
  {
   "cell_type": "markdown",
   "metadata": {
    "id": "L7deRMW6umjR"
   },
   "source": [
    "# Q.1 Given the radius of circle, print circumference of circle"
   ]
  },
  {
   "cell_type": "code",
   "execution_count": 4,
   "metadata": {
    "id": "ZKHOmX6qumjS"
   },
   "outputs": [
    {
     "name": "stdout",
     "output_type": "stream",
     "text": [
      "Please enter the radius : 2\n",
      "The circumference is =  12.56\n"
     ]
    }
   ],
   "source": [
    "# Answer here \n",
    "radius=input(\"Please enter the radius : \")\n",
    "radius=int(radius)\n",
    "Circum=radius*3.14*2\n",
    "print(\"The circumference is = \",Circum)\n"
   ]
  },
  {
   "cell_type": "markdown",
   "metadata": {
    "id": "afK1M9whumjU"
   },
   "source": [
    "# Q.2 Given the width and heught of rectangle, print perimeter of rectangle"
   ]
  },
  {
   "cell_type": "code",
   "execution_count": 3,
   "metadata": {
    "id": "xIMknQ7XumjV"
   },
   "outputs": [
    {
     "name": "stdout",
     "output_type": "stream",
     "text": [
      "Enter width and height : 2 3\n",
      "The perimeter is = :  6\n"
     ]
    },
    {
     "data": {
      "text/plain": [
       "'\\nAnother way of solution\\nx=input(\"Enter width and height : \").split()\\nx[0]=int(x[0])\\nx[1]=int(x[1])\\nPer=x[0]*x[1]\\nprint(\"The perimeter is = : \",Per)\\n'"
      ]
     },
     "execution_count": 3,
     "metadata": {},
     "output_type": "execute_result"
    }
   ],
   "source": [
    "# Answer here \n",
    "Width,Height=input(\"Enter width and height : \").split()\n",
    "Width=int(Width)\n",
    "Height=int(Height)\n",
    "Per=Width*Height\n",
    "print(\"The perimeter is = : \",Per)\n",
    "\n",
    "\"\"\"\n",
    "Another way of solution\n",
    "x=input(\"Enter width and height : \").split()\n",
    "x[0]=int(x[0])\n",
    "x[1]=int(x[1])\n",
    "Per=x[0]*x[1]\n",
    "print(\"The perimeter is = : \",Per)\n",
    "\"\"\""
   ]
  },
  {
   "cell_type": "markdown",
   "metadata": {
    "id": "SpwnJsiJumjW"
   },
   "source": [
    "# <center> Thank's for your effort ❤️ </center> "
   ]
  }
 ],
 "metadata": {
  "colab": {
   "provenance": []
  },
  "kernelspec": {
   "display_name": "Python 3 (ipykernel)",
   "language": "python",
   "name": "python3"
  },
  "language_info": {
   "codemirror_mode": {
    "name": "ipython",
    "version": 3
   },
   "file_extension": ".py",
   "mimetype": "text/x-python",
   "name": "python",
   "nbconvert_exporter": "python",
   "pygments_lexer": "ipython3",
   "version": "3.9.13"
  }
 },
 "nbformat": 4,
 "nbformat_minor": 1
}
