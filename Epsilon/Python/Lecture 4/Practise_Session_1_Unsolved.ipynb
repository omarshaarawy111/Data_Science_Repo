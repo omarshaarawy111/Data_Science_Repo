{
 "cells": [
  {
   "cell_type": "markdown",
   "metadata": {},
   "source": [
    "# <center>Practical session 1</center>\n"
   ]
  },
  {
   "cell_type": "markdown",
   "metadata": {},
   "source": [
    "# Session outlines \n",
    "- Variables \n",
    "- Inputs & Outputs "
   ]
  },
  {
   "cell_type": "markdown",
   "metadata": {},
   "source": [
    "##### Get user name and pint \"Hello, Username\"."
   ]
  },
  {
   "cell_type": "code",
   "execution_count": 3,
   "metadata": {},
   "outputs": [
    {
     "name": "stdout",
     "output_type": "stream",
     "text": [
      "Enter user nameomar\n",
      "Hello,omar\n"
     ]
    }
   ],
   "source": [
    "# Answer here \n",
    "user=input(\"Enter user name\")\n",
    "print(\"Hello,{}\".format(user))"
   ]
  },
  {
   "cell_type": "markdown",
   "metadata": {},
   "source": [
    "##### How to take multiple variables ? "
   ]
  },
  {
   "cell_type": "code",
   "execution_count": 7,
   "metadata": {},
   "outputs": [
    {
     "name": "stdout",
     "output_type": "stream",
     "text": [
      "Please enter three vars1 2 3\n",
      "1 2 3\n"
     ]
    }
   ],
   "source": [
    "# Answer here \n",
    "a,b,c=map(int,input(\"Please enter three vars\").split())\n",
    "print(a,b,c)"
   ]
  },
  {
   "cell_type": "markdown",
   "metadata": {},
   "source": [
    "##### Take number from user and print last number (the ones place)"
   ]
  },
  {
   "cell_type": "code",
   "execution_count": null,
   "metadata": {},
   "outputs": [],
   "source": [
    "# Answer here \n",
    "number=int(input(\"pleas\"))"
   ]
  },
  {
   "cell_type": "markdown",
   "metadata": {},
   "source": [
    "##### Write ceil devesion implementation. "
   ]
  },
  {
   "cell_type": "code",
   "execution_count": null,
   "metadata": {},
   "outputs": [],
   "source": [
    "# Answer here "
   ]
  },
  {
   "cell_type": "markdown",
   "metadata": {},
   "source": [
    "##### Given  a number of days print the following: \n",
    "- How many years ? \n",
    "- How many months ?\n",
    "- How many days ?"
   ]
  },
  {
   "cell_type": "code",
   "execution_count": 8,
   "metadata": {},
   "outputs": [
    {
     "name": "stdout",
     "output_type": "stream",
     "text": [
      "Please enter the number of days : 45\n",
      "The number of days is 45\n",
      "months is 1.5 \n",
      "years is 0.1232876712328767\n"
     ]
    }
   ],
   "source": [
    "# Answer here \n",
    "\n",
    "days=int(input(\"Please enter the number of days : \"))\n",
    "months=days/30\n",
    "years=days/365\n",
    "print(\"The number of days is {}\\nmonths is {} \\nyears is {}\".format(days,months,years))\n"
   ]
  },
  {
   "cell_type": "markdown",
   "metadata": {},
   "source": [
    "##### Given  a number of seconds print the following: \n",
    "- How many hours ? \n",
    "- How many minutes ?\n",
    "- How many seconds ?"
   ]
  },
  {
   "cell_type": "code",
   "execution_count": 12,
   "metadata": {},
   "outputs": [
    {
     "name": "stdout",
     "output_type": "stream",
     "text": [
      "Please enter the number of seconds : 60\n",
      "The number of seconds is 60\n",
      "minutes is 1.0 \n",
      "hours is 0.016666666666666666\n"
     ]
    }
   ],
   "source": [
    "seconds=int(input(\"Please enter the number of seconds : \"))\n",
    "minutes=float(seconds/60)\n",
    "hours=float(seconds/(60*60))\n",
    "print(\"The number of seconds is {}\\nminutes is {} \\nhours is {}\".format(seconds,minutes,hours))\n"
   ]
  },
  {
   "cell_type": "markdown",
   "metadata": {},
   "source": [
    "##### Which of the following is invalid? \n",
    "-  _a = 1\n",
    "-  __a = 1\n",
    "-  __str__ = 1\n",
    "-  none of the mentioned"
   ]
  },
  {
   "cell_type": "markdown",
   "metadata": {},
   "source": [
    "# <center>Best of luck ❤️</center>\n"
   ]
  }
 ],
 "metadata": {
  "kernelspec": {
   "display_name": "Python 3 (ipykernel)",
   "language": "python",
   "name": "python3"
  },
  "language_info": {
   "codemirror_mode": {
    "name": "ipython",
    "version": 3
   },
   "file_extension": ".py",
   "mimetype": "text/x-python",
   "name": "python",
   "nbconvert_exporter": "python",
   "pygments_lexer": "ipython3",
   "version": "3.9.13"
  }
 },
 "nbformat": 4,
 "nbformat_minor": 4
}
