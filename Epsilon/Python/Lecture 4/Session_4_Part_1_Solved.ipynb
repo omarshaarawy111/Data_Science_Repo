{
 "cells": [
  {
   "cell_type": "markdown",
   "metadata": {
    "id": "6e8591f4"
   },
   "source": [
    "## EX1 : Write program to initialize three variable and print them using  print ? "
   ]
  },
  {
   "cell_type": "code",
   "execution_count": null,
   "metadata": {
    "id": "f6a337d0"
   },
   "outputs": [],
   "source": [
    "# initialization of variables\n",
    "var1 = 5\n",
    "var2 = 10.4\n",
    "var3 = 'hello'"
   ]
  },
  {
   "cell_type": "code",
   "execution_count": null,
   "metadata": {
    "id": "edb600f2",
    "outputId": "38e846e0-2671-4cab-d10c-d6225a40597d"
   },
   "outputs": [
    {
     "name": "stdout",
     "output_type": "stream",
     "text": [
      "5\n",
      "10.4\n",
      "hello\n",
      "5 10.4 hello\n"
     ]
    }
   ],
   "source": [
    "# output the variables\n",
    "print (var1)\n",
    "print (var2)\n",
    "print (var3)\n",
    "# another way to print varaibles with one print statement \n",
    "print(var1 , var2 , var3)"
   ]
  },
  {
   "cell_type": "markdown",
   "metadata": {
    "id": "19c8b25d"
   },
   "source": [
    "## EX2 : Write program to add the first two variables you have initialized and put the answer in another variable then print answer ? "
   ]
  },
  {
   "cell_type": "code",
   "execution_count": null,
   "metadata": {
    "id": "238fec38",
    "outputId": "ab8f6125-1232-4db8-baf6-2423459a4d11"
   },
   "outputs": [
    {
     "data": {
      "text/plain": [
       "15.4"
      ]
     },
     "execution_count": 3,
     "metadata": {},
     "output_type": "execute_result"
    }
   ],
   "source": [
    "# addition expression\n",
    "answer = var1 + var2\n",
    "# output\n",
    "answer"
   ]
  },
  {
   "cell_type": "markdown",
   "metadata": {
    "id": "9ba3394c"
   },
   "source": [
    "## EX3 : write a program to take name and age as an input from user  and print name and age as output ? "
   ]
  },
  {
   "cell_type": "code",
   "execution_count": null,
   "metadata": {
    "id": "2eaf2903",
    "outputId": "ae1a3c52-7a8f-4f1f-f2ba-21374e2b8089",
    "scrolled": true
   },
   "outputs": [
    {
     "name": "stdout",
     "output_type": "stream",
     "text": [
      "Enter Your Name : ali\n",
      "Enter Age : 24\n"
     ]
    }
   ],
   "source": [
    "# input\n",
    "name = input('Enter Your Name : ')\n",
    "age = int(input('Enter Age : '))"
   ]
  },
  {
   "cell_type": "code",
   "execution_count": null,
   "metadata": {
    "id": "00e2ed1e",
    "outputId": "1a255d95-107d-4262-b401-f2902c7c0dcc"
   },
   "outputs": [
    {
     "name": "stdout",
     "output_type": "stream",
     "text": [
      "Hello ali with age 24\n"
     ]
    }
   ],
   "source": [
    "# output\n",
    "print('Hello' , name , 'with age',age )"
   ]
  },
  {
   "cell_type": "markdown",
   "metadata": {
    "id": "d0888080"
   },
   "source": [
    "## EX4 : write a program to take E-mail and Password as an input from user ? "
   ]
  },
  {
   "cell_type": "code",
   "execution_count": null,
   "metadata": {
    "id": "f2b1f73b",
    "outputId": "a04a99f3-e4c1-4b66-fcbd-8367e2e4ad7e",
    "scrolled": true
   },
   "outputs": [
    {
     "name": "stdout",
     "output_type": "stream",
     "text": [
      "Enter Your E-mail : ali.10@gmail.com\n",
      "Enter Your Password : ali_123\n"
     ]
    }
   ],
   "source": [
    "# input\n",
    "email = input('Enter Your E-mail : ')\n",
    "password = input('Enter Your Password : ')"
   ]
  },
  {
   "cell_type": "code",
   "execution_count": null,
   "metadata": {
    "id": "1c1421f3",
    "outputId": "102ff58d-afd7-4234-ebbd-6eac4faf0739"
   },
   "outputs": [
    {
     "name": "stdout",
     "output_type": "stream",
     "text": [
      "Welcome our user ali.10@gmail.com and your password becomes ali_123\n"
     ]
    }
   ],
   "source": [
    "# output\n",
    "print('Welcome our user' , email , 'and your password becomes' , password)"
   ]
  },
  {
   "cell_type": "markdown",
   "metadata": {
    "id": "525b57ac"
   },
   "source": [
    "## EX5 : write a program to accept three numbers from user and add this numbers ?"
   ]
  },
  {
   "cell_type": "code",
   "execution_count": null,
   "metadata": {
    "id": "116aa67c",
    "outputId": "df233381-5f3a-403c-fd7a-303ef29ef6aa"
   },
   "outputs": [
    {
     "name": "stdout",
     "output_type": "stream",
     "text": [
      "Enter Number1 : 12\n",
      "Enter Number2 : 2\n",
      "Enter Number3 : 33\n"
     ]
    }
   ],
   "source": [
    "# ask user for inputs\n",
    "var1 = int(input('Enter Number1 : '))\n",
    "var2 = int(input('Enter Number2 : '))\n",
    "var3 = int(input('Enter Number3 : '))"
   ]
  },
  {
   "cell_type": "code",
   "execution_count": null,
   "metadata": {
    "id": "9732f046",
    "outputId": "a6d5b6b4-3a9c-44dd-a15f-9a2832763c1b"
   },
   "outputs": [
    {
     "name": "stdout",
     "output_type": "stream",
     "text": [
      "you entered three values and there sum = 47\n"
     ]
    }
   ],
   "source": [
    "# process\n",
    "answer = var1 + var2 + var3\n",
    "# output \n",
    "print('you entered three values and there sum =' , answer)"
   ]
  },
  {
   "cell_type": "markdown",
   "metadata": {
    "id": "b50a42a9"
   },
   "source": [
    "## EX6 : write program to ask user for circle radius and calculate area  ?"
   ]
  },
  {
   "cell_type": "code",
   "execution_count": null,
   "metadata": {
    "id": "afe6c24d",
    "outputId": "73b7b993-14c1-43d0-f890-12a03d38ee76"
   },
   "outputs": [
    {
     "name": "stdout",
     "output_type": "stream",
     "text": [
      "Enter Radius For Circle : 12\n",
      "Area For Circle With Radius 12 = 452.15999999999997\n"
     ]
    }
   ],
   "source": [
    "# ask for input\n",
    "radius = int(input('Enter Radius For Circle : '))\n",
    "# process \n",
    "area = 3.14 * radius * radius\n",
    "# output \n",
    "print('Area For Circle With Radius' , radius , '=' , area)"
   ]
  },
  {
   "cell_type": "markdown",
   "metadata": {
    "id": "cf1474ab"
   },
   "source": [
    "## EX7 : write a program that accept from user 2 numbers and make simple calculator on it ?\n",
    "12.0 + 3.0 = 15.0 <br>\n",
    "12.0 - 3.0 = 9.0 <br>\n",
    "12.0 * 3.0 = 36.0 <br>\n",
    "12.0 / 3.0 = 4.0 <br>"
   ]
  },
  {
   "cell_type": "code",
   "execution_count": null,
   "metadata": {
    "id": "224ea02c",
    "outputId": "99be987f-4d54-489e-ddfe-de507ea51f21"
   },
   "outputs": [
    {
     "name": "stdout",
     "output_type": "stream",
     "text": [
      "Enter First Number : 12\n",
      "Enter Second Number : 3\n"
     ]
    }
   ],
   "source": [
    "# ask user for input two numbers \n",
    "num1 = float(input('Enter First Number : '))\n",
    "num2 = float(input('Enter Second Number : '))"
   ]
  },
  {
   "cell_type": "code",
   "execution_count": null,
   "metadata": {
    "id": "2690a0e0",
    "outputId": "37da869e-0363-4216-edfe-05ca1b5d5dd9",
    "scrolled": true
   },
   "outputs": [
    {
     "name": "stdout",
     "output_type": "stream",
     "text": [
      "12.0 + 3.0 = 15.0\n",
      "12.0 - 3.0 = 9.0\n",
      "12.0 * 3.0 = 36.0\n",
      "12.0 / 3.0 = 4.0\n"
     ]
    }
   ],
   "source": [
    "# here is addition\n",
    "print( num1 , '+' , num2 , '=' , num1 + num2)\n",
    "# here is subtraction\n",
    "print( num1 , '-' , num2 , '=' , num1 - num2)\n",
    "# here is multiplication\n",
    "print( num1 , '*' , num2 , '=' , num1 * num2)\n",
    "# here is division\n",
    "print( num1 , '/' , num2 , '=' , num1 / num2)"
   ]
  },
  {
   "cell_type": "markdown",
   "metadata": {
    "id": "98b84e39"
   },
   "source": [
    "## EX8 : Print your name is triple in three lines ?"
   ]
  },
  {
   "cell_type": "code",
   "execution_count": null,
   "metadata": {
    "id": "09ab99ab",
    "outputId": "6abb45e7-ee77-494c-ff47-25c6ca206d1b"
   },
   "outputs": [
    {
     "name": "stdout",
     "output_type": "stream",
     "text": [
      "ali\n",
      "ahmed\n",
      "mohamed\n"
     ]
    }
   ],
   "source": [
    "# first solution \n",
    "print('ali')\n",
    "print('ahmed')\n",
    "print('mohamed')"
   ]
  },
  {
   "cell_type": "code",
   "execution_count": null,
   "metadata": {
    "id": "cf416576",
    "outputId": "d63270b5-9469-4cf7-8156-3dbdea775458"
   },
   "outputs": [
    {
     "name": "stdout",
     "output_type": "stream",
     "text": [
      "ali\n",
      "ahmed\n",
      "mohamed\n"
     ]
    }
   ],
   "source": [
    "# second solution\n",
    "print('ali\\nahmed\\nmohamed')"
   ]
  },
  {
   "cell_type": "code",
   "execution_count": null,
   "metadata": {
    "id": "727c5375",
    "outputId": "39c1bbe7-2c60-4454-a6f2-741bbc6c98ba"
   },
   "outputs": [
    {
     "name": "stdout",
     "output_type": "stream",
     "text": [
      "ali\n",
      "ahmed\n",
      "mohamed\n",
      "\n"
     ]
    }
   ],
   "source": [
    "# third solution\n",
    "print('''ali\n",
    "ahmed\n",
    "mohamed\n",
    "''')"
   ]
  }
 ],
 "metadata": {
  "colab": {
   "provenance": []
  },
  "kernelspec": {
   "display_name": "Python 3",
   "language": "python",
   "name": "python3"
  },
  "language_info": {
   "codemirror_mode": {
    "name": "ipython",
    "version": 3
   },
   "file_extension": ".py",
   "mimetype": "text/x-python",
   "name": "python",
   "nbconvert_exporter": "python",
   "pygments_lexer": "ipython3",
   "version": "3.7.6"
  }
 },
 "nbformat": 4,
 "nbformat_minor": 5
}
