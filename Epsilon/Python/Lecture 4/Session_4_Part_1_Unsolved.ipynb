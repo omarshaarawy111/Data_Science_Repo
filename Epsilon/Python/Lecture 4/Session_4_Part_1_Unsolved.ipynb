{
 "cells": [
  {
   "cell_type": "markdown",
   "id": "465a3d34",
   "metadata": {
    "id": "6e8591f4"
   },
   "source": [
    "## EX1 : Write program to initialize three variable and print them using  print ? "
   ]
  },
  {
   "cell_type": "code",
   "execution_count": null,
   "id": "95d35035",
   "metadata": {},
   "outputs": [],
   "source": [
    "a,b,c=1,2,3\n",
    "print(a,b,c)"
   ]
  },
  {
   "cell_type": "markdown",
   "id": "8bd06ea8",
   "metadata": {
    "id": "19c8b25d"
   },
   "source": [
    "## EX2 : Write program to add the first two variables you have initialized and put the answer in another variable then print answer "
   ]
  },
  {
   "cell_type": "code",
   "execution_count": null,
   "id": "8d6cd018",
   "metadata": {},
   "outputs": [],
   "source": [
    "x,y=1,2\n",
    "z=x+y\n",
    "print(z)"
   ]
  },
  {
   "cell_type": "markdown",
   "id": "b503fd34",
   "metadata": {
    "id": "9ba3394c"
   },
   "source": [
    "## EX3 : write a program to take name and age as an input from user  and print name and age as output  (hello Ahmed with age 28)"
   ]
  },
  {
   "cell_type": "code",
   "execution_count": null,
   "id": "0ba58efb",
   "metadata": {},
   "outputs": [],
   "source": [
    "name=input(\"enter name\")\n",
    "age=int(input(\"enter age\"))\n",
    "print(\"hello {} with age {}\".format(name,age))"
   ]
  },
  {
   "cell_type": "markdown",
   "id": "9d2d4954",
   "metadata": {
    "id": "d0888080"
   },
   "source": [
    "## EX4 : write a program to take E-mail and Password as an input from user and print them "
   ]
  },
  {
   "cell_type": "code",
   "execution_count": 1,
   "id": "9d915516",
   "metadata": {},
   "outputs": [
    {
     "name": "stdout",
     "output_type": "stream",
     "text": [
      "Please enter the emailo@o.com\n",
      "Please enter the password123192312309123\n",
      "Valid Email\n",
      "Email :  o@o.com password :  -2460481762485382231\n"
     ]
    }
   ],
   "source": [
    "import time\n",
    "import re\n",
    " \n",
    "# Make a regular expression\n",
    "# for validating an Email\n",
    "regex = r'\\b[A-Za-z0-9._%+-]+@[A-Za-z0-9.-]+\\.[A-Z|a-z]{2,7}\\b'\n",
    " \n",
    "# Define a function for\n",
    "# for validating an Email\n",
    "def check(email):\n",
    " \n",
    "    # pass the regular expression\n",
    "    # and the string into the fullmatch() method\n",
    "    if(re.fullmatch(regex, email)):\n",
    "        print(\"Valid Email\")\n",
    "        return True\n",
    " \n",
    "    else:\n",
    "        print(\"Invalid Email\")\n",
    "        return False\n",
    "        \n",
    "        \n",
    "def createAccount():    \n",
    "    email=input(\"Please enter the email\")\n",
    "    password=input(\"Please enter the password\")\n",
    "    t=time.time()\n",
    "    if(check(email)):\n",
    "        print(\"Email : \",email,\"password : \",hash(password + str(t)))\n",
    "    else:\n",
    "        createAccount()\n",
    "        \n",
    "createAccount()"
   ]
  },
  {
   "cell_type": "markdown",
   "id": "e3410069",
   "metadata": {
    "id": "525b57ac"
   },
   "source": [
    "## EX5 : write a program to accept three numbers from user and add these numbers ?"
   ]
  },
  {
   "cell_type": "code",
   "execution_count": null,
   "id": "60941a52",
   "metadata": {},
   "outputs": [],
   "source": [
    "x,y,z=map(int,input(\"enter three numbers\").split())\n",
    "a=x+y+z\n",
    "print(a)"
   ]
  },
  {
   "cell_type": "markdown",
   "id": "cfdbf46d",
   "metadata": {
    "id": "b50a42a9"
   },
   "source": [
    "## EX6 : write program to ask user for circle radius and calculate area  ?"
   ]
  },
  {
   "cell_type": "code",
   "execution_count": null,
   "id": "909fb74d",
   "metadata": {},
   "outputs": [],
   "source": [
    "radius=float(input(\"enter the radius\"))\n",
    "Area=3.14*pow(radius,2)\n",
    "print(Area)"
   ]
  },
  {
   "cell_type": "markdown",
   "id": "125592a6",
   "metadata": {
    "id": "cf1474ab"
   },
   "source": [
    "## EX7 : write a program that accept from user 2 numbers and make simple calculator on it ?\n",
    "12.0 + 3.0 = 15.0 <br>\n",
    "12.0 - 3.0 = 9.0 <br>\n",
    "12.0 * 3.0 = 36.0 <br>\n",
    "12.0 / 3.0 = 4.0 <br>"
   ]
  },
  {
   "cell_type": "code",
   "execution_count": null,
   "id": "7e8ee9fe",
   "metadata": {},
   "outputs": [],
   "source": [
    "# This function adds two numbers\n",
    "def add(x, y):\n",
    "    return x + y\n",
    "\n",
    "# This function subtracts two numbers\n",
    "def subtract(x, y):\n",
    "    return x - y\n",
    "\n",
    "# This function multiplies two numbers\n",
    "def multiply(x, y):\n",
    "    return x * y\n",
    "\n",
    "# This function divides two numbers\n",
    "\n",
    "def divide(x, y):\n",
    "    \n",
    "    return x / y\n",
    "\n",
    "\n",
    "print(\"Select operation.\")\n",
    "print(\"1.Add\")\n",
    "print(\"2.Subtract\")\n",
    "print(\"3.Multiply\")\n",
    "print(\"4.Divide\")\n",
    "\n",
    "while True:\n",
    "    # take input from the user\n",
    "    choice = input(\"Enter choice(1/2/3/4): \")\n",
    "\n",
    "    # check if choice is one of the four options\n",
    "    if choice in ('1', '2', '3', '4'):\n",
    "        try:\n",
    "            num1 = float(input(\"Enter first number: \"))\n",
    "            num2 = float(input(\"Enter second number: \"))\n",
    "        except ValueError:\n",
    "            print(\"Invalid input. Please enter a number.\")\n",
    "            continue\n",
    "\n",
    "        if choice == '1':\n",
    "            print(num1, \"+\", num2, \"=\", add(num1, num2))\n",
    "\n",
    "        elif choice == '2':\n",
    "            print(num1, \"-\", num2, \"=\", subtract(num1, num2))\n",
    "\n",
    "        elif choice == '3':\n",
    "            print(num1, \"*\", num2, \"=\", multiply(num1, num2))\n",
    "\n",
    "        elif choice == '4':\n",
    "\n",
    "          if (num2 != 0):\n",
    "            print(num1, \"/\", num2, \"=\", divide(num1, num2))\n",
    "          else : \n",
    "            print(\"Zero divider\")\n",
    "      \n",
    "    else:\n",
    "        print(\"Invalid Input\")"
   ]
  },
  {
   "cell_type": "markdown",
   "id": "1d6cde16",
   "metadata": {
    "id": "98b84e39"
   },
   "source": [
    "## EX8 : Print your name is triple in three lines ?"
   ]
  },
  {
   "cell_type": "code",
   "execution_count": null,
   "id": "4af1cc92",
   "metadata": {},
   "outputs": [],
   "source": [
    "while 1 :\n",
    "    name=input(\"enter three names of you \").split()\n",
    "    if len(name) == 3 :\n",
    "        for i in name :\n",
    "            print(i,end=\" \")\n",
    "    else :\n",
    "        print(\"invalid\")\n",
    "        "
   ]
  },
  {
   "cell_type": "code",
   "execution_count": null,
   "id": "e8c143a8",
   "metadata": {},
   "outputs": [
    {
     "name": "stdout",
     "output_type": "stream",
     "text": [
      "enter three names of you omar mohamed sd\n",
      "omar mohamed sd "
     ]
    }
   ],
   "source": [
    "while 1 :\n",
    "    name=input(\"enter three names of you \").split()\n",
    "    name=list(name)\n",
    "    if len(name) == 3 :\n",
    "        for i in name :\n",
    "            print(i,end=\" \")\n",
    "    else :\n",
    "        print(\"invalid\")\n",
    "        \n",
    "        "
   ]
  },
  {
   "cell_type": "code",
   "execution_count": null,
   "id": "7c2c33c9",
   "metadata": {},
   "outputs": [],
   "source": []
  },
  {
   "cell_type": "code",
   "execution_count": null,
   "id": "d7d8e79c",
   "metadata": {},
   "outputs": [],
   "source": []
  }
 ],
 "metadata": {
  "kernelspec": {
   "display_name": "Python 3 (ipykernel)",
   "language": "python",
   "name": "python3"
  },
  "language_info": {
   "codemirror_mode": {
    "name": "ipython",
    "version": 3
   },
   "file_extension": ".py",
   "mimetype": "text/x-python",
   "name": "python",
   "nbconvert_exporter": "python",
   "pygments_lexer": "ipython3",
   "version": "3.9.13"
  }
 },
 "nbformat": 4,
 "nbformat_minor": 5
}
