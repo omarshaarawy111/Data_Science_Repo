{
 "cells": [
  {
   "cell_type": "markdown",
   "id": "0589c928",
   "metadata": {},
   "source": [
    "## Additional probelms session 1"
   ]
  },
  {
   "cell_type": "markdown",
   "id": "26988d94",
   "metadata": {},
   "source": [
    "### take the side length of a square and calculate the area"
   ]
  },
  {
   "cell_type": "code",
   "execution_count": null,
   "id": "53e9a4a2",
   "metadata": {},
   "outputs": [],
   "source": [
    "##step 0: take side length as input from user and convert it to int \n",
    "\n",
    "##step 1: calculate the area of the square = side length ^ 2\n",
    "lenght=input(\"Please enter the length : \")\n",
    "lenght=int(lenght)\n",
    "Area=pow(lenght,2)\n",
    "print(\"The area is = \",Area)"
   ]
  },
  {
   "cell_type": "markdown",
   "id": "1bed0155",
   "metadata": {},
   "source": [
    "### check on the input (if it is a number or not ) berfore converting to int"
   ]
  },
  {
   "cell_type": "markdown",
   "id": "634a0560",
   "metadata": {},
   "source": [
    "Example1: <br>\n",
    "enter the side length: t3 <br>\n",
    "output : \"input must be number\"\n",
    "\n",
    "example2:<br>\n",
    "enter the side length: 3<br>\n",
    "output: \"area is 9\""
   ]
  },
  {
   "cell_type": "code",
   "execution_count": null,
   "id": "6c18ed54",
   "metadata": {},
   "outputs": [
    {
     "name": "stdout",
     "output_type": "stream",
     "text": [
      "Please enter the lenght : \n",
      "3\n",
      "\n",
      "Valid Number\n",
      "Area is  :  9\n"
     ]
    }
   ],
   "source": [
    "##step 0: take side length as input from user\n",
    "\n",
    "##step 1: if the input is a number then convert it to int, and calculate the area\n",
    "\n",
    "#else: print(\"input must be number\")\n",
    "\n",
    "\n",
    "def check_lenght(lenght):\n",
    "    \n",
    "    if(lenght.isdigit()):\n",
    "        print(\"\\nValid Number\")\n",
    "        return True\n",
    " \n",
    "    else:\n",
    "        print(\"\\nInvalid Number\")\n",
    "        return False\n",
    "        \n",
    "        \n",
    "def get_area():    \n",
    "    lenght=input(\"Please enter the lenght : \\n\")\n",
    "    if(check_lenght(lenght)):\n",
    "        lenght=int(lenght)\n",
    "        Area=pow(lenght,2)\n",
    "        print(\"Area is  : \",Area)\n",
    "    else:\n",
    "        get_area()\n",
    "        \n",
    "while (1):\n",
    "        get_area()   \n",
    "\n"
   ]
  },
  {
   "cell_type": "markdown",
   "id": "cf13ed52",
   "metadata": {},
   "source": [
    "### check if the input is a number and positive\n",
    "\n",
    "- take input from user\n",
    "- check if the input is a number:\n",
    "    - check if the number is positive:\n",
    "        - calculate the area\n",
    "        "
   ]
  },
  {
   "cell_type": "markdown",
   "id": "2f80f938",
   "metadata": {},
   "source": [
    "Example1: <br>\n",
    "enter the side length: t3 <br>\n",
    "output : \"input must be number\"\n",
    "\n",
    "example2:<br>\n",
    "enter the side length: 3<br>\n",
    "output: \"area is 9\"\n",
    "\n",
    "\n",
    "example3:<br>\n",
    "enter the side length: -3<br>\n",
    "output: \"side length must be positive\"\n",
    "\n",
    "\n"
   ]
  },
  {
   "cell_type": "code",
   "execution_count": null,
   "id": "b4fc15f2",
   "metadata": {},
   "outputs": [
    {
     "name": "stdout",
     "output_type": "stream",
     "text": [
      "Please enter the lenght : \n",
      "3\n",
      "valid Number\n",
      "Area is  :  9\n",
      "Please enter the lenght : \n",
      "2e\n",
      "Invalid Number\n",
      "Please enter the lenght : \n",
      "-9\n",
      "Invalid Number\n",
      "Please enter the lenght : \n",
      "-0\n",
      "Invalid Number\n",
      "Please enter the lenght : \n",
      "0\n",
      "Invalid Number\n"
     ]
    }
   ],
   "source": [
    "def check_lenght(lenght):\n",
    "    \n",
    "    if(lenght.isdigit()):\n",
    "        lenght=int(lenght)\n",
    "        if(lenght <= 0):\n",
    "            print(\"Invalid Number\")\n",
    "            return False\n",
    "        else :\n",
    "            print(\"valid Number\")\n",
    "            return True\n",
    " \n",
    "    else:\n",
    "        print(\"Invalid Number\")\n",
    "        return False\n",
    "        \n",
    "        \n",
    "def get_area():    \n",
    "    lenght=input(\"Please enter the lenght : \\n\")\n",
    "    if(check_lenght(lenght)):\n",
    "        lenght=int(lenght)\n",
    "        Area=pow(lenght,2)\n",
    "        print(\"Area is  : \",Area)\n",
    "    else:\n",
    "        get_area()\n",
    "while (1):        \n",
    "    get_area()   \n"
   ]
  },
  {
   "cell_type": "code",
   "execution_count": null,
   "id": "10937506",
   "metadata": {},
   "outputs": [],
   "source": []
  },
  {
   "cell_type": "code",
   "execution_count": null,
   "id": "0852a150",
   "metadata": {},
   "outputs": [],
   "source": []
  }
 ],
 "metadata": {
  "kernelspec": {
   "display_name": "Python 3 (ipykernel)",
   "language": "python",
   "name": "python3"
  },
  "language_info": {
   "codemirror_mode": {
    "name": "ipython",
    "version": 3
   },
   "file_extension": ".py",
   "mimetype": "text/x-python",
   "name": "python",
   "nbconvert_exporter": "python",
   "pygments_lexer": "ipython3",
   "version": "3.9.13"
  }
 },
 "nbformat": 4,
 "nbformat_minor": 5
}
