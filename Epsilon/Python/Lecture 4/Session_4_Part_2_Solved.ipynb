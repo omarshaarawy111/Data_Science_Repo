{
 "cells": [
  {
   "cell_type": "markdown",
   "metadata": {
    "id": "f53cdab4"
   },
   "source": [
    "## EX1 : ask user to enter integer & float & string variables ?"
   ]
  },
  {
   "cell_type": "code",
   "execution_count": null,
   "metadata": {
    "id": "d3f5eec1",
    "outputId": "0213c231-350a-47b4-9430-07a1d22ad437"
   },
   "outputs": [
    {
     "name": "stdout",
     "output_type": "stream",
     "text": [
      "Enter Integer Variable : 5\n"
     ]
    },
    {
     "data": {
      "text/plain": [
       "5"
      ]
     },
     "execution_count": 5,
     "metadata": {},
     "output_type": "execute_result"
    }
   ],
   "source": [
    "var_int = int(input('Enter Integer Variable : ')) # cast input to int \n",
    "var_int"
   ]
  },
  {
   "cell_type": "code",
   "execution_count": null,
   "metadata": {
    "id": "c22a275a",
    "outputId": "2cb2d076-71b2-4d1d-8b9b-bd3f84e8f2aa"
   },
   "outputs": [
    {
     "name": "stdout",
     "output_type": "stream",
     "text": [
      "Enter Integer Variable : 44.3\n"
     ]
    },
    {
     "data": {
      "text/plain": [
       "44.3"
      ]
     },
     "execution_count": 4,
     "metadata": {},
     "output_type": "execute_result"
    }
   ],
   "source": [
    "var_float = float(input('Enter Integer Variable : ')) # cast input to float\n",
    "var_float"
   ]
  },
  {
   "cell_type": "code",
   "execution_count": null,
   "metadata": {
    "id": "2f762e7e",
    "outputId": "e04fcaf5-ff00-4f0f-9a12-c7e543c8acbd"
   },
   "outputs": [
    {
     "name": "stdout",
     "output_type": "stream",
     "text": [
      "Enter Word : hello\n"
     ]
    },
    {
     "data": {
      "text/plain": [
       "'hello'"
      ]
     },
     "execution_count": 6,
     "metadata": {},
     "output_type": "execute_result"
    }
   ],
   "source": [
    "var_str = input('Enter Word : ') # no need for casting \n",
    "var_str"
   ]
  },
  {
   "cell_type": "markdown",
   "metadata": {
    "id": "b4c46916"
   },
   "source": [
    "## EX2: ask user to input two numbers and compare between them which of them is bigger ?  "
   ]
  },
  {
   "cell_type": "code",
   "execution_count": null,
   "metadata": {
    "id": "9693e3bf",
    "outputId": "937c1f22-97a2-4836-a7ae-9be7a4f4d663"
   },
   "outputs": [
    {
     "name": "stdout",
     "output_type": "stream",
     "text": [
      "Enter Number : 2\n",
      "Enter Number : 4\n"
     ]
    }
   ],
   "source": [
    "num1 = float(input('Enter Number : '))\n",
    "num2 = float(input('Enter Number : '))"
   ]
  },
  {
   "cell_type": "code",
   "execution_count": null,
   "metadata": {
    "id": "2500edc0",
    "outputId": "98e5ee86-ade5-477c-9f9a-cd1dbacd35cc"
   },
   "outputs": [
    {
     "name": "stdout",
     "output_type": "stream",
     "text": [
      "Second Number 4.0 is bigger than First number 2.0\n"
     ]
    }
   ],
   "source": [
    "if num1 > num2:\n",
    "    print('First Number' , num1 , 'is bigger than second number' , num2)\n",
    "\n",
    "elif num2 > num1:\n",
    "    print('Second Number' , num2 , 'is bigger than First number' , num1)\n",
    "    \n",
    "else :\n",
    "    print('The Two numbers are Equal')"
   ]
  },
  {
   "cell_type": "markdown",
   "metadata": {
    "id": "193ead92"
   },
   "source": [
    "## EX3: ask user for enter float input and show if this number is positive or negative ?\n"
   ]
  },
  {
   "cell_type": "code",
   "execution_count": null,
   "metadata": {
    "id": "16309ab9",
    "outputId": "4a6bf1ab-f6a1-4b09-d10a-62d2c9e5361d"
   },
   "outputs": [
    {
     "name": "stdout",
     "output_type": "stream",
     "text": [
      "Enter Float Number : 3.3\n"
     ]
    }
   ],
   "source": [
    "float_num = float(input('Enter Float Number : '))"
   ]
  },
  {
   "cell_type": "code",
   "execution_count": null,
   "metadata": {
    "id": "3499f573",
    "outputId": "3feeb172-597c-49a1-fe0d-9bf29452373c"
   },
   "outputs": [
    {
     "name": "stdout",
     "output_type": "stream",
     "text": [
      "This Number is positive\n"
     ]
    }
   ],
   "source": [
    "if float_num > 0:\n",
    "    print('This Number is positive')\n",
    "\n",
    "elif float_num < 0:\n",
    "    print('This Number is Negative')\n",
    "\n",
    "else :\n",
    "    print ('This Number is Zero')"
   ]
  },
  {
   "cell_type": "markdown",
   "metadata": {
    "id": "287c522a"
   },
   "source": [
    "## EX4: ask user to enter number and show this number is even or not ?\n",
    "* use arithmetic operation \n",
    "* a number is even if it is divisible by 2 (no reminder after dividing by 2)\n"
   ]
  },
  {
   "cell_type": "markdown",
   "metadata": {
    "id": "89ce7e71"
   },
   "source": [
    "###### using arithmetic operation"
   ]
  },
  {
   "cell_type": "code",
   "execution_count": null,
   "metadata": {
    "id": "c385d80c",
    "outputId": "a5bfa644-afcc-45df-a84b-af15b1bb8dac"
   },
   "outputs": [
    {
     "name": "stdout",
     "output_type": "stream",
     "text": [
      "Enter Number : 24\n"
     ]
    }
   ],
   "source": [
    "num = int(input('Enter Number : '))"
   ]
  },
  {
   "cell_type": "code",
   "execution_count": null,
   "metadata": {
    "id": "c97b92fd",
    "outputId": "893d5913-9411-485e-b305-1ebeb07923ae"
   },
   "outputs": [
    {
     "name": "stdout",
     "output_type": "stream",
     "text": [
      "This Number is Even\n"
     ]
    }
   ],
   "source": [
    "if num % 2 == 0:\n",
    "    print('This Number is Even')\n",
    "\n",
    "else :\n",
    "    print('This Number is Odd')"
   ]
  },
  {
   "cell_type": "markdown",
   "metadata": {
    "id": "a1ff19e2"
   },
   "source": [
    "## EX5: ask user to enter number and show whether this number is divisible by 2 and 3 ?"
   ]
  },
  {
   "cell_type": "code",
   "execution_count": 4,
   "metadata": {
    "id": "3ce6e535",
    "outputId": "78a8182c-81fd-4851-956d-04e6966dc02d"
   },
   "outputs": [
    {
     "name": "stdout",
     "output_type": "stream",
     "text": [
      "Enter Number : 15\n"
     ]
    }
   ],
   "source": [
    "num = int(input('Enter Number : '))"
   ]
  },
  {
   "cell_type": "code",
   "execution_count": 5,
   "metadata": {
    "id": "32203974",
    "outputId": "634b3197-c1cd-41c1-dec3-bb457d618fbd"
   },
   "outputs": [
    {
     "name": "stdout",
     "output_type": "stream",
     "text": [
      "15 is not divisible by 2\n",
      "15 is divisible by 3 \n"
     ]
    }
   ],
   "source": [
    "if num % 2 == 0:\n",
    "    print(f'{num} is divisible by 2')\n",
    "else :\n",
    "    print(f'{num} is not divisible by 2')\n",
    "    \n",
    "if num % 3 == 0:\n",
    "    print(f'{num} is divisible by 3 ')\n",
    "else :\n",
    "    print(f'{num} is not divisible by 3')"
   ]
  },
  {
   "cell_type": "markdown",
   "metadata": {
    "id": "a9c34d09"
   },
   "source": [
    "## EX6: ask user to enter two numbers and operation and perform this operation ?"
   ]
  },
  {
   "cell_type": "code",
   "execution_count": null,
   "metadata": {
    "id": "3a7c04a5",
    "outputId": "5e58101b-1562-4204-880e-7542fd7c02ac"
   },
   "outputs": [
    {
     "name": "stdout",
     "output_type": "stream",
     "text": [
      "Enter First number 12\n",
      "Enter Second number 4\n",
      "Enter operation [+ , - , * , / , %] : -\n"
     ]
    }
   ],
   "source": [
    "num1 = float(input('Enter First number '))\n",
    "num2 = float(input('Enter Second number '))\n",
    "op = input('Enter operation [+ , - , * , / , %] : ')"
   ]
  },
  {
   "cell_type": "code",
   "execution_count": null,
   "metadata": {
    "id": "78990cc5",
    "outputId": "5d9cada3-98bd-4c4d-f793-4eb7ad2b514b"
   },
   "outputs": [
    {
     "name": "stdout",
     "output_type": "stream",
     "text": [
      "Subtraction = 8.0\n"
     ]
    }
   ],
   "source": [
    "if op == '+':\n",
    "    print(f'Addtion = {num1 + num2}')\n",
    "\n",
    "elif op == '-':\n",
    "    print(f'Subtraction = {num1 - num2}')\n",
    "\n",
    "elif op == '*':\n",
    "    print(f'multiplication = {num1 * num2}')\n",
    "\n",
    "elif op == '/':\n",
    "    print(f'division = {num1 / num2}')\n",
    "\n",
    "elif op == '%':\n",
    "    print(f'modulus = {num1 % num2}')\n",
    "\n",
    "else :\n",
    "    print('invalid operation !!')"
   ]
  },
  {
   "cell_type": "markdown",
   "metadata": {
    "id": "9834dc95"
   },
   "source": [
    "## EX7: ask user to enter word and print only characters with even index using slicing ?"
   ]
  },
  {
   "cell_type": "code",
   "execution_count": null,
   "metadata": {
    "id": "5e9345a7",
    "outputId": "efafdd32-d668-47e3-d0d3-174dd3c7c714"
   },
   "outputs": [
    {
     "name": "stdout",
     "output_type": "stream",
     "text": [
      "Enter Word : hello\n"
     ]
    }
   ],
   "source": [
    "s = input('Enter Word : ')"
   ]
  },
  {
   "cell_type": "code",
   "execution_count": null,
   "metadata": {
    "id": "bc6e4c24",
    "outputId": "6e737c2e-372b-426b-d469-bc2157ddbd31"
   },
   "outputs": [
    {
     "name": "stdout",
     "output_type": "stream",
     "text": [
      "hlo\n"
     ]
    }
   ],
   "source": [
    "print(s[0::2])"
   ]
  },
  {
   "cell_type": "markdown",
   "metadata": {
    "id": "816f09ca"
   },
   "source": [
    "## EX8: ask user to enter word and print only characters with odd index using slicing ?"
   ]
  },
  {
   "cell_type": "code",
   "execution_count": null,
   "metadata": {
    "id": "935bbb50",
    "outputId": "b5dd0534-1f2a-477a-a374-e833066f9557"
   },
   "outputs": [
    {
     "name": "stdout",
     "output_type": "stream",
     "text": [
      "Enter Word : world\n"
     ]
    }
   ],
   "source": [
    "s = input('Enter Word : ')"
   ]
  },
  {
   "cell_type": "code",
   "execution_count": null,
   "metadata": {
    "id": "f174ae1e",
    "outputId": "d395a124-1533-4ba8-95e6-6e846e74b8b9"
   },
   "outputs": [
    {
     "name": "stdout",
     "output_type": "stream",
     "text": [
      "ol\n"
     ]
    }
   ],
   "source": [
    "print(s[1::2])"
   ]
  },
  {
   "cell_type": "markdown",
   "metadata": {
    "id": "1b6ba6f1"
   },
   "source": [
    "## EX9 : ask user to enter word and print this word reversed ? "
   ]
  },
  {
   "cell_type": "code",
   "execution_count": null,
   "metadata": {
    "id": "d6babe5d",
    "outputId": "593897ca-3165-412c-978c-05805c0a0163"
   },
   "outputs": [
    {
     "name": "stdout",
     "output_type": "stream",
     "text": [
      "Enter Word : hello world\n"
     ]
    }
   ],
   "source": [
    "s = input('Enter Word : ')"
   ]
  },
  {
   "cell_type": "code",
   "execution_count": null,
   "metadata": {
    "id": "cf209bb2",
    "outputId": "29990905-a44b-4fbe-eeca-7fd05d8f87ea"
   },
   "outputs": [
    {
     "name": "stdout",
     "output_type": "stream",
     "text": [
      "dlrow olleh\n"
     ]
    }
   ],
   "source": [
    "print(s[::-1])"
   ]
  },
  {
   "cell_type": "markdown",
   "metadata": {
    "id": "f79fbfa1"
   },
   "source": [
    "## EX10: ask user to enter sentence if sentence capitalized print as it else capitalize it ? "
   ]
  },
  {
   "cell_type": "code",
   "execution_count": 9,
   "metadata": {
    "id": "bbdf9b1d",
    "outputId": "a39c974f-7f5d-4cbd-a537-af31ff388b25"
   },
   "outputs": [
    {
     "name": "stdout",
     "output_type": "stream",
     "text": [
      "Enter Sentence : hello world\n"
     ]
    }
   ],
   "source": [
    "s = input('Enter Sentence : ')"
   ]
  },
  {
   "cell_type": "code",
   "execution_count": 10,
   "metadata": {
    "id": "6103336a",
    "outputId": "71f790ed-5838-4055-90a4-7e4f8c7b7d4e"
   },
   "outputs": [
    {
     "name": "stdout",
     "output_type": "stream",
     "text": [
      "Hello world\n"
     ]
    }
   ],
   "source": [
    "print(s.capitalize())"
   ]
  },
  {
   "cell_type": "markdown",
   "metadata": {
    "id": "044ed6f6"
   },
   "source": [
    "## EX11: ask user to enter word and character and show whether this character inside word or not ?"
   ]
  },
  {
   "cell_type": "code",
   "execution_count": null,
   "metadata": {
    "id": "f4354a23",
    "outputId": "a61ab98b-a55a-41a7-ec12-1b7033e32fee"
   },
   "outputs": [
    {
     "name": "stdout",
     "output_type": "stream",
     "text": [
      "Enter Word : hello world\n",
      "Enter Character : l\n"
     ]
    }
   ],
   "source": [
    "s = input('Enter Word : ')\n",
    "ch = input('Enter Character : ')"
   ]
  },
  {
   "cell_type": "code",
   "execution_count": null,
   "metadata": {
    "id": "5e25b1c7",
    "outputId": "01fe4684-5873-4127-9a9c-9b29483d4859"
   },
   "outputs": [
    {
     "name": "stdout",
     "output_type": "stream",
     "text": [
      "exist\n"
     ]
    }
   ],
   "source": [
    "if s.find(ch) != -1:\n",
    "    print('exist')\n",
    "\n",
    "else :\n",
    "    print('not exist')"
   ]
  },
  {
   "cell_type": "markdown",
   "metadata": {
    "id": "52a7ea6f"
   },
   "source": [
    "## EX12: ask user to enter string and if that string contain only numbers convert it to integer ?\n",
    "* hint: which function check if the string contains only numbers? "
   ]
  },
  {
   "cell_type": "code",
   "execution_count": null,
   "metadata": {
    "id": "32aac67b",
    "outputId": "084a200e-5850-4096-aa6f-5dbdaeb269d4"
   },
   "outputs": [
    {
     "name": "stdout",
     "output_type": "stream",
     "text": [
      "Enter Word : 45r\n"
     ]
    }
   ],
   "source": [
    "s = input('Enter Word : ')"
   ]
  },
  {
   "cell_type": "code",
   "execution_count": null,
   "metadata": {
    "id": "597e38c9",
    "outputId": "10e6e630-2969-400e-d84b-b4b3d32d8183"
   },
   "outputs": [
    {
     "data": {
      "text/plain": [
       "str"
      ]
     },
     "execution_count": 39,
     "metadata": {},
     "output_type": "execute_result"
    }
   ],
   "source": [
    "type(s)"
   ]
  },
  {
   "cell_type": "code",
   "execution_count": null,
   "metadata": {
    "id": "24c2e6f9",
    "outputId": "49fcfea9-42fa-4890-d103-278db0e8d39e"
   },
   "outputs": [
    {
     "name": "stdout",
     "output_type": "stream",
     "text": [
      "can't convert this string to number\n"
     ]
    }
   ],
   "source": [
    "if s.isdecimal():\n",
    "    s_int = int(s)\n",
    "    print(s_int , type(s_int))\n",
    "\n",
    "else :\n",
    "    print(\"can't convert this string to number\")"
   ]
  },
  {
   "cell_type": "markdown",
   "metadata": {
    "id": "dc7e30a7"
   },
   "source": [
    "## EX13: ask user to enter float number and take integer part in variable and floating part in another variable using strings ?"
   ]
  },
  {
   "cell_type": "code",
   "execution_count": 15,
   "metadata": {
    "id": "87289b3a",
    "outputId": "0186a78e-7209-4804-92b1-40ee2c340550"
   },
   "outputs": [
    {
     "name": "stdout",
     "output_type": "stream",
     "text": [
      "Enter Float Number : 12.5\n"
     ]
    }
   ],
   "source": [
    "s = input('Enter Float Number : ') ## type of s is string"
   ]
  },
  {
   "cell_type": "code",
   "execution_count": 16,
   "metadata": {
    "id": "22913012",
    "outputId": "767d62e1-0a09-4271-dc05-7cb82ba19c3f"
   },
   "outputs": [
    {
     "data": {
      "text/plain": [
       "['12', '5']"
      ]
     },
     "execution_count": 16,
     "metadata": {},
     "output_type": "execute_result"
    }
   ],
   "source": [
    "s.split('.')"
   ]
  },
  {
   "cell_type": "code",
   "execution_count": 17,
   "metadata": {
    "id": "f5e8115d",
    "outputId": "c9df5352-eccb-485d-cf03-3154ed47e98d"
   },
   "outputs": [
    {
     "data": {
      "text/plain": [
       "12"
      ]
     },
     "execution_count": 17,
     "metadata": {},
     "output_type": "execute_result"
    }
   ],
   "source": [
    "int_part = int(s.split('.')[0])\n",
    "int_part"
   ]
  },
  {
   "cell_type": "code",
   "execution_count": 18,
   "metadata": {
    "id": "6818331a"
   },
   "outputs": [],
   "source": [
    "float_part = float('.' + s.split('.')[1])"
   ]
  },
  {
   "cell_type": "code",
   "execution_count": 19,
   "metadata": {
    "id": "6af12dfe",
    "outputId": "5acc9c1b-ed02-455e-f116-32ea65c9ba48"
   },
   "outputs": [
    {
     "name": "stdout",
     "output_type": "stream",
     "text": [
      "12.5 is 12 + 0.5\n"
     ]
    }
   ],
   "source": [
    "print(f'{float_var} is {int_part} + {float_part}')"
   ]
  },
  {
   "cell_type": "markdown",
   "metadata": {
    "id": "130ba196"
   },
   "source": [
    "## EX14: ask user to enter string and this string contains at least one (a) character replace the first occurrence of this character only to it's upper case ?"
   ]
  },
  {
   "cell_type": "code",
   "execution_count": 21,
   "metadata": {
    "id": "4bae7363",
    "outputId": "ace264b8-bcca-4696-9c5a-1e823f05aaca"
   },
   "outputs": [
    {
     "name": "stdout",
     "output_type": "stream",
     "text": [
      "Enter Word : ahmed mohamed\n"
     ]
    }
   ],
   "source": [
    "s = input('Enter Word : ')"
   ]
  },
  {
   "cell_type": "code",
   "execution_count": 22,
   "metadata": {
    "id": "d03ced0e",
    "outputId": "cb13c933-3950-4e8b-8b6c-9b9efec3adae"
   },
   "outputs": [
    {
     "name": "stdout",
     "output_type": "stream",
     "text": [
      "Ahmed mohamed\n"
     ]
    }
   ],
   "source": [
    "print(s.replace('a' , 'A' , 1))"
   ]
  },
  {
   "cell_type": "markdown",
   "metadata": {},
   "source": [
    "#  ** advanced question Alert **"
   ]
  },
  {
   "cell_type": "markdown",
   "metadata": {
    "id": "a8134e25"
   },
   "source": [
    "## EX15 : ask user to enter binary number (string contain (0 , 1)) then check whether this is valid binary number or not ?"
   ]
  },
  {
   "cell_type": "code",
   "execution_count": null,
   "metadata": {
    "id": "da4eefbc",
    "outputId": "491a557d-3795-4060-b88b-cedad5fb8d95"
   },
   "outputs": [
    {
     "name": "stdout",
     "output_type": "stream",
     "text": [
      "Enter Binary number : 101\n"
     ]
    }
   ],
   "source": [
    "bin_num = input('Enter Binary number : ')"
   ]
  },
  {
   "cell_type": "code",
   "execution_count": null,
   "metadata": {
    "id": "78ccfd3c"
   },
   "outputs": [],
   "source": [
    "cnt0 = bin_num.count('0')\n",
    "cnt1 = bin_num.count('1')"
   ]
  },
  {
   "cell_type": "code",
   "execution_count": null,
   "metadata": {
    "id": "952e5f9c",
    "outputId": "3d819f24-0cf3-49ce-dd4c-542c77536ae6"
   },
   "outputs": [
    {
     "name": "stdout",
     "output_type": "stream",
     "text": [
      "101 is valid binary number\n"
     ]
    }
   ],
   "source": [
    "if cnt0 + cnt1 == len(bin_num):\n",
    "    print('{} is valid binary number'.format(bin_num))\n",
    "\n",
    "else :\n",
    "    print('{} is not valid binary number'.format(bin_num))"
   ]
  }
 ],
 "metadata": {
  "colab": {
   "provenance": []
  },
  "kernelspec": {
   "display_name": "Python 3",
   "language": "python",
   "name": "python3"
  },
  "language_info": {
   "codemirror_mode": {
    "name": "ipython",
    "version": 3
   },
   "file_extension": ".py",
   "mimetype": "text/x-python",
   "name": "python",
   "nbconvert_exporter": "python",
   "pygments_lexer": "ipython3",
   "version": "3.7.6"
  }
 },
 "nbformat": 4,
 "nbformat_minor": 5
}
