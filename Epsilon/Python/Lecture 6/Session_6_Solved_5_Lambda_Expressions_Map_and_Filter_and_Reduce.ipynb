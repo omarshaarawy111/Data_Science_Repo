{
 "cells": [
  {
   "cell_type": "markdown",
   "metadata": {
    "id": "IAIOvm8noGmh"
   },
   "source": [
    "# Lambda Expressions, Map, and Filter and Reduce\n",
    "\n",
    "Now its time to quickly learn about two built in functions, filter and map. Once we learn about how these operate, we can learn about the lambda expression, which will come in handy when you begin to develop your skills further!\n",
    "\n",
    "## Table of Contents\n",
    "1. `map` function\n",
    "2. `filter` function\n",
    "3. `reduce` function\n",
    "4. lambda function"
   ]
  },
  {
   "cell_type": "markdown",
   "metadata": {
    "id": "_5mAh0o1oGmj"
   },
   "source": [
    "## 1) `map` function\n",
    "\n",
    "The **map** function allows you to \"map\" a function to an iterable object. That is to say you can quickly call the same function to every item in an iterable, such as a list. For example:"
   ]
  },
  {
   "cell_type": "code",
   "execution_count": 1,
   "metadata": {
    "id": "kCdhypLmoGmk",
    "outputId": "762cc111-e4ca-4180-8f9e-a3f3b10b0452"
   },
   "outputs": [
    {
     "data": {
      "text/plain": [
       "[1, 4, 9, 16, 25]"
      ]
     },
     "execution_count": 1,
     "metadata": {},
     "output_type": "execute_result"
    }
   ],
   "source": [
    "list_1 = [1, 2, 3, 4, 5]\n",
    "list_2 = []\n",
    "\n",
    "for n in list_1:\n",
    "    sq_of_num = n ** 2\n",
    "    list_2.append(sq_of_num)\n",
    "list_2"
   ]
  },
  {
   "cell_type": "code",
   "execution_count": 2,
   "metadata": {
    "id": "otXsQwsqoGml",
    "outputId": "97bef4cc-5c49-497f-bc0a-b5c99b471de2"
   },
   "outputs": [
    {
     "data": {
      "text/plain": [
       "[1, 4, 9, 16, 25]"
      ]
     },
     "execution_count": 2,
     "metadata": {},
     "output_type": "execute_result"
    }
   ],
   "source": [
    "list_2 = [i ** 2 for i in list_1]\n",
    "list_2"
   ]
  },
  {
   "cell_type": "code",
   "execution_count": 3,
   "metadata": {
    "id": "mZ6QiSqzoGmm",
    "outputId": "dfb81f0b-8321-4888-ffbc-140bef2bdb52"
   },
   "outputs": [
    {
     "data": {
      "text/plain": [
       "[1, 4, 9, 16, 25]"
      ]
     },
     "execution_count": 3,
     "metadata": {},
     "output_type": "execute_result"
    }
   ],
   "source": [
    "def square(num):\n",
    "    return num ** 2\n",
    "\n",
    "\n",
    "list_1 = [1, 2, 3, 4, 5]\n",
    "list_2 = []\n",
    "\n",
    "for n in list_1:\n",
    "    sq_of_num = square(n)\n",
    "    list_2.append(sq_of_num)\n",
    "list_2"
   ]
  },
  {
   "cell_type": "code",
   "execution_count": 1,
   "metadata": {
    "id": "EAAKYlZ5oGmm",
    "outputId": "935a86da-01eb-4002-e5fb-01f44b326193"
   },
   "outputs": [
    {
     "name": "stdout",
     "output_type": "stream",
     "text": [
      "[1, 4, 9, 16, 25, 36]\n"
     ]
    }
   ],
   "source": [
    "def square(num):\n",
    "    return num ** 2\n",
    "\n",
    "\n",
    "my_nums = [1, 2, 3, 4, 5, 6]\n",
    "\n",
    "result = list(map(square, my_nums))\n",
    "print(result)"
   ]
  },
  {
   "cell_type": "code",
   "execution_count": null,
   "metadata": {
    "id": "USDKuQ_doGmm",
    "outputId": "9b4b01df-c5e8-4148-9e29-2b63db5345b1"
   },
   "outputs": [
    {
     "data": {
      "text/plain": [
       "[3.14, 12.56, 28.26, 50.24, 78.5]"
      ]
     },
     "execution_count": 5,
     "metadata": {},
     "output_type": "execute_result"
    }
   ],
   "source": [
    "def area_of_circle(radius):\n",
    "    return 3.14 * radius ** 2\n",
    "\n",
    "my_nums = [1, 2, 3, 4, 5]\n",
    "\n",
    "list(map(area_of_circle, my_nums))"
   ]
  },
  {
   "cell_type": "code",
   "execution_count": 5,
   "metadata": {
    "id": "T2cV1EaQoGmn",
    "outputId": "df80193f-d11b-43da-f208-3fa82ddfe879"
   },
   "outputs": [
    {
     "data": {
      "text/plain": [
       "['ESLAMESLAM!', 'AHMEDAHMED!', 'EMANEMAN!', 'MOHAMMEDMOHAMMED!']"
      ]
     },
     "execution_count": 5,
     "metadata": {},
     "output_type": "execute_result"
    }
   ],
   "source": [
    "my_names = ['eslam', 'ahmed', 'eman', 'mohammed']\n",
    "\n",
    "def my_func(name):\n",
    "    result = name.upper() * 2 + '!'\n",
    "    return result\n",
    "    \n",
    "list(map(my_func, my_names))"
   ]
  },
  {
   "cell_type": "markdown",
   "metadata": {
    "id": "Ir9DhZatoGmn"
   },
   "source": [
    "The functions can also be more complex"
   ]
  },
  {
   "cell_type": "markdown",
   "metadata": {
    "id": "sPS_39hloGmn"
   },
   "source": [
    "## 2) `filter` function\n",
    "\n",
    "The filter function returns an iterator yielding those items of iterable for which function(item)\n",
    "is true. Meaning you need to filter by a function that returns either True or False. Then passing that into filter (along with your iterable) and you will get back only the results that would return True when passed to the function."
   ]
  },
  {
   "cell_type": "code",
   "execution_count": null,
   "metadata": {
    "id": "KZTKejupoGmo",
    "outputId": "3f24c778-f8bc-4311-827a-027b9cbc6489"
   },
   "outputs": [
    {
     "data": {
      "text/plain": [
       "[0, 2, 4, 6, 8, 10]"
      ]
     },
     "execution_count": 7,
     "metadata": {},
     "output_type": "execute_result"
    }
   ],
   "source": [
    "nums = [0,1,2,3,4,5,6,7,8,9,10]\n",
    "nums_even = []\n",
    "\n",
    "for n in nums:\n",
    "    if n % 2 == 0:\n",
    "        nums_even.append(n)\n",
    "nums_even"
   ]
  },
  {
   "cell_type": "code",
   "execution_count": null,
   "metadata": {
    "id": "oDWQm4sboGmo",
    "outputId": "5daa1c9d-ca84-4f64-e920-fb45fa15823c"
   },
   "outputs": [
    {
     "data": {
      "text/plain": [
       "[0, 2, 4, 6, 8, 10]"
      ]
     },
     "execution_count": 8,
     "metadata": {},
     "output_type": "execute_result"
    }
   ],
   "source": [
    "nums_even = [i for i in [0,1,2,3,4,5,6,7,8,9,10] if i % 2 == 0]\n",
    "nums_even"
   ]
  },
  {
   "cell_type": "code",
   "execution_count": null,
   "metadata": {
    "id": "t3fqjk_ToGmo",
    "outputId": "f773cf02-2f43-47a0-e684-486a609b283e"
   },
   "outputs": [
    {
     "data": {
      "text/plain": [
       "[0, 2, 4, 6, 8, 10]"
      ]
     },
     "execution_count": 9,
     "metadata": {},
     "output_type": "execute_result"
    }
   ],
   "source": [
    "def check_even(num):\n",
    "    return num % 2 == 0 \n",
    "\n",
    "nums = [0,1,2,3,4,5,6,7,8,9,10]\n",
    "nums_even = []\n",
    "\n",
    "for n in nums:\n",
    "    if check_even(n) == True:\n",
    "        nums_even.append(n)\n",
    "nums_even"
   ]
  },
  {
   "cell_type": "code",
   "execution_count": 2,
   "metadata": {},
   "outputs": [
    {
     "name": "stdout",
     "output_type": "stream",
     "text": [
      "False\n"
     ]
    }
   ],
   "source": [
    "print (5 % 2 == 0)"
   ]
  },
  {
   "cell_type": "code",
   "execution_count": null,
   "metadata": {},
   "outputs": [],
   "source": []
  },
  {
   "cell_type": "code",
   "execution_count": 6,
   "metadata": {
    "id": "80mYTrm9oGmp",
    "outputId": "aba676da-fd36-4d8d-c255-65486d1b9735"
   },
   "outputs": [
    {
     "name": "stdout",
     "output_type": "stream",
     "text": [
      "[0, 2, 4, 6, 8, 10]\n"
     ]
    }
   ],
   "source": [
    "def check_even(num):\n",
    "    return num % 2 == 0 \n",
    "\n",
    "nums = [0,1,2,3,4,5,6,7,8,9,10]\n",
    "\n",
    "nums_even = list(filter(check_even,nums))\n",
    "print(nums_even)"
   ]
  },
  {
   "cell_type": "code",
   "execution_count": null,
   "metadata": {},
   "outputs": [],
   "source": [
    "nums = [0,1,2,3,4,5,6,7,8,9,10]\n"
   ]
  },
  {
   "cell_type": "code",
   "execution_count": null,
   "metadata": {
    "id": "-EOwu7dDoGmq",
    "outputId": "37569f48-3015-4d21-82bb-8448ec182481"
   },
   "outputs": [
    {
     "data": {
      "text/plain": [
       "[5, 10, 15, 20, 25, 30, 35, 40, 45, 50]"
      ]
     },
     "execution_count": 11,
     "metadata": {},
     "output_type": "execute_result"
    }
   ],
   "source": [
    "def check_div_on_five(num):\n",
    "    return num % 5 == 0 \n",
    "\n",
    "nums = list(range(1, 51))\n",
    "\n",
    "list(filter(check_div_on_five,nums))"
   ]
  },
  {
   "cell_type": "markdown",
   "metadata": {},
   "source": [
    "## given a list of grades, filter the grades > 50 only"
   ]
  },
  {
   "cell_type": "code",
   "execution_count": 3,
   "metadata": {},
   "outputs": [
    {
     "name": "stdout",
     "output_type": "stream",
     "text": [
      "[61, 54, 80, 58, 87]\n"
     ]
    }
   ],
   "source": [
    "def is_greater_than_50(num):\n",
    "    return num > 50\n",
    "\n",
    "\n",
    "grades = [42, 61, 8, 54, 80, 33, 58, 24, 40, 87]\n",
    "\n",
    "result = list(filter(is_greater_than_50 , grades ))\n",
    "print(result)"
   ]
  },
  {
   "cell_type": "markdown",
   "metadata": {
    "id": "6Kmrf5E1oGmr"
   },
   "source": [
    "## 3) `reduce` function\n",
    "\n",
    "The reduce(fun,seq) function is used to apply a particular function passed in its argument to all of the list elements mentioned in the sequence passed along."
   ]
  },
  {
   "cell_type": "code",
   "execution_count": 11,
   "metadata": {
    "id": "0rXJCQf-oGmr",
    "outputId": "b8146646-b5b5-4df8-a46d-02187a67757e"
   },
   "outputs": [
    {
     "data": {
      "text/plain": [
       "15"
      ]
     },
     "execution_count": 11,
     "metadata": {},
     "output_type": "execute_result"
    }
   ],
   "source": [
    "lis = [1, 2, 3, 4, 5] \n",
    "\n",
    "summ = 0\n",
    "\n",
    "for n in lis:\n",
    "    summ = summ + n\n",
    "summ"
   ]
  },
  {
   "cell_type": "code",
   "execution_count": null,
   "metadata": {
    "id": "fyqc0FgpoGms",
    "outputId": "cdb01962-40c6-4e46-fc68-35415ff00a9d"
   },
   "outputs": [
    {
     "data": {
      "text/plain": [
       "15"
      ]
     },
     "execution_count": 8,
     "metadata": {},
     "output_type": "execute_result"
    }
   ],
   "source": [
    "lis = [1, 2, 3, 4, 5] \n",
    "\n",
    "def summ_of_nums(my_nums):   \n",
    "    summ = 0\n",
    "    for n in lis:\n",
    "        summ = summ + n\n",
    "    return summ\n",
    "\n",
    "summ_of_nums(lis)"
   ]
  },
  {
   "cell_type": "code",
   "execution_count": 14,
   "metadata": {
    "id": "JYkWA_7_oGms",
    "outputId": "2c438eb8-0a0f-4fca-d978-9ab64edf0b29"
   },
   "outputs": [
    {
     "data": {
      "text/plain": [
       "15"
      ]
     },
     "execution_count": 14,
     "metadata": {},
     "output_type": "execute_result"
    }
   ],
   "source": [
    "from functools import reduce\n",
    "\n",
    "def calc_sum(a, b):\n",
    "    return a + b\n",
    "\n",
    "\n",
    "lis = range(1, 6)\n",
    "  \n",
    "reduce(calc_sum,lis)"
   ]
  },
  {
   "cell_type": "code",
   "execution_count": 4,
   "metadata": {
    "id": "D0xO3lhJoGmt",
    "outputId": "2e1a9628-a99b-4292-f6bf-ca55a91de15c"
   },
   "outputs": [
    {
     "data": {
      "text/plain": [
       "120"
      ]
     },
     "execution_count": 4,
     "metadata": {},
     "output_type": "execute_result"
    }
   ],
   "source": [
    "from functools import reduce\n",
    "\n",
    "def calc_mult(a, b):\n",
    "    return a * b\n",
    "\n",
    "\n",
    "lis = [1, 2, 3, 4, 5]\n",
    "  \n",
    "reduce(calc_mult,lis)"
   ]
  },
  {
   "cell_type": "code",
   "execution_count": null,
   "metadata": {
    "id": "eoM4DuOEoGmu",
    "outputId": "b6949635-0646-4909-f4ec-b6125adc1743"
   },
   "outputs": [
    {
     "data": {
      "text/plain": [
       "3.0"
      ]
     },
     "execution_count": 11,
     "metadata": {},
     "output_type": "execute_result"
    }
   ],
   "source": [
    "from functools import reduce\n",
    "\n",
    "def calc_sum(a, b):\n",
    "    return a + b\n",
    "\n",
    "\n",
    "lis = range(1, 6)\n",
    "  \n",
    "reduce(calc_sum,lis) / len(lis)"
   ]
  },
  {
   "cell_type": "code",
   "execution_count": null,
   "metadata": {
    "id": "7aLiB5U3oGmv",
    "outputId": "923e0dfa-257c-4f2d-f105-4d2718849e91"
   },
   "outputs": [
    {
     "data": {
      "text/plain": [
       "255"
      ]
     },
     "execution_count": 13,
     "metadata": {},
     "output_type": "execute_result"
    }
   ],
   "source": [
    "from functools import reduce\n",
    "\n",
    "def check_bigger(a, b):\n",
    "    return a if a > b else b\n",
    "\n",
    "\n",
    "lis = [10, 255, 30, -4, 50]\n",
    "  \n",
    "reduce(check_bigger,lis)"
   ]
  },
  {
   "cell_type": "markdown",
   "metadata": {
    "id": "1LdD9he8oGmw"
   },
   "source": [
    "## Example 1"
   ]
  },
  {
   "cell_type": "markdown",
   "metadata": {
    "id": "sQO0NCu8oGmw"
   },
   "source": [
    "## find from the list the summetion of the cube of odd numbers between 1 & 20"
   ]
  },
  {
   "cell_type": "code",
   "execution_count": 5,
   "metadata": {},
   "outputs": [
    {
     "data": {
      "text/plain": [
       "[1, 2, 3, 4, 5, 6, 7, 8, 9, 10, 11, 12, 13, 14, 15, 16, 17, 18, 19, 20]"
      ]
     },
     "execution_count": 5,
     "metadata": {},
     "output_type": "execute_result"
    }
   ],
   "source": [
    "numbers = list( range(1,21 ))\n",
    "numbers"
   ]
  },
  {
   "cell_type": "code",
   "execution_count": 8,
   "metadata": {},
   "outputs": [
    {
     "name": "stdout",
     "output_type": "stream",
     "text": [
      "[1, 3, 5, 7, 9, 11, 13, 15, 17, 19]\n"
     ]
    }
   ],
   "source": [
    "def is_odd(num):\n",
    "    return num%2 != 0\n",
    "\n",
    "result = list(filter(is_odd , numbers))\n",
    "print(result)"
   ]
  },
  {
   "cell_type": "code",
   "execution_count": 9,
   "metadata": {},
   "outputs": [
    {
     "name": "stdout",
     "output_type": "stream",
     "text": [
      "[1, 27, 125, 343, 729, 1331, 2197, 3375, 4913, 6859]\n"
     ]
    }
   ],
   "source": [
    "def cube(num):\n",
    "    return num ** 3\n",
    "\n",
    "result2 = list(map(cube , result)) \n",
    "print(result2)"
   ]
  },
  {
   "cell_type": "code",
   "execution_count": 10,
   "metadata": {},
   "outputs": [
    {
     "name": "stdout",
     "output_type": "stream",
     "text": [
      "19900\n"
     ]
    }
   ],
   "source": [
    "from functools import reduce\n",
    "def summation(a , b):\n",
    "    return a + b\n",
    "\n",
    "result3 = reduce(summation , result2)\n",
    "print(result3)"
   ]
  },
  {
   "cell_type": "code",
   "execution_count": null,
   "metadata": {
    "id": "eG3S_OYnoGmx",
    "outputId": "999a0719-cb82-46bf-a0af-2583b4fd1d0c",
    "scrolled": true
   },
   "outputs": [
    {
     "data": {
      "text/plain": [
       "[1, 2, 3, 4, 5, 6, 7, 8, 9, 10, 11, 12, 13, 14, 15, 16, 17, 18, 19, 20]"
      ]
     },
     "execution_count": 16,
     "metadata": {},
     "output_type": "execute_result"
    }
   ],
   "source": [
    "from functools import reduce\n",
    "\n",
    "my_nums = list(range(1, 21))\n",
    "\n",
    "def is_odd(n):\n",
    "    return n % 2 != 0\n",
    "\n",
    "def cube_num(n):\n",
    "    return n ** 3\n",
    "\n",
    "def calculate_sum(a, b):\n",
    "    return a + b\n",
    "    \n",
    "my_nums"
   ]
  },
  {
   "cell_type": "code",
   "execution_count": null,
   "metadata": {
    "id": "yzBwa4u5oGmy",
    "outputId": "4960ed23-ed31-472b-a82d-0ca609e3bde8",
    "scrolled": true
   },
   "outputs": [
    {
     "data": {
      "text/plain": [
       "[1, 3, 5, 7, 9, 11, 13, 15, 17, 19]"
      ]
     },
     "execution_count": 17,
     "metadata": {},
     "output_type": "execute_result"
    }
   ],
   "source": [
    "# filter odd numbers\n",
    "my_odd_nums = list(filter(is_odd, my_nums))\n",
    "my_odd_nums"
   ]
  },
  {
   "cell_type": "code",
   "execution_count": null,
   "metadata": {
    "id": "fpB2fQEqoGmz",
    "outputId": "af087f81-bc8b-4ce9-c0a0-9ec905d55a02"
   },
   "outputs": [
    {
     "data": {
      "text/plain": [
       "[1, 27, 125, 343, 729, 1331, 2197, 3375, 4913, 6859]"
      ]
     },
     "execution_count": 18,
     "metadata": {},
     "output_type": "execute_result"
    }
   ],
   "source": [
    "# maping my_odd_nums to my_odd_cube_nums\n",
    "my_odd_cube_nums = list(map(cube_num, my_odd_nums))\n",
    "my_odd_cube_nums"
   ]
  },
  {
   "cell_type": "code",
   "execution_count": null,
   "metadata": {
    "id": "RF5qFDRhoGmz",
    "outputId": "f80795ea-f917-4ea6-c306-2cad72dd80c5"
   },
   "outputs": [
    {
     "data": {
      "text/plain": [
       "19900"
      ]
     },
     "execution_count": 19,
     "metadata": {},
     "output_type": "execute_result"
    }
   ],
   "source": [
    "my_odd_cube_nums_sum = reduce(calculate_sum, my_odd_cube_nums)\n",
    "my_odd_cube_nums_sum"
   ]
  },
  {
   "cell_type": "markdown",
   "metadata": {
    "id": "y4Y4XM62oGm0"
   },
   "source": [
    "## Example 2"
   ]
  },
  {
   "cell_type": "markdown",
   "metadata": {
    "id": "QBOOL6TioGm0"
   },
   "source": [
    "find from the list the max of the cube of square of even numbers between 1 & 20"
   ]
  },
  {
   "cell_type": "code",
   "execution_count": null,
   "metadata": {
    "id": "CtUI0pvdoGm1",
    "outputId": "6231838e-109a-45e1-eff6-9ac5e4afa63e"
   },
   "outputs": [
    {
     "data": {
      "text/plain": [
       "[1, 2, 3, 4, 5, 6, 7, 8, 9, 10, 11, 12, 13, 14, 15, 16, 17, 18, 19, 20]"
      ]
     },
     "execution_count": 24,
     "metadata": {},
     "output_type": "execute_result"
    }
   ],
   "source": [
    "lst = list(range(1, 21))\n",
    "lst"
   ]
  },
  {
   "cell_type": "code",
   "execution_count": null,
   "metadata": {
    "id": "ZmXY3OV-oGm2"
   },
   "outputs": [],
   "source": [
    "def is_even(n):\n",
    "    return n % 2 == 0\n",
    "\n",
    "def square(n):\n",
    "    return n ** 2\n",
    "\n",
    "def get_bigger(x, y):\n",
    "    return x if x > y else y"
   ]
  },
  {
   "cell_type": "code",
   "execution_count": null,
   "metadata": {
    "id": "PcETCkAzoGm2",
    "outputId": "15c32f2c-facb-4cc3-c6de-d1058fd38a33"
   },
   "outputs": [
    {
     "data": {
      "text/plain": [
       "[2, 4, 6, 8, 10, 12, 14, 16, 18, 20]"
      ]
     },
     "execution_count": 26,
     "metadata": {},
     "output_type": "execute_result"
    }
   ],
   "source": [
    "even = list(filter(is_even, lst))\n",
    "even"
   ]
  },
  {
   "cell_type": "code",
   "execution_count": null,
   "metadata": {
    "id": "Pp-LQeIhoGm3",
    "outputId": "d3cda90a-08e1-40e2-e76b-ce4139fa5f0e"
   },
   "outputs": [
    {
     "data": {
      "text/plain": [
       "[4, 16, 36, 64, 100, 144, 196, 256, 324, 400]"
      ]
     },
     "execution_count": 27,
     "metadata": {},
     "output_type": "execute_result"
    }
   ],
   "source": [
    "sq_even = list(map(square, even))\n",
    "sq_even"
   ]
  },
  {
   "cell_type": "code",
   "execution_count": null,
   "metadata": {
    "id": "aW4XszkgoGm3",
    "outputId": "8d8141c6-03aa-449a-bb9e-88b4f9e9785c"
   },
   "outputs": [
    {
     "data": {
      "text/plain": [
       "400"
      ]
     },
     "execution_count": 29,
     "metadata": {},
     "output_type": "execute_result"
    }
   ],
   "source": [
    "max_of_sq_even = reduce(get_bigger, sq_even)\n",
    "max_of_sq_even"
   ]
  },
  {
   "cell_type": "markdown",
   "metadata": {
    "collapsed": true,
    "id": "KilId9OhoGm3"
   },
   "source": [
    "## 4) lambda expression\n",
    "\n",
    "One of Pythons most useful (and for beginners, confusing) tools is the lambda expression. lambda expressions allow us to create \"anonymous\" functions. This basically means we can quickly make ad-hoc functions without needing to properly define a function using def.\n",
    "\n",
    "Function objects returned by running lambda expressions work exactly the same as those created and assigned by defs. There is key difference that makes lambda useful in specialized roles:\n",
    "\n",
    "**lambda's body is a single expression, not a block of statements.**\n",
    "\n",
    "* The lambda's body is similar to what we would put in a def body's return statement. We simply type the result as an expression instead of explicitly returning it. Because it is limited to an expression, a lambda is less general that a def. We can only squeeze design, to limit program nesting. lambda is designed for coding simple functions, and def handles the larger tasks."
   ]
  },
  {
   "cell_type": "markdown",
   "metadata": {
    "id": "xJfrwlKxoGm4"
   },
   "source": [
    "Lets slowly break down a lambda expression by deconstructing a function:"
   ]
  },
  {
   "cell_type": "code",
   "execution_count": null,
   "metadata": {
    "id": "wC6RUr6ToGm4"
   },
   "outputs": [],
   "source": [
    "def square(num):\n",
    "    result = num ** 2\n",
    "    return result"
   ]
  },
  {
   "cell_type": "code",
   "execution_count": null,
   "metadata": {
    "id": "fZ8NbbI2oGm4",
    "outputId": "081418d4-a463-452f-afc8-e662880f728b"
   },
   "outputs": [
    {
     "data": {
      "text/plain": [
       "4"
      ]
     },
     "execution_count": 31,
     "metadata": {},
     "output_type": "execute_result"
    }
   ],
   "source": [
    "square(2)"
   ]
  },
  {
   "cell_type": "markdown",
   "metadata": {
    "id": "7ZyY_AfpoGm4"
   },
   "source": [
    "We could simplify it:"
   ]
  },
  {
   "cell_type": "code",
   "execution_count": null,
   "metadata": {
    "id": "8UZ1KPzIoGm4"
   },
   "outputs": [],
   "source": [
    "def square(num):\n",
    "    return num ** 2"
   ]
  },
  {
   "cell_type": "code",
   "execution_count": null,
   "metadata": {
    "id": "hvvF4KyZoGm5",
    "outputId": "261bd2d5-b76b-4cca-9e3a-1439cd830d76"
   },
   "outputs": [
    {
     "data": {
      "text/plain": [
       "4"
      ]
     },
     "execution_count": 33,
     "metadata": {},
     "output_type": "execute_result"
    }
   ],
   "source": [
    "square(2)"
   ]
  },
  {
   "cell_type": "markdown",
   "metadata": {
    "id": "ctU1Kp-ToGm5"
   },
   "source": [
    "We could actually even write this all on one line."
   ]
  },
  {
   "cell_type": "code",
   "execution_count": null,
   "metadata": {
    "id": "Hmns3dbooGm5"
   },
   "outputs": [],
   "source": [
    "def square(num): return num ** 2"
   ]
  },
  {
   "cell_type": "code",
   "execution_count": null,
   "metadata": {
    "id": "hm_qB9PpoGm5",
    "outputId": "8e1f9ed7-1452-4c12-9b24-2447a4e28476"
   },
   "outputs": [
    {
     "data": {
      "text/plain": [
       "4"
      ]
     },
     "execution_count": 35,
     "metadata": {},
     "output_type": "execute_result"
    }
   ],
   "source": [
    "square(2)"
   ]
  },
  {
   "cell_type": "markdown",
   "metadata": {
    "id": "S5tmEvVsoGm7"
   },
   "source": [
    "This is the form a function that a lambda expression intends to replicate. A lambda expression can then be written as:"
   ]
  },
  {
   "cell_type": "code",
   "execution_count": null,
   "metadata": {
    "id": "rPfvH_mwoGm8",
    "outputId": "194287ed-ceac-4bd4-fee4-379b924b3ae7"
   },
   "outputs": [
    {
     "data": {
      "text/plain": [
       "<function __main__.<lambda>(num)>"
      ]
     },
     "execution_count": 36,
     "metadata": {},
     "output_type": "execute_result"
    }
   ],
   "source": [
    "lambda num: num ** 2"
   ]
  },
  {
   "cell_type": "markdown",
   "metadata": {
    "id": "Bguqmo09oGm8"
   },
   "source": [
    "So why would use this? Many function calls need a function passed in, such as map and filter. Often you only need to use the function you are passing in once, so instead of formally defining it, you just use the lambda expression. Let's repeat some of the examples from above with a lambda expression"
   ]
  },
  {
   "cell_type": "code",
   "execution_count": 12,
   "metadata": {
    "id": "V0tUkbGCoGm9",
    "outputId": "b5846e98-9725-4b9d-d4d1-be491473d87d"
   },
   "outputs": [
    {
     "data": {
      "text/plain": [
       "[1, 4, 1600, 144, 9, 16, 25]"
      ]
     },
     "execution_count": 12,
     "metadata": {},
     "output_type": "execute_result"
    }
   ],
   "source": [
    "my_nums = [1, 2, 40 , 12, 3, 4, 5]\n",
    "list(map(lambda num: num ** 2, my_nums))"
   ]
  },
  {
   "cell_type": "code",
   "execution_count": 13,
   "metadata": {
    "id": "_hvRv6NToGm9",
    "outputId": "e87e5979-7b9b-4799-b7cd-8c5c62a51749"
   },
   "outputs": [
    {
     "data": {
      "text/plain": [
       "[2, 40, 12, 4]"
      ]
     },
     "execution_count": 13,
     "metadata": {},
     "output_type": "execute_result"
    }
   ],
   "source": [
    "list(filter(lambda num: num % 2 == 0,my_nums))"
   ]
  },
  {
   "cell_type": "code",
   "execution_count": 15,
   "metadata": {
    "id": "YhvBBKzcoGm9",
    "outputId": "6c22c7ec-9db3-40ff-d67c-b177ed61bd2b"
   },
   "outputs": [
    {
     "data": {
      "text/plain": [
       "67"
      ]
     },
     "execution_count": 15,
     "metadata": {},
     "output_type": "execute_result"
    }
   ],
   "source": [
    "from functools import reduce\n",
    "reduce(lambda a,b: a + b , my_nums)"
   ]
  },
  {
   "cell_type": "markdown",
   "metadata": {
    "id": "P8dmXy9SoGm-"
   },
   "source": [
    "# Example using Lambda function"
   ]
  },
  {
   "cell_type": "code",
   "execution_count": null,
   "metadata": {
    "id": "GFSKIHdxoGm-",
    "outputId": "0b6858e8-1d40-4516-cdb6-d2c3d3c5500c"
   },
   "outputs": [
    {
     "data": {
      "text/plain": [
       "19900"
      ]
     },
     "execution_count": 41,
     "metadata": {},
     "output_type": "execute_result"
    }
   ],
   "source": [
    "from functools import reduce\n",
    "\n",
    "my_nums = list(range(1, 21))\n",
    "\n",
    "my_odd_nums = list(filter(lambda n: n % 2 != 0, my_nums))\n",
    "my_odd_cube_nums = list(map(lambda n: n ** 3, my_odd_nums))\n",
    "my_odd_cube_nums_sum = reduce(lambda a,b: a + b, my_odd_cube_nums)\n",
    "\n",
    "my_odd_cube_nums_sum"
   ]
  },
  {
   "cell_type": "markdown",
   "metadata": {
    "id": "T8dDhUm3oGm-"
   },
   "source": [
    "Here are a few more examples, keep in mind the more comples a function is, the harder it is to translate into a lambda expression, meaning sometimes its just easier (and often the only way) to create the def keyword function."
   ]
  },
  {
   "cell_type": "markdown",
   "metadata": {
    "id": "qwy8oijmoGm-"
   },
   "source": [
    "**Lambda expression for grabbing the first character of a string:**"
   ]
  },
  {
   "cell_type": "code",
   "execution_count": 17,
   "metadata": {},
   "outputs": [
    {
     "data": {
      "text/plain": [
       "'h'"
      ]
     },
     "execution_count": 17,
     "metadata": {},
     "output_type": "execute_result"
    }
   ],
   "source": [
    "def first_char(st):\n",
    "    return st[0]\n",
    "first_char(\"hello\")"
   ]
  },
  {
   "cell_type": "code",
   "execution_count": 18,
   "metadata": {},
   "outputs": [
    {
     "data": {
      "text/plain": [
       "'h'"
      ]
     },
     "execution_count": 18,
     "metadata": {},
     "output_type": "execute_result"
    }
   ],
   "source": [
    "first_char = lambda st : st[0]\n",
    "first_char(\"hello\")"
   ]
  },
  {
   "cell_type": "code",
   "execution_count": null,
   "metadata": {
    "id": "QCvYKQVmoGm-",
    "outputId": "bace758c-c342-4f8e-a90a-0d83fbdd4501"
   },
   "outputs": [
    {
     "data": {
      "text/plain": [
       "<function __main__.<lambda>(word)>"
      ]
     },
     "execution_count": 42,
     "metadata": {},
     "output_type": "execute_result"
    }
   ],
   "source": [
    "lambda word: word[0]"
   ]
  },
  {
   "cell_type": "markdown",
   "metadata": {
    "id": "izRlElqboGm-"
   },
   "source": [
    "**Lambda expression for reversing a string:**"
   ]
  },
  {
   "cell_type": "code",
   "execution_count": null,
   "metadata": {
    "id": "LcNKw2AKoGm_",
    "outputId": "fc5fb230-6e5d-46af-e2db-43ce7ae98bf6"
   },
   "outputs": [
    {
     "data": {
      "text/plain": [
       "<function __main__.<lambda>(word)>"
      ]
     },
     "execution_count": 43,
     "metadata": {},
     "output_type": "execute_result"
    }
   ],
   "source": [
    "lambda word: word[::-1]"
   ]
  },
  {
   "cell_type": "markdown",
   "metadata": {
    "id": "WjhgX8oboGm_"
   },
   "source": [
    "You can even pass in multiple arguments into a lambda expression. Again, keep in mind that not every function can be translated into a lambda expression."
   ]
  },
  {
   "cell_type": "code",
   "execution_count": null,
   "metadata": {
    "id": "MJ9b1kI-oGm_",
    "outputId": "11706a20-4c99-4eaf-f0af-cce25a7eea44"
   },
   "outputs": [
    {
     "data": {
      "text/plain": [
       "<function __main__.<lambda>(x, y)>"
      ]
     },
     "execution_count": 35,
     "metadata": {},
     "output_type": "execute_result"
    }
   ],
   "source": [
    "lambda x,y : x + y"
   ]
  },
  {
   "cell_type": "markdown",
   "metadata": {
    "id": "GomozFsPoGnA"
   },
   "source": [
    "You will find yourself using lambda expressions often with certain non-built-in libraries, for example the pandas library for data analysis works very well with lambda expressions."
   ]
  },
  {
   "cell_type": "markdown",
   "metadata": {
    "id": "E2-m3_N-oGnA"
   },
   "source": [
    "# Great Work!"
   ]
  }
 ],
 "metadata": {
  "colab": {
   "provenance": []
  },
  "kernelspec": {
   "display_name": "Python 3 (ipykernel)",
   "language": "python",
   "name": "python3"
  },
  "language_info": {
   "codemirror_mode": {
    "name": "ipython",
    "version": 3
   },
   "file_extension": ".py",
   "mimetype": "text/x-python",
   "name": "python",
   "nbconvert_exporter": "python",
   "pygments_lexer": "ipython3",
   "version": "3.9.13"
  }
 },
 "nbformat": 4,
 "nbformat_minor": 1
}
