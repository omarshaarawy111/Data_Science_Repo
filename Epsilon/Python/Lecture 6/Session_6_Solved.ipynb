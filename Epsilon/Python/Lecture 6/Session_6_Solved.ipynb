{
 "cells": [
  {
   "cell_type": "markdown",
   "id": "1185527a",
   "metadata": {
    "id": "1185527a"
   },
   "source": [
    "## EX1: write a program to find number of occurrences for each item in list and store that output in dictionary ?"
   ]
  },
  {
   "cell_type": "markdown",
   "id": "9ec16439",
   "metadata": {},
   "source": [
    "## input :[5 , 90 , 3 , -1 , 5 , 3 , 8 , 90 , 8 , -1]\n",
    "## output: {5: 2, 90: 2, 3: 2, -1: 2, 8: 2}"
   ]
  },
  {
   "cell_type": "code",
   "execution_count": 2,
   "id": "6e0cb9e4",
   "metadata": {},
   "outputs": [
    {
     "name": "stdout",
     "output_type": "stream",
     "text": [
      "{5: 2, 90: 2, 3: 2, -1: 2, 8: 2}\n"
     ]
    }
   ],
   "source": [
    "lst=[5 , 90 , 3 , -1 , 5 , 3 , 8 , 90 , 8 , -1]\n",
    "dic={}\n",
    "for i in range(len(lst)) :\n",
    "    dic[lst[i]]=lst.count(lst[i])\n",
    "print(dic)    "
   ]
  },
  {
   "cell_type": "markdown",
   "id": "8e616dcc",
   "metadata": {
    "id": "8e616dcc"
   },
   "source": [
    "## EX2 : Write a program that accepts from the user a list of positive integers and displays whether the number is even or odd .The program accepts numbers from the user until he enters a negative value."
   ]
  },
  {
   "cell_type": "code",
   "execution_count": null,
   "id": "5c07d987",
   "metadata": {},
   "outputs": [],
   "source": [
    "def take():\n",
    "    counter = 0    \n",
    "    lst=list(map(int,input(\"enter list : \").split()))\n",
    "    for i in lst :\n",
    "        if i < 0 :\n",
    "            counter = 1\n",
    "            break\n",
    "    if (counter > 0 ):\n",
    "        take()\n",
    "    else :\n",
    "        for i in lst :\n",
    "            if i % 2 == 0 :\n",
    "                print(\"{} is even\".format(i))\n",
    "            else :\n",
    "                print(\"{} is odd\".format(i))\n",
    "take()                "
   ]
  },
  {
   "cell_type": "markdown",
   "id": "54afe500",
   "metadata": {
    "id": "54afe500"
   },
   "source": [
    "## EX3: Write a program that repeatedly collects positive integers from the user, stopping when the user enters a negative number or zero. After that, output the product of all positive entries."
   ]
  },
  {
   "cell_type": "markdown",
   "id": "ed96bd7a",
   "metadata": {},
   "source": []
  },
  {
   "cell_type": "code",
   "execution_count": 9,
   "id": "cb6e7ef0",
   "metadata": {},
   "outputs": [
    {
     "name": "stdout",
     "output_type": "stream",
     "text": [
      "enter list : 1 2 3\n",
      "6\n",
      "6\n"
     ]
    }
   ],
   "source": [
    "from functools import reduce \n",
    "def take():\n",
    "    counter = 0    \n",
    "    mult=1\n",
    "    lst=list(map(int,input(\"enter list : \").split()))\n",
    "    for i in lst :\n",
    "        if i <= 0 :\n",
    "            counter = 1\n",
    "            break\n",
    "    if (counter > 0 ):\n",
    "        take()\n",
    "    else :\n",
    "        for i in lst :\n",
    "            mult=mult*i\n",
    "        print(mult)     \n",
    "    r=reduce(lambda x, y: x*y, lst)\n",
    "    print(r)\n",
    "take()                "
   ]
  },
  {
   "cell_type": "code",
   "execution_count": null,
   "id": "407dfb6a",
   "metadata": {},
   "outputs": [],
   "source": []
  }
 ],
 "metadata": {
  "kernelspec": {
   "display_name": "Python 3 (ipykernel)",
   "language": "python",
   "name": "python3"
  },
  "language_info": {
   "codemirror_mode": {
    "name": "ipython",
    "version": 3
   },
   "file_extension": ".py",
   "mimetype": "text/x-python",
   "name": "python",
   "nbconvert_exporter": "python",
   "pygments_lexer": "ipython3",
   "version": "3.9.13"
  }
 },
 "nbformat": 4,
 "nbformat_minor": 5
}
