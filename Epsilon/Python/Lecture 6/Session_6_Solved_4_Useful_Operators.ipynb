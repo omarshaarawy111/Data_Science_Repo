{
 "cells": [
  {
   "cell_type": "markdown",
   "metadata": {
    "id": "SZr-RzT9wC3v"
   },
   "source": [
    "# Useful Operators\n",
    "\n",
    "There are a few built-in functions and \"operators\" in Python that don't fit well into any category, so we will go over them in this lecture, let's begin!\n",
    "\n",
    "## Table of Contents\n",
    "1. range\n",
    "2. enumerate\n",
    "3. zip\n",
    "4. in operator"
   ]
  },
  {
   "cell_type": "markdown",
   "metadata": {
    "id": "TLeU6wGnwC3y"
   },
   "source": [
    "## 1) range\n",
    "\n",
    "The range function allows you to quickly *generate* a list of integers, this comes in handy a lot, so take note of how to use it! There are 3 parameters you can pass, a start, a stop, and a step size. Let's see some examples:"
   ]
  },
  {
   "cell_type": "code",
   "execution_count": null,
   "metadata": {
    "id": "BcBIwVxpwC3z",
    "outputId": "b0e24b96-3149-4aa8-c6fc-96069f1a017d"
   },
   "outputs": [
    {
     "data": {
      "text/plain": [
       "[0, 1, 2, 3, 4, 5, 6, 7, 8, 9, 10]"
      ]
     },
     "execution_count": 1,
     "metadata": {},
     "output_type": "execute_result"
    }
   ],
   "source": [
    "list(range(11))"
   ]
  },
  {
   "cell_type": "code",
   "execution_count": null,
   "metadata": {
    "id": "rwNjSdmLwC31",
    "outputId": "bea4aa79-b2ab-40ec-b260-48a163cd3232"
   },
   "outputs": [
    {
     "data": {
      "text/plain": [
       "[20, 21, 22, 23, 24, 25, 26, 27, 28, 29, 30]"
      ]
     },
     "execution_count": 2,
     "metadata": {},
     "output_type": "execute_result"
    }
   ],
   "source": [
    "list(range(20, 31))"
   ]
  },
  {
   "cell_type": "code",
   "execution_count": null,
   "metadata": {
    "id": "VDLjD--kwC32",
    "outputId": "b8f26453-04c4-43d1-bc89-11f5f940e194"
   },
   "outputs": [
    {
     "data": {
      "text/plain": [
       "[20, 22, 24, 26, 28, 30]"
      ]
     },
     "execution_count": 3,
     "metadata": {},
     "output_type": "execute_result"
    }
   ],
   "source": [
    "list(range(20, 31, 2))"
   ]
  },
  {
   "cell_type": "code",
   "execution_count": null,
   "metadata": {
    "id": "ObsciWouwC33",
    "outputId": "f6d1f42f-7a35-47ac-b4bf-314f0aebca0a"
   },
   "outputs": [
    {
     "data": {
      "text/plain": [
       "[0, 1, 2, 3, 4, 5, 6, 7, 8, 9, 10]"
      ]
     },
     "execution_count": 4,
     "metadata": {},
     "output_type": "execute_result"
    }
   ],
   "source": [
    "# Notice how 11 is not included, up to but not including 11, just like slice notation!\n",
    "list(range(0,11))"
   ]
  },
  {
   "cell_type": "code",
   "execution_count": null,
   "metadata": {
    "id": "PACTZSIDwC34",
    "outputId": "eb41e8c9-3c20-400b-cf4e-9706824aec1b"
   },
   "outputs": [
    {
     "data": {
      "text/plain": [
       "[0, 1, 2, 3, 4, 5, 6, 7, 8, 9, 10, 11]"
      ]
     },
     "execution_count": 5,
     "metadata": {},
     "output_type": "execute_result"
    }
   ],
   "source": [
    "list(range(0,12))"
   ]
  },
  {
   "cell_type": "code",
   "execution_count": null,
   "metadata": {
    "id": "6w0-jU3AwC34",
    "outputId": "2a44b2c5-774e-4965-c142-c876e60818c3"
   },
   "outputs": [
    {
     "data": {
      "text/plain": [
       "[0, 2, 4, 6, 8, 10]"
      ]
     },
     "execution_count": 6,
     "metadata": {},
     "output_type": "execute_result"
    }
   ],
   "source": [
    "# Third parameter is step size!\n",
    "# step size just means how big of a jump/leap/step you \n",
    "# take from the starting number to get to the next number.\n",
    "\n",
    "list(range(0,11,2))"
   ]
  },
  {
   "cell_type": "code",
   "execution_count": null,
   "metadata": {
    "id": "Pfos61l1wC35",
    "outputId": "8d77f5e0-979d-4036-8e58-b8aabc6ebf1b"
   },
   "outputs": [
    {
     "data": {
      "text/plain": [
       "[0, 10, 20, 30, 40, 50, 60, 70, 80, 90, 100]"
      ]
     },
     "execution_count": 7,
     "metadata": {},
     "output_type": "execute_result"
    }
   ],
   "source": [
    "list(range(0,101,10))"
   ]
  },
  {
   "cell_type": "markdown",
   "metadata": {
    "id": "TWEm9Wh9wC35"
   },
   "source": [
    "## 2) enumerate\n",
    "\n",
    "enumerate is a very useful function to use with for loops."
   ]
  },
  {
   "cell_type": "code",
   "execution_count": 4,
   "metadata": {},
   "outputs": [
    {
     "name": "stdout",
     "output_type": "stream",
     "text": [
      "[(0, 10), (1, 20), (2, 40)]\n",
      "(0, 10)\n",
      "10\n"
     ]
    }
   ],
   "source": [
    "lst = [10,20,40]\n",
    "result = list( enumerate(lst) )\n",
    "print(result)\n",
    "print(result[0])\n",
    "print(result[0][1])"
   ]
  },
  {
   "cell_type": "code",
   "execution_count": 3,
   "metadata": {
    "id": "aC7eVrzYwC36",
    "outputId": "bf7883e5-6a9b-42f0-acc7-362ff0b1264c"
   },
   "outputs": [
    {
     "data": {
      "text/plain": [
       "[(0, 30), (1, 40), (2, 50), (3, 60)]"
      ]
     },
     "execution_count": 3,
     "metadata": {},
     "output_type": "execute_result"
    }
   ],
   "source": [
    "list(enumerate([30, 40, 50, 60]))"
   ]
  },
  {
   "cell_type": "code",
   "execution_count": 4,
   "metadata": {
    "id": "iGij_2JmwC36",
    "outputId": "8e443311-0459-415f-bd68-360bb1da5443"
   },
   "outputs": [
    {
     "data": {
      "text/plain": [
       "[(0, 'a'), (1, 'b'), (2, 'c'), (3, 'd'), (4, 'e')]"
      ]
     },
     "execution_count": 4,
     "metadata": {},
     "output_type": "execute_result"
    }
   ],
   "source": [
    "list(enumerate('abcde'))"
   ]
  },
  {
   "cell_type": "code",
   "execution_count": 5,
   "metadata": {
    "id": "YQnJTIhnwC37",
    "outputId": "0ad371d4-9872-4ff4-9fe5-ac4ff9b2516f"
   },
   "outputs": [
    {
     "data": {
      "text/plain": [
       "[(8, 'a'), (9, 'b'), (10, 'c'), (11, 'd'), (12, 'e')]"
      ]
     },
     "execution_count": 5,
     "metadata": {},
     "output_type": "execute_result"
    }
   ],
   "source": [
    "list(enumerate('abcde', 8))"
   ]
  },
  {
   "cell_type": "code",
   "execution_count": null,
   "metadata": {
    "id": "7QcdGvi5wC37",
    "outputId": "38b545bb-a466-48b8-a8b1-fab9abfb97cc"
   },
   "outputs": [
    {
     "name": "stdout",
     "output_type": "stream",
     "text": [
      "at index 0 charchter is a\n",
      "at index 1 charchter is b\n",
      "at index 2 charchter is c\n",
      "at index 3 charchter is d\n",
      "at index 4 charchter is e\n"
     ]
    }
   ],
   "source": [
    "for idx, letter in enumerate('abcde'):\n",
    "    print(f'at index {idx} charchter is {letter}')"
   ]
  },
  {
   "cell_type": "code",
   "execution_count": 6,
   "metadata": {
    "id": "z1tpZENswC37",
    "outputId": "4a5df737-5caa-44f6-db53-0eb444a71a1e"
   },
   "outputs": [
    {
     "name": "stdout",
     "output_type": "stream",
     "text": [
      "at index 0 number is 30\n",
      "at index 1 number is 40\n",
      "at index 2 number is 50\n",
      "at index 3 number is 60\n"
     ]
    }
   ],
   "source": [
    "for idx, num  in enumerate([30, 40, 50, 60]):\n",
    "    print(f'at index {idx} number is {num}')"
   ]
  },
  {
   "cell_type": "code",
   "execution_count": 13,
   "metadata": {},
   "outputs": [
    {
     "name": "stdout",
     "output_type": "stream",
     "text": [
      "hello python\n"
     ]
    }
   ],
   "source": [
    "print(\"hello\" , end=' ' )\n",
    "print(\"python\")"
   ]
  },
  {
   "cell_type": "code",
   "execution_count": 15,
   "metadata": {},
   "outputs": [
    {
     "name": "stdout",
     "output_type": "stream",
     "text": [
      "HeLlO PyThOn"
     ]
    }
   ],
   "source": [
    "s = \"hello python\"\n",
    "for idx , char in enumerate(s):\n",
    "    if idx%2 == 0:\n",
    "        print(char.upper() , end = \"\")\n",
    "        \n",
    "    else:\n",
    "        print(char.lower() , end = \"\")"
   ]
  },
  {
   "cell_type": "code",
   "execution_count": 17,
   "metadata": {},
   "outputs": [
    {
     "name": "stdout",
     "output_type": "stream",
     "text": [
      "[21, 38, 28, 21, 16]\n"
     ]
    }
   ],
   "source": [
    "assignment1_grades = [10, 20 , 15 , 14 ,13]\n",
    "assignment2_grades = [11, 18 , 13 , 7 , 3]\n",
    "\n",
    "total_grades = []\n",
    "for i in range(len(assignment1_grades)) :\n",
    "    total_grades.append(assignment1_grades[i] + assignment2_grades[i])\n",
    "print(total_grades)"
   ]
  },
  {
   "cell_type": "markdown",
   "metadata": {
    "id": "kg7DAASzwC38"
   },
   "source": [
    "## 3) zip\n",
    "\n",
    "You can use the **zip()** function to quickly create a list of tuples by \"zipping\" up together two lists."
   ]
  },
  {
   "cell_type": "code",
   "execution_count": 18,
   "metadata": {},
   "outputs": [
    {
     "data": {
      "text/plain": [
       "[('a', 'm'), ('h', 'o'), ('m', 'h'), ('e', 'a'), ('d', 'm')]"
      ]
     },
     "execution_count": 18,
     "metadata": {},
     "output_type": "execute_result"
    }
   ],
   "source": [
    "list( zip(\"ahmed\" , \"mohamed\") )"
   ]
  },
  {
   "cell_type": "code",
   "execution_count": 16,
   "metadata": {
    "id": "ZPgwNXNKwC38"
   },
   "outputs": [],
   "source": [
    "mylist1 = [10,20,30,40,50,60]\n",
    "mylist2 = [100,200,300,400,500,600]"
   ]
  },
  {
   "cell_type": "code",
   "execution_count": 17,
   "metadata": {
    "id": "BJLpgKbwwC39",
    "outputId": "9662e235-9aa1-45c1-e49d-06b28ac95963"
   },
   "outputs": [
    {
     "data": {
      "text/plain": [
       "[(10, 100), (20, 200), (30, 300), (40, 400), (50, 500), (60, 600)]"
      ]
     },
     "execution_count": 17,
     "metadata": {},
     "output_type": "execute_result"
    }
   ],
   "source": [
    "list(zip(mylist1,mylist2))"
   ]
  },
  {
   "cell_type": "code",
   "execution_count": 18,
   "metadata": {},
   "outputs": [
    {
     "name": "stdout",
     "output_type": "stream",
     "text": [
      "1\n",
      "2\n"
     ]
    }
   ],
   "source": [
    "t = (1,2)\n",
    "x , y = t\n",
    "print(x)\n",
    "print(y)"
   ]
  },
  {
   "cell_type": "markdown",
   "metadata": {
    "id": "9KeGMukPwC3-"
   },
   "source": [
    "To use the generator, we could just use a for loop"
   ]
  },
  {
   "cell_type": "code",
   "execution_count": 19,
   "metadata": {},
   "outputs": [
    {
     "name": "stdout",
     "output_type": "stream",
     "text": [
      "(10, 100)\n",
      "(20, 200)\n",
      "(30, 300)\n",
      "(40, 400)\n",
      "(50, 500)\n",
      "(60, 600)\n"
     ]
    }
   ],
   "source": [
    "for t in zip(mylist1 , mylist2):\n",
    "    print(t)"
   ]
  },
  {
   "cell_type": "code",
   "execution_count": 20,
   "metadata": {
    "id": "wRVOSASjwC3-",
    "outputId": "022cadd8-d3c3-4370-88dc-fcc65be450c6"
   },
   "outputs": [
    {
     "name": "stdout",
     "output_type": "stream",
     "text": [
      "110\n",
      "220\n",
      "330\n",
      "440\n",
      "550\n",
      "660\n"
     ]
    }
   ],
   "source": [
    "for num_1,num_2 in zip(mylist1,mylist2):\n",
    "    print(num_1 + num_2)"
   ]
  },
  {
   "cell_type": "code",
   "execution_count": 20,
   "metadata": {
    "id": "0KNvoyetwC3_",
    "outputId": "ca49999a-edd3-4be7-eb13-8147444b30c6"
   },
   "outputs": [
    {
     "name": "stdout",
     "output_type": "stream",
     "text": [
      "[(2, 10), (7, 30), (3, 40), (5, 100)]\n"
     ]
    }
   ],
   "source": [
    "x = [2, 7, 3, 5]\n",
    "y = [10, 30, 40, 100]\n",
    "print( list(zip(x, y)) )"
   ]
  },
  {
   "cell_type": "code",
   "execution_count": 25,
   "metadata": {
    "id": "YLWouRQTwC4A",
    "outputId": "41569e9a-fa4b-4efb-e5bb-4c9a9065f15d"
   },
   "outputs": [
    {
     "name": "stdout",
     "output_type": "stream",
     "text": [
      "20\n",
      "210\n",
      "120\n",
      "500\n"
     ]
    }
   ],
   "source": [
    "for n1, n2 in zip(x, y):\n",
    "    print(n1 * n2)"
   ]
  },
  {
   "cell_type": "code",
   "execution_count": 19,
   "metadata": {},
   "outputs": [
    {
     "name": "stdout",
     "output_type": "stream",
     "text": [
      "[21, 38, 28, 21, 16]\n"
     ]
    }
   ],
   "source": [
    "assignment1_grades = [10, 20 , 15 , 14 ,13]\n",
    "assignment2_grades = [11, 18 , 13 , 7 , 3]\n",
    "\n",
    "total_grades = []\n",
    "for assignment1_grade , assignment2_grade in zip (assignment1_grades , assignment2_grades) :\n",
    "    total_grades.append(assignment1_grade + assignment2_grade)\n",
    "print(total_grades)"
   ]
  },
  {
   "cell_type": "markdown",
   "metadata": {
    "id": "ahSNFk8KwC4B"
   },
   "source": [
    "we can zip more than 2 lists"
   ]
  },
  {
   "cell_type": "code",
   "execution_count": 26,
   "metadata": {
    "id": "dlPTk2nnwC4B",
    "outputId": "f54b3fbe-e301-4804-c409-c21daa294c2f"
   },
   "outputs": [
    {
     "data": {
      "text/plain": [
       "[(10, 'a', 10),\n",
       " (20, 'b', 20),\n",
       " (30, 'c', 30),\n",
       " (40, 'd', 40),\n",
       " (50, 'e', 50),\n",
       " (60, 'f', 60)]"
      ]
     },
     "execution_count": 26,
     "metadata": {},
     "output_type": "execute_result"
    }
   ],
   "source": [
    "mylist1 = [10,20,30,40,50,60]\n",
    "mylist2 = ['a','b','c','d','e','f']\n",
    "mylist3 = [10,20,30,40,50,60]\n",
    "list(zip(mylist1, mylist2, mylist3))"
   ]
  },
  {
   "cell_type": "code",
   "execution_count": 27,
   "metadata": {
    "id": "dsxIa3i5wC4B",
    "outputId": "19265e6c-c1a2-4fc3-ac5f-e5102f32011d"
   },
   "outputs": [
    {
     "name": "stdout",
     "output_type": "stream",
     "text": [
      "v1: 10, v2: a, v3: 10\n",
      "v1: 20, v2: b, v3: 20\n",
      "v1: 30, v2: c, v3: 30\n",
      "v1: 40, v2: d, v3: 40\n",
      "v1: 50, v2: e, v3: 50\n",
      "v1: 60, v2: f, v3: 60\n"
     ]
    }
   ],
   "source": [
    "for v1,v2,v3 in zip(mylist1, mylist2, mylist3):\n",
    "    print(f'v1: {v1}, v2: {v2}, v3: {v3}')"
   ]
  },
  {
   "cell_type": "markdown",
   "metadata": {
    "id": "UwDwyZ3TwC4B"
   },
   "source": [
    "## 4) in operator\n",
    "\n",
    "We've already seen the **in** keyword durng the for loop, but we can also use it to quickly check if an object is in a list"
   ]
  },
  {
   "cell_type": "code",
   "execution_count": 21,
   "metadata": {
    "id": "lSDvM6mtwC4C",
    "outputId": "06959d69-6149-4993-a04c-6429755a6e56"
   },
   "outputs": [
    {
     "data": {
      "text/plain": [
       "True"
      ]
     },
     "execution_count": 21,
     "metadata": {},
     "output_type": "execute_result"
    }
   ],
   "source": [
    "'x' in ['x','y','z']"
   ]
  },
  {
   "cell_type": "code",
   "execution_count": 22,
   "metadata": {
    "id": "RP_KkDH9wC4C",
    "outputId": "a09cd9a5-6be7-435c-d211-e1458ce5b3b8"
   },
   "outputs": [
    {
     "data": {
      "text/plain": [
       "False"
      ]
     },
     "execution_count": 22,
     "metadata": {},
     "output_type": "execute_result"
    }
   ],
   "source": [
    "'x' not in ['x','y','z']"
   ]
  },
  {
   "cell_type": "code",
   "execution_count": 23,
   "metadata": {
    "id": "QeLeDFaewC4C",
    "outputId": "aa93fbeb-f54e-4259-fab3-b4f59a75c9f1"
   },
   "outputs": [
    {
     "data": {
      "text/plain": [
       "True"
      ]
     },
     "execution_count": 23,
     "metadata": {},
     "output_type": "execute_result"
    }
   ],
   "source": [
    "'x' in 'charles xavier'"
   ]
  },
  {
   "cell_type": "code",
   "execution_count": 24,
   "metadata": {
    "id": "uX3P5vOAwC4C",
    "outputId": "ffecb509-bb31-4a9f-8aa9-5a5c7a5394f0"
   },
   "outputs": [
    {
     "data": {
      "text/plain": [
       "True"
      ]
     },
     "execution_count": 24,
     "metadata": {},
     "output_type": "execute_result"
    }
   ],
   "source": [
    "'kerl' not in 'charles xavier'"
   ]
  },
  {
   "cell_type": "code",
   "execution_count": null,
   "metadata": {
    "id": "Ys9Iq0LUwC4C",
    "outputId": "4e3c78cc-3faa-4c6c-95e8-97c59080a0a8"
   },
   "outputs": [
    {
     "data": {
      "text/plain": [
       "False"
      ]
     },
     "execution_count": 28,
     "metadata": {},
     "output_type": "execute_result"
    }
   ],
   "source": [
    "'x' in 'ahmed'"
   ]
  },
  {
   "cell_type": "code",
   "execution_count": null,
   "metadata": {
    "id": "n_CRci8owC4D",
    "outputId": "e7d4931c-4e2e-46fa-bcc9-2eb0fe1d84c6"
   },
   "outputs": [
    {
     "data": {
      "text/plain": [
       "False"
      ]
     },
     "execution_count": 29,
     "metadata": {},
     "output_type": "execute_result"
    }
   ],
   "source": [
    "5 in [1,2,3]"
   ]
  },
  {
   "cell_type": "code",
   "execution_count": null,
   "metadata": {
    "id": "dDrgHQU-wC4D",
    "outputId": "8488adf0-4ed2-4227-da0c-206e60710643"
   },
   "outputs": [
    {
     "data": {
      "text/plain": [
       "True"
      ]
     },
     "execution_count": 30,
     "metadata": {},
     "output_type": "execute_result"
    }
   ],
   "source": [
    "5 in [1,2,3,5]"
   ]
  },
  {
   "cell_type": "code",
   "execution_count": 25,
   "metadata": {
    "id": "S53ReVTGwC4D",
    "outputId": "362c605f-5895-4c84-a7d4-a8aa75ae3289"
   },
   "outputs": [
    {
     "data": {
      "text/plain": [
       "True"
      ]
     },
     "execution_count": 25,
     "metadata": {},
     "output_type": "execute_result"
    }
   ],
   "source": [
    "'name' in {'age': 20, 'name': 'eslam'}"
   ]
  },
  {
   "cell_type": "code",
   "execution_count": null,
   "metadata": {
    "id": "xO4AzcmywC4D",
    "outputId": "aadceff0-6642-490e-aa17-17fd0acc8593"
   },
   "outputs": [
    {
     "data": {
      "text/plain": [
       "False"
      ]
     },
     "execution_count": 35,
     "metadata": {},
     "output_type": "execute_result"
    }
   ],
   "source": [
    "'address' in {'age': 20, 'name': 'eslam'}"
   ]
  },
  {
   "cell_type": "code",
   "execution_count": null,
   "metadata": {
    "id": "S9kkmiUIwC4E",
    "outputId": "e9ca93f7-1816-45df-b658-f74ca8a2873e"
   },
   "outputs": [
    {
     "data": {
      "text/plain": [
       "True"
      ]
     },
     "execution_count": 36,
     "metadata": {},
     "output_type": "execute_result"
    }
   ],
   "source": [
    "20 in {'age': 20, 'name': 'eslam'}.values()"
   ]
  },
  {
   "cell_type": "code",
   "execution_count": null,
   "metadata": {
    "id": "eyKNeFKNwC4E",
    "outputId": "64ab6919-d268-410a-bae9-a3f258137e36"
   },
   "outputs": [
    {
     "data": {
      "text/plain": [
       "False"
      ]
     },
     "execution_count": 33,
     "metadata": {},
     "output_type": "execute_result"
    }
   ],
   "source": [
    "5 in (1,2,3)"
   ]
  },
  {
   "cell_type": "code",
   "execution_count": null,
   "metadata": {
    "id": "x75tS-JqwC4E",
    "outputId": "3f9a4303-f836-4778-f12d-c52060730690"
   },
   "outputs": [
    {
     "name": "stdout",
     "output_type": "stream",
     "text": [
      "no\n"
     ]
    }
   ],
   "source": [
    "if 15 in range(10):\n",
    "    print('yes')\n",
    "else:\n",
    "    print('no')"
   ]
  },
  {
   "cell_type": "markdown",
   "metadata": {
    "id": "H8y5s9CWwC4E"
   },
   "source": [
    "# Great Work!"
   ]
  }
 ],
 "metadata": {
  "colab": {
   "provenance": []
  },
  "kernelspec": {
   "display_name": "Python 3 (ipykernel)",
   "language": "python",
   "name": "python3"
  },
  "language_info": {
   "codemirror_mode": {
    "name": "ipython",
    "version": 3
   },
   "file_extension": ".py",
   "mimetype": "text/x-python",
   "name": "python",
   "nbconvert_exporter": "python",
   "pygments_lexer": "ipython3",
   "version": "3.9.13"
  }
 },
 "nbformat": 4,
 "nbformat_minor": 1
}
