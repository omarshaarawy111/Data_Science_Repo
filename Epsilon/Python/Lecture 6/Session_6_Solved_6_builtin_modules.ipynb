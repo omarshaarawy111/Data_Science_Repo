{
 "cells": [
  {
   "cell_type": "code",
   "execution_count": 1,
   "id": "972de708",
   "metadata": {},
   "outputs": [],
   "source": [
    "import random"
   ]
  },
  {
   "cell_type": "code",
   "execution_count": 4,
   "id": "2ed02e1a",
   "metadata": {},
   "outputs": [
    {
     "name": "stdout",
     "output_type": "stream",
     "text": [
      "10\n"
     ]
    }
   ],
   "source": [
    "random_int = random.randint(0,10)\n",
    "print(random_int)"
   ]
  },
  {
   "cell_type": "code",
   "execution_count": 5,
   "id": "fe9fdaa8",
   "metadata": {},
   "outputs": [
    {
     "name": "stdout",
     "output_type": "stream",
     "text": [
      "3\n"
     ]
    }
   ],
   "source": [
    "random_int = random.randrange(10)\n",
    "print(random_int)"
   ]
  },
  {
   "cell_type": "code",
   "execution_count": 7,
   "id": "c0f712dd",
   "metadata": {},
   "outputs": [
    {
     "name": "stdout",
     "output_type": "stream",
     "text": [
      "0.9188407459771502\n"
     ]
    }
   ],
   "source": [
    "random_float = random.random() ## between 0 and 1\n",
    "print(random_float)"
   ]
  },
  {
   "cell_type": "code",
   "execution_count": 16,
   "id": "1182788f",
   "metadata": {},
   "outputs": [],
   "source": [
    "names = ['ah']"
   ]
  },
  {
   "cell_type": "code",
   "execution_count": 13,
   "id": "5d654e5f",
   "metadata": {},
   "outputs": [
    {
     "name": "stdout",
     "output_type": "stream",
     "text": [
      "rock\n"
     ]
    }
   ],
   "source": [
    "choices = ['rock' , 'scissor' , 'paper']\n",
    "computer_choice = random.choice(choices)\n",
    "print(computer_choice)"
   ]
  },
  {
   "cell_type": "code",
   "execution_count": 10,
   "id": "5dc6c60a",
   "metadata": {},
   "outputs": [
    {
     "name": "stdout",
     "output_type": "stream",
     "text": [
      "54\n"
     ]
    }
   ],
   "source": [
    "grades = [61, 52, 15, 30, 51, 95, 27, 54, 88, 71]\n",
    "print(random.choice(grades))"
   ]
  },
  {
   "cell_type": "code",
   "execution_count": 2,
   "id": "eba3d817",
   "metadata": {},
   "outputs": [
    {
     "name": "stdout",
     "output_type": "stream",
     "text": [
      "[61, 52, 15, 30, 51, 95, 27, 54, 88, 71]\n"
     ]
    }
   ],
   "source": [
    "import random\n",
    "grades = random.choices(range(0,100) , k = 10)\n",
    "print(grades)"
   ]
  },
  {
   "cell_type": "code",
   "execution_count": 18,
   "id": "1d32c988",
   "metadata": {},
   "outputs": [
    {
     "name": "stdout",
     "output_type": "stream",
     "text": [
      "88\n"
     ]
    }
   ],
   "source": [
    "random_grade = random.choice(grades)\n",
    "print(random_grade)"
   ]
  },
  {
   "cell_type": "markdown",
   "id": "5ddbc26c",
   "metadata": {},
   "source": []
  }
 ],
 "metadata": {
  "kernelspec": {
   "display_name": "Python 3 (ipykernel)",
   "language": "python",
   "name": "python3"
  },
  "language_info": {
   "codemirror_mode": {
    "name": "ipython",
    "version": 3
   },
   "file_extension": ".py",
   "mimetype": "text/x-python",
   "name": "python",
   "nbconvert_exporter": "python",
   "pygments_lexer": "ipython3",
   "version": "3.9.13"
  }
 },
 "nbformat": 4,
 "nbformat_minor": 5
}
