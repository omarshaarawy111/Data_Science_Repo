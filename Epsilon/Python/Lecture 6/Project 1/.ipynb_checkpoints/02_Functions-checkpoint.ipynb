{
 "cells": [
  {
   "cell_type": "markdown",
   "metadata": {
    "id": "pITUOwbboF3S"
   },
   "source": [
    "# Functions\n",
    "\n",
    "## Introduction to Functions\n",
    "\n",
    "This lecture will consist of explaining what a function is in Python and how to create one. Functions will be one of our main building blocks when we construct larger and larger amounts of code to solve problems.\n",
    "\n",
    "**So what is a function?**\n",
    "\n",
    "Formally, a function is a useful device that groups together a set of statements so they can be run more than once. They can also let us specify parameters that can serve as inputs to the functions.\n",
    "\n",
    "On a more fundamental level, functions allow us to not have to repeatedly write the same code again and again. If you remember back to the lessons on strings and lists, remember that we used a function len() to get the length of a string. Since checking the length of a sequence is a common task you would want to write a function that can do this repeatedly at command.\n",
    "\n",
    "Functions will be one of most basic levels of reusing code in Python, and it will also allow us to start thinking of program design (we will dive much deeper into the ideas of design when we learn about Object Oriented Programming).\n",
    "\n",
    "\n",
    "## Table of Contents\n",
    "1. `def` statment\n",
    "2. Using `return` \n",
    "3. Function parameters\n",
    "4. Unpacking function"
   ]
  },
  {
   "cell_type": "markdown",
   "metadata": {
    "id": "W_p8yAEpoF3c"
   },
   "source": [
    "## 1) `def` statement\n",
    "\n",
    "Let's see how to build out a function's syntax in Python. It has the following form:"
   ]
  },
  {
   "cell_type": "code",
   "execution_count": 1,
   "metadata": {
    "id": "rCEKfm3PoF3e"
   },
   "outputs": [],
   "source": [
    "def name_of_function(arg1, arg2):\n",
    "    \"\"\"\n",
    "    This is where the function's Document String (docstring) goes\n",
    "    here, so you can make any describtion about your fucntion\n",
    "    \"\"\"\n",
    "    print(arg1 * arg2)"
   ]
  },
  {
   "cell_type": "code",
   "execution_count": 3,
   "metadata": {
    "id": "WTZt7hM3oF3i",
    "outputId": "a62045b2-4c5b-4e1b-fa92-31ffc3359078"
   },
   "outputs": [
    {
     "name": "stdout",
     "output_type": "stream",
     "text": [
      "200\n"
     ]
    }
   ],
   "source": [
    "name_of_function(10, 20)"
   ]
  },
  {
   "cell_type": "code",
   "execution_count": 4,
   "metadata": {
    "id": "Sh9t8KuuoF3k",
    "outputId": "e906bf10-1970-47aa-ad2f-ce6e0385669d"
   },
   "outputs": [
    {
     "name": "stdout",
     "output_type": "stream",
     "text": [
      "20000\n"
     ]
    }
   ],
   "source": [
    "name_of_function(100, 200)"
   ]
  },
  {
   "cell_type": "markdown",
   "metadata": {
    "id": "UmXK_-52oF3l"
   },
   "source": [
    "We begin with <code>def</code> then a space followed by the name of the function. Try to keep names relevant, for example len() is a good name for a length() function. Also be careful with names, you wouldn't want to call a function the same name as a [built-in function in Python](https://docs.python.org/2/library/functions.html) (such as len).\n",
    "\n",
    "Next come a pair of parentheses with a number of arguments separated by a comma. These arguments are the inputs for your function. You'll be able to use these inputs in your function and reference them. After this you put a colon.\n",
    "\n",
    "Now here is the important step, you must indent to begin the code inside your function correctly. Python makes use of *whitespace* to organize code. Lots of other programing languages do not do this, so keep that in mind.\n",
    "\n",
    "Next you'll see the docstring, this is where you write a basic description of the function. Using iPython and iPython Notebooks, you'll be able to read these docstrings by pressing Shift+Tab after a function name. Docstrings are not necessary for simple functions, but it's good practice to put them in so you or other people can easily understand the code you write.\n",
    "\n",
    "After all this you begin writing the code you wish to execute.\n",
    "\n",
    "The best way to learn functions is by going through examples. So let's try to go through examples that relate back to the various objects and data structures we learned about before."
   ]
  },
  {
   "cell_type": "markdown",
   "metadata": {
    "id": "T5gGd0WRoF3l"
   },
   "source": [
    "### Example 1: A simple print 'hello' function"
   ]
  },
  {
   "cell_type": "code",
   "execution_count": 1,
   "metadata": {
    "id": "vQIPXh6VoF3m"
   },
   "outputs": [],
   "source": [
    "def say_hello():\n",
    "    print('hello')"
   ]
  },
  {
   "cell_type": "markdown",
   "metadata": {
    "id": "HEEcvL-yoF3o"
   },
   "source": [
    "Call the function:"
   ]
  },
  {
   "cell_type": "code",
   "execution_count": 4,
   "metadata": {
    "id": "RqutduuqoF3p",
    "outputId": "9e30a70b-07c2-4aa5-aa6e-47f84b23b7b1"
   },
   "outputs": [
    {
     "name": "stdout",
     "output_type": "stream",
     "text": [
      "hello\n",
      "hello\n"
     ]
    }
   ],
   "source": [
    "say_hello()\n",
    "say_hello()"
   ]
  },
  {
   "cell_type": "code",
   "execution_count": 5,
   "metadata": {},
   "outputs": [
    {
     "name": "stdout",
     "output_type": "stream",
     "text": [
      "hello ahmed\n"
     ]
    }
   ],
   "source": [
    "name = \"ahmed\"\n",
    "print(f\"hello {name}\")"
   ]
  },
  {
   "cell_type": "code",
   "execution_count": null,
   "metadata": {},
   "outputs": [],
   "source": []
  },
  {
   "cell_type": "markdown",
   "metadata": {
    "id": "cl15vYkroF3q"
   },
   "source": [
    "### Example 2: A simple greeting function\n",
    "Let's write a function that greets people with their name."
   ]
  },
  {
   "cell_type": "code",
   "execution_count": 6,
   "metadata": {
    "id": "5B796ufvoF3q"
   },
   "outputs": [],
   "source": [
    "def greeting(name):\n",
    "    print(f'Hi {name}')"
   ]
  },
  {
   "cell_type": "code",
   "execution_count": 11,
   "metadata": {
    "id": "QJh19AWzoF3r",
    "outputId": "202587b8-2bc4-4257-ebab-9ef0e77f95a8"
   },
   "outputs": [
    {
     "name": "stdout",
     "output_type": "stream",
     "text": [
      "Hi ahmed\n"
     ]
    }
   ],
   "source": [
    "greeting('ahmed')"
   ]
  },
  {
   "cell_type": "code",
   "execution_count": 9,
   "metadata": {},
   "outputs": [
    {
     "name": "stdout",
     "output_type": "stream",
     "text": [
      "Hi 10\n"
     ]
    }
   ],
   "source": [
    "greeting(10)"
   ]
  },
  {
   "cell_type": "markdown",
   "metadata": {
    "id": "3eDYF6WQoF3r"
   },
   "source": [
    "## 2) Using `return`\n",
    "Let's see some example that use a <code>return</code> statement. <code>return</code> allows a function to *return* a result that can then be stored as a variable, or used in whatever manner a user wants."
   ]
  },
  {
   "cell_type": "code",
   "execution_count": null,
   "metadata": {},
   "outputs": [],
   "source": []
  },
  {
   "cell_type": "code",
   "execution_count": null,
   "metadata": {
    "id": "0vLf5wDroF3s",
    "outputId": "38cbec33-7b36-4c84-ad89-791af9f4c745"
   },
   "outputs": [
    {
     "name": "stdout",
     "output_type": "stream",
     "text": [
      "Please enter your number: Eslam\n"
     ]
    },
    {
     "data": {
      "text/plain": [
       "'Eslam'"
      ]
     },
     "execution_count": 11,
     "metadata": {},
     "output_type": "execute_result"
    }
   ],
   "source": [
    "my_num = input('Please enter your number: ')\n",
    "my_num"
   ]
  },
  {
   "cell_type": "markdown",
   "metadata": {
    "id": "g0LbVMgUoF3s"
   },
   "source": [
    "### Example 3: Addition function"
   ]
  },
  {
   "cell_type": "code",
   "execution_count": 13,
   "metadata": {
    "id": "NfpmDZ_8oF3t"
   },
   "outputs": [
    {
     "name": "stdout",
     "output_type": "stream",
     "text": [
      "15\n"
     ]
    }
   ],
   "source": [
    "def process_num(num1, num2):\n",
    "    return num1 + num2 \n",
    "\n",
    "res = process_num(10 , 5)\n",
    "print(res)"
   ]
  },
  {
   "cell_type": "code",
   "execution_count": 17,
   "metadata": {},
   "outputs": [
    {
     "name": "stdout",
     "output_type": "stream",
     "text": [
      "onetwo\n"
     ]
    }
   ],
   "source": [
    "result = process_num('one','two')\n",
    "print(result)"
   ]
  },
  {
   "cell_type": "code",
   "execution_count": 14,
   "metadata": {
    "id": "Ot5lg4tUoF3t"
   },
   "outputs": [],
   "source": [
    "# Can also save as variable due to return\n",
    "result = process_num(4, 5)"
   ]
  },
  {
   "cell_type": "code",
   "execution_count": 15,
   "metadata": {
    "id": "PFk9yRQ3oF3u",
    "outputId": "def55df0-513a-47bb-ee36-ace564cd86b0"
   },
   "outputs": [
    {
     "data": {
      "text/plain": [
       "int"
      ]
     },
     "execution_count": 15,
     "metadata": {},
     "output_type": "execute_result"
    }
   ],
   "source": [
    "type(result)"
   ]
  },
  {
   "cell_type": "code",
   "execution_count": 16,
   "metadata": {
    "id": "MJzmfB-uoF3u",
    "outputId": "e1403fb7-47e9-42a2-e154-3971d8c49ea5"
   },
   "outputs": [
    {
     "name": "stdout",
     "output_type": "stream",
     "text": [
      "9\n"
     ]
    }
   ],
   "source": [
    "print(result)"
   ]
  },
  {
   "cell_type": "code",
   "execution_count": null,
   "metadata": {
    "id": "14RVhfVBoF3v",
    "outputId": "2c15400f-c266-40b9-cfc6-dd719f6177b9"
   },
   "outputs": [
    {
     "data": {
      "text/plain": [
       "54"
      ]
     },
     "execution_count": 16,
     "metadata": {},
     "output_type": "execute_result"
    }
   ],
   "source": [
    "process_num(4, 50)"
   ]
  },
  {
   "cell_type": "code",
   "execution_count": null,
   "metadata": {
    "id": "ymdjZQqHoF3v",
    "outputId": "f254c08c-9201-484c-b743-4cc960101f42"
   },
   "outputs": [
    {
     "data": {
      "text/plain": [
       "90"
      ]
     },
     "execution_count": 17,
     "metadata": {},
     "output_type": "execute_result"
    }
   ],
   "source": [
    "process_num(40,50)"
   ]
  },
  {
   "cell_type": "code",
   "execution_count": null,
   "metadata": {
    "id": "YwHU-O0NoF3v",
    "outputId": "ecc6d250-eccf-4971-fa4e-931b5e3e3019"
   },
   "outputs": [
    {
     "data": {
      "text/plain": [
       "900"
      ]
     },
     "execution_count": 18,
     "metadata": {},
     "output_type": "execute_result"
    }
   ],
   "source": [
    "process_num(400,500)"
   ]
  },
  {
   "cell_type": "markdown",
   "metadata": {
    "id": "_IDRMmbFoF3w"
   },
   "source": [
    "What happens if we input two strings?"
   ]
  },
  {
   "cell_type": "code",
   "execution_count": null,
   "metadata": {
    "id": "QrbZppIZoF3w",
    "outputId": "3dc537ac-8b8c-45ab-95df-94cba1a8974c"
   },
   "outputs": [
    {
     "data": {
      "text/plain": [
       "'onetwo'"
      ]
     },
     "execution_count": 19,
     "metadata": {},
     "output_type": "execute_result"
    }
   ],
   "source": []
  },
  {
   "cell_type": "markdown",
   "metadata": {
    "id": "N3R_BlJAoF3w"
   },
   "source": [
    "Note that because we don't declare variable types in Python, this function could be used to add numbers or sequences together! We'll later learn about adding in checks to make sure a user puts in the correct arguments into a function."
   ]
  },
  {
   "cell_type": "markdown",
   "metadata": {
    "id": "IleYqaZLoF3w"
   },
   "source": [
    "## 3) Function Parameters default values"
   ]
  },
  {
   "cell_type": "markdown",
   "metadata": {
    "id": "UXnUQ-gMoF3w"
   },
   "source": [
    "you can assign a default values for your paramerters, for example I used a dummy values for calculator function"
   ]
  },
  {
   "cell_type": "code",
   "execution_count": 24,
   "metadata": {
    "id": "fxqSCxMdoF3x"
   },
   "outputs": [],
   "source": [
    "def calculator(x=0, y=1, op='+'):\n",
    "    '''\n",
    "    Simple Calculator.\n",
    "    x : first number\n",
    "    y: seconds number\n",
    "    op: operator maybe +,-,*,/\n",
    "    example: calculator(5, 10, '*') ----> 50\n",
    "    '''\n",
    "    if op == '+':\n",
    "        print(f\"the sum for {x} + {y} = {x + y}\")\n",
    "    elif op == '-':\n",
    "        print(f\"the subtraction for {x} - {y} = {x - y}\")\n",
    "    elif op == '*':\n",
    "        print(f\"the multpling for {x} * {y} = {x * y}\")\n",
    "    elif op == '/':\n",
    "        if y == 0:\n",
    "            print('cant divide on zero')\n",
    "        else:\n",
    "            print(f\"the division for {x} / {y} = {x / y}\")\n",
    "    else:\n",
    "        print('wrong operation')\n",
    "    "
   ]
  },
  {
   "cell_type": "code",
   "execution_count": 14,
   "metadata": {
    "id": "1bc5jn5uoF3y",
    "outputId": "d0bfb07b-2de5-44cc-b4f3-cf0a4f7a10e3"
   },
   "outputs": [
    {
     "name": "stdout",
     "output_type": "stream",
     "text": [
      "the sum for 0 + 1 = 1\n"
     ]
    }
   ],
   "source": [
    "calculator()"
   ]
  },
  {
   "cell_type": "code",
   "execution_count": 15,
   "metadata": {
    "id": "LeV9Lcl9oF3z",
    "outputId": "a1ccd334-8695-4e0a-ef7b-2aa1ceb827e8"
   },
   "outputs": [
    {
     "name": "stdout",
     "output_type": "stream",
     "text": [
      "the subtraction for 10 - 11 = -1\n"
     ]
    }
   ],
   "source": [
    "calculator(10, 11, '-')"
   ]
  },
  {
   "cell_type": "code",
   "execution_count": 16,
   "metadata": {
    "id": "MfA16yFdoF30",
    "outputId": "979b1eec-76a9-4809-ccfb-defdbfb5b4e5"
   },
   "outputs": [
    {
     "name": "stdout",
     "output_type": "stream",
     "text": [
      "the sum for 10 + 1 = 11\n"
     ]
    }
   ],
   "source": [
    "calculator(10)"
   ]
  },
  {
   "cell_type": "code",
   "execution_count": 17,
   "metadata": {
    "id": "ZjoGQc4MoF30",
    "outputId": "ef8db9db-cd5f-46c5-a755-9e9cdfa64872"
   },
   "outputs": [
    {
     "name": "stdout",
     "output_type": "stream",
     "text": [
      "the sum for 12 + 13 = 25\n"
     ]
    }
   ],
   "source": [
    "calculator(12, 13)"
   ]
  },
  {
   "cell_type": "code",
   "execution_count": 18,
   "metadata": {
    "id": "gaj1Mo40oF30",
    "outputId": "c55841a3-8a1d-4aa3-ecd0-6379deeb8fb7"
   },
   "outputs": [
    {
     "name": "stdout",
     "output_type": "stream",
     "text": [
      "the multpling for 12 * 2 = 24\n"
     ]
    }
   ],
   "source": [
    "calculator(12, 2, '*')"
   ]
  },
  {
   "cell_type": "code",
   "execution_count": 19,
   "metadata": {
    "id": "_XmXnAzHoF31",
    "outputId": "464aa6d4-f288-4d33-b6b7-f27b0438ff4a"
   },
   "outputs": [
    {
     "name": "stdout",
     "output_type": "stream",
     "text": [
      "the division for 12 / 2 = 6.0\n"
     ]
    }
   ],
   "source": [
    "calculator(12, 2, '/')"
   ]
  },
  {
   "cell_type": "code",
   "execution_count": 20,
   "metadata": {
    "id": "8NMQE6HcoF31",
    "outputId": "e0d180ba-181f-4815-f048-3144632e5a65"
   },
   "outputs": [
    {
     "name": "stdout",
     "output_type": "stream",
     "text": [
      "cant divide on zero\n"
     ]
    }
   ],
   "source": [
    "calculator(12, 0, '/')"
   ]
  },
  {
   "cell_type": "code",
   "execution_count": 21,
   "metadata": {
    "id": "6hgQs-nVoF31",
    "outputId": "220f9154-e690-4516-e425-c507b0a09837",
    "scrolled": true
   },
   "outputs": [
    {
     "name": "stdout",
     "output_type": "stream",
     "text": [
      "the multpling for 12.5 * 2.5 = 31.25\n"
     ]
    }
   ],
   "source": [
    "calculator(12.5, 2.5, '*')"
   ]
  },
  {
   "cell_type": "markdown",
   "metadata": {
    "id": "fmHmjVdfoF31"
   },
   "source": [
    "define parameters by name not order"
   ]
  },
  {
   "cell_type": "code",
   "execution_count": 22,
   "metadata": {
    "id": "09UKq8enoF31",
    "outputId": "987ea6d2-1fb4-49a6-c9e1-d043f024d00b"
   },
   "outputs": [
    {
     "name": "stdout",
     "output_type": "stream",
     "text": [
      "the sum for 0 + 30 = 30\n"
     ]
    }
   ],
   "source": [
    "calculator(y=30)"
   ]
  },
  {
   "cell_type": "code",
   "execution_count": 23,
   "metadata": {
    "id": "_E8DcpACoF32",
    "outputId": "589571d8-a819-4670-bc40-fca11dadef74"
   },
   "outputs": [
    {
     "name": "stdout",
     "output_type": "stream",
     "text": [
      "the sum for 50 + 30 = 80\n"
     ]
    }
   ],
   "source": [
    "calculator(y=30, x=50)"
   ]
  },
  {
   "cell_type": "code",
   "execution_count": 24,
   "metadata": {
    "id": "d8W7iGMToF32",
    "outputId": "6bed792d-33c6-4284-f39d-0414c7700030"
   },
   "outputs": [
    {
     "name": "stdout",
     "output_type": "stream",
     "text": [
      "the subtraction for 40 - 30 = 10\n"
     ]
    }
   ],
   "source": [
    "calculator(op='-', y=30, x=40)"
   ]
  },
  {
   "cell_type": "code",
   "execution_count": 25,
   "metadata": {
    "id": "xDFcmuXZoF32",
    "outputId": "a406287c-777a-48d2-e751-acb5338ec51e"
   },
   "outputs": [
    {
     "name": "stdout",
     "output_type": "stream",
     "text": [
      "the division for 30 / 6 = 5.0\n"
     ]
    }
   ],
   "source": [
    "calculator(op='/', y=6, x=30)"
   ]
  },
  {
   "cell_type": "code",
   "execution_count": 26,
   "metadata": {
    "id": "Wfd4sPU2oF32",
    "outputId": "c9562ffc-ee63-4a59-b2db-83bcd83de282"
   },
   "outputs": [
    {
     "name": "stdout",
     "output_type": "stream",
     "text": [
      "cant divide on zero\n"
     ]
    }
   ],
   "source": [
    "calculator(op='/', y=0, x=30)"
   ]
  },
  {
   "cell_type": "code",
   "execution_count": 27,
   "metadata": {
    "id": "rjef9fu2oF33",
    "outputId": "14c6f113-0cc9-4b30-8291-6dfb5f6b3c26"
   },
   "outputs": [
    {
     "name": "stdout",
     "output_type": "stream",
     "text": [
      "wrong operation\n"
     ]
    }
   ],
   "source": [
    "calculator(op='**', y=2, x=30)"
   ]
  },
  {
   "cell_type": "code",
   "execution_count": 25,
   "metadata": {},
   "outputs": [
    {
     "name": "stdout",
     "output_type": "stream",
     "text": [
      "the sum for 20 + 4 = 24\n"
     ]
    }
   ],
   "source": [
    "calculator(20 , 4 , op = '+' )"
   ]
  },
  {
   "cell_type": "code",
   "execution_count": 26,
   "metadata": {},
   "outputs": [
    {
     "ename": "SyntaxError",
     "evalue": "positional argument follows keyword argument (1938612663.py, line 1)",
     "output_type": "error",
     "traceback": [
      "\u001b[1;36m  File \u001b[1;32m\"C:\\Users\\Mohamed\\AppData\\Local\\Temp\\ipykernel_1968\\1938612663.py\"\u001b[1;36m, line \u001b[1;32m1\u001b[0m\n\u001b[1;33m    calculator(op='**', 2, 30)\u001b[0m\n\u001b[1;37m                             ^\u001b[0m\n\u001b[1;31mSyntaxError\u001b[0m\u001b[1;31m:\u001b[0m positional argument follows keyword argument\n"
     ]
    }
   ],
   "source": [
    "calculator(op='**', 2, 30)"
   ]
  },
  {
   "cell_type": "code",
   "execution_count": 29,
   "metadata": {},
   "outputs": [
    {
     "ename": "TypeError",
     "evalue": "calculator() got an unexpected keyword argument 'operation'",
     "output_type": "error",
     "traceback": [
      "\u001b[1;31m---------------------------------------------------------------------------\u001b[0m",
      "\u001b[1;31mTypeError\u001b[0m                                 Traceback (most recent call last)",
      "\u001b[1;32m~\\AppData\\Local\\Temp\\ipykernel_5744\\2610626633.py\u001b[0m in \u001b[0;36m<module>\u001b[1;34m\u001b[0m\n\u001b[1;32m----> 1\u001b[1;33m \u001b[0mcalculator\u001b[0m\u001b[1;33m(\u001b[0m\u001b[0moperation\u001b[0m \u001b[1;33m=\u001b[0m \u001b[1;34m'+'\u001b[0m \u001b[1;33m,\u001b[0m \u001b[0mx\u001b[0m\u001b[1;33m=\u001b[0m\u001b[1;36m2\u001b[0m \u001b[1;33m,\u001b[0m \u001b[0my\u001b[0m \u001b[1;33m=\u001b[0m\u001b[1;36m5\u001b[0m \u001b[1;33m)\u001b[0m\u001b[1;33m\u001b[0m\u001b[1;33m\u001b[0m\u001b[0m\n\u001b[0m",
      "\u001b[1;31mTypeError\u001b[0m: calculator() got an unexpected keyword argument 'operation'"
     ]
    }
   ],
   "source": [
    "calculator(operation = '+' , x=2 , y =5 )"
   ]
  },
  {
   "cell_type": "markdown",
   "metadata": {
    "id": "xL1i8eejoF33"
   },
   "source": [
    "### Example 1"
   ]
  },
  {
   "cell_type": "code",
   "execution_count": 28,
   "metadata": {
    "id": "vtiItQROoF33"
   },
   "outputs": [],
   "source": [
    "def circle(radius=1, op='circum'):\n",
    "    \"\"\"\n",
    "    Function to calculate radius & circum and volume of a circle.\n",
    "    radius: enter your radius, if not found found value will be 1\n",
    "    op: operation you want to calculate allowed operations ['circum', 'area', volume]\n",
    "    \"\"\"\n",
    "    if op == 'circum':\n",
    "        return 2 * 3.14 * radius\n",
    "    elif op == 'area':\n",
    "        return 3.14 * (radius ** 2) \n",
    "    elif op == 'volume':\n",
    "        return (4/3) * 3.14 * (radius ** 3)\n",
    "    else:\n",
    "        return 'wrong operation'"
   ]
  },
  {
   "cell_type": "code",
   "execution_count": 30,
   "metadata": {
    "id": "y3RBXtiooF34",
    "outputId": "e8e9914f-51ae-433c-b153-23274869b107"
   },
   "outputs": [
    {
     "name": "stdout",
     "output_type": "stream",
     "text": [
      "6.28\n"
     ]
    }
   ],
   "source": [
    "result = circle()\n",
    "print(result)"
   ]
  },
  {
   "cell_type": "code",
   "execution_count": 31,
   "metadata": {
    "id": "LPMBpDvtoF34",
    "outputId": "1cd466e3-57b8-448f-b8b3-34a5eb009342"
   },
   "outputs": [
    {
     "name": "stdout",
     "output_type": "stream",
     "text": [
      "125.60000000000001\n"
     ]
    }
   ],
   "source": [
    "result =  circle(20)\n",
    "print(result)"
   ]
  },
  {
   "cell_type": "code",
   "execution_count": null,
   "metadata": {
    "id": "z44IE0vFoF34",
    "outputId": "91f4d552-f133-4b58-a7d2-309682e853af"
   },
   "outputs": [
    {
     "data": {
      "text/plain": [
       "33.49333333333333"
      ]
     },
     "execution_count": 38,
     "metadata": {},
     "output_type": "execute_result"
    }
   ],
   "source": [
    "circle(2, 'volume')"
   ]
  },
  {
   "cell_type": "code",
   "execution_count": null,
   "metadata": {
    "id": "8X0kE_bYoF35",
    "outputId": "479a556c-a06c-4a95-e825-b64eba2d94fd"
   },
   "outputs": [
    {
     "data": {
      "text/plain": [
       "'wrong operation'"
      ]
     },
     "execution_count": 39,
     "metadata": {},
     "output_type": "execute_result"
    }
   ],
   "source": [
    "circle('volume', 2)"
   ]
  },
  {
   "cell_type": "code",
   "execution_count": null,
   "metadata": {
    "id": "MGrxoqd-oF35",
    "outputId": "d48d8ac6-69d4-47ed-82ad-b6e18be30cc4"
   },
   "outputs": [
    {
     "ename": "TypeError",
     "evalue": "can't multiply sequence by non-int of type 'float'",
     "output_type": "error",
     "traceback": [
      "\u001b[1;31m---------------------------------------------------------------------------\u001b[0m",
      "\u001b[1;31mTypeError\u001b[0m                                 Traceback (most recent call last)",
      "\u001b[1;32m<ipython-input-40-255c041112fc>\u001b[0m in \u001b[0;36m<module>\u001b[1;34m\u001b[0m\n\u001b[1;32m----> 1\u001b[1;33m \u001b[0mcircle\u001b[0m\u001b[1;33m(\u001b[0m\u001b[1;34m'volume'\u001b[0m\u001b[1;33m)\u001b[0m\u001b[1;33m\u001b[0m\u001b[1;33m\u001b[0m\u001b[0m\n\u001b[0m",
      "\u001b[1;32m<ipython-input-35-c42398adce54>\u001b[0m in \u001b[0;36mcircle\u001b[1;34m(radius, op)\u001b[0m\n\u001b[0;32m      6\u001b[0m     \"\"\"\n\u001b[0;32m      7\u001b[0m     \u001b[1;32mif\u001b[0m \u001b[0mop\u001b[0m \u001b[1;33m==\u001b[0m \u001b[1;34m'circum'\u001b[0m\u001b[1;33m:\u001b[0m\u001b[1;33m\u001b[0m\u001b[1;33m\u001b[0m\u001b[0m\n\u001b[1;32m----> 8\u001b[1;33m         \u001b[1;32mreturn\u001b[0m \u001b[1;36m2\u001b[0m \u001b[1;33m*\u001b[0m \u001b[1;36m3.14\u001b[0m \u001b[1;33m*\u001b[0m \u001b[0mradius\u001b[0m\u001b[1;33m\u001b[0m\u001b[1;33m\u001b[0m\u001b[0m\n\u001b[0m\u001b[0;32m      9\u001b[0m     \u001b[1;32melif\u001b[0m \u001b[0mop\u001b[0m \u001b[1;33m==\u001b[0m \u001b[1;34m'area'\u001b[0m\u001b[1;33m:\u001b[0m\u001b[1;33m\u001b[0m\u001b[1;33m\u001b[0m\u001b[0m\n\u001b[0;32m     10\u001b[0m         \u001b[1;32mreturn\u001b[0m \u001b[1;36m3.14\u001b[0m \u001b[1;33m*\u001b[0m \u001b[1;33m(\u001b[0m\u001b[0mradius\u001b[0m \u001b[1;33m**\u001b[0m \u001b[1;36m2\u001b[0m\u001b[1;33m)\u001b[0m\u001b[1;33m\u001b[0m\u001b[1;33m\u001b[0m\u001b[0m\n",
      "\u001b[1;31mTypeError\u001b[0m: can't multiply sequence by non-int of type 'float'"
     ]
    }
   ],
   "source": [
    "circle('volume')"
   ]
  },
  {
   "cell_type": "code",
   "execution_count": null,
   "metadata": {
    "id": "9prwpG2QoF35",
    "outputId": "6fcf0d22-e50e-4d17-8244-e651df9b40b8"
   },
   "outputs": [
    {
     "data": {
      "text/plain": [
       "314.0"
      ]
     },
     "execution_count": 41,
     "metadata": {},
     "output_type": "execute_result"
    }
   ],
   "source": [
    "circle(op='area', radius=10)"
   ]
  },
  {
   "cell_type": "markdown",
   "metadata": {
    "id": "BFVCIGzLoF35"
   },
   "source": [
    "### Example 2"
   ]
  },
  {
   "cell_type": "markdown",
   "metadata": {},
   "source": [
    "5 --> \n",
    "5 % 2 == 0 prime\n",
    "5 % 3 == 0: prime\n",
    "5 % 4 == 0: prime"
   ]
  },
  {
   "cell_type": "code",
   "execution_count": 36,
   "metadata": {},
   "outputs": [
    {
     "name": "stdout",
     "output_type": "stream",
     "text": [
      "not prime\n"
     ]
    }
   ],
   "source": [
    "num = 4\n",
    "for i in range(2,num):\n",
    "    if num % i == 0:\n",
    "        flag = 'not prime'\n",
    "        break \n",
    "    else:\n",
    "        flag = 'prime'\n",
    "        \n",
    "print(flag)\n"
   ]
  },
  {
   "cell_type": "code",
   "execution_count": 62,
   "metadata": {},
   "outputs": [
    {
     "name": "stdout",
     "output_type": "stream",
     "text": [
      "not prime\n"
     ]
    }
   ],
   "source": [
    "def is_prime(num):\n",
    "    for i in range(2,num):\n",
    "        if num % i == 0:\n",
    "            flag = 'not prime'\n",
    "            break \n",
    "        else:\n",
    "            flag = 'prime'\n",
    "        \n",
    "    return flag\n",
    "\n",
    "result = is_prime(10)\n",
    "print(result)\n",
    "    "
   ]
  },
  {
   "cell_type": "code",
   "execution_count": 64,
   "metadata": {},
   "outputs": [
    {
     "name": "stdout",
     "output_type": "stream",
     "text": [
      "not prime\n"
     ]
    }
   ],
   "source": [
    "def is_prime(num):\n",
    "    for i in range(2,num):\n",
    "        if num % i == 0:\n",
    "            return \"not prime\" \n",
    "        else:\n",
    "            flag = 'prime'\n",
    "        \n",
    "    return flag\n",
    "\n",
    "result = is_prime(70)\n",
    "print(result)\n",
    "    "
   ]
  },
  {
   "cell_type": "code",
   "execution_count": 1,
   "metadata": {},
   "outputs": [
    {
     "name": "stdout",
     "output_type": "stream",
     "text": [
      "False\n"
     ]
    }
   ],
   "source": [
    "def is_even(num):\n",
    "    if num % 2 == 0:\n",
    "        return True\n",
    "    else:\n",
    "        return False\n",
    "result = is_even(21)\n",
    "print(result)"
   ]
  },
  {
   "cell_type": "code",
   "execution_count": null,
   "metadata": {
    "id": "q1jUSvqjoF35",
    "outputId": "1dcabbd3-3564-43ca-ac4a-e9ec5551da19"
   },
   "outputs": [
    {
     "data": {
      "text/plain": [
       "[2, 3, 4, 5, 6]"
      ]
     },
     "execution_count": 42,
     "metadata": {},
     "output_type": "execute_result"
    }
   ],
   "source": [
    "x = 7\n",
    "list(range(2, 7))"
   ]
  },
  {
   "cell_type": "code",
   "execution_count": null,
   "metadata": {
    "id": "95qt-fdkoF36",
    "outputId": "257e0f03-2450-4f9a-e1b5-c9836f3b24d4"
   },
   "outputs": [
    {
     "data": {
      "text/plain": [
       "[]"
      ]
     },
     "execution_count": 43,
     "metadata": {},
     "output_type": "execute_result"
    }
   ],
   "source": [
    "list(range(2, 2))"
   ]
  },
  {
   "cell_type": "code",
   "execution_count": 37,
   "metadata": {
    "id": "8QS1PpFqoF36"
   },
   "outputs": [],
   "source": [
    "def is_prime(num):\n",
    "    '''\n",
    "    Naive method of checking for primes. \n",
    "    '''\n",
    "    if num < 2:\n",
    "        return False\n",
    "    \n",
    "    for n in range(2, num):\n",
    "        if num % n == 0:\n",
    "            return False\n",
    "    return True"
   ]
  },
  {
   "cell_type": "code",
   "execution_count": null,
   "metadata": {
    "id": "nY0l3T-VoF36",
    "outputId": "3ddc18e6-4908-4915-951c-cc7e509465bf"
   },
   "outputs": [
    {
     "data": {
      "text/plain": [
       "False"
      ]
     },
     "execution_count": 45,
     "metadata": {},
     "output_type": "execute_result"
    }
   ],
   "source": [
    "is_prime(16)"
   ]
  },
  {
   "cell_type": "code",
   "execution_count": null,
   "metadata": {
    "id": "35Pp3cmaoF36",
    "outputId": "18852b57-b8ca-47b6-eeed-1f7d14dc3bf1"
   },
   "outputs": [
    {
     "data": {
      "text/plain": [
       "False"
      ]
     },
     "execution_count": 46,
     "metadata": {},
     "output_type": "execute_result"
    }
   ],
   "source": [
    "is_prime(-16)"
   ]
  },
  {
   "cell_type": "code",
   "execution_count": null,
   "metadata": {
    "id": "0n2jhHNioF37",
    "outputId": "0cf6943c-b82a-44ef-8fac-c5bd535d090e"
   },
   "outputs": [
    {
     "data": {
      "text/plain": [
       "True"
      ]
     },
     "execution_count": 47,
     "metadata": {},
     "output_type": "execute_result"
    }
   ],
   "source": [
    "is_prime(17)"
   ]
  },
  {
   "cell_type": "code",
   "execution_count": null,
   "metadata": {
    "id": "ouLie7KvoF37",
    "outputId": "9bf47fbc-19e3-47d4-b7ed-dd9ef934d967"
   },
   "outputs": [
    {
     "data": {
      "text/plain": [
       "True"
      ]
     },
     "execution_count": 48,
     "metadata": {},
     "output_type": "execute_result"
    }
   ],
   "source": [
    "is_prime(3)"
   ]
  },
  {
   "cell_type": "code",
   "execution_count": null,
   "metadata": {
    "id": "mSeAXpnqoF37",
    "outputId": "9d4a208c-838c-412f-ab0d-b8cd17bb727c"
   },
   "outputs": [
    {
     "data": {
      "text/plain": [
       "True"
      ]
     },
     "execution_count": 49,
     "metadata": {},
     "output_type": "execute_result"
    }
   ],
   "source": [
    "is_prime(2)"
   ]
  },
  {
   "cell_type": "code",
   "execution_count": null,
   "metadata": {
    "id": "oVIcSUpCoF38",
    "outputId": "063711d4-ab45-4508-c09b-74f48da8e20a"
   },
   "outputs": [
    {
     "data": {
      "text/plain": [
       "False"
      ]
     },
     "execution_count": 50,
     "metadata": {},
     "output_type": "execute_result"
    }
   ],
   "source": [
    "is_prime(1)"
   ]
  },
  {
   "cell_type": "markdown",
   "metadata": {
    "id": "qfhUJscaoF38"
   },
   "source": [
    "another example: get all prime numbers from 1 to 100"
   ]
  },
  {
   "cell_type": "code",
   "execution_count": null,
   "metadata": {
    "id": "7xv8Ci9AoF38",
    "outputId": "452c4a9d-ec6b-444a-d42a-76990c203922",
    "scrolled": true
   },
   "outputs": [
    {
     "name": "stdout",
     "output_type": "stream",
     "text": [
      "2\n",
      "3\n",
      "5\n",
      "7\n",
      "11\n",
      "13\n",
      "17\n",
      "19\n",
      "23\n",
      "29\n",
      "31\n",
      "37\n",
      "41\n",
      "43\n",
      "47\n",
      "53\n",
      "59\n",
      "61\n",
      "67\n",
      "71\n",
      "73\n",
      "79\n",
      "83\n",
      "89\n",
      "97\n"
     ]
    }
   ],
   "source": [
    "for i in range(1, 101):\n",
    "    if is_prime(i):\n",
    "        print(i)"
   ]
  },
  {
   "cell_type": "code",
   "execution_count": 75,
   "metadata": {},
   "outputs": [
    {
     "name": "stdout",
     "output_type": "stream",
     "text": [
      "1\n",
      "2\n",
      "3\n",
      "45\n"
     ]
    }
   ],
   "source": [
    "def summ(*args):\n",
    "    for i in args:\n",
    "        print(i)\n",
    "    \n",
    "summ(1 ,2,3,45)"
   ]
  },
  {
   "cell_type": "code",
   "execution_count": 77,
   "metadata": {},
   "outputs": [
    {
     "name": "stdout",
     "output_type": "stream",
     "text": [
      "a 12\n",
      "b 15\n"
     ]
    }
   ],
   "source": [
    "def summ( **kwargs):\n",
    "    for key,value in kwargs.items():\n",
    "        print(key , value)\n",
    "          \n",
    "summ(a= 12, b= 15)"
   ]
  },
  {
   "cell_type": "code",
   "execution_count": null,
   "metadata": {},
   "outputs": [],
   "source": []
  },
  {
   "cell_type": "code",
   "execution_count": null,
   "metadata": {},
   "outputs": [],
   "source": []
  },
  {
   "cell_type": "markdown",
   "metadata": {
    "id": "EcKWA7zhoF3-"
   },
   "source": [
    "# Great Work!"
   ]
  }
 ],
 "metadata": {
  "colab": {
   "provenance": []
  },
  "kernelspec": {
   "display_name": "Python 3",
   "language": "python",
   "name": "python3"
  },
  "language_info": {
   "codemirror_mode": {
    "name": "ipython",
    "version": 3
   },
   "file_extension": ".py",
   "mimetype": "text/x-python",
   "name": "python",
   "nbconvert_exporter": "python",
   "pygments_lexer": "ipython3",
   "version": "3.7.6"
  }
 },
 "nbformat": 4,
 "nbformat_minor": 1
}
