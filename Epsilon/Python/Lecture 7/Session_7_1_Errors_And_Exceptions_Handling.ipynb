{
 "cells": [
  {
   "cell_type": "markdown",
   "metadata": {
    "id": "sYHVfP0uaB0r"
   },
   "source": [
    "# Errors and Exception Handling\n",
    "\n",
    "In this lecture we will learn about Errors and Exception Handling in Python. You've definitely already encountered errors by this point in the course. For example:\n",
    "\n",
    "<img src='https://files.realpython.com/media/try_except_else_finally.a7fac6c36c55.png'>\n",
    "\n",
    "## Table of Contents:\n",
    "1. Errors Types\n",
    "2. `try`, `except`\n",
    "3. `else`\n",
    "4. Multiple Exceptions\n",
    "5. `finally`"
   ]
  },
  {
   "cell_type": "markdown",
   "metadata": {
    "id": "PkVJXkluaB0x"
   },
   "source": [
    "## 1) Errors Types\n",
    "https://docs.python.org/3/library/exceptions.html"
   ]
  },
  {
   "cell_type": "code",
   "execution_count": 6,
   "metadata": {},
   "outputs": [
    {
     "name": "stdout",
     "output_type": "stream",
     "text": [
      "x is greater than 3\n"
     ]
    }
   ],
   "source": [
    "x = 2\n",
    "if not(x>3):\n",
    "    print(\"x is greater than 3\")"
   ]
  },
  {
   "cell_type": "code",
   "execution_count": 4,
   "metadata": {},
   "outputs": [],
   "source": [
    "def fun():\n",
    "    print(\"dafdsf\")"
   ]
  },
  {
   "cell_type": "code",
   "execution_count": null,
   "metadata": {
    "id": "iqldUGTLaB0y",
    "outputId": "dc5081a8-d4c0-484c-9fa0-c5e613e8ae63"
   },
   "outputs": [
    {
     "ename": "SyntaxError",
     "evalue": "invalid syntax (<ipython-input-1-b0e4ac84f8df>, line 1)",
     "output_type": "error",
     "traceback": [
      "\u001b[1;36m  File \u001b[1;32m\"<ipython-input-1-b0e4ac84f8df>\"\u001b[1;36m, line \u001b[1;32m1\u001b[0m\n\u001b[1;33m    num of bedrooms = 1\u001b[0m\n\u001b[1;37m         ^\u001b[0m\n\u001b[1;31mSyntaxError\u001b[0m\u001b[1;31m:\u001b[0m invalid syntax\n"
     ]
    }
   ],
   "source": [
    "num of bedrooms = 1"
   ]
  },
  {
   "cell_type": "code",
   "execution_count": null,
   "metadata": {
    "id": "R0TNghLdaB00",
    "outputId": "f1e5fe03-2d59-4422-de8d-d3c58b7339d8"
   },
   "outputs": [
    {
     "ename": "ZeroDivisionError",
     "evalue": "division by zero",
     "output_type": "error",
     "traceback": [
      "\u001b[1;31m---------------------------------------------------------------------------\u001b[0m",
      "\u001b[1;31mZeroDivisionError\u001b[0m                         Traceback (most recent call last)",
      "\u001b[1;32m<ipython-input-2-0106664d39e8>\u001b[0m in \u001b[0;36m<module>\u001b[1;34m\u001b[0m\n\u001b[1;32m----> 1\u001b[1;33m \u001b[1;36m5\u001b[0m\u001b[1;33m/\u001b[0m\u001b[1;36m0\u001b[0m\u001b[1;33m\u001b[0m\u001b[1;33m\u001b[0m\u001b[0m\n\u001b[0m",
      "\u001b[1;31mZeroDivisionError\u001b[0m: division by zero"
     ]
    }
   ],
   "source": [
    "5/0"
   ]
  },
  {
   "cell_type": "code",
   "execution_count": 7,
   "metadata": {
    "id": "6dS1YLkqaB01",
    "outputId": "e871d89f-95be-4751-a806-77a66ab4f93f"
   },
   "outputs": [
    {
     "ename": "ValueError",
     "evalue": "invalid literal for int() with base 10: 'hello'",
     "output_type": "error",
     "traceback": [
      "\u001b[1;31m---------------------------------------------------------------------------\u001b[0m",
      "\u001b[1;31mValueError\u001b[0m                                Traceback (most recent call last)",
      "\u001b[1;32m~\\AppData\\Local\\Temp\\ipykernel_8260\\1136785238.py\u001b[0m in \u001b[0;36m<module>\u001b[1;34m\u001b[0m\n\u001b[1;32m----> 1\u001b[1;33m \u001b[0mint\u001b[0m\u001b[1;33m(\u001b[0m\u001b[1;34m'hello'\u001b[0m\u001b[1;33m)\u001b[0m\u001b[1;33m\u001b[0m\u001b[1;33m\u001b[0m\u001b[0m\n\u001b[0m",
      "\u001b[1;31mValueError\u001b[0m: invalid literal for int() with base 10: 'hello'"
     ]
    }
   ],
   "source": [
    "int('hello')"
   ]
  },
  {
   "cell_type": "code",
   "execution_count": 8,
   "metadata": {
    "id": "1HxGKGTVaB02",
    "outputId": "2f080fb5-a22e-4969-9112-675cadcbfcc1"
   },
   "outputs": [
    {
     "ename": "IndexError",
     "evalue": "list index out of range",
     "output_type": "error",
     "traceback": [
      "\u001b[1;31m---------------------------------------------------------------------------\u001b[0m",
      "\u001b[1;31mIndexError\u001b[0m                                Traceback (most recent call last)",
      "\u001b[1;32m~\\AppData\\Local\\Temp\\ipykernel_8260\\3991564110.py\u001b[0m in \u001b[0;36m<module>\u001b[1;34m\u001b[0m\n\u001b[0;32m      1\u001b[0m \u001b[0mlst\u001b[0m \u001b[1;33m=\u001b[0m \u001b[1;33m[\u001b[0m\u001b[1;36m1\u001b[0m\u001b[1;33m,\u001b[0m \u001b[1;36m2\u001b[0m\u001b[1;33m,\u001b[0m \u001b[1;36m3\u001b[0m\u001b[1;33m,\u001b[0m \u001b[1;36m4\u001b[0m\u001b[1;33m]\u001b[0m\u001b[1;33m\u001b[0m\u001b[1;33m\u001b[0m\u001b[0m\n\u001b[1;32m----> 2\u001b[1;33m \u001b[0mlst\u001b[0m\u001b[1;33m[\u001b[0m\u001b[1;36m10\u001b[0m\u001b[1;33m]\u001b[0m\u001b[1;33m\u001b[0m\u001b[1;33m\u001b[0m\u001b[0m\n\u001b[0m",
      "\u001b[1;31mIndexError\u001b[0m: list index out of range"
     ]
    }
   ],
   "source": [
    "lst = [1, 2, 3, 4]\n",
    "lst[10]"
   ]
  },
  {
   "cell_type": "code",
   "execution_count": 9,
   "metadata": {
    "id": "S-xw4ANkaB02",
    "outputId": "c9719be8-4ad5-4dce-f788-319abf40b0b1"
   },
   "outputs": [
    {
     "ename": "KeyError",
     "evalue": "'age'",
     "output_type": "error",
     "traceback": [
      "\u001b[1;31m---------------------------------------------------------------------------\u001b[0m",
      "\u001b[1;31mKeyError\u001b[0m                                  Traceback (most recent call last)",
      "\u001b[1;32m~\\AppData\\Local\\Temp\\ipykernel_8260\\3857845992.py\u001b[0m in \u001b[0;36m<module>\u001b[1;34m\u001b[0m\n\u001b[0;32m      1\u001b[0m \u001b[0mdictonary\u001b[0m \u001b[1;33m=\u001b[0m \u001b[1;33m{\u001b[0m\u001b[1;34m'name'\u001b[0m\u001b[1;33m:\u001b[0m \u001b[1;34m'eslam'\u001b[0m\u001b[1;33m}\u001b[0m\u001b[1;33m\u001b[0m\u001b[1;33m\u001b[0m\u001b[0m\n\u001b[1;32m----> 2\u001b[1;33m \u001b[0mprint\u001b[0m\u001b[1;33m(\u001b[0m\u001b[0mdictonary\u001b[0m\u001b[1;33m[\u001b[0m\u001b[1;34m'age'\u001b[0m\u001b[1;33m]\u001b[0m\u001b[1;33m)\u001b[0m\u001b[1;33m\u001b[0m\u001b[1;33m\u001b[0m\u001b[0m\n\u001b[0m",
      "\u001b[1;31mKeyError\u001b[0m: 'age'"
     ]
    }
   ],
   "source": [
    "dictonary = {'name': 'eslam'}\n",
    "print(dictonary['age'])"
   ]
  },
  {
   "cell_type": "code",
   "execution_count": 10,
   "metadata": {},
   "outputs": [
    {
     "name": "stdout",
     "output_type": "stream",
     "text": [
      "enter a numberfdas\n"
     ]
    },
    {
     "ename": "ValueError",
     "evalue": "invalid literal for int() with base 10: 'fdas'",
     "output_type": "error",
     "traceback": [
      "\u001b[1;31m---------------------------------------------------------------------------\u001b[0m",
      "\u001b[1;31mValueError\u001b[0m                                Traceback (most recent call last)",
      "\u001b[1;32m~\\AppData\\Local\\Temp\\ipykernel_8260\\4137923452.py\u001b[0m in \u001b[0;36m<module>\u001b[1;34m\u001b[0m\n\u001b[1;32m----> 1\u001b[1;33m \u001b[0mnumber\u001b[0m \u001b[1;33m=\u001b[0m \u001b[0mint\u001b[0m\u001b[1;33m(\u001b[0m\u001b[0minput\u001b[0m\u001b[1;33m(\u001b[0m\u001b[1;34m\"enter a number\"\u001b[0m\u001b[1;33m)\u001b[0m\u001b[1;33m)\u001b[0m\u001b[1;33m\u001b[0m\u001b[1;33m\u001b[0m\u001b[0m\n\u001b[0m",
      "\u001b[1;31mValueError\u001b[0m: invalid literal for int() with base 10: 'fdas'"
     ]
    }
   ],
   "source": [
    "number = int(input(\"enter a number\"))\n"
   ]
  },
  {
   "cell_type": "code",
   "execution_count": 16,
   "metadata": {},
   "outputs": [
    {
     "ename": "NameError",
     "evalue": "name 'c' is not defined",
     "output_type": "error",
     "traceback": [
      "\u001b[1;31m---------------------------------------------------------------------------\u001b[0m",
      "\u001b[1;31mNameError\u001b[0m                                 Traceback (most recent call last)",
      "\u001b[1;32m~\\AppData\\Local\\Temp\\ipykernel_8260\\2743823995.py\u001b[0m in \u001b[0;36m<module>\u001b[1;34m\u001b[0m\n\u001b[1;32m----> 1\u001b[1;33m \u001b[0mprint\u001b[0m\u001b[1;33m(\u001b[0m\u001b[0mc\u001b[0m\u001b[1;33m)\u001b[0m\u001b[1;33m\u001b[0m\u001b[1;33m\u001b[0m\u001b[0m\n\u001b[0m",
      "\u001b[1;31mNameError\u001b[0m: name 'c' is not defined"
     ]
    }
   ],
   "source": [
    "print(c)"
   ]
  },
  {
   "cell_type": "markdown",
   "metadata": {
    "id": "JLbnKtKcaB02"
   },
   "source": [
    "## 2) `try`, `except`\n",
    "\n",
    "\n",
    "The basic terminology and syntax used to handle errors in Python are the <code>try</code> and <code>except</code> statements. The code which can cause an exception to occur is put in the <code>try</code> block and the handling of the exception is then implemented in the <code>except</code> block of code. The syntax follows:\n",
    "```python\n",
    "    try:\n",
    "       # You do your operations here...\n",
    "    except:\n",
    "       # when operation gives error this block of code will run \n",
    "```\n",
    "We can also just check for any exception with just using <code>except:</code> To get a better understanding of all this let's check out an example: We will look at some code that opens and writes a file:"
   ]
  },
  {
   "cell_type": "code",
   "execution_count": null,
   "metadata": {
    "id": "-0DjBHRRaB03",
    "outputId": "d6ee1e5f-1a85-4bfd-aeeb-f25a535bc1d5"
   },
   "outputs": [
    {
     "name": "stdout",
     "output_type": "stream",
     "text": [
      "start\n"
     ]
    },
    {
     "ename": "ZeroDivisionError",
     "evalue": "division by zero",
     "output_type": "error",
     "traceback": [
      "\u001b[1;31m---------------------------------------------------------------------------\u001b[0m",
      "\u001b[1;31mZeroDivisionError\u001b[0m                         Traceback (most recent call last)",
      "\u001b[1;32m<ipython-input-6-93f51a08597b>\u001b[0m in \u001b[0;36m<module>\u001b[1;34m\u001b[0m\n\u001b[0;32m      1\u001b[0m \u001b[0mprint\u001b[0m\u001b[1;33m(\u001b[0m\u001b[1;34m'start'\u001b[0m\u001b[1;33m)\u001b[0m\u001b[1;33m\u001b[0m\u001b[1;33m\u001b[0m\u001b[0m\n\u001b[0;32m      2\u001b[0m \u001b[1;33m\u001b[0m\u001b[0m\n\u001b[1;32m----> 3\u001b[1;33m \u001b[0mprint\u001b[0m\u001b[1;33m(\u001b[0m\u001b[1;36m5\u001b[0m\u001b[1;33m/\u001b[0m\u001b[1;36m0\u001b[0m\u001b[1;33m)\u001b[0m\u001b[1;33m\u001b[0m\u001b[1;33m\u001b[0m\u001b[0m\n\u001b[0m\u001b[0;32m      4\u001b[0m \u001b[1;33m\u001b[0m\u001b[0m\n\u001b[0;32m      5\u001b[0m \u001b[0mprint\u001b[0m\u001b[1;33m(\u001b[0m\u001b[1;34m'finish'\u001b[0m\u001b[1;33m)\u001b[0m\u001b[1;33m\u001b[0m\u001b[1;33m\u001b[0m\u001b[0m\n",
      "\u001b[1;31mZeroDivisionError\u001b[0m: division by zero"
     ]
    }
   ],
   "source": [
    "print('start')\n",
    "\n",
    "print(5/0)\n",
    "    \n",
    "print('finish')"
   ]
  },
  {
   "cell_type": "markdown",
   "metadata": {
    "id": "j-DebD2saB04"
   },
   "source": [
    "**Catching general exception**"
   ]
  },
  {
   "cell_type": "code",
   "execution_count": 15,
   "metadata": {
    "id": "UsUNEFJ3aB04",
    "outputId": "9bb000a3-ad03-4023-be06-729b52ff8632"
   },
   "outputs": [
    {
     "name": "stdout",
     "output_type": "stream",
     "text": [
      "start\n",
      "probelem happens\n",
      "finish\n"
     ]
    }
   ],
   "source": [
    "print('start')\n",
    "\n",
    "try:\n",
    "    print(5/0)\n",
    "except:\n",
    "    print('probelem happens')\n",
    "    \n",
    "print('finish')"
   ]
  },
  {
   "cell_type": "code",
   "execution_count": 18,
   "metadata": {
    "id": "hKkk6b8NaB04",
    "outputId": "30b6751a-9066-422e-895c-d1477246ee28"
   },
   "outputs": [
    {
     "name": "stdout",
     "output_type": "stream",
     "text": [
      "start\n",
      "problem\n",
      "finish\n"
     ]
    }
   ],
   "source": [
    "print('start')\n",
    "\n",
    "try:\n",
    "    print(v)\n",
    "    print(5/0)\n",
    "except ZeroDivisionError:\n",
    "    print('probelem happens')\n",
    "except Exception:\n",
    "    print(\"problem\")\n",
    "    \n",
    "print('finish')"
   ]
  },
  {
   "cell_type": "markdown",
   "metadata": {
    "id": "D8kFHxLKaB05"
   },
   "source": [
    "**Catching specific exception**"
   ]
  },
  {
   "cell_type": "code",
   "execution_count": 20,
   "metadata": {
    "id": "ru6ozGGYaB05"
   },
   "outputs": [
    {
     "name": "stdout",
     "output_type": "stream",
     "text": [
      "Error: Could not find file or read data\n"
     ]
    }
   ],
   "source": [
    "try:\n",
    "    f = open('testtt.txt','r')\n",
    "    f.write('Test write this')\n",
    "except IOError:\n",
    "    # This will only check for an IOError exception and then execute this print statement\n",
    "    print(\"Error: Could not find file or read data\")\n",
    "#f.close()"
   ]
  },
  {
   "cell_type": "markdown",
   "metadata": {
    "id": "YVnCB_WMaB05"
   },
   "source": [
    "Now let's see what would happen if we did not have write permission (opening only with 'r'):"
   ]
  },
  {
   "cell_type": "code",
   "execution_count": 19,
   "metadata": {
    "id": "l_EsN_5laB06",
    "outputId": "f28e474d-b745-45c2-a940-2747f2a6be38"
   },
   "outputs": [
    {
     "name": "stdout",
     "output_type": "stream",
     "text": [
      "Error: Could not find file or read data\n"
     ]
    }
   ],
   "source": [
    "try:\n",
    "    f = open('testfile.txt','r')\n",
    "    f.write('Test write this')\n",
    "except IOError:\n",
    "    # This will only check for an IOError exception and then execute this print statement\n",
    "    print(\"Error: Could not find file or read data\")\n",
    "    f.close()"
   ]
  },
  {
   "cell_type": "markdown",
   "metadata": {
    "id": "jD_pWNPUaB06"
   },
   "source": [
    "Great! Notice how we only printed a statement! The code still ran and we were able to continue doing actions and running code blocks. This is extremely useful when you have to account for possible input errors in your code. You can be prepared for the error and keep running code, instead of your code just breaking as we saw above.\n",
    "\n",
    "We could have also just said <code>except:</code> if we weren't sure what exception would occur. For example:"
   ]
  },
  {
   "cell_type": "code",
   "execution_count": null,
   "metadata": {
    "id": "WLqWjA-OaB07",
    "outputId": "5da4ee59-9bdd-46cd-aae5-12497e1839b1"
   },
   "outputs": [
    {
     "name": "stdout",
     "output_type": "stream",
     "text": [
      "Error:General error\n"
     ]
    }
   ],
   "source": [
    "try:\n",
    "    f = open('testfile.txt','r')\n",
    "    f.write('Test write this')\n",
    "except:\n",
    "    # This will check for any exception and then execute this print statement\n",
    "    print(\"Error:General error\")\n",
    "f.close()"
   ]
  },
  {
   "cell_type": "markdown",
   "metadata": {
    "id": "ggzeStIXaB07"
   },
   "source": [
    "## 3) `else`"
   ]
  },
  {
   "cell_type": "code",
   "execution_count": null,
   "metadata": {
    "id": "8o-igHwfaB08",
    "outputId": "340a7c25-2617-4bc8-8386-71236654977e"
   },
   "outputs": [
    {
     "name": "stdout",
     "output_type": "stream",
     "text": [
      "Done without errors\n"
     ]
    }
   ],
   "source": [
    "try:\n",
    "    f = open('testfile.txt','w')\n",
    "    f.write('Test write this')\n",
    "except IOError:\n",
    "    print(\"Error: Could not find file or read data\")\n",
    "else:\n",
    "    print('Done without errors')\n",
    "    f.close()"
   ]
  },
  {
   "cell_type": "code",
   "execution_count": null,
   "metadata": {
    "id": "yxrPUq1XaB08",
    "outputId": "c07f0f15-188e-484d-c4f7-819a6d071f4b"
   },
   "outputs": [
    {
     "name": "stdout",
     "output_type": "stream",
     "text": [
      "Error: Could not find file or read data\n"
     ]
    }
   ],
   "source": [
    "try:\n",
    "    f = open('testfile.txt','r')\n",
    "    f.write('Test write this')\n",
    "except IOError:\n",
    "    print(\"Error: Could not find file or read data\")\n",
    "else:\n",
    "    print('Done without errors')\n",
    "    f.close()"
   ]
  },
  {
   "cell_type": "markdown",
   "metadata": {
    "id": "ceGEJkiJaB09"
   },
   "source": [
    "## 4) Multiple Exceptions"
   ]
  },
  {
   "cell_type": "code",
   "execution_count": 8,
   "metadata": {
    "id": "yyuUQCDlaB09",
    "outputId": "83d17275-dca0-4574-ee8b-580a9f0e343b"
   },
   "outputs": [
    {
     "name": "stdout",
     "output_type": "stream",
     "text": [
      "start\n",
      "'address'\n"
     ]
    }
   ],
   "source": [
    "print('start')\n",
    "\n",
    "try:\n",
    "    #print(5/0)\n",
    "    lst = [1,2,3,4,5]\n",
    "    #print(lst[10])\n",
    "    #x = int('hello')\n",
    "    l = {'name': 'eslam', \"age\": 28}\n",
    "    print(l['address'])\n",
    "    \n",
    "except ZeroDivisionError as e:\n",
    "    print(e)\n",
    "    print('cant divide on zero')\n",
    "except IndexError as e:\n",
    "    print(e)\n",
    "    print('you accessed non found index')\n",
    "except ValueError:\n",
    "    print('this is value error')\n",
    "except Exception as e:\n",
    "    print(e)\n",
    "#     print(repr(e))\n",
    "#     import traceback\n",
    "#     print(traceback.format_exc())\n",
    "else:\n",
    "    print('end')"
   ]
  },
  {
   "cell_type": "markdown",
   "metadata": {
    "id": "Sko9H3x4aB0-"
   },
   "source": [
    "Great! Now we don't actually need to memorize that list of exception types! Now what if we kept wanting to run code after the exception occurred? This is where <code>finally</code> comes in.\n",
    "## 5) `finally`\n",
    "The <code>finally:</code> block of code will always be run regardless if there was an exception handling or not.\n",
    "\n",
    "For example:"
   ]
  },
  {
   "cell_type": "code",
   "execution_count": 22,
   "metadata": {
    "id": "2MAKteBeaB0_",
    "outputId": "b67b0a5b-6f90-43e2-f1ef-38ddfedd4338",
    "scrolled": true
   },
   "outputs": [
    {
     "name": "stdout",
     "output_type": "stream",
     "text": [
      "Always execute finally code blocks\n"
     ]
    },
    {
     "ename": "UnsupportedOperation",
     "evalue": "not writable",
     "output_type": "error",
     "traceback": [
      "\u001b[1;31m---------------------------------------------------------------------------\u001b[0m",
      "\u001b[1;31mUnsupportedOperation\u001b[0m                      Traceback (most recent call last)",
      "\u001b[1;32m~\\AppData\\Local\\Temp\\ipykernel_3836\\2369362383.py\u001b[0m in \u001b[0;36m<module>\u001b[1;34m\u001b[0m\n\u001b[0;32m      1\u001b[0m \u001b[1;32mtry\u001b[0m\u001b[1;33m:\u001b[0m\u001b[1;33m\u001b[0m\u001b[1;33m\u001b[0m\u001b[0m\n\u001b[0;32m      2\u001b[0m     \u001b[0mf\u001b[0m \u001b[1;33m=\u001b[0m \u001b[0mopen\u001b[0m\u001b[1;33m(\u001b[0m\u001b[1;34m\"testfile.txt\"\u001b[0m\u001b[1;33m,\u001b[0m \u001b[1;34m\"r\"\u001b[0m\u001b[1;33m)\u001b[0m\u001b[1;33m\u001b[0m\u001b[1;33m\u001b[0m\u001b[0m\n\u001b[1;32m----> 3\u001b[1;33m     \u001b[0mf\u001b[0m\u001b[1;33m.\u001b[0m\u001b[0mwrite\u001b[0m\u001b[1;33m(\u001b[0m\u001b[1;34m\"Test write statement\"\u001b[0m\u001b[1;33m)\u001b[0m\u001b[1;33m\u001b[0m\u001b[1;33m\u001b[0m\u001b[0m\n\u001b[0m\u001b[0;32m      4\u001b[0m \u001b[1;32mfinally\u001b[0m\u001b[1;33m:\u001b[0m\u001b[1;33m\u001b[0m\u001b[1;33m\u001b[0m\u001b[0m\n\u001b[0;32m      5\u001b[0m     \u001b[0mf\u001b[0m\u001b[1;33m.\u001b[0m\u001b[0mclose\u001b[0m\u001b[1;33m(\u001b[0m\u001b[1;33m)\u001b[0m\u001b[1;33m\u001b[0m\u001b[1;33m\u001b[0m\u001b[0m\n",
      "\u001b[1;31mUnsupportedOperation\u001b[0m: not writable"
     ]
    }
   ],
   "source": [
    "try:\n",
    "    f = open(\"testfile.txt\", \"r\")\n",
    "    f.write(\"Test write statement\")\n",
    "finally:\n",
    "    f.close()\n",
    "    print(\"Always execute finally code blocks\")"
   ]
  },
  {
   "cell_type": "code",
   "execution_count": 34,
   "metadata": {
    "id": "epV2KbqRaB1A",
    "outputId": "e64f0406-0254-48a5-cc04-18470e49d5c0"
   },
   "outputs": [
    {
     "name": "stdout",
     "output_type": "stream",
     "text": [
      "not writable\n",
      "Always execute finally code blocks\n"
     ]
    }
   ],
   "source": [
    "try:\n",
    "    f = open(\"testfile.txt\", \"r\")\n",
    "    f.write(\"Test write statement\")\n",
    "except Exception as e:\n",
    "    print(e)\n",
    "finally:\n",
    "    f.close()\n",
    "    print(\"Always execute finally code blocks\")"
   ]
  },
  {
   "cell_type": "code",
   "execution_count": null,
   "metadata": {
    "id": "k28-UpojaB1C",
    "outputId": "9a1df16b-29f6-43c0-e059-839a6c47ae76"
   },
   "outputs": [
    {
     "name": "stdout",
     "output_type": "stream",
     "text": [
      "Always execute finally code blocks\n"
     ]
    }
   ],
   "source": [
    "try:\n",
    "    f = open(\"testfile.txt\", \"w\")\n",
    "    f.write(\"Test write statement\")\n",
    "except IOError:\n",
    "    print('file error')\n",
    "finally:\n",
    "    f.close()\n",
    "    print(\"Always execute finally code blocks\")"
   ]
  },
  {
   "cell_type": "markdown",
   "metadata": {
    "id": "TKpyRuAlaB1C"
   },
   "source": [
    "We can use this in conjunction with <code>except</code>. Let's see a new example that will take into account a user providing the wrong input:"
   ]
  },
  {
   "cell_type": "code",
   "execution_count": 32,
   "metadata": {},
   "outputs": [
    {
     "name": "stdout",
     "output_type": "stream",
     "text": [
      "enter a number fdsh\n",
      "invalid integer \n",
      "enter a number dfs\n",
      "invalid integer \n",
      "enter a number fd\n",
      "invalid integer \n",
      "enter a number 23\n"
     ]
    }
   ],
   "source": [
    "while True:\n",
    "    try:\n",
    "        number = int(input(\"enter a number \"))\n",
    "    except:\n",
    "        print(\"invalid integer \")\n",
    "    else:\n",
    "        break\n"
   ]
  },
  {
   "cell_type": "code",
   "execution_count": 29,
   "metadata": {
    "id": "ReVncr5LaB1D"
   },
   "outputs": [],
   "source": [
    "def askint():\n",
    "    try:\n",
    "        val = int(input(\"Please enter an integer: \"))\n",
    "        print(val)\n",
    "    except:\n",
    "        print(\"Looks like you did not enter an integer!\")\n",
    "    finally:\n",
    "        print(\"Finally, I executed!\")"
   ]
  },
  {
   "cell_type": "code",
   "execution_count": 31,
   "metadata": {
    "id": "ePXkbthLaB1D",
    "outputId": "bba92440-216a-46c9-c809-b19a203abda1"
   },
   "outputs": [
    {
     "name": "stdout",
     "output_type": "stream",
     "text": [
      "Please enter an integer: dfasads\n",
      "Looks like you did not enter an integer!\n",
      "Finally, I executed!\n"
     ]
    }
   ],
   "source": [
    "askint()"
   ]
  },
  {
   "cell_type": "code",
   "execution_count": null,
   "metadata": {
    "id": "IHn2gpRkaB1E",
    "outputId": "e1fc92b1-197e-4264-c994-579dd919997a"
   },
   "outputs": [
    {
     "name": "stdout",
     "output_type": "stream",
     "text": [
      "Please enter an integer: 10.25\n",
      "Looks like you did not enter an integer!\n",
      "Finally, I executed!\n"
     ]
    }
   ],
   "source": [
    "askint()"
   ]
  },
  {
   "cell_type": "markdown",
   "metadata": {
    "id": "0tj_7tGxaB1E"
   },
   "source": [
    "Notice how we got an error when trying to print val (because it was never properly assigned). Let's remedy this by asking the user and checking to make sure the input type is an integer:"
   ]
  },
  {
   "cell_type": "code",
   "execution_count": 33,
   "metadata": {
    "id": "CEyMJ0H8aB1F"
   },
   "outputs": [],
   "source": [
    "def askint():\n",
    "    while True:\n",
    "        try:\n",
    "            val = int(input(\"Please enter an integer: \"))\n",
    "        except:\n",
    "            print(\"Looks like you did not enter an integer!\")\n",
    "            continue\n",
    "        else:\n",
    "            print(\"Yep that's an integer!\")\n",
    "            print(val)\n",
    "            break\n",
    "        finally:\n",
    "            print(\"Finally, I executed!\")\n",
    "        "
   ]
  },
  {
   "cell_type": "code",
   "execution_count": null,
   "metadata": {
    "id": "L-Wd8h5baB1F",
    "outputId": "f81f772c-a8fc-4dcb-d88f-1f62afbf55bb"
   },
   "outputs": [
    {
     "name": "stdout",
     "output_type": "stream",
     "text": [
      "Please enter an integer: 10.25\n",
      "Looks like you did not enter an integer!\n",
      "Finally, I executed!\n",
      "Please enter an integer: eslam\n",
      "Looks like you did not enter an integer!\n",
      "Finally, I executed!\n",
      "Please enter an integer: True\n",
      "Looks like you did not enter an integer!\n",
      "Finally, I executed!\n",
      "Please enter an integer: 10\n",
      "Yep that's an integer!\n",
      "10\n",
      "Finally, I executed!\n"
     ]
    }
   ],
   "source": [
    "askint()"
   ]
  },
  {
   "cell_type": "markdown",
   "metadata": {
    "id": "YV0jcXygaB1G"
   },
   "source": [
    "# Great Work!"
   ]
  }
 ],
 "metadata": {
  "colab": {
   "provenance": []
  },
  "kernelspec": {
   "display_name": "Python 3",
   "language": "python",
   "name": "python3"
  },
  "language_info": {
   "codemirror_mode": {
    "name": "ipython",
    "version": 3
   },
   "file_extension": ".py",
   "mimetype": "text/x-python",
   "name": "python",
   "nbconvert_exporter": "python",
   "pygments_lexer": "ipython3",
   "version": "3.7.6"
  }
 },
 "nbformat": 4,
 "nbformat_minor": 1
}
