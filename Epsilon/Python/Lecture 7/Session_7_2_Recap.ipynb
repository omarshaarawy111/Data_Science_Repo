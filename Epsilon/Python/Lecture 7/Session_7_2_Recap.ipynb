{
 "cells": [
  {
   "cell_type": "markdown",
   "metadata": {},
   "source": [
    "### data types"
   ]
  },
  {
   "cell_type": "code",
   "execution_count": 3,
   "metadata": {},
   "outputs": [
    {
     "name": "stdout",
     "output_type": "stream",
     "text": [
      "age 21\n",
      "name ahmed\n"
     ]
    }
   ],
   "source": [
    "## int, float\n",
    "\n",
    "## strings\n",
    "\n",
    "## lists\n",
    "\n",
    "## dictionary\n",
    "dic = {\"age\" : \"21\" , \"name\" : \"ahmed\"}\n",
    "for x,y in dic.items():\n",
    "    print(x,y)\n",
    "\n",
    "##tuple\n",
    "\n",
    "##set\n",
    "\n"
   ]
  },
  {
   "cell_type": "code",
   "execution_count": 4,
   "metadata": {},
   "outputs": [
    {
     "data": {
      "text/plain": [
       "{'age': '21', 'name': 'ahmed'}"
      ]
     },
     "execution_count": 4,
     "metadata": {},
     "output_type": "execute_result"
    }
   ],
   "source": [
    "dic"
   ]
  },
  {
   "cell_type": "code",
   "execution_count": 5,
   "metadata": {},
   "outputs": [
    {
     "name": "stdout",
     "output_type": "stream",
     "text": [
      "age\n",
      "name\n"
     ]
    }
   ],
   "source": [
    "for x,y in dic.items():\n",
    "    print(x)"
   ]
  },
  {
   "cell_type": "code",
   "execution_count": 6,
   "metadata": {},
   "outputs": [
    {
     "data": {
      "text/plain": [
       "['21', 'ahmed']"
      ]
     },
     "execution_count": 6,
     "metadata": {},
     "output_type": "execute_result"
    }
   ],
   "source": [
    "list(dic.values())"
   ]
  },
  {
   "cell_type": "code",
   "execution_count": 7,
   "metadata": {},
   "outputs": [
    {
     "name": "stdout",
     "output_type": "stream",
     "text": [
      "21\n",
      "ahmed\n"
     ]
    }
   ],
   "source": [
    "for x in list(dic.values()):\n",
    "    print(x)"
   ]
  },
  {
   "cell_type": "markdown",
   "metadata": {},
   "source": [
    "### flow control (if, loops)"
   ]
  },
  {
   "cell_type": "code",
   "execution_count": null,
   "metadata": {},
   "outputs": [],
   "source": [
    "## if \n",
    "\n",
    "## for\n",
    "\n",
    "## while\n",
    "\n",
    "## break\n",
    "\n",
    "## infinite while loop "
   ]
  },
  {
   "cell_type": "markdown",
   "metadata": {},
   "source": [
    "### functions"
   ]
  },
  {
   "cell_type": "code",
   "execution_count": 8,
   "metadata": {},
   "outputs": [
    {
     "name": "stdout",
     "output_type": "stream",
     "text": [
      "hussien\n",
      "mohamed\n",
      "mohamed ahmed\n"
     ]
    }
   ],
   "source": [
    "## syntax\n",
    "# def print_name():\n",
    "#     print(\"ahmed\")\n",
    "\n",
    "# ##calling\n",
    "# print_name()\n",
    "\n",
    "##parameters\n",
    "def print_sth(name):\n",
    "    print(name)\n",
    "    \n",
    "print_sth(\"hussien\")\n",
    "\n",
    "## return\n",
    "def print_sth(name):\n",
    "    print(name)\n",
    "    return name+\" ahmed\"\n",
    "\n",
    "name2 = print_sth(\"mohamed\")\n",
    "print(name2)"
   ]
  },
  {
   "cell_type": "code",
   "execution_count": 17,
   "metadata": {},
   "outputs": [
    {
     "data": {
      "text/plain": [
       "[1, 2, 3]"
      ]
     },
     "execution_count": 17,
     "metadata": {},
     "output_type": "execute_result"
    }
   ],
   "source": [
    "def reurn_list():\n",
    "    l = [1,2,3]\n",
    "    return l\n",
    "reurn_list()"
   ]
  },
  {
   "cell_type": "code",
   "execution_count": 21,
   "metadata": {},
   "outputs": [
    {
     "name": "stdout",
     "output_type": "stream",
     "text": [
      "[1, 2, 3, 5]\n",
      "[1, 2, 3]\n"
     ]
    }
   ],
   "source": [
    "lst = [1,2,3]\n",
    "lst2 = lst[:]\n",
    "lst2.append(5)\n",
    "print(lst2)\n",
    "print(lst)"
   ]
  },
  {
   "cell_type": "code",
   "execution_count": 16,
   "metadata": {},
   "outputs": [
    {
     "name": "stdout",
     "output_type": "stream",
     "text": [
      "['mohamed', 'ahmed']\n",
      "['mohamed', 'ahmed', 'hassan']\n"
     ]
    }
   ],
   "source": [
    "names = ['mohamed' , 'ahmed']\n",
    "def modify_list(lst):\n",
    "    lst.append(\"hassan\")\n",
    "\n",
    "print(names)\n",
    "modify_list(names)\n",
    "print(names)"
   ]
  },
  {
   "cell_type": "code",
   "execution_count": 13,
   "metadata": {},
   "outputs": [],
   "source": [
    "def no_thing():\n",
    "    pass\n",
    "\n",
    "no_thing()"
   ]
  },
  {
   "cell_type": "code",
   "execution_count": 14,
   "metadata": {},
   "outputs": [],
   "source": [
    "for i in range(10):\n",
    "    pass\n"
   ]
  },
  {
   "cell_type": "markdown",
   "metadata": {},
   "source": [
    "### map,filter,reduce"
   ]
  },
  {
   "cell_type": "code",
   "execution_count": 1,
   "metadata": {},
   "outputs": [],
   "source": [
    "from functools import reduce"
   ]
  },
  {
   "cell_type": "code",
   "execution_count": null,
   "metadata": {},
   "outputs": [],
   "source": [
    "## map\n",
    "\n",
    "##filter\n",
    "\n",
    "##reduce\n"
   ]
  },
  {
   "cell_type": "markdown",
   "metadata": {},
   "source": [
    "### file handling"
   ]
  },
  {
   "cell_type": "code",
   "execution_count": null,
   "metadata": {},
   "outputs": [],
   "source": []
  },
  {
   "cell_type": "code",
   "execution_count": 4,
   "metadata": {},
   "outputs": [
    {
     "name": "stdout",
     "output_type": "stream",
     "text": [
      "testing the file\n",
      "done \n"
     ]
    }
   ],
   "source": [
    "with open(\"mytest.txt\") as f:\n",
    "    print(f.read())\n",
    "    \n",
    "print(\"done \")"
   ]
  },
  {
   "cell_type": "code",
   "execution_count": null,
   "metadata": {},
   "outputs": [],
   "source": []
  }
 ],
 "metadata": {
  "kernelspec": {
   "display_name": "Python 3",
   "language": "python",
   "name": "python3"
  },
  "language_info": {
   "codemirror_mode": {
    "name": "ipython",
    "version": 3
   },
   "file_extension": ".py",
   "mimetype": "text/x-python",
   "name": "python",
   "nbconvert_exporter": "python",
   "pygments_lexer": "ipython3",
   "version": "3.7.6"
  }
 },
 "nbformat": 4,
 "nbformat_minor": 5
}
