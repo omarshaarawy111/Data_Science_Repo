{
 "cells": [
  {
   "cell_type": "code",
   "execution_count": 1,
   "id": "1d9f955b",
   "metadata": {},
   "outputs": [],
   "source": [
    "import requests\n",
    "from bs4 import BeautifulSoup\n"
   ]
  },
  {
   "cell_type": "code",
   "execution_count": 3,
   "id": "ec8243a9",
   "metadata": {},
   "outputs": [
    {
     "name": "stdout",
     "output_type": "stream",
     "text": [
      "<Response [200]>\n"
     ]
    }
   ],
   "source": [
    "url='https://jekso.github.io/scrapping-example/index.html'\n",
    "response=requests.get(url)\n",
    "response"
   ]
  },
  {
   "cell_type": "code",
   "execution_count": 4,
   "id": "cf0fc624",
   "metadata": {},
   "outputs": [
    {
     "data": {
      "text/plain": [
       "'<!DOCTYPE html>\\n\\n<html>\\n\\n    <head>\\n        <title>My First HTML Page</title>\\n\\n        <style>\\n\\n            p {\\n                color: green;\\n                \\n            }\\n\\n            h1 {\\n                color:blue;\\n                text-shadow: 2px 2px 5px red;\\n            }\\n\\n\\n            img {\\n                width: 200px;\\n                height: 200px;\\n            }\\n\\n\\n            select {\\n                width: 300px;\\n                height: 50px;\\n                background-color: orange;\\n            }\\n\\n            div#bigred {\\n                width: 100%%;\\n                height: 200px;\\n                background-color: red;\\n                margin: 20px;\\n                color: white;\\n            }\\n\\n\\n            div#smallblue {\\n                width: 100%%;\\n                height: 100px;\\n                background-color: blue;\\n                margin: 20px;\\n                color: yellow;\\n            }\\n\\n            li.redul {\\n                color: red;\\n            }\\n\\n            li.blueol {\\n                color:blue;\\n            }\\n\\n            .h2_orange {\\n                color: orange;\\n            }\\n\\n            .jupyter_img {\\n                width: 200px;\\n                height: 200px;\\n                border: solid green 3px;\\n            }\\n\\n            .bg-yellow {\\n                background-color: yellow;\\n            }\\n\\n        </style>\\n\\n    </head>\\n\\n\\n    <body>\\n\\n        <p>Iam a paragrapph</p>\\n\\n        <br><hr><br>\\n\\n        <h1>My First H1 Header</h1>\\n        <h1>My Second H1 Header</h1>\\n\\n        <h2 class=\"h2_orange bg-yellow\">My First H2 Header</h2>\\n        <h2 class=\"h2_orange\">My Second H2 Header</h2>\\n        <h2>My 3rd H2 Header</h2>\\n\\n\\n        <br><hr><br>\\n\\n        <ul>\\n            <li class=\\'redul\\'> Milk </li>\\n            <li class=\\'redul\\'> Oranges </li>\\n        </ul>\\n\\n        <br><hr><br>\\n\\n        <ol>\\n            <li class=\\'blueol\\'> Milk </li>\\n            <li class=\\'blueol\\'> Oranges </li>\\n        </ol>\\n\\n        <br><hr><br>\\n\\n        <img src=\"my_img.png\" class=\"jupyter_img\">\\n        \\n        <br><hr><br>\\n\\n        <a href=\"http://www.google.com\">Go To Google</a>\\n\\n        <br><hr><br>\\n\\n        <form>\\n            Username: <input type=\"text\" class=\"bg-yellow\">\\n            <br><br>\\n            Passowrd: <input type=\"password\">\\n            <br><br>\\n\\n            <select>\\n                <option value=\"volvo\">Volvo</option>\\n                <option value=\"saab\">Saab</option>\\n                <option value=\"fiat\">Fiat</option>\\n                <option value=\"audi\">Audi</option>\\n            </select>\\n            <br><br>\\n\\n            <input type=\"checkbox\">\\n            I agree for the terms\\n            <br><br>\\n\\n            <input type=\"submit\" value=\"Search\">\\n        </form>\\n\\n        <br><hr><br>\\n\\n        <table>\\n            <tr>\\n                <th>House Size</th>\\n                <th>Num of Rooms</th>\\n                <th class=\"bg-yellow\">Has Garden</th>\\n                <th>Price</th>\\n            </tr>\\n            <tr>\\n                <td>120</td>\\n                <td>3</td>\\n                <td>yes</td>\\n                <td>500000</td>\\n            </tr>\\n            <tr>\\n                <td>140</td>\\n                <td>4</td>\\n                <td class=\"bg-yellow\">no</td>\\n                <td>750000</td>\\n            </tr>\\n            <tr>\\n                <td>80</td>\\n                <td>1</td>\\n                <td>no</td>\\n                <td>300000</td>\\n            </tr>\\n        </table>\\n\\n\\n        <br><hr><br>\\n        \\n\\n\\n\\n        <iframe width=\"420\" height=\"345\" src=\"https://www.youtube.com/embed/tgbNymZ7vqY\"></iframe>\\n\\n\\n        <br><hr><br>\\n\\n\\n        <div id=\\'bigred\\'>\\n            Hello world\\n        </div>\\n\\n        <br><hr><br>\\n\\n\\n        <div id=\"smallblue\">\\n            Hello python\\n            <p>Iam a paragrapph</p>\\n        </div>\\n\\n\\n        \\n\\n    </body>\\n\\n\\n</html>\\n\\n'"
      ]
     },
     "execution_count": 4,
     "metadata": {},
     "output_type": "execute_result"
    }
   ],
   "source": [
    "response.text"
   ]
  },
  {
   "cell_type": "code",
   "execution_count": 5,
   "id": "3a99d81e",
   "metadata": {},
   "outputs": [
    {
     "data": {
      "text/plain": [
       "b'<!DOCTYPE html>\\n\\n<html>\\n\\n    <head>\\n        <title>My First HTML Page</title>\\n\\n        <style>\\n\\n            p {\\n                color: green;\\n                \\n            }\\n\\n            h1 {\\n                color:blue;\\n                text-shadow: 2px 2px 5px red;\\n            }\\n\\n\\n            img {\\n                width: 200px;\\n                height: 200px;\\n            }\\n\\n\\n            select {\\n                width: 300px;\\n                height: 50px;\\n                background-color: orange;\\n            }\\n\\n            div#bigred {\\n                width: 100%%;\\n                height: 200px;\\n                background-color: red;\\n                margin: 20px;\\n                color: white;\\n            }\\n\\n\\n            div#smallblue {\\n                width: 100%%;\\n                height: 100px;\\n                background-color: blue;\\n                margin: 20px;\\n                color: yellow;\\n            }\\n\\n            li.redul {\\n                color: red;\\n            }\\n\\n            li.blueol {\\n                color:blue;\\n            }\\n\\n            .h2_orange {\\n                color: orange;\\n            }\\n\\n            .jupyter_img {\\n                width: 200px;\\n                height: 200px;\\n                border: solid green 3px;\\n            }\\n\\n            .bg-yellow {\\n                background-color: yellow;\\n            }\\n\\n        </style>\\n\\n    </head>\\n\\n\\n    <body>\\n\\n        <p>Iam a paragrapph</p>\\n\\n        <br><hr><br>\\n\\n        <h1>My First H1 Header</h1>\\n        <h1>My Second H1 Header</h1>\\n\\n        <h2 class=\"h2_orange bg-yellow\">My First H2 Header</h2>\\n        <h2 class=\"h2_orange\">My Second H2 Header</h2>\\n        <h2>My 3rd H2 Header</h2>\\n\\n\\n        <br><hr><br>\\n\\n        <ul>\\n            <li class=\\'redul\\'> Milk </li>\\n            <li class=\\'redul\\'> Oranges </li>\\n        </ul>\\n\\n        <br><hr><br>\\n\\n        <ol>\\n            <li class=\\'blueol\\'> Milk </li>\\n            <li class=\\'blueol\\'> Oranges </li>\\n        </ol>\\n\\n        <br><hr><br>\\n\\n        <img src=\"my_img.png\" class=\"jupyter_img\">\\n        \\n        <br><hr><br>\\n\\n        <a href=\"http://www.google.com\">Go To Google</a>\\n\\n        <br><hr><br>\\n\\n        <form>\\n            Username: <input type=\"text\" class=\"bg-yellow\">\\n            <br><br>\\n            Passowrd: <input type=\"password\">\\n            <br><br>\\n\\n            <select>\\n                <option value=\"volvo\">Volvo</option>\\n                <option value=\"saab\">Saab</option>\\n                <option value=\"fiat\">Fiat</option>\\n                <option value=\"audi\">Audi</option>\\n            </select>\\n            <br><br>\\n\\n            <input type=\"checkbox\">\\n            I agree for the terms\\n            <br><br>\\n\\n            <input type=\"submit\" value=\"Search\">\\n        </form>\\n\\n        <br><hr><br>\\n\\n        <table>\\n            <tr>\\n                <th>House Size</th>\\n                <th>Num of Rooms</th>\\n                <th class=\"bg-yellow\">Has Garden</th>\\n                <th>Price</th>\\n            </tr>\\n            <tr>\\n                <td>120</td>\\n                <td>3</td>\\n                <td>yes</td>\\n                <td>500000</td>\\n            </tr>\\n            <tr>\\n                <td>140</td>\\n                <td>4</td>\\n                <td class=\"bg-yellow\">no</td>\\n                <td>750000</td>\\n            </tr>\\n            <tr>\\n                <td>80</td>\\n                <td>1</td>\\n                <td>no</td>\\n                <td>300000</td>\\n            </tr>\\n        </table>\\n\\n\\n        <br><hr><br>\\n        \\n\\n\\n\\n        <iframe width=\"420\" height=\"345\" src=\"https://www.youtube.com/embed/tgbNymZ7vqY\"></iframe>\\n\\n\\n        <br><hr><br>\\n\\n\\n        <div id=\\'bigred\\'>\\n            Hello world\\n        </div>\\n\\n        <br><hr><br>\\n\\n\\n        <div id=\"smallblue\">\\n            Hello python\\n            <p>Iam a paragrapph</p>\\n        </div>\\n\\n\\n        \\n\\n    </body>\\n\\n\\n</html>\\n\\n'"
      ]
     },
     "execution_count": 5,
     "metadata": {},
     "output_type": "execute_result"
    }
   ],
   "source": [
    "response.content"
   ]
  },
  {
   "cell_type": "code",
   "execution_count": 8,
   "id": "5ec971f7",
   "metadata": {},
   "outputs": [
    {
     "data": {
      "text/plain": [
       "<!DOCTYPE html>\n",
       "\n",
       "<html>\n",
       "<head>\n",
       "<title>My First HTML Page</title>\n",
       "<style>\n",
       "\n",
       "            p {\n",
       "                color: green;\n",
       "                \n",
       "            }\n",
       "\n",
       "            h1 {\n",
       "                color:blue;\n",
       "                text-shadow: 2px 2px 5px red;\n",
       "            }\n",
       "\n",
       "\n",
       "            img {\n",
       "                width: 200px;\n",
       "                height: 200px;\n",
       "            }\n",
       "\n",
       "\n",
       "            select {\n",
       "                width: 300px;\n",
       "                height: 50px;\n",
       "                background-color: orange;\n",
       "            }\n",
       "\n",
       "            div#bigred {\n",
       "                width: 100%%;\n",
       "                height: 200px;\n",
       "                background-color: red;\n",
       "                margin: 20px;\n",
       "                color: white;\n",
       "            }\n",
       "\n",
       "\n",
       "            div#smallblue {\n",
       "                width: 100%%;\n",
       "                height: 100px;\n",
       "                background-color: blue;\n",
       "                margin: 20px;\n",
       "                color: yellow;\n",
       "            }\n",
       "\n",
       "            li.redul {\n",
       "                color: red;\n",
       "            }\n",
       "\n",
       "            li.blueol {\n",
       "                color:blue;\n",
       "            }\n",
       "\n",
       "            .h2_orange {\n",
       "                color: orange;\n",
       "            }\n",
       "\n",
       "            .jupyter_img {\n",
       "                width: 200px;\n",
       "                height: 200px;\n",
       "                border: solid green 3px;\n",
       "            }\n",
       "\n",
       "            .bg-yellow {\n",
       "                background-color: yellow;\n",
       "            }\n",
       "\n",
       "        </style>\n",
       "</head>\n",
       "<body>\n",
       "<p>Iam a paragrapph</p>\n",
       "<br/><hr/><br/>\n",
       "<h1>My First H1 Header</h1>\n",
       "<h1>My Second H1 Header</h1>\n",
       "<h2 class=\"h2_orange bg-yellow\">My First H2 Header</h2>\n",
       "<h2 class=\"h2_orange\">My Second H2 Header</h2>\n",
       "<h2>My 3rd H2 Header</h2>\n",
       "<br/><hr/><br/>\n",
       "<ul>\n",
       "<li class=\"redul\"> Milk </li>\n",
       "<li class=\"redul\"> Oranges </li>\n",
       "</ul>\n",
       "<br/><hr/><br/>\n",
       "<ol>\n",
       "<li class=\"blueol\"> Milk </li>\n",
       "<li class=\"blueol\"> Oranges </li>\n",
       "</ol>\n",
       "<br/><hr/><br/>\n",
       "<img class=\"jupyter_img\" src=\"my_img.png\"/>\n",
       "<br/><hr/><br/>\n",
       "<a href=\"http://www.google.com\">Go To Google</a>\n",
       "<br/><hr/><br/>\n",
       "<form>\n",
       "            Username: <input class=\"bg-yellow\" type=\"text\"/>\n",
       "<br/><br/>\n",
       "            Passowrd: <input type=\"password\"/>\n",
       "<br/><br/>\n",
       "<select>\n",
       "<option value=\"volvo\">Volvo</option>\n",
       "<option value=\"saab\">Saab</option>\n",
       "<option value=\"fiat\">Fiat</option>\n",
       "<option value=\"audi\">Audi</option>\n",
       "</select>\n",
       "<br/><br/>\n",
       "<input type=\"checkbox\"/>\n",
       "            I agree for the terms\n",
       "            <br/><br/>\n",
       "<input type=\"submit\" value=\"Search\"/>\n",
       "</form>\n",
       "<br/><hr/><br/>\n",
       "<table>\n",
       "<tr>\n",
       "<th>House Size</th>\n",
       "<th>Num of Rooms</th>\n",
       "<th class=\"bg-yellow\">Has Garden</th>\n",
       "<th>Price</th>\n",
       "</tr>\n",
       "<tr>\n",
       "<td>120</td>\n",
       "<td>3</td>\n",
       "<td>yes</td>\n",
       "<td>500000</td>\n",
       "</tr>\n",
       "<tr>\n",
       "<td>140</td>\n",
       "<td>4</td>\n",
       "<td class=\"bg-yellow\">no</td>\n",
       "<td>750000</td>\n",
       "</tr>\n",
       "<tr>\n",
       "<td>80</td>\n",
       "<td>1</td>\n",
       "<td>no</td>\n",
       "<td>300000</td>\n",
       "</tr>\n",
       "</table>\n",
       "<br/><hr/><br/>\n",
       "<iframe height=\"345\" src=\"https://www.youtube.com/embed/tgbNymZ7vqY\" width=\"420\"></iframe>\n",
       "<br/><hr/><br/>\n",
       "<div id=\"bigred\">\n",
       "            Hello world\n",
       "        </div>\n",
       "<br/><hr/><br/>\n",
       "<div id=\"smallblue\">\n",
       "            Hello python\n",
       "            <p>Iam a paragrapph</p>\n",
       "</div>\n",
       "</body>\n",
       "</html>"
      ]
     },
     "execution_count": 8,
     "metadata": {},
     "output_type": "execute_result"
    }
   ],
   "source": [
    "soup=BeautifulSoup(response.text,'html.parser')\n",
    "soup"
   ]
  },
  {
   "cell_type": "code",
   "execution_count": 9,
   "id": "588c5d2d",
   "metadata": {},
   "outputs": [
    {
     "data": {
      "text/plain": [
       "<p>Iam a paragrapph</p>"
      ]
     },
     "execution_count": 9,
     "metadata": {},
     "output_type": "execute_result"
    }
   ],
   "source": [
    "p=soup.find('p')\n",
    "p"
   ]
  },
  {
   "cell_type": "code",
   "execution_count": 10,
   "id": "326b8686",
   "metadata": {},
   "outputs": [
    {
     "data": {
      "text/plain": [
       "'Iam a paragrapph'"
      ]
     },
     "execution_count": 10,
     "metadata": {},
     "output_type": "execute_result"
    }
   ],
   "source": [
    "p.get_text()"
   ]
  },
  {
   "cell_type": "code",
   "execution_count": 13,
   "id": "bccc2558",
   "metadata": {},
   "outputs": [
    {
     "data": {
      "text/plain": [
       "[<p>Iam a paragrapph</p>, <p>Iam a paragrapph</p>]"
      ]
     },
     "execution_count": 13,
     "metadata": {},
     "output_type": "execute_result"
    }
   ],
   "source": [
    "p_all=soup.find_all('p')\n",
    "p_all"
   ]
  },
  {
   "cell_type": "code",
   "execution_count": 14,
   "id": "3fa8646a",
   "metadata": {},
   "outputs": [
    {
     "name": "stdout",
     "output_type": "stream",
     "text": [
      "Iam a paragrapph\n",
      "Iam a paragrapph\n"
     ]
    }
   ],
   "source": [
    "for p in p_all:\n",
    "    print(p.get_text())"
   ]
  },
  {
   "cell_type": "code",
   "execution_count": 22,
   "id": "966b680d",
   "metadata": {},
   "outputs": [
    {
     "data": {
      "text/plain": [
       "[<h1>My First H1 Header</h1>, <h1>My Second H1 Header</h1>]"
      ]
     },
     "execution_count": 22,
     "metadata": {},
     "output_type": "execute_result"
    }
   ],
   "source": [
    "h1_all=soup.find_all('h1')\n",
    "h1_all"
   ]
  },
  {
   "cell_type": "code",
   "execution_count": 23,
   "id": "02ce704d",
   "metadata": {},
   "outputs": [
    {
     "name": "stdout",
     "output_type": "stream",
     "text": [
      "My First H1 Header\n",
      "My Second H1 Header\n"
     ]
    }
   ],
   "source": [
    "for h in h1_all:\n",
    "    print(h.get_text())"
   ]
  },
  {
   "cell_type": "code",
   "execution_count": 24,
   "id": "640d98a6",
   "metadata": {},
   "outputs": [
    {
     "name": "stdout",
     "output_type": "stream",
     "text": [
      "My Second H1 Header\n"
     ]
    }
   ],
   "source": [
    "for h in h1_all:\n",
    "    if 'Second' in h.get_text():\n",
    "        print(h.get_text())"
   ]
  },
  {
   "cell_type": "code",
   "execution_count": 26,
   "id": "b195e941",
   "metadata": {},
   "outputs": [
    {
     "data": {
      "text/plain": [
       "'My First H1 Header'"
      ]
     },
     "execution_count": 26,
     "metadata": {},
     "output_type": "execute_result"
    }
   ],
   "source": [
    "h1_all[0]\n",
    "h1_all[0].get_text()"
   ]
  },
  {
   "cell_type": "code",
   "execution_count": 27,
   "id": "61423eb0",
   "metadata": {},
   "outputs": [
    {
     "data": {
      "text/plain": [
       "'My Second H1 Header'"
      ]
     },
     "execution_count": 27,
     "metadata": {},
     "output_type": "execute_result"
    }
   ],
   "source": [
    "h1_all[-1].get_text()"
   ]
  },
  {
   "cell_type": "code",
   "execution_count": 29,
   "id": "f73cec9d",
   "metadata": {},
   "outputs": [
    {
     "data": {
      "text/plain": [
       "<form>\n",
       "            Username: <input class=\"bg-yellow\" type=\"text\"/>\n",
       "<br/><br/>\n",
       "            Passowrd: <input type=\"password\"/>\n",
       "<br/><br/>\n",
       "<select>\n",
       "<option value=\"volvo\">Volvo</option>\n",
       "<option value=\"saab\">Saab</option>\n",
       "<option value=\"fiat\">Fiat</option>\n",
       "<option value=\"audi\">Audi</option>\n",
       "</select>\n",
       "<br/><br/>\n",
       "<input type=\"checkbox\"/>\n",
       "            I agree for the terms\n",
       "            <br/><br/>\n",
       "<input type=\"submit\" value=\"Search\"/>\n",
       "</form>"
      ]
     },
     "execution_count": 29,
     "metadata": {},
     "output_type": "execute_result"
    }
   ],
   "source": [
    "form=soup.find('form')\n",
    "form"
   ]
  },
  {
   "cell_type": "code",
   "execution_count": 31,
   "id": "a58ec423",
   "metadata": {},
   "outputs": [
    {
     "data": {
      "text/plain": [
       "<select>\n",
       "<option value=\"volvo\">Volvo</option>\n",
       "<option value=\"saab\">Saab</option>\n",
       "<option value=\"fiat\">Fiat</option>\n",
       "<option value=\"audi\">Audi</option>\n",
       "</select>"
      ]
     },
     "execution_count": 31,
     "metadata": {},
     "output_type": "execute_result"
    }
   ],
   "source": [
    "s=form.find('select')\n",
    "s"
   ]
  },
  {
   "cell_type": "code",
   "execution_count": 32,
   "id": "3a1dd4ed",
   "metadata": {},
   "outputs": [
    {
     "data": {
      "text/plain": [
       "[<option value=\"volvo\">Volvo</option>,\n",
       " <option value=\"saab\">Saab</option>,\n",
       " <option value=\"fiat\">Fiat</option>,\n",
       " <option value=\"audi\">Audi</option>]"
      ]
     },
     "execution_count": 32,
     "metadata": {},
     "output_type": "execute_result"
    }
   ],
   "source": [
    "o=s.find_all('option')\n",
    "o"
   ]
  },
  {
   "cell_type": "code",
   "execution_count": 33,
   "id": "35767027",
   "metadata": {},
   "outputs": [
    {
     "name": "stdout",
     "output_type": "stream",
     "text": [
      "Volvo\n",
      "Saab\n",
      "Fiat\n",
      "Audi\n"
     ]
    }
   ],
   "source": [
    "for os in o:\n",
    "    print(os.get_text())"
   ]
  },
  {
   "cell_type": "code",
   "execution_count": 34,
   "id": "0722e714",
   "metadata": {},
   "outputs": [
    {
     "data": {
      "text/plain": [
       "[<option value=\"volvo\">Volvo</option>,\n",
       " <option value=\"saab\">Saab</option>,\n",
       " <option value=\"fiat\">Fiat</option>,\n",
       " <option value=\"audi\">Audi</option>]"
      ]
     },
     "execution_count": 34,
     "metadata": {},
     "output_type": "execute_result"
    }
   ],
   "source": [
    "s_new=soup.find_all('option')\n",
    "s_new"
   ]
  },
  {
   "cell_type": "code",
   "execution_count": 35,
   "id": "9f217679",
   "metadata": {},
   "outputs": [
    {
     "name": "stdout",
     "output_type": "stream",
     "text": [
      "Volvo\n",
      "Saab\n",
      "Fiat\n",
      "Audi\n"
     ]
    }
   ],
   "source": [
    "for s in s_new:\n",
    "    print(s.get_text())"
   ]
  },
  {
   "cell_type": "code",
   "execution_count": 36,
   "id": "28f56a8e",
   "metadata": {},
   "outputs": [
    {
     "data": {
      "text/plain": [
       "<table>\n",
       "<tr>\n",
       "<th>House Size</th>\n",
       "<th>Num of Rooms</th>\n",
       "<th class=\"bg-yellow\">Has Garden</th>\n",
       "<th>Price</th>\n",
       "</tr>\n",
       "<tr>\n",
       "<td>120</td>\n",
       "<td>3</td>\n",
       "<td>yes</td>\n",
       "<td>500000</td>\n",
       "</tr>\n",
       "<tr>\n",
       "<td>140</td>\n",
       "<td>4</td>\n",
       "<td class=\"bg-yellow\">no</td>\n",
       "<td>750000</td>\n",
       "</tr>\n",
       "<tr>\n",
       "<td>80</td>\n",
       "<td>1</td>\n",
       "<td>no</td>\n",
       "<td>300000</td>\n",
       "</tr>\n",
       "</table>"
      ]
     },
     "execution_count": 36,
     "metadata": {},
     "output_type": "execute_result"
    }
   ],
   "source": [
    "table = soup.find('table')\n",
    "table"
   ]
  },
  {
   "cell_type": "code",
   "execution_count": 42,
   "id": "b89e3330",
   "metadata": {},
   "outputs": [
    {
     "data": {
      "text/plain": [
       "[<tr>\n",
       " <th>House Size</th>\n",
       " <th>Num of Rooms</th>\n",
       " <th class=\"bg-yellow\">Has Garden</th>\n",
       " <th>Price</th>\n",
       " </tr>,\n",
       " <tr>\n",
       " <td>120</td>\n",
       " <td>3</td>\n",
       " <td>yes</td>\n",
       " <td>500000</td>\n",
       " </tr>,\n",
       " <tr>\n",
       " <td>140</td>\n",
       " <td>4</td>\n",
       " <td class=\"bg-yellow\">no</td>\n",
       " <td>750000</td>\n",
       " </tr>,\n",
       " <tr>\n",
       " <td>80</td>\n",
       " <td>1</td>\n",
       " <td>no</td>\n",
       " <td>300000</td>\n",
       " </tr>]"
      ]
     },
     "execution_count": 42,
     "metadata": {},
     "output_type": "execute_result"
    }
   ],
   "source": [
    "table=table.find_all('tr')\n",
    "table"
   ]
  },
  {
   "cell_type": "code",
   "execution_count": 58,
   "id": "b0bd4a26",
   "metadata": {},
   "outputs": [
    {
     "data": {
      "text/plain": [
       "[500000, 750000, 300000]"
      ]
     },
     "execution_count": 58,
     "metadata": {},
     "output_type": "execute_result"
    }
   ],
   "source": [
    "prices=[]\n",
    "for trs in table[1:]:\n",
    "    prices.append(int(trs.find_all('td')[-1].get_text()))\n",
    "prices    "
   ]
  },
  {
   "cell_type": "code",
   "execution_count": null,
   "id": "ba84cd10",
   "metadata": {},
   "outputs": [],
   "source": []
  }
 ],
 "metadata": {
  "kernelspec": {
   "display_name": "Python 3 (ipykernel)",
   "language": "python",
   "name": "python3"
  },
  "language_info": {
   "codemirror_mode": {
    "name": "ipython",
    "version": 3
   },
   "file_extension": ".py",
   "mimetype": "text/x-python",
   "name": "python",
   "nbconvert_exporter": "python",
   "pygments_lexer": "ipython3",
   "version": "3.9.13"
  }
 },
 "nbformat": 4,
 "nbformat_minor": 5
}
