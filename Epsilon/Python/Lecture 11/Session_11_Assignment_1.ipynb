{
 "cells": [
  {
   "cell_type": "code",
   "execution_count": 23,
   "id": "85185cab",
   "metadata": {},
   "outputs": [
    {
     "name": "stdout",
     "output_type": "stream",
     "text": [
      "enter the amount of dollars : 10\n",
      "the amount of dollars in egp will be : 308.914\n"
     ]
    }
   ],
   "source": [
    "import requests\n",
    "from bs4 import BeautifulSoup\n",
    "url='https://www.exchangerates.org.uk/Dollars-to-Egyptian-Pounds-currency-conversion-page.html'\n",
    "response=requests.get(url)\n",
    "soup=BeautifulSoup(response.text,'html.parser')\n",
    "rate_class=soup.find('div',attrs={'class':'large-5 medium-5 small-12 columns nolpad'})\n",
    "rate_div=rate_class.find_all('div',attrs={'class':'p_conv30'})\n",
    "rate_id=rate_div[1]\n",
    "rate_id_usd=rate_id.find('span',attrs={'id':'shd2b;'})\n",
    "rate_id_usd=float(rate_id_usd.get_text())\n",
    "usd=float(input(\"enter the amount of dollars : \"))\n",
    "egp=usd * rate_id_usd\n",
    "print(f\"the amount of dollars in egp will be : {egp}\")"
   ]
  },
  {
   "cell_type": "code",
   "execution_count": 25,
   "id": "b7e5e03a",
   "metadata": {},
   "outputs": [
    {
     "name": "stdout",
     "output_type": "stream",
     "text": [
      "enter the amount of dollars : 10\n",
      "the amount of dollars in egp will be : 308.914\n"
     ]
    }
   ],
   "source": [
    "#another solution\n",
    "import requests\n",
    "from bs4 import BeautifulSoup\n",
    "url='https://www.exchangerates.org.uk/Dollars-to-Egyptian-Pounds-currency-conversion-page.html'\n",
    "response=requests.get(url)\n",
    "soup=BeautifulSoup(response.text,'html.parser')\n",
    "rate_id_usd=float(soup.find('span',attrs={'id':'shd2b;'}).get_text())\n",
    "usd=float(input(\"enter the amount of dollars : \"))\n",
    "egp=usd * rate_id_usd\n",
    "print(f\"the amount of dollars in egp will be : {egp}\")"
   ]
  },
  {
   "cell_type": "code",
   "execution_count": null,
   "id": "e2233884",
   "metadata": {},
   "outputs": [],
   "source": []
  },
  {
   "cell_type": "code",
   "execution_count": null,
   "id": "bbc0de4f",
   "metadata": {},
   "outputs": [],
   "source": []
  },
  {
   "cell_type": "code",
   "execution_count": null,
   "id": "60e2d109",
   "metadata": {},
   "outputs": [],
   "source": []
  },
  {
   "cell_type": "code",
   "execution_count": null,
   "id": "972e2571",
   "metadata": {},
   "outputs": [],
   "source": []
  },
  {
   "cell_type": "code",
   "execution_count": null,
   "id": "3162e9f5",
   "metadata": {},
   "outputs": [],
   "source": []
  },
  {
   "cell_type": "code",
   "execution_count": null,
   "id": "9a310007",
   "metadata": {},
   "outputs": [],
   "source": []
  }
 ],
 "metadata": {
  "kernelspec": {
   "display_name": "Python 3 (ipykernel)",
   "language": "python",
   "name": "python3"
  },
  "language_info": {
   "codemirror_mode": {
    "name": "ipython",
    "version": 3
   },
   "file_extension": ".py",
   "mimetype": "text/x-python",
   "name": "python",
   "nbconvert_exporter": "python",
   "pygments_lexer": "ipython3",
   "version": "3.9.13"
  }
 },
 "nbformat": 4,
 "nbformat_minor": 5
}
