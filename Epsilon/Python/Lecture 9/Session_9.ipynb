{
 "cells": [
  {
   "cell_type": "code",
   "execution_count": 6,
   "id": "7fd034d8",
   "metadata": {},
   "outputs": [
    {
     "name": "stdout",
     "output_type": "stream",
     "text": [
      "Hello 3\n",
      "Hello 3\n",
      "Hello 3\n",
      "Hello 3\n",
      "Hello 3\n"
     ]
    }
   ],
   "source": [
    "age='3'\n",
    "print(\"Hello\",age)\n",
    "print(\"Hello\"+\" \"+age)\n",
    "print(\"Hello {}\".format(age))\n",
    "print(f\"Hello {age}\")\n",
    "print(\"Hello %s\"%age)"
   ]
  },
  {
   "cell_type": "code",
   "execution_count": 7,
   "id": "43e568f3",
   "metadata": {},
   "outputs": [
    {
     "name": "stdout",
     "output_type": "stream",
     "text": [
      "enter first num4\n",
      "enter second num5\n"
     ]
    }
   ],
   "source": [
    "x=int(input(\"enter first num : \"))\n",
    "y=int(input(\"enter second num : \"))\n"
   ]
  },
  {
   "cell_type": "code",
   "execution_count": 9,
   "id": "d39ae572",
   "metadata": {},
   "outputs": [
    {
     "name": "stdout",
     "output_type": "stream",
     "text": [
      "enter two number1 2\n"
     ]
    },
    {
     "ename": "ValueError",
     "evalue": "too many values to unpack (expected 2)",
     "output_type": "error",
     "traceback": [
      "\u001b[1;31m---------------------------------------------------------------------------\u001b[0m",
      "\u001b[1;31mValueError\u001b[0m                                Traceback (most recent call last)",
      "\u001b[1;32m~\\AppData\\Local\\Temp\\ipykernel_12260\\1465513838.py\u001b[0m in \u001b[0;36m<module>\u001b[1;34m\u001b[0m\n\u001b[1;32m----> 1\u001b[1;33m \u001b[0mx\u001b[0m\u001b[1;33m,\u001b[0m\u001b[0my\u001b[0m\u001b[1;33m=\u001b[0m\u001b[0minput\u001b[0m\u001b[1;33m(\u001b[0m\u001b[1;34m\"enter two number\"\u001b[0m\u001b[1;33m)\u001b[0m\u001b[1;33m\u001b[0m\u001b[1;33m\u001b[0m\u001b[0m\n\u001b[0m\u001b[0;32m      2\u001b[0m \u001b[0mx\u001b[0m\u001b[1;33m=\u001b[0m\u001b[0mint\u001b[0m\u001b[1;33m(\u001b[0m\u001b[0mx\u001b[0m\u001b[1;33m)\u001b[0m\u001b[1;33m\u001b[0m\u001b[1;33m\u001b[0m\u001b[0m\n\u001b[0;32m      3\u001b[0m \u001b[0my\u001b[0m\u001b[1;33m=\u001b[0m\u001b[0mint\u001b[0m\u001b[1;33m(\u001b[0m\u001b[0my\u001b[0m\u001b[1;33m)\u001b[0m\u001b[1;33m\u001b[0m\u001b[1;33m\u001b[0m\u001b[0m\n",
      "\u001b[1;31mValueError\u001b[0m: too many values to unpack (expected 2)"
     ]
    }
   ],
   "source": [
    "x,y=input(\"enter two number\")\n",
    "x=int(x)\n",
    "y=int(y)"
   ]
  },
  {
   "cell_type": "code",
   "execution_count": 10,
   "id": "21ab3378",
   "metadata": {},
   "outputs": [
    {
     "name": "stdout",
     "output_type": "stream",
     "text": [
      "enter two number1 2 \n"
     ]
    }
   ],
   "source": [
    "x,y=input(\"enter two number : \").split()\n",
    "x=int(x)\n",
    "y=int(y)"
   ]
  },
  {
   "cell_type": "code",
   "execution_count": 11,
   "id": "9d91b066",
   "metadata": {},
   "outputs": [
    {
     "name": "stdout",
     "output_type": "stream",
     "text": [
      "enter two numbers :1 2\n"
     ]
    }
   ],
   "source": [
    "x,y=map(int,input(\"enter two numbers :\").split())"
   ]
  },
  {
   "cell_type": "code",
   "execution_count": 12,
   "id": "5441f0ee",
   "metadata": {},
   "outputs": [
    {
     "name": "stdout",
     "output_type": "stream",
     "text": [
      "1\n"
     ]
    }
   ],
   "source": [
    "print(3//2)"
   ]
  },
  {
   "cell_type": "code",
   "execution_count": 18,
   "id": "a060bc49",
   "metadata": {},
   "outputs": [
    {
     "name": "stdout",
     "output_type": "stream",
     "text": [
      "enter num : 102\n",
      "2\n",
      "2\n"
     ]
    }
   ],
   "source": [
    "x=int(input(\"enter num : \"))\n",
    "x=str(x)\n",
    "print(int(x[-1]))\n",
    "x=int(x)\n",
    "print(x%10)"
   ]
  },
  {
   "cell_type": "code",
   "execution_count": 21,
   "id": "07b16355",
   "metadata": {},
   "outputs": [
    {
     "name": "stdout",
     "output_type": "stream",
     "text": [
      "enter days : 366\n",
      "years 1 , months 0 , days 1\n"
     ]
    }
   ],
   "source": [
    "days=int(input(\"enter days : \"))\n",
    "years=days//365\n",
    "months=(days % 365) // 30\n",
    "day=days - (years * 365) - (months * 30)\n",
    "print(\"years {} , months {} , days {}\".format(years,months,day))"
   ]
  },
  {
   "cell_type": "code",
   "execution_count": 22,
   "id": "81da3f96",
   "metadata": {},
   "outputs": [
    {
     "name": "stdout",
     "output_type": "stream",
     "text": [
      "enter days : 366\n",
      "years 1 , months 0 , days 1\n"
     ]
    }
   ],
   "source": [
    "days=int(input(\"enter days : \"))\n",
    "years=days//365\n",
    "months=(days % 365) // 30\n",
    "day=(days % 365) % 30\n",
    "#day=days % 30\n",
    "print(\"years {} , months {} , days {}\".format(years,months,day))"
   ]
  },
  {
   "cell_type": "code",
   "execution_count": 24,
   "id": "36369dbb",
   "metadata": {},
   "outputs": [
    {
     "name": "stdout",
     "output_type": "stream",
     "text": [
      "enter seconds : 3601\n",
      "hours 1 , minutes 0 , seconds 1\n"
     ]
    }
   ],
   "source": [
    "secs=int(input(\"enter seconds : \"))\n",
    "hours=secs//3600\n",
    "mins=(secs % 3600) // 60\n",
    "seconds=secs - (hours*3600) - (mins * 60)\n",
    "print(\"hours {} , minutes {} , seconds {}\".format(hours,mins,seconds))"
   ]
  },
  {
   "cell_type": "code",
   "execution_count": 25,
   "id": "cd42369d",
   "metadata": {},
   "outputs": [
    {
     "name": "stdout",
     "output_type": "stream",
     "text": [
      "enter seconds : 3601\n",
      "hours 1 , minutes 0 , seconds 1\n"
     ]
    }
   ],
   "source": [
    "secs=int(input(\"enter seconds : \"))\n",
    "hours=secs//3600\n",
    "mins=(secs % 3600) // 60\n",
    "seconds=(secs % 3600) % 60\n",
    "print(\"hours {} , minutes {} , seconds {}\".format(hours,mins,seconds))"
   ]
  },
  {
   "cell_type": "code",
   "execution_count": 26,
   "id": "65e7fc17",
   "metadata": {},
   "outputs": [
    {
     "name": "stdout",
     "output_type": "stream",
     "text": [
      "enter seconds : 3601\n",
      "hours 1 , minutes 0 , seconds 1\n"
     ]
    }
   ],
   "source": [
    "secs=int(input(\"enter seconds : \"))\n",
    "hours=secs//3600\n",
    "mins=(secs % 3600) // 60\n",
    "seconds=secs % 60\n",
    "print(\"hours {} , minutes {} , seconds {}\".format(hours,mins,seconds))"
   ]
  },
  {
   "cell_type": "code",
   "execution_count": 29,
   "id": "bb881744",
   "metadata": {},
   "outputs": [
    {
     "name": "stdout",
     "output_type": "stream",
     "text": [
      "enter string : omar\n",
      "enter index you want to remove : 1\n",
      "oar\n"
     ]
    }
   ],
   "source": [
    "st=input(\"enter string : \")\n",
    "ind=int(input(\"enter index you want to remove : \"))\n",
    "if ind < len(st) :\n",
    "    print(st[:ind]+st[ind+1:])"
   ]
  },
  {
   "cell_type": "code",
   "execution_count": 30,
   "id": "c63ad2f7",
   "metadata": {},
   "outputs": [
    {
     "name": "stdout",
     "output_type": "stream",
     "text": [
      "enter string : omar\n",
      "enter index you want to remove : 1\n",
      "oar\n"
     ]
    }
   ],
   "source": [
    "st=input(\"enter string : \")\n",
    "ind=int(input(\"enter index you want to remove : \"))\n",
    "if ind < len(st) :\n",
    "    st=list(st)\n",
    "    st.remove(st[ind])\n",
    "    st=''.join(st)\n",
    "    print(st)"
   ]
  },
  {
   "cell_type": "code",
   "execution_count": 41,
   "id": "8817b7e5",
   "metadata": {},
   "outputs": [
    {
     "data": {
      "text/plain": [
       "'Ford'"
      ]
     },
     "execution_count": 41,
     "metadata": {},
     "output_type": "execute_result"
    }
   ],
   "source": [
    "car = { \"brand\": \"Ford\", \"model\": \"Mustang\", \"year\": 1964 }\n",
    "car['brand']"
   ]
  },
  {
   "cell_type": "code",
   "execution_count": 42,
   "id": "cf0a5c53",
   "metadata": {},
   "outputs": [
    {
     "data": {
      "text/plain": [
       "'Ford'"
      ]
     },
     "execution_count": 42,
     "metadata": {},
     "output_type": "execute_result"
    }
   ],
   "source": [
    "car.get('brand')"
   ]
  },
  {
   "cell_type": "code",
   "execution_count": 43,
   "id": "06f6ccd9",
   "metadata": {},
   "outputs": [
    {
     "data": {
      "text/plain": [
       "{'brand': 'Ford', 'model': 'Mustang', 'year': 1964, 'country': 'USA'}"
      ]
     },
     "execution_count": 43,
     "metadata": {},
     "output_type": "execute_result"
    }
   ],
   "source": [
    "car['country']='USA'\n",
    "car "
   ]
  },
  {
   "cell_type": "code",
   "execution_count": 44,
   "id": "a43ae16c",
   "metadata": {},
   "outputs": [
    {
     "data": {
      "text/plain": [
       "dict_items([('brand', 'Ford'), ('model', 'Mustang'), ('year', 1964), ('country', 'USA')])"
      ]
     },
     "execution_count": 44,
     "metadata": {},
     "output_type": "execute_result"
    }
   ],
   "source": [
    "car.items()"
   ]
  },
  {
   "cell_type": "code",
   "execution_count": 45,
   "id": "c116c7f5",
   "metadata": {},
   "outputs": [],
   "source": [
    "car.update({'color':'red'})\n"
   ]
  },
  {
   "cell_type": "code",
   "execution_count": 46,
   "id": "78f4d288",
   "metadata": {},
   "outputs": [
    {
     "data": {
      "text/plain": [
       "{'brand': 'Ford',\n",
       " 'model': 'Mustang',\n",
       " 'year': 1964,\n",
       " 'country': 'USA',\n",
       " 'color': 'red'}"
      ]
     },
     "execution_count": 46,
     "metadata": {},
     "output_type": "execute_result"
    }
   ],
   "source": [
    "car "
   ]
  },
  {
   "cell_type": "code",
   "execution_count": 52,
   "id": "ae45517d",
   "metadata": {},
   "outputs": [
    {
     "data": {
      "text/plain": [
       "{'a': 100, 'b': 200}"
      ]
     },
     "execution_count": 52,
     "metadata": {},
     "output_type": "execute_result"
    }
   ],
   "source": [
    "d1 = {'a': 100, 'b': 200}\n",
    "d2 = {'x': 300, 'y': 200}\n",
    "d3={}\n",
    "d3.update(d1)\n",
    "d3"
   ]
  },
  {
   "cell_type": "code",
   "execution_count": 53,
   "id": "bdfa0199",
   "metadata": {},
   "outputs": [
    {
     "data": {
      "text/plain": [
       "{'a': 100, 'b': 200, 'x': 300, 'y': 200}"
      ]
     },
     "execution_count": 53,
     "metadata": {},
     "output_type": "execute_result"
    }
   ],
   "source": [
    "d3.update(d2)\n",
    "d3"
   ]
  },
  {
   "cell_type": "code",
   "execution_count": 56,
   "id": "422b2b51",
   "metadata": {},
   "outputs": [
    {
     "data": {
      "text/plain": [
       "300"
      ]
     },
     "execution_count": 56,
     "metadata": {},
     "output_type": "execute_result"
    }
   ],
   "source": [
    "d1\n",
    "sum=0\n",
    "for v in d1.values():\n",
    "    sum=sum+v\n",
    "sum    "
   ]
  },
  {
   "cell_type": "code",
   "execution_count": 61,
   "id": "2fb7c477",
   "metadata": {},
   "outputs": [
    {
     "data": {
      "text/plain": [
       "300"
      ]
     },
     "execution_count": 61,
     "metadata": {},
     "output_type": "execute_result"
    }
   ],
   "source": [
    "d1\n",
    "sum=0\n",
    "for k in d1.keys():\n",
    "    sum=sum+d1[k]\n",
    "sum  "
   ]
  },
  {
   "cell_type": "code",
   "execution_count": 67,
   "id": "24d9b4d6",
   "metadata": {},
   "outputs": [
    {
     "data": {
      "text/plain": [
       "300"
      ]
     },
     "execution_count": 67,
     "metadata": {},
     "output_type": "execute_result"
    }
   ],
   "source": [
    "d1\n",
    "sum=0\n",
    "for k,v in d1.items():\n",
    "    sum=sum+v\n",
    "    #sum=sum+d1[k]\n",
    "sum  "
   ]
  },
  {
   "cell_type": "code",
   "execution_count": 68,
   "id": "fed80c59",
   "metadata": {},
   "outputs": [
    {
     "data": {
      "text/plain": [
       "(1, 2, 3)"
      ]
     },
     "execution_count": 68,
     "metadata": {},
     "output_type": "execute_result"
    }
   ],
   "source": [
    "t=(1,2,3)\n",
    "t"
   ]
  },
  {
   "cell_type": "code",
   "execution_count": 69,
   "id": "14b16927",
   "metadata": {},
   "outputs": [
    {
     "data": {
      "text/plain": [
       "(1, 2, 3, 4)"
      ]
     },
     "execution_count": 69,
     "metadata": {},
     "output_type": "execute_result"
    }
   ],
   "source": [
    "t=t+(4,)\n",
    "t"
   ]
  },
  {
   "cell_type": "code",
   "execution_count": 70,
   "id": "30d2bd74",
   "metadata": {},
   "outputs": [
    {
     "data": {
      "text/plain": [
       "1"
      ]
     },
     "execution_count": 70,
     "metadata": {},
     "output_type": "execute_result"
    }
   ],
   "source": [
    "t.count(4)"
   ]
  },
  {
   "cell_type": "code",
   "execution_count": 71,
   "id": "9ab07491",
   "metadata": {},
   "outputs": [
    {
     "data": {
      "text/plain": [
       "0"
      ]
     },
     "execution_count": 71,
     "metadata": {},
     "output_type": "execute_result"
    }
   ],
   "source": [
    "t.index(1)"
   ]
  },
  {
   "cell_type": "code",
   "execution_count": 72,
   "id": "744eedc7",
   "metadata": {},
   "outputs": [
    {
     "data": {
      "text/plain": [
       "{1}"
      ]
     },
     "execution_count": 72,
     "metadata": {},
     "output_type": "execute_result"
    }
   ],
   "source": [
    "s=set()\n",
    "s.add(1)\n",
    "s"
   ]
  },
  {
   "cell_type": "code",
   "execution_count": 73,
   "id": "6ef4425e",
   "metadata": {},
   "outputs": [
    {
     "data": {
      "text/plain": [
       "{1, 2, 3, 4}"
      ]
     },
     "execution_count": 73,
     "metadata": {},
     "output_type": "execute_result"
    }
   ],
   "source": [
    "s.update([2,3,4])\n",
    "s"
   ]
  },
  {
   "cell_type": "code",
   "execution_count": 74,
   "id": "deb20622",
   "metadata": {},
   "outputs": [
    {
     "data": {
      "text/plain": [
       "{2, 3, 4}"
      ]
     },
     "execution_count": 74,
     "metadata": {},
     "output_type": "execute_result"
    }
   ],
   "source": [
    "s.pop()\n",
    "s"
   ]
  },
  {
   "cell_type": "code",
   "execution_count": 78,
   "id": "6f06e6de",
   "metadata": {},
   "outputs": [
    {
     "data": {
      "text/plain": [
       "{3, 4}"
      ]
     },
     "execution_count": 78,
     "metadata": {},
     "output_type": "execute_result"
    }
   ],
   "source": [
    "s.remove(2)\n",
    "s"
   ]
  },
  {
   "cell_type": "code",
   "execution_count": 79,
   "id": "e7489987",
   "metadata": {},
   "outputs": [
    {
     "data": {
      "text/plain": [
       "{'blue', 'red'}"
      ]
     },
     "execution_count": 79,
     "metadata": {},
     "output_type": "execute_result"
    }
   ],
   "source": [
    "s1 ={'blue','red'}\n",
    "s2 = {'red','blue'}\n",
    "s1.intersection(s2)"
   ]
  },
  {
   "cell_type": "code",
   "execution_count": 80,
   "id": "85815f8f",
   "metadata": {},
   "outputs": [
    {
     "data": {
      "text/plain": [
       "{'blue', 'red'}"
      ]
     },
     "execution_count": 80,
     "metadata": {},
     "output_type": "execute_result"
    }
   ],
   "source": [
    "s1 & s2"
   ]
  },
  {
   "cell_type": "code",
   "execution_count": 81,
   "id": "07490f1b",
   "metadata": {},
   "outputs": [
    {
     "data": {
      "text/plain": [
       "{'blue', 'red'}"
      ]
     },
     "execution_count": 81,
     "metadata": {},
     "output_type": "execute_result"
    }
   ],
   "source": [
    "s1.union(s2)"
   ]
  },
  {
   "cell_type": "code",
   "execution_count": 82,
   "id": "4416ab0b",
   "metadata": {},
   "outputs": [
    {
     "data": {
      "text/plain": [
       "{'blue', 'red'}"
      ]
     },
     "execution_count": 82,
     "metadata": {},
     "output_type": "execute_result"
    }
   ],
   "source": [
    "s1 | s2"
   ]
  },
  {
   "cell_type": "code",
   "execution_count": 84,
   "id": "c65903be",
   "metadata": {},
   "outputs": [
    {
     "name": "stdout",
     "output_type": "stream",
     "text": [
      "enter num : 32\n",
      "True\n"
     ]
    }
   ],
   "source": [
    "num=int(input(\"enter num : \"))\n",
    "if (num % 8 == 0) and (num % 4 == 0):\n",
    "    print(True)\n",
    "else :\n",
    "    print(False)"
   ]
  },
  {
   "cell_type": "code",
   "execution_count": 14,
   "id": "bf86e6f7",
   "metadata": {},
   "outputs": [
    {
     "name": "stdout",
     "output_type": "stream",
     "text": [
      "Please enter the coordinates : 1 1\n",
      "Q1\n"
     ]
    }
   ],
   "source": [
    "x,y=map(int,input(\"Please enter the coordinates : \").split())\n",
    "if x > 0 and y > 0 :\n",
    "    print(\"Q1\")\n",
    "elif x <0 and y >0 :\n",
    "    print(\"Q2\")\n",
    "elif x<0 and y <0 :\n",
    "    print(\"Q3\")\n",
    "elif x >0 and y <0 :\n",
    "    print(\"Q4\")\n",
    "elif x == 0 and y == 0 :\n",
    "    print(\"Orgin\")\n",
    "elif (x == 0 and y > 0)  or (x == 0 and y < 0) :\n",
    "    print(\"Y axis\")\n",
    "elif (y==0 and x > 0) or (y==0 and x < 0):\n",
    "    print(\"X axis\")\n",
    "    "
   ]
  },
  {
   "cell_type": "code",
   "execution_count": 15,
   "id": "8fcc44ae",
   "metadata": {},
   "outputs": [
    {
     "data": {
      "text/plain": [
       "[5, 10, 15, 20, 25, 30, 35, 40, 45, 50]"
      ]
     },
     "execution_count": 15,
     "metadata": {},
     "output_type": "execute_result"
    }
   ],
   "source": [
    "lst=[i for i in range(1,51) if i % 5 ==0 ]\n",
    "lst"
   ]
  },
  {
   "cell_type": "code",
   "execution_count": 16,
   "id": "6b2666c4",
   "metadata": {},
   "outputs": [
    {
     "name": "stdout",
     "output_type": "stream",
     "text": [
      "start\n",
      "s\n",
      "sentence\n"
     ]
    }
   ],
   "source": [
    "st = 'Print only the words that start with s in this sentence'\n",
    "for word in st.split() :\n",
    "    if word.startswith('s'):\n",
    "        print(word)"
   ]
  },
  {
   "cell_type": "code",
   "execution_count": 17,
   "id": "83e096ea",
   "metadata": {},
   "outputs": [
    {
     "data": {
      "text/plain": [
       "-1"
      ]
     },
     "execution_count": 17,
     "metadata": {},
     "output_type": "execute_result"
    }
   ],
   "source": [
    "s = 'hello'\n",
    "s.find('k')"
   ]
  },
  {
   "cell_type": "code",
   "execution_count": null,
   "id": "9f9ccc72",
   "metadata": {},
   "outputs": [],
   "source": []
  }
 ],
 "metadata": {
  "kernelspec": {
   "display_name": "Python 3 (ipykernel)",
   "language": "python",
   "name": "python3"
  },
  "language_info": {
   "codemirror_mode": {
    "name": "ipython",
    "version": 3
   },
   "file_extension": ".py",
   "mimetype": "text/x-python",
   "name": "python",
   "nbconvert_exporter": "python",
   "pygments_lexer": "ipython3",
   "version": "3.9.13"
  }
 },
 "nbformat": 4,
 "nbformat_minor": 5
}
