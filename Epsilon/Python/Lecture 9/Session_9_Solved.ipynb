{
 "cells": [
  {
   "cell_type": "markdown",
   "id": "f12a73a0",
   "metadata": {},
   "source": [
    "##### Variable Names\n",
    "A variable can have a short name (like x and y) or a more descriptive name (age, carname, total_volume).\n",
    "Rules for Python variables:\n",
    "- A variable name must start with a letter or the underscore character\n",
    "- A variable name cannot start with a number\n",
    "- A variable name can only contain alpha-numeric characters and underscores (A-z, 0-9, and _ )\n",
    "- Variable names are case-sensitive (age, Age and AGE are three different variables)"
   ]
  },
  {
   "cell_type": "code",
   "execution_count": null,
   "id": "bf8b3394",
   "metadata": {
    "collapsed": true
   },
   "outputs": [],
   "source": [
    "myvar = \"var\" # \n",
    "my_var = 5    #  \n",
    "_my_var = 6.5 #  \n",
    "myVar = True  #  \n",
    "MYVAR = False #  \n",
    "myvar2 = \"3333\" # \n",
    "\n",
    "\n",
    "\n",
    "#Illegal variable names:\n",
    "2myvar = \"Error\" \n",
    "my-var = \"Error\"\n",
    "my var = \"Error\""
   ]
  },
  {
   "cell_type": "markdown",
   "id": "8bb6b409",
   "metadata": {},
   "source": [
    "##### Get user name and pint \"Hello, Username\"."
   ]
  },
  {
   "cell_type": "code",
   "execution_count": 1,
   "id": "f3393ef4",
   "metadata": {},
   "outputs": [
    {
     "name": "stdout",
     "output_type": "stream",
     "text": [
      "Enter ur name omar\n",
      "Hello omar\n",
      "Helloomar\n",
      "omar\n",
      "Hello omar\n",
      "Hello omar\n",
      "HEllo omar\n"
     ]
    }
   ],
   "source": [
    "# Answer here \n",
    "name = input(\"Enter ur name \")\n",
    "print(\"Hello\",name)\n",
    "print(\"Hello\"+name)\n",
    "print(name)\n",
    "print(\"Hello {}\".format(name))\n",
    "print(f\"Hello {name}\")\n",
    "print(\"HEllo %s\"%name)"
   ]
  },
  {
   "cell_type": "markdown",
   "id": "b57db09f",
   "metadata": {},
   "source": [
    "##### How to take multiple variables ? "
   ]
  },
  {
   "cell_type": "code",
   "execution_count": null,
   "id": "3a936e4e",
   "metadata": {
    "collapsed": true
   },
   "outputs": [],
   "source": [
    "# Answer here \n",
    "x= int(input(\"enter num1: \") )\n",
    "y = int(input(\"enter num2: \"))\n",
    "print(x+y)"
   ]
  },
  {
   "cell_type": "code",
   "execution_count": null,
   "id": "abc8849f",
   "metadata": {
    "collapsed": true
   },
   "outputs": [],
   "source": [
    "x,y = input(\"Enter numbers : \")\n",
    "x = int(x)\n",
    "y=int(y)\n",
    "print(x+y)"
   ]
  },
  {
   "cell_type": "code",
   "execution_count": null,
   "id": "cd10e5e1",
   "metadata": {
    "collapsed": true
   },
   "outputs": [],
   "source": [
    "x,y = input(\"Enter numbers : \").split()\n",
    "x = int(x)\n",
    "y=int(y)\n",
    "print(x+y)"
   ]
  },
  {
   "cell_type": "code",
   "execution_count": null,
   "id": "7f8f432c",
   "metadata": {
    "collapsed": true
   },
   "outputs": [],
   "source": [
    "x,y = map(int, input(\"Enter numbers : \").split())\n",
    "print(x+y)"
   ]
  },
  {
   "cell_type": "markdown",
   "id": "4bce35b9",
   "metadata": {},
   "source": [
    "##### Write ceil devesion implementation. "
   ]
  },
  {
   "cell_type": "code",
   "execution_count": null,
   "id": "90c34f43",
   "metadata": {
    "collapsed": true
   },
   "outputs": [],
   "source": [
    "# Answer here \n",
    "x,y= map(int , input(\"Enter nums: \").split())\n",
    "print( (x//y) +1 ) "
   ]
  },
  {
   "cell_type": "markdown",
   "id": "77545b52",
   "metadata": {},
   "source": [
    "##### Take number from user and print last number (the ones place)"
   ]
  },
  {
   "cell_type": "code",
   "execution_count": null,
   "id": "f0bb1a45",
   "metadata": {
    "collapsed": true
   },
   "outputs": [],
   "source": [
    "# Answer here \n",
    "# input number as int or float \n",
    "# output number as int or float \n",
    "num = int(input('Enter num: ')) # int 28 bit  , str 49bit +1 bit for each char \n",
    "nums = str(num)\n",
    "last = nums[-1] # type string \n",
    "print(int(last)) "
   ]
  },
  {
   "cell_type": "code",
   "execution_count": null,
   "id": "29e8b582",
   "metadata": {
    "collapsed": true
   },
   "outputs": [],
   "source": [
    "num = int(input('Enter num: '))\n",
    "print ( num %10)"
   ]
  },
  {
   "cell_type": "markdown",
   "id": "1c7eff7f",
   "metadata": {},
   "source": [
    "##### Given  a number of days print the following: \n",
    "- How many years ? \n",
    "- How many months ?\n",
    "- How many days ?"
   ]
  },
  {
   "cell_type": "code",
   "execution_count": null,
   "id": "2fcdb479",
   "metadata": {
    "collapsed": true
   },
   "outputs": [],
   "source": [
    "# Answer here \n",
    "days = int(input(\"Enter days : \"))\n",
    "years = days // 365\n",
    "months = (days % 365 ) // 30\n",
    "day = days - (years * 365 ) - (months *30) \n",
    "print(\"years : \",years)\n",
    "print(\"months : \",months)\n",
    "print(\"days :\" , day)"
   ]
  },
  {
   "cell_type": "markdown",
   "id": "dd02504a",
   "metadata": {},
   "source": [
    "##### Given  a number of seconds print the following: \n",
    "- How many hours ? \n",
    "- How many minutes ?\n",
    "- How many seconds ?"
   ]
  },
  {
   "cell_type": "code",
   "execution_count": null,
   "id": "bb3b0d9a",
   "metadata": {
    "collapsed": true
   },
   "outputs": [],
   "source": [
    "# Answer here \n",
    "secs = int(input(\"Enter secs : \"))\n",
    "hours =  secs // 3600   \n",
    "mins  =  (secs % 3600) // 60\n",
    "sec   =  secs - ((hours* 3600) + (mins*60))\n",
    "print(\"{} secs conssit of {} hours and {} mins and {} sec\".format(secs , hours , mins,sec))"
   ]
  },
  {
   "cell_type": "code",
   "execution_count": null,
   "id": "041b55e5",
   "metadata": {
    "collapsed": true
   },
   "outputs": [],
   "source": [
    "# Answer here \n",
    "secs = int(input(\"Enter secs : \"))\n",
    "hours =  secs // 3600   \n",
    "mins  =  (secs % 3600) // 60\n",
    "sec   = (secs % 3600) % 60\n",
    "print(\"{} secs conssit of {} hours and {} mins and {} sec\".format(secs , hours , mins,sec))"
   ]
  },
  {
   "cell_type": "code",
   "execution_count": null,
   "id": "30b8f21a",
   "metadata": {
    "collapsed": true
   },
   "outputs": [],
   "source": [
    "# Answer here \n",
    "secs = int(input(\"Enter secs : \"))\n",
    "hours =  secs // 3600   \n",
    "mins  =  (secs % 3600) // 60\n",
    "sec   = secs % 60 \n",
    "print(\"{} secs conssit of {} hours and {} mins and {} sec\".format(secs , hours , mins,sec))"
   ]
  },
  {
   "cell_type": "markdown",
   "id": "b7c50842",
   "metadata": {},
   "source": [
    "#####  What is the Output of the following expression and why ? "
   ]
  },
  {
   "cell_type": "code",
   "execution_count": 2,
   "id": "3ec29170",
   "metadata": {},
   "outputs": [
    {
     "name": "stdout",
     "output_type": "stream",
     "text": [
      "False\n",
      "False\n"
     ]
    }
   ],
   "source": [
    "A = True\n",
    "B = False\n",
    "\n",
    "print((  A or  not B ) and ( A and B ) or B )\n",
    "print(B and A or ( A and  not A ) )"
   ]
  },
  {
   "cell_type": "code",
   "execution_count": null,
   "id": "b7044e9a",
   "metadata": {
    "collapsed": true
   },
   "outputs": [],
   "source": [
    "A=True\n",
    "B=False\n",
    "C=10 \n",
    "D=5\n",
    "#print(( A and B ) - C/D + B + (D*D)**.5)\n",
    "#print(( A or B )  + 5**2 + C//D )"
   ]
  },
  {
   "cell_type": "markdown",
   "id": "1fa458be",
   "metadata": {},
   "source": [
    "#### Given the string 'hello' give an index command that returns 'e'"
   ]
  },
  {
   "cell_type": "code",
   "execution_count": null,
   "id": "604129b7",
   "metadata": {
    "collapsed": true
   },
   "outputs": [],
   "source": [
    "# Answer here \n",
    "s= 'helloe'\n",
    "print(s[1])"
   ]
  },
  {
   "cell_type": "code",
   "execution_count": null,
   "id": "2b6daf69",
   "metadata": {
    "collapsed": true
   },
   "outputs": [],
   "source": [
    "print(s.index('e'))"
   ]
  },
  {
   "cell_type": "code",
   "execution_count": null,
   "id": "ba16890d",
   "metadata": {
    "collapsed": true
   },
   "outputs": [],
   "source": [
    "print(s.find('e'))"
   ]
  },
  {
   "cell_type": "code",
   "execution_count": null,
   "id": "7481a6c2",
   "metadata": {
    "collapsed": true
   },
   "outputs": [],
   "source": [
    "s[len(s)-1]"
   ]
  },
  {
   "cell_type": "markdown",
   "id": "efa18463",
   "metadata": {},
   "source": [
    "#####  Write a Python program to remove the nth index character from a nonempty string."
   ]
  },
  {
   "cell_type": "code",
   "execution_count": null,
   "id": "8b08ba74",
   "metadata": {
    "collapsed": true
   },
   "outputs": [],
   "source": [
    "# Answer here \n",
    "idx = 3\n",
    "st = 'python'\n",
    "# python  \n",
    "# 012345\n",
    "frist_part = st[:idx] # from 0 to idx-1\n",
    "last_part = st[idx+1:] # from idx+1 to last element  \n",
    "print(frist_part +last_part)"
   ]
  },
  {
   "cell_type": "markdown",
   "id": "c99e38cd",
   "metadata": {},
   "source": [
    "#### list "
   ]
  },
  {
   "cell_type": "code",
   "execution_count": null,
   "id": "798416fc",
   "metadata": {
    "collapsed": true
   },
   "outputs": [],
   "source": []
  },
  {
   "cell_type": "markdown",
   "id": "df2a2eff",
   "metadata": {},
   "source": [
    "#####  Write a Python script to merge two Python dictionaries.\n",
    "- d1 = {'a': 100, 'b': 200}\n",
    "- d2 = {'x': 300, 'y': 200}"
   ]
  },
  {
   "cell_type": "code",
   "execution_count": null,
   "id": "e7119c8a",
   "metadata": {
    "collapsed": true
   },
   "outputs": [],
   "source": [
    "# Answer here \n",
    "car = { \"brand\": \"Ford\", \"model\": \"Mustang\", \"year\": 1964 }\n",
    "#car['model']\n",
    "car.get('model')"
   ]
  },
  {
   "cell_type": "code",
   "execution_count": null,
   "id": "f8d08829",
   "metadata": {
    "collapsed": true
   },
   "outputs": [],
   "source": [
    "# Answer here \n",
    "d = {0: 10, 1: 20}\n",
    "d['2']=30\n",
    "d"
   ]
  },
  {
   "cell_type": "code",
   "execution_count": null,
   "id": "096c80d2",
   "metadata": {
    "collapsed": true
   },
   "outputs": [],
   "source": [
    "# Answer here \n",
    "d = {0: 10, 1: 20}\n",
    "d.update({2:30})\n",
    "d"
   ]
  },
  {
   "cell_type": "code",
   "execution_count": null,
   "id": "cc89678b",
   "metadata": {
    "collapsed": true
   },
   "outputs": [],
   "source": [
    "d1 = {'a': 100, 'b': 200}\n",
    "d2 = {'x': 300, 'y': 200}\n",
    "d3 = d1.copy()\n",
    "d3.update(d2)\n",
    "d3"
   ]
  },
  {
   "cell_type": "code",
   "execution_count": null,
   "id": "f13f7d7d",
   "metadata": {
    "collapsed": true
   },
   "outputs": [],
   "source": [
    "# Answer here \n",
    "d = {0: 10, 1: 20, '2': 30}\n",
    "sum(d.values())"
   ]
  },
  {
   "cell_type": "markdown",
   "id": "e7b23db2",
   "metadata": {},
   "source": [
    "#####  How to add an element to tuple ? "
   ]
  },
  {
   "cell_type": "code",
   "execution_count": 4,
   "id": "18a8b2bb",
   "metadata": {},
   "outputs": [
    {
     "data": {
      "text/plain": [
       "(1, 2, 3, 3, 9, 1)"
      ]
     },
     "execution_count": 4,
     "metadata": {},
     "output_type": "execute_result"
    }
   ],
   "source": [
    "# Answer here \n",
    "t = (1,2,3,3)\n",
    "t1 = t + (9,1)\n",
    "t1"
   ]
  },
  {
   "cell_type": "code",
   "execution_count": 5,
   "id": "4ec386ca",
   "metadata": {},
   "outputs": [
    {
     "data": {
      "text/plain": [
       "2"
      ]
     },
     "execution_count": 5,
     "metadata": {},
     "output_type": "execute_result"
    }
   ],
   "source": [
    "t1.count(3)"
   ]
  },
  {
   "cell_type": "code",
   "execution_count": 6,
   "id": "9e753e4d",
   "metadata": {},
   "outputs": [
    {
     "data": {
      "text/plain": [
       "4"
      ]
     },
     "execution_count": 6,
     "metadata": {},
     "output_type": "execute_result"
    }
   ],
   "source": [
    "t1.index(9)"
   ]
  },
  {
   "cell_type": "markdown",
   "id": "7578eb93",
   "metadata": {},
   "source": [
    "#####  Write a Python program to add member(s) in a set."
   ]
  },
  {
   "cell_type": "code",
   "execution_count": 8,
   "id": "871da8ff",
   "metadata": {},
   "outputs": [
    {
     "name": "stdout",
     "output_type": "stream",
     "text": [
      "set()\n",
      "{'white'}\n",
      "{'blue', 'black', 'red', 'white'}\n"
     ]
    },
    {
     "data": {
      "text/plain": [
       "'blue'"
      ]
     },
     "execution_count": 8,
     "metadata": {},
     "output_type": "execute_result"
    }
   ],
   "source": [
    "# Answer here \n",
    "s = set()\n",
    "print(s)\n",
    "s.add('white')\n",
    "print(s)\n",
    "s.update(['blue','red','black'])\n",
    "print(s)\n",
    "s.pop()\n",
    "s.remove()"
   ]
  },
  {
   "cell_type": "code",
   "execution_count": null,
   "id": "01b8da0d",
   "metadata": {
    "collapsed": true
   },
   "outputs": [],
   "source": [
    "# Answer here \n",
    "s1 ={'blue','red'}\n",
    "s2 = {'red','blue'}\n",
    "#s1.intersection(s2)\n",
    "s1&s2"
   ]
  },
  {
   "cell_type": "code",
   "execution_count": null,
   "id": "b002be82",
   "metadata": {
    "collapsed": true
   },
   "outputs": [],
   "source": [
    "# Answer here \n",
    "s1 ={'blue','red'}\n",
    "s2 = {'red','green'}\n",
    "#s1.union(s2)\n",
    "s1|s2"
   ]
  },
  {
   "cell_type": "markdown",
   "id": "1ebfa2e6",
   "metadata": {},
   "source": [
    "#####  get number frome user and tell him if the number is postive or negtive"
   ]
  },
  {
   "cell_type": "code",
   "execution_count": null,
   "id": "85ee1c62",
   "metadata": {
    "collapsed": true
   },
   "outputs": [],
   "source": [
    "# Answer here \n",
    "x= 5\n",
    "if x>0:\n",
    "    print(\"P\")\n",
    "else:\n",
    "    print(\"N\")"
   ]
  },
  {
   "cell_type": "code",
   "execution_count": null,
   "id": "94bd5e89",
   "metadata": {
    "collapsed": true
   },
   "outputs": [],
   "source": [
    "# Answer here \n",
    "x= -5\n",
    "if x<0:\n",
    "    print(\"N\")\n",
    "else:\n",
    "    print(\"P\")"
   ]
  },
  {
   "cell_type": "markdown",
   "id": "6de00a3f",
   "metadata": {},
   "source": [
    "##### Write a Python for a calcultor"
   ]
  },
  {
   "cell_type": "code",
   "execution_count": null,
   "id": "c1551bc9",
   "metadata": {
    "collapsed": true
   },
   "outputs": [],
   "source": [
    "num1 = 5\n",
    "num2 = 6\n",
    "op = '+'\n",
    "if op =='+':\n",
    "    print(num1+num2)\n",
    "elif op =='-':\n",
    "    print(num1-num2)\n",
    "elif op =='*':\n",
    "    print(num1*num2)\n",
    "elif op =='/':\n",
    "    print(num1/num2)\n",
    "else :\n",
    "    print('invalid operation')"
   ]
  },
  {
   "cell_type": "markdown",
   "id": "1eb6af69",
   "metadata": {},
   "source": [
    "#####  Write a Python program to find those numbers which are divisible by 8 and multiple of 4"
   ]
  },
  {
   "cell_type": "code",
   "execution_count": null,
   "id": "cca0f9ee",
   "metadata": {
    "collapsed": true
   },
   "outputs": [],
   "source": [
    "# Answer here \n",
    "num = 38 \n",
    "if (num % 8 ==0) and (num %4 ==0):\n",
    "    print('valid num')\n",
    "else :\n",
    "    print('invalid num')"
   ]
  },
  {
   "cell_type": "markdown",
   "id": "a20d2a17",
   "metadata": {},
   "source": [
    "##### 4.5 Given two numbers X, Y which donate coordinates of a point in 2D plan\n"
   ]
  },
  {
   "cell_type": "code",
   "execution_count": null,
   "id": "bd14f1ad",
   "metadata": {
    "collapsed": true
   },
   "outputs": [],
   "source": [
    "# Answer here \n",
    "x = -3\n",
    "y = -4 \n",
    "if x>0 and y>0 :\n",
    "    print(\"Q1\")\n",
    "elif x < 0 and y >0 :\n",
    "    print('Q2')\n",
    "elif x< 0 and y <0 :\n",
    "    print(\"Q3\")\n",
    "else :\n",
    "    print(\"Q4\")"
   ]
  },
  {
   "cell_type": "markdown",
   "id": "294d118b",
   "metadata": {},
   "source": [
    "#####  Display numbers from -10 to -1 using for and while loop"
   ]
  },
  {
   "cell_type": "code",
   "execution_count": null,
   "id": "1580d9a7",
   "metadata": {
    "collapsed": true
   },
   "outputs": [],
   "source": [
    "# Answer here \n",
    "# intailzation (start) i = -10\n",
    "# condition (end) i ==0\n",
    "# step            i+=1\n",
    "# for i in (start , end , step ) \n",
    "for i in range(-10,0,1):\n",
    "    print(i)"
   ]
  },
  {
   "cell_type": "code",
   "execution_count": null,
   "id": "5246137d",
   "metadata": {
    "collapsed": true
   },
   "outputs": [],
   "source": [
    "i = -10\n",
    "while i < 0 :\n",
    "    print(i)\n",
    "    i+=1"
   ]
  },
  {
   "cell_type": "markdown",
   "id": "bfaa3305",
   "metadata": {},
   "source": [
    "#####  Calculate the sum of all numbers from 1 to a given number"
   ]
  },
  {
   "cell_type": "code",
   "execution_count": null,
   "id": "838164c2",
   "metadata": {
    "collapsed": true
   },
   "outputs": [],
   "source": [
    "# Answer here \n",
    "# intial (start) i =1\n",
    "# condition (end) i <= n , n+1\n",
    "# step  i+=1\n",
    "results =0\n",
    "n=3\n",
    "for i in range(1,n+1): \n",
    "    results+=i\n",
    "print(results)"
   ]
  },
  {
   "cell_type": "code",
   "execution_count": null,
   "id": "d0bb4d60",
   "metadata": {
    "collapsed": true
   },
   "outputs": [],
   "source": [
    "results =0\n",
    "n=3\n",
    "i =1\n",
    "while i <= n :\n",
    "    results+=i\n",
    "    i+=1\n",
    "print(results)"
   ]
  },
  {
   "cell_type": "markdown",
   "id": "cb64156e",
   "metadata": {},
   "source": [
    "#####  Calculate the multiply of all numbers from 1 to a given number"
   ]
  },
  {
   "cell_type": "code",
   "execution_count": null,
   "id": "10ce2d5f",
   "metadata": {
    "collapsed": true
   },
   "outputs": [],
   "source": [
    "# Answer here \n",
    "# intial (start) i =1\n",
    "# condition (end) i <= n , n+1\n",
    "# step  i+=1\n",
    "results =1\n",
    "n=3\n",
    "for i in range(1,n+1): \n",
    "    results*=i\n",
    "print(results)"
   ]
  },
  {
   "cell_type": "code",
   "execution_count": null,
   "id": "12cddfd9",
   "metadata": {
    "collapsed": true
   },
   "outputs": [],
   "source": [
    "results =1\n",
    "n=3\n",
    "i =1\n",
    "while i <= n :\n",
    "    results*=i\n",
    "    i+=1\n",
    "print(results)"
   ]
  },
  {
   "cell_type": "markdown",
   "id": "3515d141",
   "metadata": {},
   "source": [
    "#####  Use List comprehension to create a list of all numbers between 1 and 50 that are divisible by 5"
   ]
  },
  {
   "cell_type": "code",
   "execution_count": null,
   "id": "167b10e9",
   "metadata": {
    "collapsed": true
   },
   "outputs": [],
   "source": [
    "# Answer here \n",
    "for i in range(1,51):\n",
    "    if i %5 == 0:\n",
    "        print(i)"
   ]
  },
  {
   "cell_type": "code",
   "execution_count": null,
   "id": "34a46867",
   "metadata": {
    "collapsed": true
   },
   "outputs": [],
   "source": [
    "ls=[ i for i in range(1,51) if i %5 == 0]\n",
    "ls"
   ]
  },
  {
   "cell_type": "markdown",
   "id": "ab52aaf0",
   "metadata": {},
   "source": [
    "##### print out words that start with 's' in the following sentence.</p>\n",
    "> st = 'Print only the words that start with s in this sentence'"
   ]
  },
  {
   "cell_type": "code",
   "execution_count": null,
   "id": "4f479c9d",
   "metadata": {
    "collapsed": true
   },
   "outputs": [],
   "source": [
    "# Answer here \n",
    "st = 'Print only the words that start with s in this sentence'\n",
    "for word in st.split() :\n",
    "    if word[0] == 's':\n",
    "        print(word)"
   ]
  },
  {
   "cell_type": "code",
   "execution_count": null,
   "id": "453980c6",
   "metadata": {
    "collapsed": true
   },
   "outputs": [],
   "source": [
    "# Answer here \n",
    "st = 'Print only the words that start with s in this sentence'\n",
    "for word in st.split() :\n",
    "    if word.startswith('s'):\n",
    "        print(word)"
   ]
  },
  {
   "cell_type": "code",
   "execution_count": null,
   "id": "1f8cf238",
   "metadata": {
    "collapsed": true
   },
   "outputs": [],
   "source": [
    "st = 'Print only the words that start with s in this sentence'\n",
    "ls = st.split()\n",
    "i =0\n",
    "while i < len(st.split()):\n",
    "    if ls[i][0] == 's':\n",
    "        print(ls[i])\n",
    "    i+=1"
   ]
  },
  {
   "cell_type": "markdown",
   "id": "bdf81ffa",
   "metadata": {},
   "source": [
    "##### print out words that contains 's' in the following sentence.</p>\n",
    "> st = 'Print only the words that start with s in this sentence'"
   ]
  },
  {
   "cell_type": "code",
   "execution_count": null,
   "id": "c01f1a5f",
   "metadata": {
    "collapsed": true
   },
   "outputs": [],
   "source": [
    "# Answer here \n",
    "st = 'Print only the words that start with s in this sentence'\n",
    "for word in st.split() :\n",
    "    for c in word :\n",
    "        if c == 's':\n",
    "            print(word)"
   ]
  },
  {
   "cell_type": "code",
   "execution_count": null,
   "id": "e5bad97d",
   "metadata": {
    "collapsed": true
   },
   "outputs": [],
   "source": [
    "s = 'hello'\n",
    "s.find('k')"
   ]
  },
  {
   "cell_type": "code",
   "execution_count": null,
   "id": "1a93c025",
   "metadata": {
    "collapsed": true
   },
   "outputs": [],
   "source": [
    "# Answer here \n",
    "st = 'Print only the words that start with s in this sentence'\n",
    "for word in st.split() :\n",
    "    if word.find('s') != -1:\n",
    "        print(word)"
   ]
  }
 ],
 "metadata": {
  "kernelspec": {
   "display_name": "Python 3 (ipykernel)",
   "language": "python",
   "name": "python3"
  },
  "language_info": {
   "codemirror_mode": {
    "name": "ipython",
    "version": 3
   },
   "file_extension": ".py",
   "mimetype": "text/x-python",
   "name": "python",
   "nbconvert_exporter": "python",
   "pygments_lexer": "ipython3",
   "version": "3.9.13"
  }
 },
 "nbformat": 4,
 "nbformat_minor": 5
}
