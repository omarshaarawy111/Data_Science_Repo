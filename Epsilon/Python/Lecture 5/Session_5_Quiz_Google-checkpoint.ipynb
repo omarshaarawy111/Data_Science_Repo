{
 "cells": [
  {
   "cell_type": "code",
   "execution_count": null,
   "id": "9001bc41",
   "metadata": {},
   "outputs": [],
   "source": [
    "s1= {1,2,3}\n",
    "s2 = {2,3,4}\n",
    "s1.intersection(s2)\n",
    "s1= {1,2,3}\n",
    "s2 = {2,3,4}\n",
    "s1.union(s2)\n",
    "set(\"Hello\")\n",
    "list(\"Hello\")\n",
    "t= (1,2,3,4,2)\n",
    "t.count(3)\n",
    "t= (1,2,3,4,2)\n",
    "t.count(3)\n",
    "d = {\"a\":1, \"b\":2, \"c\":3, \"c\":4}\n",
    "d.keys()\n",
    "d = {\"a\":1, \"b\":2, \"c\":3}\n",
    "d.values()"
   ]
  }
 ],
 "metadata": {
  "kernelspec": {
   "display_name": "Python 3 (ipykernel)",
   "language": "python",
   "name": "python3"
  },
  "language_info": {
   "codemirror_mode": {
    "name": "ipython",
    "version": 3
   },
   "file_extension": ".py",
   "mimetype": "text/x-python",
   "name": "python",
   "nbconvert_exporter": "python",
   "pygments_lexer": "ipython3",
   "version": "3.9.13"
  }
 },
 "nbformat": 4,
 "nbformat_minor": 5
}
