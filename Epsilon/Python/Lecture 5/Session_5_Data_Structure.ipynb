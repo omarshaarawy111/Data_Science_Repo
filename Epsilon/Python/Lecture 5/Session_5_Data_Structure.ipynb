{
 "cells": [
  {
   "cell_type": "markdown",
   "metadata": {
    "id": "LCSpPmLpi8zx"
   },
   "source": [
    "> # Dear Epsilon Students, \n",
    "> # The More you practice The better You'll Be."
   ]
  },
  {
   "cell_type": "markdown",
   "metadata": {
    "id": "rhoQY20Zi8z2"
   },
   "source": [
    "### Instructions: \n",
    "- Make sure that you understand this topics before you start.\n",
    "- If you found something hard to do, try and try then google it and finally ask someone. \n",
    "- You can divide this work into daily tasks so that you do not feel pressure.\n",
    "- After you finish, go to model answer and rate yourself. \n",
    "- If you find something ambiguous, Try to make a hypothesis to solve a problem. "
   ]
  },
  {
   "cell_type": "markdown",
   "metadata": {
    "id": "SEOJn-XVi8z3"
   },
   "source": [
    "### Question classification: \n",
    "- Green is level 1 \n",
    "- Orange is level 2 \n",
    "- Red is level 3 "
   ]
  },
  {
   "cell_type": "markdown",
   "metadata": {
    "id": "Kdd7lW58i8z3"
   },
   "source": [
    "# <center> Let's start 💪 </center> "
   ]
  },
  {
   "cell_type": "markdown",
   "metadata": {
    "id": "zSdOeFjvi8z4"
   },
   "source": [
    "## <p style=\"color:green;\">Q.01 Write a Python program to calculate the length of a string.</p>\n"
   ]
  },
  {
   "cell_type": "code",
   "execution_count": 2,
   "metadata": {
    "id": "XjLR2NK7i8z5"
   },
   "outputs": [
    {
     "name": "stdout",
     "output_type": "stream",
     "text": [
      "enter string : omar\n",
      "4\n",
      "4\n"
     ]
    }
   ],
   "source": [
    "# Answer here \n",
    "string=input(\"enter string : \")\n",
    "print(len(string))\n",
    "#another solution\n",
    "counter=0\n",
    "for i in string :\n",
    "    counter += 1\n",
    "print(counter)    "
   ]
  },
  {
   "cell_type": "markdown",
   "metadata": {
    "id": "razE5EPai8z7"
   },
   "source": [
    "## <p style=\"color:green;\">Q.02 Given the string 'hello' give an index command that returns 'e'</p>"
   ]
  },
  {
   "cell_type": "code",
   "execution_count": 49,
   "metadata": {
    "id": "RZSPqaTIi8z8"
   },
   "outputs": [
    {
     "name": "stdout",
     "output_type": "stream",
     "text": [
      "enter string : hello\n",
      "e\n",
      "e\n",
      "e\n",
      "e\n"
     ]
    }
   ],
   "source": [
    "# Answer here \n",
    "string=input(\"enter string : \")\n",
    "print(string[1])\n",
    "#another solution\n",
    "print(string[string.index('e')])\n",
    "#another solution\n",
    "for i in string :\n",
    "    if i == 'e':\n",
    "        break\n",
    "print(i)        \n",
    "#another solution\n",
    "for i in range(len(string)) :\n",
    "    if string[i]== 'e':\n",
    "        break\n",
    "print(string[i]) \n"
   ]
  },
  {
   "cell_type": "markdown",
   "metadata": {
    "id": "gOpgrEU7i8z8"
   },
   "source": [
    "## <p style=\"color:green;\">Q.03 Reverse the string 'hello' using slicing</p>"
   ]
  },
  {
   "cell_type": "code",
   "execution_count": null,
   "metadata": {
    "id": "_HqRi_Eli8z9"
   },
   "outputs": [],
   "source": [
    "# Answer here \n"
   ]
  },
  {
   "cell_type": "markdown",
   "metadata": {
    "id": "GAs50wBOi8z9"
   },
   "source": [
    "## <p style=\"color:red;\">Q.04 Write a Python program to change a given string to a new string where the first and last chars have been exchanged.</p>"
   ]
  },
  {
   "cell_type": "code",
   "execution_count": 3,
   "metadata": {
    "id": "esB5LyL-i8z-"
   },
   "outputs": [
    {
     "name": "stdout",
     "output_type": "stream",
     "text": [
      "enter string : omar\n",
      "rmao\n"
     ]
    }
   ],
   "source": [
    "# Answer here \n",
    "st=input(\"enter string : \")\n",
    "st=list(st)\n",
    "st_new=[]\n",
    "#st_new=st[-1]+st[1:-1]+st[0]\n",
    "#print(st_new)\n",
    "\n",
    "for i in range(len(st)):\n",
    "    if i==0 :\n",
    "        st_new.append(st[len(st)-1])\n",
    "    elif i==(len(st)-1):\n",
    "        st_new.append(st[0])\n",
    "    else :\n",
    "        st_new.append(st[i])\n",
    "st_new=''.join(st_new)        \n",
    "print(st_new)        "
   ]
  },
  {
   "cell_type": "markdown",
   "metadata": {
    "id": "0MGd82k2i8z-"
   },
   "source": [
    "## <p style=\"color:green;\">Q.05 Reassign 'hello' in this nested list to say 'goodbye' instead</p>\n",
    "> list3 = [1,2,[3,4,'hello']]"
   ]
  },
  {
   "cell_type": "code",
   "execution_count": 12,
   "metadata": {
    "id": "pmn19YMDi8z-"
   },
   "outputs": [
    {
     "name": "stdout",
     "output_type": "stream",
     "text": [
      "[1, 2, [3, 4, 'goodbye']]\n"
     ]
    }
   ],
   "source": [
    "# Answer here \n",
    "list3 = [1,2,[3,4,'hello']]\n",
    "list3[2][2]='goodbye'\n",
    "#list3[-1][-1]='goodbye'\n",
    "print(list3)"
   ]
  },
  {
   "cell_type": "markdown",
   "metadata": {
    "id": "yv1dYOhsi8z_"
   },
   "source": [
    "## <p style=\"color:green;\">Q.06 Sort the list below</p>\n",
    "> list4 = [5,3,4,6,1]"
   ]
  },
  {
   "cell_type": "code",
   "execution_count": 4,
   "metadata": {
    "id": "I06Z8H99i8z_"
   },
   "outputs": [
    {
     "name": "stdout",
     "output_type": "stream",
     "text": [
      "[1, 3, 4, 5, 6]\n",
      "[5, 3, 4, 6, 1]\n",
      "[1, 3, 4, 5, 6]\n",
      "{1, 3, 4, 5, 6}\n",
      "[1, 3, 4, 5, 6]\n"
     ]
    }
   ],
   "source": [
    "# Answer here \n",
    "list4 = [5,3,4,6,1]\n",
    "list4.sort()\n",
    "print(list4)\n",
    "#another solution in case you will transfer this list in new list\n",
    "list4 = [5,3,4,6,1]\n",
    "list4_new=sorted(list4)\n",
    "print(list4)\n",
    "print(list4_new)\n",
    "#another solution --- > in case of no repetation\n",
    "list4 = [5,3,4,6,1]\n",
    "list4=set(list4)\n",
    "print(list4)\n",
    "#another solution --- > selection sort\n",
    "list4 = [5,3,4,6,1]\n",
    "for i in range(len(list4)):  \n",
    "        low=i   \n",
    "        for j in range(i+1,len(list4)):  \n",
    "            if list4[j]<list4[low]:  \n",
    "                low = j           \n",
    "        list4[i], list4[low] = list4[low], list4[i]  \n",
    "            \n",
    "print(list4)        \n",
    "    "
   ]
  },
  {
   "cell_type": "markdown",
   "metadata": {
    "id": "sAgQ_H1gi80A"
   },
   "source": [
    "## <p style=\"color:green;\">Q.07 Write a Python program to sum all the items in a list.</p>\n"
   ]
  },
  {
   "cell_type": "code",
   "execution_count": 19,
   "metadata": {
    "id": "8e08nAmqi80A"
   },
   "outputs": [
    {
     "name": "stdout",
     "output_type": "stream",
     "text": [
      "enter list : 1 2 3\n"
     ]
    },
    {
     "ename": "TypeError",
     "evalue": "'int' object is not callable",
     "output_type": "error",
     "traceback": [
      "\u001b[1;31m---------------------------------------------------------------------------\u001b[0m",
      "\u001b[1;31mTypeError\u001b[0m                                 Traceback (most recent call last)",
      "\u001b[1;32m~\\AppData\\Local\\Temp\\ipykernel_10124\\3448547822.py\u001b[0m in \u001b[0;36m<module>\u001b[1;34m\u001b[0m\n\u001b[0;32m      6\u001b[0m     \u001b[0mlst\u001b[0m\u001b[1;33m[\u001b[0m\u001b[0mi\u001b[0m\u001b[1;33m]\u001b[0m\u001b[1;33m=\u001b[0m\u001b[0mint\u001b[0m\u001b[1;33m(\u001b[0m\u001b[0mlst\u001b[0m\u001b[1;33m[\u001b[0m\u001b[0mi\u001b[0m\u001b[1;33m]\u001b[0m\u001b[1;33m)\u001b[0m\u001b[1;33m\u001b[0m\u001b[1;33m\u001b[0m\u001b[0m\n\u001b[0;32m      7\u001b[0m \u001b[1;31m#another solution\u001b[0m\u001b[1;33m\u001b[0m\u001b[1;33m\u001b[0m\u001b[0m\n\u001b[1;32m----> 8\u001b[1;33m \u001b[0mprint\u001b[0m\u001b[1;33m(\u001b[0m\u001b[0msum\u001b[0m\u001b[1;33m(\u001b[0m\u001b[1;33m[\u001b[0m\u001b[1;36m1\u001b[0m\u001b[1;33m,\u001b[0m\u001b[1;36m2\u001b[0m\u001b[1;33m,\u001b[0m\u001b[1;36m3\u001b[0m\u001b[1;33m]\u001b[0m\u001b[1;33m)\u001b[0m\u001b[1;33m)\u001b[0m\u001b[1;33m\u001b[0m\u001b[1;33m\u001b[0m\u001b[0m\n\u001b[0m\u001b[0;32m      9\u001b[0m \u001b[0mlst\u001b[0m\u001b[1;33m=\u001b[0m\u001b[0mlist\u001b[0m\u001b[1;33m(\u001b[0m\u001b[0mlst\u001b[0m\u001b[1;33m)\u001b[0m\u001b[1;33m\u001b[0m\u001b[1;33m\u001b[0m\u001b[0m\n\u001b[0;32m     10\u001b[0m \u001b[0msum_1\u001b[0m\u001b[1;33m=\u001b[0m\u001b[1;36m0\u001b[0m\u001b[1;33m\u001b[0m\u001b[1;33m\u001b[0m\u001b[0m\n",
      "\u001b[1;31mTypeError\u001b[0m: 'int' object is not callable"
     ]
    }
   ],
   "source": [
    "# Answer here \n",
    "#lst=map(int,(input(\"enter list : \").split())\n",
    "#lst=list(lst)\n",
    "lst=list(input(\"enter list : \").split())\n",
    "for i in range(len(lst)) :\n",
    "    lst[i]=int(lst[i])\n",
    "#another solution\n",
    "#print(sum(lst))\n",
    "lst=list(lst)\n",
    "sum_1=0\n",
    "sum_1=int(sum_1)\n",
    "for i in lst :\n",
    "    sum_1=sum_1+i\n",
    "    #sum +=i\n",
    "print(sum_1)  \n"
   ]
  },
  {
   "cell_type": "markdown",
   "metadata": {
    "id": "9DlsLGGOi80A"
   },
   "source": [
    "## <p style=\"color:green;\">Q.08 Write a Python program to get the largest number from a list.</p>\n"
   ]
  },
  {
   "cell_type": "code",
   "execution_count": 55,
   "metadata": {
    "id": "nOevpy7qi80B"
   },
   "outputs": [
    {
     "name": "stdout",
     "output_type": "stream",
     "text": [
      "enter list : 1 6 5\n",
      "6\n",
      "6\n"
     ]
    }
   ],
   "source": [
    "# Answer here \n",
    "lst=list(input(\"enter list : \").split())\n",
    "for i in range(len(lst)):\n",
    "    lst[i]=int(lst[i])\n",
    "print(max(lst))\n",
    "#another solution\n",
    "high=0\n",
    "high=int(high)\n",
    "high=lst[0]\n",
    "for i in range(0,len(lst)):\n",
    "        if high < lst[i]:\n",
    "            high=lst[i]\n",
    "        \n",
    "print(high)        "
   ]
  },
  {
   "cell_type": "markdown",
   "metadata": {
    "id": "yhl_HTKgi80B"
   },
   "source": [
    "## <p style=\"color:green;\">Q.09 Write a Python program to get the smallest number from a list.</p>\n"
   ]
  },
  {
   "cell_type": "code",
   "execution_count": 57,
   "metadata": {
    "id": "vyRuq7tvi80B"
   },
   "outputs": [
    {
     "name": "stdout",
     "output_type": "stream",
     "text": [
      "enter list : 2 1 4\n",
      "1\n",
      "1\n"
     ]
    }
   ],
   "source": [
    "# Answer here \n",
    "lst=list(input(\"enter list : \").split())\n",
    "for i in range(len(lst)):\n",
    "    lst[i]=int(lst[i])\n",
    "print(min(lst))\n",
    "#another solution\n",
    "low=0\n",
    "low=int(high)\n",
    "low=lst[0]\n",
    "for i in range(0,len(lst)):\n",
    "        if low > lst[i]:\n",
    "            low=lst[i]\n",
    "        \n",
    "print(low)        "
   ]
  },
  {
   "cell_type": "markdown",
   "metadata": {
    "id": "9mRPyZjJi80C"
   },
   "source": [
    "## <p style=\"color:orange;\">Q.10 Write a Python program to remove duplicates from a list.</p>\n"
   ]
  },
  {
   "cell_type": "code",
   "execution_count": 22,
   "metadata": {
    "id": "3LcIy_Eqi80C"
   },
   "outputs": [
    {
     "name": "stdout",
     "output_type": "stream",
     "text": [
      "[1, 2, 5, 6]\n",
      "[2, 1, 6, 5]\n",
      "[2, 1, 6, 5]\n",
      "[2, 1, 6, 5]\n",
      "[2, 1, 6, 5]\n",
      "[2, 1, 6, 5]\n"
     ]
    }
   ],
   "source": [
    "# Answer here \n",
    "#this solution only when it is ordered\n",
    "lst=[1,1,2,2,5,6]\n",
    "lst=set(lst)\n",
    "print(list(lst))\n",
    "#another solution\n",
    "lst=[2,2,1,1,6,5]\n",
    "lst=list(dict.fromkeys(lst))\n",
    "print(lst)\n",
    "#another solution\n",
    "lst=[2,2,1,1,6,5]\n",
    "lst_new=[]\n",
    "for i in lst :\n",
    "    if i not in lst_new :\n",
    "        lst_new.append(i)\n",
    "print(lst_new) \n",
    "#another solution\n",
    "lst=[2,2,1,1,6,5]\n",
    "lst_new=[]\n",
    "for i in range(len(lst)) :\n",
    "    if lst[i] not in lst_new :\n",
    "        lst_new.append(lst[i])\n",
    "print(lst_new) \n",
    "#another solution\n",
    "lst=[2,2,1,1,6,5]\n",
    "lst_new=[]\n",
    "[lst_new.append(i) for i in lst if i not in lst_new ]\n",
    "print(lst_new)\n",
    "\n",
    "#another solution\n",
    "lst=[2,2,1,1,6,5]\n",
    "lst_new=[]\n",
    "[lst_new.append(lst[i]) for i in range(len(lst)) if lst[i] not in lst_new ]\n",
    "print(lst_new)"
   ]
  },
  {
   "cell_type": "markdown",
   "metadata": {
    "id": "Df_rdIfVi80C"
   },
   "source": [
    "## <p style=\"color:green;\">Q.11 Using keys and indexing, grab the 'hello' from the following dictionaries:</p>\n",
    ">d = {'k1':{'k2':'hello'}}\n",
    "\n"
   ]
  },
  {
   "cell_type": "code",
   "execution_count": 77,
   "metadata": {
    "id": "xkg3OsG4i80D"
   },
   "outputs": [
    {
     "name": "stdout",
     "output_type": "stream",
     "text": [
      "hello\n"
     ]
    }
   ],
   "source": [
    "# Answer here \n",
    "d = {'k1':{'k2':'hello'}}\n",
    "print(d['k1']['k2'])"
   ]
  },
  {
   "cell_type": "markdown",
   "metadata": {
    "id": "91VdMro-i80D"
   },
   "source": [
    "## <p style=\"color:orange;\">Q.12 Using keys and indexing, grab the 'hello' from the following dictionaries:</p>\n",
    "> d = {'k1':[{'nest_key':['this is deep',['hello']]}]}"
   ]
  },
  {
   "cell_type": "code",
   "execution_count": 76,
   "metadata": {
    "id": "J0NYdrWti80D"
   },
   "outputs": [
    {
     "name": "stdout",
     "output_type": "stream",
     "text": [
      "['hello']\n"
     ]
    }
   ],
   "source": [
    "# Answer here \n",
    "d = {'k1':[{'nest_key':['this is deep',['hello']]}]}\n",
    "print(d['k1'][0]['nest_key'][1])"
   ]
  },
  {
   "cell_type": "markdown",
   "metadata": {
    "id": "yiY8Z3gsi80E"
   },
   "source": [
    "## <p style=\"color:red;\">Q.13 Using keys and indexing, grab the 'hello' from the following dictionaries:</p>\n",
    "d = {'k1':[1,2,{'k2':['this is tricky',{'tough':[1,2,['hello']]}]}]}"
   ]
  },
  {
   "cell_type": "code",
   "execution_count": 79,
   "metadata": {
    "id": "iDL4ShWqi80E"
   },
   "outputs": [
    {
     "name": "stdout",
     "output_type": "stream",
     "text": [
      "['hello']\n"
     ]
    }
   ],
   "source": [
    "# Answer here \n",
    "d = {'k1':[1,2,{'k2':['this is tricky',{'tough':[1,2,['hello']]}]}]}\n",
    "print(d['k1'][2]['k2'][1]['tough'][2])"
   ]
  },
  {
   "cell_type": "markdown",
   "metadata": {
    "id": "17qtnLmbi80E"
   },
   "source": [
    "## <p style=\"color:green;\">Q.14 Write a Python script to add a key to a dictionary.</p>\n",
    "> Sample Dictionary : {0: 10, 1: 20}\n",
    "\n",
    "> Expected Result : {0: 10, 1: 20, 2: 30}"
   ]
  },
  {
   "cell_type": "code",
   "execution_count": 23,
   "metadata": {
    "id": "xIRNIP6di80F"
   },
   "outputs": [
    {
     "name": "stdout",
     "output_type": "stream",
     "text": [
      "{0: 10, 1: 20, 2: 30}\n",
      "{0: 10, 1: 20, 2: 30, 3: 40}\n",
      "dict_items([(0, 10), (1, 20), (2, 30), (3, 40)])\n"
     ]
    }
   ],
   "source": [
    "# Answer here \n",
    "d={0: 10, 1: 20}\n",
    "d[2]=30\n",
    "print(d)\n",
    "d.update({3:40})\n",
    "print(d)\n",
    "print(d.items())"
   ]
  },
  {
   "cell_type": "markdown",
   "metadata": {
    "id": "LOBCebvTi80F"
   },
   "source": [
    "## <p style=\"color:green;\">Q.15 Write a Python program to sum all the items in a dictionary.</p>\n"
   ]
  },
  {
   "cell_type": "code",
   "execution_count": 32,
   "metadata": {
    "id": "F3rsz2Gvi80F"
   },
   "outputs": [
    {
     "name": "stdout",
     "output_type": "stream",
     "text": [
      "60\n",
      "60\n",
      "60\n",
      "60\n"
     ]
    },
    {
     "ename": "TypeError",
     "evalue": "'int' object is not callable",
     "output_type": "error",
     "traceback": [
      "\u001b[1;31m---------------------------------------------------------------------------\u001b[0m",
      "\u001b[1;31mTypeError\u001b[0m                                 Traceback (most recent call last)",
      "\u001b[1;32m~\\AppData\\Local\\Temp\\ipykernel_10124\\988809787.py\u001b[0m in \u001b[0;36m<module>\u001b[1;34m\u001b[0m\n\u001b[0;32m     31\u001b[0m \u001b[0mprint\u001b[0m\u001b[1;33m(\u001b[0m\u001b[0msum\u001b[0m\u001b[1;33m)\u001b[0m\u001b[1;33m\u001b[0m\u001b[1;33m\u001b[0m\u001b[0m\n\u001b[0;32m     32\u001b[0m \u001b[1;31m#another solution\u001b[0m\u001b[1;33m\u001b[0m\u001b[1;33m\u001b[0m\u001b[0m\n\u001b[1;32m---> 33\u001b[1;33m \u001b[0mprint\u001b[0m\u001b[1;33m(\u001b[0m\u001b[0msum\u001b[0m\u001b[1;33m(\u001b[0m\u001b[0md\u001b[0m\u001b[1;33m.\u001b[0m\u001b[0mvalues\u001b[0m\u001b[1;33m(\u001b[0m\u001b[1;33m)\u001b[0m\u001b[1;33m)\u001b[0m\u001b[1;33m)\u001b[0m\u001b[1;33m\u001b[0m\u001b[1;33m\u001b[0m\u001b[0m\n\u001b[0m",
      "\u001b[1;31mTypeError\u001b[0m: 'int' object is not callable"
     ]
    }
   ],
   "source": [
    "# Answer here \n",
    "d={0: 10, 1: 20, 2: 30}\n",
    "sum=0\n",
    "lst=[]\n",
    "for i in d :\n",
    "    lst.append(d[i])\n",
    "for i in lst :\n",
    "    sum=sum+i\n",
    "print(sum) \n",
    "#another solution \n",
    "d={0: 10, 1: 20, 2: 30}\n",
    "sum=0\n",
    "lst=[]\n",
    "for i in d :\n",
    "    lst.append(d[i])\n",
    "    sum=sum+lst[i]\n",
    "print(sum)\n",
    "#another solution \n",
    "d={0: 10, 1: 20, 2: 30}\n",
    "sum=0\n",
    "for i in d.values() :\n",
    "    sum=sum+i\n",
    "print(sum)\n",
    "#another solution \n",
    "d={0: 10, 1: 20, 2: 30}\n",
    "sum=0\n",
    "lst=[]\n",
    "for i in d.values() :\n",
    "    lst.append(i)\n",
    "    sum=sum+i\n",
    "print(sum)\n",
    "#another solution\n",
    "print(sum(d.values()))"
   ]
  },
  {
   "cell_type": "markdown",
   "metadata": {
    "id": "OWRtTDJCi80G"
   },
   "source": [
    "## <p style=\"color:green;\">Q.16 Write a Python program to add an item in a tuple.</p>\n"
   ]
  },
  {
   "cell_type": "code",
   "execution_count": 34,
   "metadata": {
    "id": "hyPdVYRmi80G"
   },
   "outputs": [
    {
     "name": "stdout",
     "output_type": "stream",
     "text": [
      "(1, 2, 3, 4, 5)\n",
      "(1, 2, 5, 6, 7, 3, 4, 5)\n",
      "(1, 2, 3, 4, 5)\n"
     ]
    }
   ],
   "source": [
    "# Answer here \n",
    "t=(1,2,3,4)\n",
    "t=t+(5,)\n",
    "print(t)\n",
    "t_1=(5,6,7)\n",
    "t=t[:2]+t_1+t[2:]\n",
    "print(t)\n",
    "t=list((1,2,3,4))\n",
    "t.append(5)\n",
    "t=tuple(t)\n",
    "print(t)"
   ]
  },
  {
   "cell_type": "markdown",
   "metadata": {
    "id": "BhguRPHIi80G"
   },
   "source": [
    "## <p style=\"color:green;\">Q.17 Write a Python program to convert a tuple to a string.</p>\n"
   ]
  },
  {
   "cell_type": "code",
   "execution_count": 36,
   "metadata": {
    "id": "p5H4f3n9i80G"
   },
   "outputs": [
    {
     "name": "stdout",
     "output_type": "stream",
     "text": [
      "omar\n",
      "<class 'str'>\n"
     ]
    }
   ],
   "source": [
    "# Answer here \n",
    "t=('o','m','a','r')\n",
    "t=''.join(t)\n",
    "print(t)\n",
    "print(type(t))"
   ]
  },
  {
   "cell_type": "markdown",
   "metadata": {
    "id": "CSkQeRT2i80H"
   },
   "source": [
    "## <p style=\"color:green;\">Q.18 Write a Python program to remove item(s) from a given set.</p>\n"
   ]
  },
  {
   "cell_type": "code",
   "execution_count": 39,
   "metadata": {
    "id": "HcsEtqdGi80H"
   },
   "outputs": [
    {
     "name": "stdout",
     "output_type": "stream",
     "text": [
      "enter number to be remover4\n",
      "{1, 2, 3}\n",
      "{2, 3}\n"
     ]
    }
   ],
   "source": [
    "# Answer here \n",
    "s={1,2,3,4}\n",
    "N=int(input(\"enter number to be remover\"))\n",
    "if N in s :\n",
    "    s.remove(N)\n",
    "    print(s)\n",
    "else : \n",
    "    print(\"item is not in set\")\n",
    "s.pop()    \n",
    "print(s)    "
   ]
  },
  {
   "cell_type": "markdown",
   "metadata": {
    "id": "jyiCpyZii80H"
   },
   "source": [
    "## <p style=\"color:orange;\">Q.19 Write a Python program to create an intersection of sets.</p>\n",
    "> Explanation : In mathematics, the intersection of two sets A and B, denoted by A ∩ B, is the set containing all elements of A that also belong to B (or equivalently, all elements of B that also belong to A)."
   ]
  },
  {
   "cell_type": "code",
   "execution_count": 41,
   "metadata": {
    "id": "DIPjree3i80I"
   },
   "outputs": [
    {
     "name": "stdout",
     "output_type": "stream",
     "text": [
      "{1, 2}\n",
      "{1, 2}\n"
     ]
    }
   ],
   "source": [
    "# Answer here \n",
    "setx={1,2,3}\n",
    "sety={1,2,5}\n",
    "print(setx.intersection(sety))\n",
    "print(setx & sety)"
   ]
  },
  {
   "cell_type": "markdown",
   "metadata": {
    "id": "t7HWN6rri80I"
   },
   "source": [
    "## <p style=\"color:orange;\">Q.20 Write a Python program to create a union of sets.</p>\n",
    "> Explanation :In mathematics, The union of two sets A and B is the set of elements which are in A, in B, or in both A and B. "
   ]
  },
  {
   "cell_type": "code",
   "execution_count": 100,
   "metadata": {
    "id": "RhPcSyIni80I"
   },
   "outputs": [
    {
     "name": "stdout",
     "output_type": "stream",
     "text": [
      "{1, 2, 3, 4, 5, 6, 7}\n",
      "{4}\n"
     ]
    }
   ],
   "source": [
    "# Answer here \n",
    "set_1={1,2,3,4}\n",
    "set_2={5,6,7}\n",
    "set_new=set_1.union(set_2)\n",
    "print(set_new)\n",
    "set_1={1,2,3,4}\n",
    "set_2={4,6,7}\n",
    "set_new=set_1.intersection(set_2)\n",
    "print(set_new)"
   ]
  },
  {
   "cell_type": "markdown",
   "metadata": {
    "id": "kcvtV66Hi80J"
   },
   "source": [
    "# <center> Thank's for your effort ❤️ </center> "
   ]
  }
 ],
 "metadata": {
  "colab": {
   "provenance": []
  },
  "kernelspec": {
   "display_name": "Python 3 (ipykernel)",
   "language": "python",
   "name": "python3"
  },
  "language_info": {
   "codemirror_mode": {
    "name": "ipython",
    "version": 3
   },
   "file_extension": ".py",
   "mimetype": "text/x-python",
   "name": "python",
   "nbconvert_exporter": "python",
   "pygments_lexer": "ipython3",
   "version": "3.9.13"
  }
 },
 "nbformat": 4,
 "nbformat_minor": 1
}
