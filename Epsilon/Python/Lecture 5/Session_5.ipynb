{
 "cells": [
  {
   "cell_type": "code",
   "execution_count": null,
   "id": "e8d52a28",
   "metadata": {},
   "outputs": [],
   "source": [
    "lst=[1,2,3,[4,5,6],[7,[8,9,10]]]\n",
    "print(lst,\" \",len(lst))\n",
    "print(lst[0],\" \",len(lst))\n",
    "print(lst[3],\" \",len(lst))\n",
    "print(lst[3][0],\" \",len(lst))\n",
    "print(lst[4],\" \",len(lst))\n",
    "print(lst[4][0],\" \",len(lst))\n",
    "print(lst[4][1][0],\" \",len(lst))\n",
    "lst.append(11)\n",
    "print(lst,\" \",len(lst))\n",
    "lst.append([12,13,14])\n",
    "print(lst,\" \",len(lst))\n",
    "lst.extend([15,16,17])\n",
    "print(lst,\" \",len(lst))\n",
    "lst[3].append('new')\n",
    "print(lst,\" \",len(lst))"
   ]
  },
  {
   "cell_type": "code",
   "execution_count": 5,
   "id": "3c5fcadf",
   "metadata": {},
   "outputs": [
    {
     "name": "stdout",
     "output_type": "stream",
     "text": [
      "<class 'tuple'>\n",
      "('a', 2, 2, 3, 3, 4, 4, 5, 10)\n"
     ]
    },
    {
     "ename": "TypeError",
     "evalue": "'tuple' object does not support item assignment",
     "output_type": "error",
     "traceback": [
      "\u001b[1;31m---------------------------------------------------------------------------\u001b[0m",
      "\u001b[1;31mTypeError\u001b[0m                                 Traceback (most recent call last)",
      "\u001b[1;32m~\\AppData\\Local\\Temp\\ipykernel_8180\\2174545042.py\u001b[0m in \u001b[0;36m<module>\u001b[1;34m\u001b[0m\n\u001b[0;32m      4\u001b[0m \u001b[0mlst\u001b[0m\u001b[1;33m=\u001b[0m\u001b[0mtuple\u001b[0m\u001b[1;33m(\u001b[0m\u001b[0mlst\u001b[0m\u001b[1;33m)\u001b[0m\u001b[1;33m\u001b[0m\u001b[1;33m\u001b[0m\u001b[0m\n\u001b[0;32m      5\u001b[0m \u001b[0mprint\u001b[0m\u001b[1;33m(\u001b[0m\u001b[0mlst\u001b[0m\u001b[1;33m)\u001b[0m\u001b[1;33m\u001b[0m\u001b[1;33m\u001b[0m\u001b[0m\n\u001b[1;32m----> 6\u001b[1;33m \u001b[0mlst\u001b[0m\u001b[1;33m[\u001b[0m\u001b[1;36m0\u001b[0m\u001b[1;33m]\u001b[0m\u001b[1;33m=\u001b[0m\u001b[1;34m'b'\u001b[0m\u001b[1;33m\u001b[0m\u001b[1;33m\u001b[0m\u001b[0m\n\u001b[0m\u001b[0;32m      7\u001b[0m \u001b[0mprint\u001b[0m\u001b[1;33m(\u001b[0m\u001b[0mlst\u001b[0m\u001b[1;33m)\u001b[0m\u001b[1;33m\u001b[0m\u001b[1;33m\u001b[0m\u001b[0m\n\u001b[0;32m      8\u001b[0m \u001b[0mprint\u001b[0m\u001b[1;33m(\u001b[0m\u001b[0mlst\u001b[0m\u001b[1;33m[\u001b[0m\u001b[1;36m0\u001b[0m\u001b[1;33m]\u001b[0m\u001b[1;33m)\u001b[0m\u001b[1;33m\u001b[0m\u001b[1;33m\u001b[0m\u001b[0m\n",
      "\u001b[1;31mTypeError\u001b[0m: 'tuple' object does not support item assignment"
     ]
    }
   ],
   "source": [
    "t=(1,2,3)\n",
    "print(type(t))\n",
    "lst=['a',2,2,3,3,4,4,5,10]\n",
    "lst=tuple(lst)\n",
    "print(lst)\n",
    "lst[0]='b'\n",
    "print(lst)\n",
    "print(lst[0])"
   ]
  },
  {
   "cell_type": "code",
   "execution_count": 8,
   "id": "c63f96fb",
   "metadata": {},
   "outputs": [
    {
     "name": "stdout",
     "output_type": "stream",
     "text": [
      "['a', 2, 2, 3, 3, 4, 4, 5, 10]\n",
      "<class 'list'>\n",
      "{2, 3, 4, 5, 10, 'a'}\n",
      "<class 'set'>\n",
      "{2, 3, 4, 5, 10, 11, 'a'}\n",
      "{2, 4, 5, 10, 11, 'a'}\n",
      "{11, 13, 14}\n",
      "{2, 4, 5, 10, 11, 13, 14, 'a'}\n",
      "{2, 4, 5, 10, 'a'}\n",
      "{13, 14}\n",
      "False\n"
     ]
    }
   ],
   "source": [
    "lst=['a',2,2,3,3,4,4,5,10]\n",
    "print(lst)\n",
    "print(type(lst))\n",
    "lst=set(lst)\n",
    "print(lst)\n",
    "print(type(lst))\n",
    "lst.add(11)\n",
    "print(lst)\n",
    "lst.discard(3)\n",
    "print(lst)\n",
    "lst_new=set([11,13,14])\n",
    "print(lst_new)\n",
    "lst_final=lst.union(lst_new)\n",
    "print(lst_final)\n",
    "lst_difference=lst.difference(lst_new)\n",
    "print(lst_difference)\n",
    "lst_difference=lst_new.difference(lst)\n",
    "print(lst_difference)\n",
    "if 1 in lst:\n",
    "    print(\"True\")\n",
    "else :\n",
    "    print(\"False\")\n",
    "\n",
    "\n",
    "    "
   ]
  },
  {
   "cell_type": "code",
   "execution_count": 9,
   "id": "cd5a6d1b",
   "metadata": {},
   "outputs": [
    {
     "name": "stdout",
     "output_type": "stream",
     "text": [
      "Omar\n",
      "25\n",
      "25\n",
      "None\n",
      "{'name': 'Omar', 'age': 26}\n",
      "dict_items([('name', 'Omar'), ('age', 26)])\n",
      "dict_keys(['name', 'age'])\n",
      "dict_values(['Omar', 26])\n",
      "['name', 'age']\n",
      "[('name', 'Omar'), ('age', 26)]\n",
      "['name', 'age']\n",
      "['Omar', 26]\n",
      "[{'name': 'Omar', 'age': 26}, 2, 3]\n"
     ]
    }
   ],
   "source": [
    "dic={'name':'Omar','age':25}\n",
    "print(dic['name'])\n",
    "print(dic['age'])\n",
    "print(dic.get('age'))\n",
    "print(dic.get('hi'))\n",
    "dic['age']=26\n",
    "print(dic)\n",
    "print(dic.items())\n",
    "print(dic.keys())\n",
    "print(dic.values())\n",
    "print(list(dic))\n",
    "print(list(dic.items()))\n",
    "print(list(dic.keys()))\n",
    "print(list(dic.values()))\n",
    "lst=[dic,2,3]\n",
    "print(lst)\n",
    "#Error to rerurn\n",
    "#print(dic[0])\n",
    "\n"
   ]
  },
  {
   "cell_type": "code",
   "execution_count": 11,
   "id": "00b2aab7",
   "metadata": {},
   "outputs": [
    {
     "name": "stdout",
     "output_type": "stream",
     "text": [
      "[1, 2, 3, 4, 5, 6, 7, 8, 9]\n",
      "[1, 3, 5, 7, 9]\n",
      "0 1 2 3 4 5 6 7 8 9 \n",
      "\n",
      "0 Hello World\n",
      "1 Hello World\n",
      "2 Hello World\n",
      "3 Hello World\n",
      "4 Hello World\n",
      "5 Hello World\n",
      "6 Hello World\n",
      "7 Hello World\n",
      "8 Hello World\n",
      "9 Hello World\n",
      "1 3 4 5 -9 \n",
      "\n",
      "1 3 4 5 -9 \n",
      "\n",
      "0 1 2 3 4 \n",
      "\n",
      "O m a r \n",
      "\n",
      "0 1 2 3 \n",
      "\n",
      "O m a r \n",
      "\n",
      "O a "
     ]
    }
   ],
   "source": [
    "print(list(range(1,10)))\n",
    "print(list(range(1,10,2)))\n",
    "for i in range(10):\n",
    "    print(i,end=\" \")\n",
    "print(\"\\n\")    \n",
    "for i in range(10):\n",
    "    print(i,\"Hello World\")\n",
    "lst=[1,3,4,5,-9]\n",
    "for i in lst:\n",
    "    print(i,end=\" \")   \n",
    "print(\"\\n\")     \n",
    "for i in range(len(lst)):\n",
    "    print(lst[i],end=\" \")\n",
    "print(\"\\n\") \n",
    "for i in range(len(lst)):\n",
    "    print(i,end=\" \")   \n",
    "print(\"\\n\")     \n",
    "name=\"Omar\"\n",
    "for ch in name :\n",
    "    print(ch,end=\" \")\n",
    "print(\"\\n\")      \n",
    "for ch in range(len(name)) :\n",
    "    print(ch,end=\" \")    \n",
    "print(\"\\n\")      \n",
    "for ch in range(len(name)) :\n",
    "    print(name[ch],end=\" \")    \n",
    "              \n",
    "print(\"\\n\")      \n",
    "for ch in range(0,len(name),2) :\n",
    "    print(name[ch],end=\" \")    \n",
    "     "
   ]
  },
  {
   "cell_type": "code",
   "execution_count": 14,
   "id": "a473dfc4",
   "metadata": {},
   "outputs": [
    {
     "name": "stdout",
     "output_type": "stream",
     "text": [
      "Hi\n",
      "Hi\n",
      "Hi\n",
      "Hi\n",
      "Hi\n"
     ]
    }
   ],
   "source": [
    "x=0\n",
    "while x<5:\n",
    "    print(\"Hi\")\n",
    "    x +=1"
   ]
  },
  {
   "cell_type": "code",
   "execution_count": null,
   "id": "9d8f781c",
   "metadata": {},
   "outputs": [],
   "source": [
    "counter=1\n",
    "sum=0\n",
    "while counter <=6:\n",
    "    sum=sum+counter\n",
    "    counter +=2 \n",
    "print(sum)"
   ]
  },
  {
   "cell_type": "code",
   "execution_count": null,
   "id": "f3aef760",
   "metadata": {},
   "outputs": [],
   "source": [
    "while 1 :\n",
    "    first_name=input(\"Enter first name : \")\n",
    "    last_name=input(\"Enter last name : \")\n",
    "    if (first_name==\"Omar\"):\n",
    "        if(last_name==\"Mohamed\"):\n",
    "            print(\"Hello Omar Mohamed\")\n",
    "        else :\n",
    "            print(\"Hello stranger Omar\")\n",
    "    else :\n",
    "        print(\"Hello stranger\")\n"
   ]
  },
  {
   "cell_type": "code",
   "execution_count": 15,
   "id": "9f892780",
   "metadata": {},
   "outputs": [
    {
     "name": "stdout",
     "output_type": "stream",
     "text": [
      "0\n",
      "1\n"
     ]
    }
   ],
   "source": [
    "x=0\n",
    "for x in range(10):\n",
    "    print(x)\n",
    "    if x==1:\n",
    "        \n",
    "        break\n",
    "        "
   ]
  },
  {
   "cell_type": "code",
   "execution_count": 16,
   "id": "69479f36",
   "metadata": {},
   "outputs": [
    {
     "name": "stdout",
     "output_type": "stream",
     "text": [
      "0\n",
      "1\n",
      "2\n",
      "3\n",
      "4\n",
      "5\n"
     ]
    }
   ],
   "source": [
    "x=0\n",
    "for x in range(10):\n",
    "    if x==6:\n",
    "        break\n",
    "    print(x)    "
   ]
  },
  {
   "cell_type": "code",
   "execution_count": 19,
   "id": "53d394da",
   "metadata": {},
   "outputs": [
    {
     "name": "stdout",
     "output_type": "stream",
     "text": [
      "1 3 5 7 9 \n",
      "\n",
      "1 2 3 4 5 6 7 8 9 "
     ]
    }
   ],
   "source": [
    "x=0\n",
    "for x in range(10):\n",
    "    if x%2==0:\n",
    "        continue\n",
    "    print(x,end=\" \")\n",
    "print(\"\\n\")    \n",
    "x=0    \n",
    "for x in range(10):\n",
    "    if x==0:\n",
    "        continue\n",
    "    print(x,end=\" \")     "
   ]
  },
  {
   "cell_type": "code",
   "execution_count": 22,
   "id": "f6204667",
   "metadata": {},
   "outputs": [
    {
     "name": "stdout",
     "output_type": "stream",
     "text": [
      "0 1 2 3 4 5 6 7 8 9 \n",
      "\n",
      "9 \n",
      "\n",
      "0 1 2 3 4 5 6 7 8 "
     ]
    }
   ],
   "source": [
    "x=0\n",
    "for x in range(10):\n",
    "    print(x,end=\" \")\n",
    "    if x==9:\n",
    "        \n",
    "        break\n",
    "print(\"\\n\")        \n",
    "x=0\n",
    "for x in range(10):\n",
    "  \n",
    "    if x==9:\n",
    "        print(x,end=\" \")\n",
    "        break  \n",
    "print(\"\\n\")        \n",
    "x=0        \n",
    "for x in range(10):\n",
    "  \n",
    "    if x==9:\n",
    "        \n",
    "        break  \n",
    "    print(x,end=\" \")"
   ]
  },
  {
   "cell_type": "code",
   "execution_count": 23,
   "id": "f3afaa79",
   "metadata": {},
   "outputs": [
    {
     "name": "stdout",
     "output_type": "stream",
     "text": [
      "0\n",
      "1\n",
      "2\n",
      "3\n",
      "4\n",
      "5\n",
      "6\n",
      "7\n",
      "8\n",
      "\n",
      "\n",
      "0\n",
      "1\n",
      "2\n",
      "3\n",
      "4\n",
      "5\n",
      "6\n",
      "7\n",
      "8\n",
      "9\n",
      "Finished correctly\n"
     ]
    }
   ],
   "source": [
    "x=0\n",
    "for x in range(10):\n",
    "  \n",
    "    if x==9:\n",
    "        \n",
    "        break  \n",
    "    print(x)\n",
    "else:\n",
    "    print(\"Finished correctly\")\n",
    "    \n",
    "x=0    \n",
    "print(\"\\n\")\n",
    "for x in range(10):\n",
    "  \n",
    "    if x==10:\n",
    "        \n",
    "        break  \n",
    "    print(x)\n",
    "else:\n",
    "    print(\"Finished correctly\")    "
   ]
  },
  {
   "cell_type": "code",
   "execution_count": 25,
   "id": "1b141a19",
   "metadata": {},
   "outputs": [
    {
     "name": "stdout",
     "output_type": "stream",
     "text": [
      "Enter stop number : 9\n",
      "0\n",
      "1\n",
      "2\n",
      "3\n",
      "4\n",
      "5\n",
      "6\n",
      "7\n",
      "8\n"
     ]
    }
   ],
   "source": [
    "x=0  \n",
    "stop_number=int(input(\"Enter stop number : \"))\n",
    "for x in range(10):\n",
    "  \n",
    "    if x==stop_number:\n",
    "        \n",
    "        break  \n",
    "    print(x)\n",
    "else:\n",
    "    print(\"Finished correctly\") "
   ]
  },
  {
   "cell_type": "code",
   "execution_count": null,
   "id": "fcbf3866",
   "metadata": {},
   "outputs": [
    {
     "name": "stdout",
     "output_type": "stream",
     "text": [
      "Enter stop number : 10\n",
      "0\n",
      "1\n",
      "2\n",
      "3\n",
      "4\n",
      "5\n",
      "6\n",
      "7\n",
      "8\n",
      "9\n"
     ]
    }
   ],
   "source": [
    "while 1 :\n",
    "    x=0  \n",
    "    stop_number=int(input(\"Enter stop number : \"))\n",
    "    flag=0\n",
    "    for x in range(10):\n",
    "\n",
    "        if x==stop_number:\n",
    "            flag=1\n",
    "            break  \n",
    "        print(x)\n",
    "    if flag==1 :\n",
    "        print(\"Finished wrongly\")"
   ]
  },
  {
   "cell_type": "code",
   "execution_count": null,
   "id": "28f4c8fe",
   "metadata": {},
   "outputs": [
    {
     "name": "stdout",
     "output_type": "stream",
     "text": [
      "Enter stop number : 10\n",
      "1\n",
      "2\n",
      "3\n",
      "4\n",
      "5\n",
      "6\n",
      "7\n",
      "8\n",
      "9\n",
      "10\n",
      "Enter stop number : 9\n",
      "1\n",
      "2\n",
      "3\n",
      "4\n",
      "5\n",
      "6\n",
      "7\n",
      "8\n",
      "9\n",
      "Finished wrongly\n"
     ]
    }
   ],
   "source": [
    "while 1 :\n",
    "    x=0  \n",
    "    stop_number=int(input(\"Enter stop number : \"))\n",
    "    flag=0\n",
    "    while x < 10:\n",
    "        \n",
    "        if x==stop_number:\n",
    "            flag=1\n",
    "            break \n",
    "        x +=1    \n",
    "        print(x)\n",
    "    if flag==1 :\n",
    "        print(\"Finished wrongly\")"
   ]
  },
  {
   "cell_type": "code",
   "execution_count": null,
   "id": "6041e570",
   "metadata": {},
   "outputs": [
    {
     "name": "stdout",
     "output_type": "stream",
     "text": [
      "Enter continue number : 2\n",
      "0\n",
      "1\n",
      "3\n",
      "4\n",
      "5\n",
      "6\n",
      "7\n",
      "8\n",
      "9\n",
      "10\n"
     ]
    }
   ],
   "source": [
    "while 1 :\n",
    "    x=-1  \n",
    "    continue_number=int(input(\"Enter continue number : \"))\n",
    "    while x < 10: \n",
    "        x +=1 \n",
    "        if x==continue_number:\n",
    "            continue \n",
    "        print(x)\n",
    "         \n",
    "         \n",
    "        "
   ]
  },
  {
   "cell_type": "code",
   "execution_count": 14,
   "id": "acb9f95a",
   "metadata": {},
   "outputs": [
    {
     "name": "stdout",
     "output_type": "stream",
     "text": [
      "[2, 4, 6]\n",
      "OK\n"
     ]
    }
   ],
   "source": [
    "lst_1=[1,2,3]\n",
    "lst_2=[]\n",
    "for i in lst_1:\n",
    "    lst_2.append(i*2)\n",
    "print(lst_2)\n",
    "    \n",
    "x=0\n",
    "print(\"OK\") if x==0 else print (\"not ok\")"
   ]
  },
  {
   "cell_type": "code",
   "execution_count": null,
   "id": "cc7cb0f8",
   "metadata": {},
   "outputs": [],
   "source": [
    "lst_1=[1,2,3]\n",
    "lst_2=[i*2 for i in lst_1]\n",
    "print(lst_2)"
   ]
  },
  {
   "cell_type": "code",
   "execution_count": 15,
   "id": "4250adbe",
   "metadata": {},
   "outputs": [
    {
     "name": "stdout",
     "output_type": "stream",
     "text": [
      "{('number', 1, 'number', 1), ('Age', 25, 'Age', 25)}\n",
      "{'numbernumber', 'AgeAge'}\n",
      "{2, 50}\n"
     ]
    }
   ],
   "source": [
    "dic={'number':1,'Age':25}\n",
    "dic_1={i*2 for i in dic.items()}\n",
    "print(dic_1)\n",
    "dic_1={i*2 for i in dic.keys()}\n",
    "print(dic_1)\n",
    "dic_1={i*2 for i in dic.values()}\n",
    "print(dic_1)\n"
   ]
  },
  {
   "cell_type": "code",
   "execution_count": 18,
   "id": "7dde0979",
   "metadata": {},
   "outputs": [
    {
     "name": "stdout",
     "output_type": "stream",
     "text": [
      "number\n",
      "1\n",
      "\n",
      "Age\n",
      "25\n",
      "\n",
      "{'number': 1, 'Age': 25}\n",
      "dict_items([('number', 1), ('Age', 25)])\n"
     ]
    }
   ],
   "source": [
    "dic={'number':1,'Age':25}\n",
    "for (k,v) in dic.items() :\n",
    "        print(k)\n",
    "        print(v)\n",
    "        print()\n",
    "print(dic)\n",
    "print(dic.items())"
   ]
  },
  {
   "cell_type": "code",
   "execution_count": null,
   "id": "328b049f",
   "metadata": {},
   "outputs": [],
   "source": [
    "dic={'number':1,'Age':25}\n",
    "dic_1={k:v*2 for (k,v) in dic.items()}\n",
    "print(dic_1)\n",
    "\n",
    "\n",
    "\n"
   ]
  },
  {
   "cell_type": "code",
   "execution_count": 20,
   "id": "e40cf926",
   "metadata": {},
   "outputs": [
    {
     "name": "stdout",
     "output_type": "stream",
     "text": [
      "{'number': 2, 'Age': 50}\n",
      "{'numbernumber': 2, 'AgeAge': 50}\n",
      "numbernumber\n",
      "2\n",
      "\n",
      "AgeAge\n",
      "50\n",
      "\n"
     ]
    }
   ],
   "source": [
    "dic={'number':1,'Age':25}\n",
    "dic_1={k:v*2 for (k,v) in dic.items()}\n",
    "print(dic_1)\n",
    "dic={'number':1,'Age':25}\n",
    "dic_1={k*2:v*2 for (k,v) in dic.items()}\n",
    "print(dic_1)\n",
    "\n",
    "for (k,v) in dic_1.items() :\n",
    "        print(k)\n",
    "        print(v)\n",
    "        print()"
   ]
  },
  {
   "cell_type": "code",
   "execution_count": 21,
   "id": "64c151b6",
   "metadata": {},
   "outputs": [
    {
     "name": "stdout",
     "output_type": "stream",
     "text": [
      "O m A r "
     ]
    }
   ],
   "source": [
    "st=\"omar\"\n",
    "for i in range (0,len(st)) :\n",
    "    if i % 2 == 0 :\n",
    "        print(st[i].upper(),end=\" \")\n",
    "    else :\n",
    "        print(st[i],end=\" \")\n",
    "        \n",
    "\n",
    "   \n",
    "    \n"
   ]
  },
  {
   "cell_type": "code",
   "execution_count": 1,
   "id": "4c03048b",
   "metadata": {},
   "outputs": [
    {
     "name": "stdout",
     "output_type": "stream",
     "text": [
      "['O', 'm', 'A', 'r']\n"
     ]
    }
   ],
   "source": [
    "st=\"omar\"\n",
    "lst=[]\n",
    "for i in range (0,len(st)) :\n",
    "    if i % 2 == 0 :\n",
    "        lst.append(st[i].upper())\n",
    "    else :\n",
    "        lst.append(st[i])\n",
    "print(lst)\n"
   ]
  },
  {
   "cell_type": "code",
   "execution_count": null,
   "id": "bca50f01",
   "metadata": {},
   "outputs": [],
   "source": [
    "st=\"omar\"\n",
    "st_1=\"\"\n",
    "for i in range (0,len(st)) :\n",
    "    if i % 2 == 0 :\n",
    "        st_1=st_1 + st[i].upper()\n",
    "    else :\n",
    "        st_1=st_1 + st[i]\n",
    "print(st_1)"
   ]
  },
  {
   "cell_type": "code",
   "execution_count": null,
   "id": "49baabc1",
   "metadata": {},
   "outputs": [],
   "source": [
    "st=\"omar\"\n",
    "st=st.replace('a','A')\n",
    "print(st)"
   ]
  },
  {
   "cell_type": "code",
   "execution_count": 22,
   "id": "796f0660",
   "metadata": {},
   "outputs": [
    {
     "name": "stdout",
     "output_type": "stream",
     "text": [
      "Please enter the number : 5\n",
      "Number is not exist\n",
      "Number is not exist\n"
     ]
    }
   ],
   "source": [
    "number=input(\"Please enter the number : \")\n",
    "number=int(number)\n",
    "st=[1,2,3,4]\n",
    "for i in range(len(st)):\n",
    "    st[i]=int(st[i])\n",
    "for i in range(len(st)):\n",
    "    if (st[i]==number):\n",
    "        print(\"Number is exist\")\n",
    "        break;\n",
    "        \n",
    "else :\n",
    "    print(\"Number is not exist\")\n",
    "  "
   ]
  },
  {
   "cell_type": "code",
   "execution_count": 1,
   "id": "cbfa26fb",
   "metadata": {},
   "outputs": [
    {
     "name": "stdout",
     "output_type": "stream",
     "text": [
      "Please enter the number : 4\n",
      "Number is exist\n"
     ]
    }
   ],
   "source": [
    "number=input(\"Please enter the number : \")\n",
    "number=int(number)\n",
    "st=[1,2,3,4]\n",
    "for i in range(len(st)):\n",
    "    st[i]=int(st[i])\n",
    "    \n",
    "if number in st :\n",
    "    print(\"Number is exist\")        \n",
    "else :\n",
    "    print(\"Number is not exist\")"
   ]
  },
  {
   "cell_type": "code",
   "execution_count": 12,
   "id": "16f50512",
   "metadata": {},
   "outputs": [
    {
     "name": "stdout",
     "output_type": "stream",
     "text": [
      "o\n",
      "m\n",
      "a\n",
      "r\n",
      "ok\n"
     ]
    }
   ],
   "source": []
  },
  {
   "cell_type": "code",
   "execution_count": null,
   "id": "4c94d2c6",
   "metadata": {},
   "outputs": [],
   "source": []
  }
 ],
 "metadata": {
  "kernelspec": {
   "display_name": "Python 3 (ipykernel)",
   "language": "python",
   "name": "python3"
  },
  "language_info": {
   "codemirror_mode": {
    "name": "ipython",
    "version": 3
   },
   "file_extension": ".py",
   "mimetype": "text/x-python",
   "name": "python",
   "nbconvert_exporter": "python",
   "pygments_lexer": "ipython3",
   "version": "3.9.13"
  }
 },
 "nbformat": 4,
 "nbformat_minor": 5
}
