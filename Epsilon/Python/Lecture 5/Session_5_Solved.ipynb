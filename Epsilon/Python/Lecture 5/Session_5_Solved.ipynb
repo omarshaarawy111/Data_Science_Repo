{
 "cells": [
  {
   "cell_type": "markdown",
   "id": "b67ca843",
   "metadata": {
    "id": "b67ca843"
   },
   "source": [
    "## EX1 : ask user to enter lower case string and convert all characters with even index to upper case ?"
   ]
  },
  {
   "cell_type": "code",
   "execution_count": 39,
   "id": "38ddf3c5",
   "metadata": {
    "id": "38ddf3c5",
    "outputId": "05c1827c-a409-4e9f-aa1e-b4fcd75b26d9"
   },
   "outputs": [
    {
     "name": "stdout",
     "output_type": "stream",
     "text": [
      "Enter Lower Case String : hello\n"
     ]
    }
   ],
   "source": [
    "s = input('Enter Lower Case String : ')"
   ]
  },
  {
   "cell_type": "code",
   "execution_count": 40,
   "id": "5647a6d7",
   "metadata": {
    "id": "5647a6d7"
   },
   "outputs": [],
   "source": [
    "ans = ''\n",
    "for i in range(len(s)):\n",
    "    if i % 2 == 0:\n",
    "        ans += s[i].upper()\n",
    "    \n",
    "    else :\n",
    "        ans += s[i]"
   ]
  },
  {
   "cell_type": "code",
   "execution_count": 41,
   "id": "6849ef9d",
   "metadata": {
    "id": "6849ef9d",
    "outputId": "fa233fa6-15f8-4e01-a8af-d3d6c5bf8492"
   },
   "outputs": [
    {
     "data": {
      "text/plain": [
       "'HeLlO'"
      ]
     },
     "execution_count": 41,
     "metadata": {},
     "output_type": "execute_result"
    }
   ],
   "source": [
    "ans"
   ]
  },
  {
   "cell_type": "code",
   "execution_count": 42,
   "id": "9b305e2e",
   "metadata": {
    "id": "9b305e2e",
    "outputId": "dbb0714a-16b2-4544-dcb8-f0b05f1c3597"
   },
   "outputs": [
    {
     "name": "stdout",
     "output_type": "stream",
     "text": [
      "HeLlO"
     ]
    }
   ],
   "source": [
    "for i in range(len(s)):\n",
    "    if i % 2 == 0:\n",
    "        print(s[i].upper() , end = '')\n",
    "    \n",
    "    else :\n",
    "        print(s[i] , end = '')"
   ]
  },
  {
   "cell_type": "markdown",
   "id": "d81abe2f",
   "metadata": {
    "id": "d81abe2f"
   },
   "source": [
    "## EX2 : you have a list of integers and ask user to enter number and if number exist inside list print exist else not exist ?"
   ]
  },
  {
   "cell_type": "code",
   "execution_count": 43,
   "id": "24a36340",
   "metadata": {
    "id": "24a36340"
   },
   "outputs": [],
   "source": [
    "lst = [5 , 90 , 3 , -1 , 5 , 3 , 8]"
   ]
  },
  {
   "cell_type": "code",
   "execution_count": 44,
   "id": "7795e5a8",
   "metadata": {
    "id": "7795e5a8",
    "outputId": "e8bae357-8e80-46dd-f33e-0c77f13bc7cf"
   },
   "outputs": [
    {
     "name": "stdout",
     "output_type": "stream",
     "text": [
      "Enter Number : 5\n"
     ]
    }
   ],
   "source": [
    "num = int(input('Enter Number : '))"
   ]
  },
  {
   "cell_type": "code",
   "execution_count": 45,
   "id": "a675b662",
   "metadata": {
    "id": "a675b662",
    "outputId": "d2038cda-bf57-4530-921b-bd01a4e29c38"
   },
   "outputs": [
    {
     "name": "stdout",
     "output_type": "stream",
     "text": [
      "Number is exist inside list\n"
     ]
    }
   ],
   "source": [
    "if num in lst:\n",
    "    print('Number is exist inside list')\n",
    "\n",
    "else :\n",
    "    print('Number is not exist inside list')"
   ]
  },
  {
   "cell_type": "markdown",
   "id": "3b83e671",
   "metadata": {},
   "source": [
    "#### another solution"
   ]
  },
  {
   "cell_type": "code",
   "execution_count": 46,
   "id": "ab50959e",
   "metadata": {
    "id": "ab50959e",
    "outputId": "3cbe829c-814c-45e5-8044-680eb6f5e6f7"
   },
   "outputs": [
    {
     "name": "stdout",
     "output_type": "stream",
     "text": [
      "Number is exist inside list\n"
     ]
    }
   ],
   "source": [
    "flag = False \n",
    "\n",
    "for item in lst:\n",
    "    if item == num:\n",
    "        flag = True \n",
    "        break\n",
    "    \n",
    "print('Number is exist inside list' if flag else 'Number is not exist inside list')"
   ]
  },
  {
   "cell_type": "markdown",
   "id": "d3ff418c",
   "metadata": {
    "id": "d3ff418c"
   },
   "source": [
    "## EX3:  you have a list of integers and ask user to enter number and print number of occurrences of this number inside list ?"
   ]
  },
  {
   "cell_type": "code",
   "execution_count": 47,
   "id": "9c7884d6",
   "metadata": {
    "id": "9c7884d6"
   },
   "outputs": [],
   "source": [
    "lst = [5 , 90 , 3 , -1 , 5 , 3 , 8 , 90 , 8 , -1]"
   ]
  },
  {
   "cell_type": "code",
   "execution_count": 48,
   "id": "41b52f03",
   "metadata": {
    "id": "41b52f03",
    "outputId": "75e3fac0-e5a9-4528-90d1-83e8dece9b5b"
   },
   "outputs": [
    {
     "name": "stdout",
     "output_type": "stream",
     "text": [
      "Enter Number : 90\n"
     ]
    }
   ],
   "source": [
    "num = int(input('Enter Number : '))"
   ]
  },
  {
   "cell_type": "code",
   "execution_count": 49,
   "id": "b5db0a25",
   "metadata": {
    "id": "b5db0a25",
    "outputId": "162fd390-c282-4b0d-eccc-0effc3f4a401"
   },
   "outputs": [
    {
     "name": "stdout",
     "output_type": "stream",
     "text": [
      "This number exist 2 times inside that list\n"
     ]
    }
   ],
   "source": [
    "print(f'This number exist {lst.count(num)} times inside that list')"
   ]
  },
  {
   "cell_type": "markdown",
   "id": "98678160",
   "metadata": {},
   "source": [
    "#### another solution"
   ]
  },
  {
   "cell_type": "code",
   "execution_count": 50,
   "id": "498d0172",
   "metadata": {
    "id": "498d0172",
    "outputId": "ed192934-d6ea-446f-bb21-d6c0cff992d8"
   },
   "outputs": [
    {
     "name": "stdout",
     "output_type": "stream",
     "text": [
      "This number exist 2 times inside that list\n"
     ]
    }
   ],
   "source": [
    "cnt = 0 \n",
    "\n",
    "for item in lst:\n",
    "    if item == num:\n",
    "        cnt += 1 \n",
    "        \n",
    "print(f'This number exist {cnt} times inside that list')"
   ]
  },
  {
   "cell_type": "markdown",
   "id": "e9a64120",
   "metadata": {
    "id": "e9a64120"
   },
   "source": [
    "## EX4: you have a string you are asked to how many numbers , how many char , how many special char in it \n",
    "* sample input 'abc123+-\\z|'\n",
    "* number of numbers = 3\n",
    "* number of char = 4\n",
    "* number of special char = 4"
   ]
  },
  {
   "cell_type": "code",
   "execution_count": 51,
   "id": "483b0e61",
   "metadata": {
    "id": "483b0e61"
   },
   "outputs": [],
   "source": [
    "s = 'abc123+-\\z|'"
   ]
  },
  {
   "cell_type": "code",
   "execution_count": 52,
   "id": "ef5288cd",
   "metadata": {
    "id": "ef5288cd"
   },
   "outputs": [],
   "source": [
    "countn , countch ,countsch = 0 , 0 , 0"
   ]
  },
  {
   "cell_type": "code",
   "execution_count": 53,
   "id": "6cee3cd6",
   "metadata": {
    "id": "6cee3cd6"
   },
   "outputs": [],
   "source": [
    "# using string operations \n",
    "for item in s:\n",
    "    \n",
    "    if item.isdecimal() == True :\n",
    "        ## increment the counter of numbers\n",
    "        countn += 1 \n",
    "        \n",
    "    elif item.isalpha() == True :\n",
    "        ## increment the counter of chars\n",
    "        countch += 1 \n",
    "        \n",
    "    else :\n",
    "        ## increment the counter of special chars\n",
    "        countsch += 1 "
   ]
  },
  {
   "cell_type": "code",
   "execution_count": 54,
   "id": "fe0ed835",
   "metadata": {
    "id": "fe0ed835",
    "outputId": "ee808bb5-371f-4c6b-cc22-b9e5384f09fa"
   },
   "outputs": [
    {
     "data": {
      "text/plain": [
       "(3, 4, 4)"
      ]
     },
     "execution_count": 54,
     "metadata": {},
     "output_type": "execute_result"
    }
   ],
   "source": [
    "countn , countch ,countsch"
   ]
  },
  {
   "cell_type": "markdown",
   "id": "47ea78fa",
   "metadata": {
    "id": "47ea78fa"
   },
   "source": [
    "## EX5: you have a list and number search in list to find 2 items there sum is that number ?"
   ]
  },
  {
   "cell_type": "code",
   "execution_count": 55,
   "id": "e68524f1",
   "metadata": {
    "id": "e68524f1"
   },
   "outputs": [],
   "source": [
    "lst = [2 ,3 ,6 , 10 , 12 , 16]\n",
    "target = 22"
   ]
  },
  {
   "cell_type": "code",
   "execution_count": 56,
   "id": "e3f6bab3",
   "metadata": {
    "id": "e3f6bab3",
    "outputId": "8b50850d-b20e-4400-f5d3-ae9ea8c41777"
   },
   "outputs": [
    {
     "data": {
      "text/plain": [
       "[(6, 16), (10, 12), (12, 10), (16, 6)]"
      ]
     },
     "execution_count": 56,
     "metadata": {},
     "output_type": "execute_result"
    }
   ],
   "source": [
    "# with repetion problem !!\n",
    "ans = []\n",
    "\n",
    "for item in lst:\n",
    "    \n",
    "    if target - item in lst:\n",
    "        ans.append((item , target-item))\n",
    "    \n",
    "ans"
   ]
  },
  {
   "cell_type": "markdown",
   "id": "372bd2e9",
   "metadata": {},
   "source": [
    "#### another solution (without repetition)"
   ]
  },
  {
   "cell_type": "code",
   "execution_count": 57,
   "id": "23dac033",
   "metadata": {
    "id": "23dac033",
    "outputId": "14c9754f-9c6c-49e7-8acf-94c7fe7b56f6"
   },
   "outputs": [
    {
     "data": {
      "text/plain": [
       "[(6, 16), (10, 12)]"
      ]
     },
     "execution_count": 57,
     "metadata": {},
     "output_type": "execute_result"
    }
   ],
   "source": [
    "# without repetion\n",
    "ans = []\n",
    "\n",
    "for i in range(len(lst)):\n",
    "    \n",
    "    if target - lst[i] in lst[i + 1 : ]:\n",
    "        ans.append((lst[i] , target - lst[i]))\n",
    "\n",
    "ans"
   ]
  },
  {
   "cell_type": "markdown",
   "id": "6bea6dca",
   "metadata": {
    "id": "6bea6dca"
   },
   "source": [
    "## EX6 : For this dictionary find total price for meal ?"
   ]
  },
  {
   "cell_type": "code",
   "execution_count": 58,
   "id": "44dee71c",
   "metadata": {
    "id": "44dee71c"
   },
   "outputs": [],
   "source": [
    "resturants = {\n",
    "  'KFC':{\n",
    "      'chicken':75,\n",
    "      'Salad': 10,\n",
    "      'meat':80,\n",
    "      'spicy chicken':90\n",
    "  },\n",
    "  'Heart Attack':{\n",
    "      'Angry Heart':100,\n",
    "      'Brave Heart' : 88,\n",
    "      'chicken' :60,\n",
    "       'Salad': 15\n",
    "  },\n",
    "  'McDonald':{\n",
    "      'Big Mac':56,\n",
    "      'Spicy Crispy Chicken Sandwich': 77,\n",
    "      'Happy meal': 40,\n",
    "      'Big Tasty': 95\n",
    "  },\n",
    "   \"Zack's\":{\n",
    "     'chicken':120,\n",
    "      'Spicy Crispy Chicken Sandwich': 55,\n",
    "      'Salad': 20,\n",
    "      'meat':88\n",
    "  }\n",
    "} \n"
   ]
  },
  {
   "cell_type": "code",
   "execution_count": 59,
   "id": "33dfe4a1",
   "metadata": {
    "id": "33dfe4a1",
    "outputId": "079e50a2-7c8f-412c-91fe-b3db0b551cb9"
   },
   "outputs": [
    {
     "name": "stdout",
     "output_type": "stream",
     "text": [
      "KFC 255\n",
      "Heart Attack 263\n",
      "McDonald 268\n",
      "Zack's 283\n"
     ]
    }
   ],
   "source": [
    "ans = {}\n",
    "for key in resturants.keys():\n",
    "    print(key , sum(resturants[key].values()))\n",
    "    ans[key] = sum(resturants[key].values())"
   ]
  },
  {
   "cell_type": "code",
   "execution_count": 60,
   "id": "4361c86e",
   "metadata": {
    "id": "4361c86e",
    "outputId": "2b8e2abf-8d23-423f-ada9-9cad4f863801"
   },
   "outputs": [
    {
     "data": {
      "text/plain": [
       "{'KFC': 255, 'Heart Attack': 263, 'McDonald': 268, \"Zack's\": 283}"
      ]
     },
     "execution_count": 60,
     "metadata": {},
     "output_type": "execute_result"
    }
   ],
   "source": [
    "ans "
   ]
  },
  {
   "cell_type": "markdown",
   "id": "8e7cb566",
   "metadata": {
    "id": "327499d9"
   },
   "source": [
    "## EX7 : you have a list you are asked to reverse this list ?"
   ]
  },
  {
   "cell_type": "markdown",
   "id": "f74769cb",
   "metadata": {},
   "source": [
    "#### 1- using slicing"
   ]
  },
  {
   "cell_type": "code",
   "execution_count": 61,
   "id": "8c312a8e",
   "metadata": {
    "id": "f3dcf4b2"
   },
   "outputs": [],
   "source": [
    "lst = [ 1 , 90 ,'a' , 6]"
   ]
  },
  {
   "cell_type": "code",
   "execution_count": 62,
   "id": "3409fa01",
   "metadata": {
    "id": "dc305ba6",
    "outputId": "0c509cf2-00f0-498b-8660-e0ca4e416b10"
   },
   "outputs": [
    {
     "name": "stdout",
     "output_type": "stream",
     "text": [
      "[6, 'a', 90, 1]\n"
     ]
    }
   ],
   "source": [
    "# using slicing \n",
    "print(lst[::-1])"
   ]
  },
  {
   "cell_type": "markdown",
   "id": "4f8c86dc",
   "metadata": {},
   "source": [
    "### using lst method"
   ]
  },
  {
   "cell_type": "code",
   "execution_count": 63,
   "id": "1611db8b",
   "metadata": {
    "id": "a69063f4",
    "outputId": "c54a32c5-c308-4f1c-ab16-c9dceead4e9a"
   },
   "outputs": [
    {
     "data": {
      "text/plain": [
       "[6, 'a', 90, 1]"
      ]
     },
     "execution_count": 63,
     "metadata": {},
     "output_type": "execute_result"
    }
   ],
   "source": [
    "# using list method (but this return result in same list !! ) -- > run initialization again :)\n",
    "lst.reverse()\n",
    "lst"
   ]
  },
  {
   "cell_type": "markdown",
   "id": "ac863514",
   "metadata": {},
   "source": [
    "#### using builtin functions"
   ]
  },
  {
   "cell_type": "code",
   "execution_count": 64,
   "id": "06be75ba",
   "metadata": {
    "id": "11e96ef6",
    "outputId": "2a49c203-40a0-446d-ef13-004d14e0f330"
   },
   "outputs": [
    {
     "data": {
      "text/plain": [
       "[1, 90, 'a', 6]"
      ]
     },
     "execution_count": 64,
     "metadata": {},
     "output_type": "execute_result"
    }
   ],
   "source": [
    "# using builtin python functions \n",
    "list(reversed(lst))"
   ]
  },
  {
   "cell_type": "markdown",
   "id": "d0077181",
   "metadata": {},
   "source": [
    "#### using for loop\n"
   ]
  },
  {
   "cell_type": "code",
   "execution_count": 65,
   "id": "eab43f6b",
   "metadata": {
    "id": "0582a88f",
    "outputId": "93c29cd8-3c7d-4249-e74e-4c8bb996a9a5"
   },
   "outputs": [
    {
     "data": {
      "text/plain": [
       "[1, 90, 'a', 6]"
      ]
     },
     "execution_count": 65,
     "metadata": {},
     "output_type": "execute_result"
    }
   ],
   "source": [
    "# using loops and lists \n",
    "\n",
    "rlst = []\n",
    "\n",
    "for i in range(len(lst) -1 , -1 , -1):\n",
    "    rlst.append(lst[i])\n",
    "    \n",
    "rlst"
   ]
  },
  {
   "cell_type": "markdown",
   "id": "c5e2fcc3",
   "metadata": {},
   "source": [
    "#### using two pointers and swapping"
   ]
  },
  {
   "cell_type": "code",
   "execution_count": 66,
   "id": "ec5b2497",
   "metadata": {
    "id": "0e9c9ec3",
    "outputId": "141e4bc4-7953-4d5b-fa01-cb77f68b0960"
   },
   "outputs": [
    {
     "data": {
      "text/plain": [
       "[1, 90, 'a', 6]"
      ]
     },
     "execution_count": 66,
     "metadata": {},
     "output_type": "execute_result"
    }
   ],
   "source": [
    "# using two pointers \n",
    "# time \n",
    "i = 0\n",
    "j = len(lst)-1\n",
    "\n",
    "\n",
    "while i < j:\n",
    "    \n",
    "    lst[i] , lst[j] = lst[j] , lst[i]\n",
    "    \n",
    "    i += 1 \n",
    "    j -= 1\n",
    "    \n",
    "lst"
   ]
  },
  {
   "cell_type": "markdown",
   "id": "909a4463",
   "metadata": {
    "id": "909a4463"
   },
   "source": [
    "## EX8: Write a program that asks the user to enter an integer and reports all divisors in ascending order."
   ]
  },
  {
   "cell_type": "code",
   "execution_count": 67,
   "id": "52ab63ac",
   "metadata": {
    "id": "52ab63ac",
    "outputId": "1881fd43-7606-4430-a909-ee8cc5d32579"
   },
   "outputs": [
    {
     "name": "stdout",
     "output_type": "stream",
     "text": [
      "Enter Number : 20\n"
     ]
    }
   ],
   "source": [
    "n = int(input('Enter Number : '))"
   ]
  },
  {
   "cell_type": "code",
   "execution_count": 68,
   "id": "9b166ad1",
   "metadata": {
    "id": "9b166ad1",
    "outputId": "454e0efb-b1bb-4289-d26e-b811114c9855"
   },
   "outputs": [
    {
     "data": {
      "text/plain": [
       "[1, 2, 4, 5, 10, 20]"
      ]
     },
     "execution_count": 68,
     "metadata": {},
     "output_type": "execute_result"
    }
   ],
   "source": [
    "[i for i in range(1 , n + 1 ) if n % i == 0]"
   ]
  },
  {
   "cell_type": "markdown",
   "id": "d3a25d70",
   "metadata": {},
   "source": [
    "### another sol"
   ]
  },
  {
   "cell_type": "code",
   "execution_count": 69,
   "id": "0d1d5e05",
   "metadata": {
    "id": "0d1d5e05",
    "outputId": "43fafe52-95a8-46b5-dd6f-b18c056b1335"
   },
   "outputs": [
    {
     "name": "stdout",
     "output_type": "stream",
     "text": [
      "1 2 4 5 10 20 "
     ]
    }
   ],
   "source": [
    "for i in range(1 , n + 1 ):\n",
    "    if n % i == 0:\n",
    "        print(i , end = ' ')"
   ]
  },
  {
   "cell_type": "code",
   "execution_count": null,
   "id": "4bcaca41",
   "metadata": {
    "id": "4bcaca41"
   },
   "outputs": [],
   "source": []
  }
 ],
 "metadata": {
  "colab": {
   "provenance": []
  },
  "kernelspec": {
   "display_name": "Python 3 (ipykernel)",
   "language": "python",
   "name": "python3"
  },
  "language_info": {
   "codemirror_mode": {
    "name": "ipython",
    "version": 3
   },
   "file_extension": ".py",
   "mimetype": "text/x-python",
   "name": "python",
   "nbconvert_exporter": "python",
   "pygments_lexer": "ipython3",
   "version": "3.9.13"
  }
 },
 "nbformat": 4,
 "nbformat_minor": 5
}
