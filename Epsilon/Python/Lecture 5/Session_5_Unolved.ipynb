{
 "cells": [
  {
   "cell_type": "markdown",
   "metadata": {
    "id": "b67ca843"
   },
   "source": [
    "## EX1 : ask user to enter lower case string and convert all characters with even index to upper case ?"
   ]
  },
  {
   "cell_type": "code",
   "execution_count": 15,
   "metadata": {
    "colab": {
     "base_uri": "https://localhost:8080/"
    },
    "executionInfo": {
     "elapsed": 5,
     "status": "ok",
     "timestamp": 1678540729293,
     "user": {
      "displayName": "Mohamed Antar",
      "userId": "15720700715477435377"
     },
     "user_tz": -120
    },
    "id": "5nKF8vpJ0r47",
    "outputId": "3548518c-935a-4128-aa97-6d55201a0de0"
   },
   "outputs": [
    {
     "name": "stdout",
     "output_type": "stream",
     "text": [
      "H L O W R D \n",
      "\n",
      "H L O W R D \n",
      "\n",
      "['H', 'e', 'L', 'l', 'O', ' ', 'W', 'o', 'R', 'l', 'D']\n",
      "HeLlO WoRlD\n"
     ]
    }
   ],
   "source": [
    "s = \"hello world\"\n",
    "for i in range(0,len(s),2):\n",
    "    print(s[i].upper(),end=\" \")\n",
    "print(\"\\n\")\n",
    "s = \"hello world\"\n",
    "for i in range(len(s)):\n",
    "    if i % 2 ==0 :  \n",
    "        print(s[i].upper(),end=\" \")  \n",
    "print(\"\\n\")        \n",
    "s=\"hello world\"\n",
    "lst=[]\n",
    "for i in range(len(s)):\n",
    "    if i % 2 ==0 :  \n",
    "        lst.append(s[i].upper())\n",
    "    else :\n",
    "        lst.append(s[i])\n",
    "print(lst)        \n",
    "s=\"hello world\"\n",
    "lst=\"\"\n",
    "for i in range(len(s)):\n",
    "    if i % 2 ==0 :  \n",
    "        lst=lst+s[i].upper()\n",
    "    else :\n",
    "        lst=lst+s[i]\n",
    "print(lst)"
   ]
  },
  {
   "cell_type": "code",
   "execution_count": 17,
   "metadata": {
    "colab": {
     "background_save": true
    },
    "id": "Ams7B9tM4VD0"
   },
   "outputs": [
    {
     "name": "stdout",
     "output_type": "stream",
     "text": [
      "['h', 'e', 'hello']\n"
     ]
    }
   ],
   "source": [
    "s = \"hello\"\n",
    "lst = [] \n",
    "lst.append(s[0])\n",
    "lst.append(s[1])\n",
    "lst.append(s)\n",
    "print(lst )"
   ]
  },
  {
   "cell_type": "code",
   "execution_count": 24,
   "metadata": {
    "colab": {
     "base_uri": "https://localhost:8080/"
    },
    "executionInfo": {
     "elapsed": 264,
     "status": "ok",
     "timestamp": 1678541658992,
     "user": {
      "displayName": "Mohamed Antar",
      "userId": "15720700715477435377"
     },
     "user_tz": -120
    },
    "id": "umslhRx9340N",
    "outputId": "9ec94bd0-f50e-437b-aab4-6336b7d8926b"
   },
   "outputs": [
    {
     "name": "stdout",
     "output_type": "stream",
     "text": [
      "h\n",
      "e\n",
      "l\n",
      "l\n",
      "o\n"
     ]
    }
   ],
   "source": [
    "s = \"hello\"\n",
    "for i in range(len(s)):\n",
    "  print(s[i])"
   ]
  },
  {
   "cell_type": "code",
   "execution_count": 19,
   "metadata": {
    "colab": {
     "base_uri": "https://localhost:8080/"
    },
    "executionInfo": {
     "elapsed": 5,
     "status": "ok",
     "timestamp": 1678540887243,
     "user": {
      "displayName": "Mohamed Antar",
      "userId": "15720700715477435377"
     },
     "user_tz": -120
    },
    "id": "SsXNY2PH00H3",
    "outputId": "972e8b39-8c8a-405b-f9f1-f14aeac46fdc"
   },
   "outputs": [
    {
     "data": {
      "text/plain": [
       "['H', 'e', 'L', 'l', 'O', ' ', 'W', 'o', 'R', 'l', 'D']"
      ]
     },
     "execution_count": 19,
     "metadata": {},
     "output_type": "execute_result"
    }
   ],
   "source": [
    "s = \"hello world\"\n",
    "lst = []\n",
    "for i in range(len(s)):\n",
    "  if i%2 ==0 :\n",
    "    lst.append(s[i].upper())\n",
    "  else:\n",
    "    lst.append(s[i])\n",
    "\n",
    "lst"
   ]
  },
  {
   "cell_type": "code",
   "execution_count": 15,
   "metadata": {
    "colab": {
     "base_uri": "https://localhost:8080/"
    },
    "executionInfo": {
     "elapsed": 246,
     "status": "ok",
     "timestamp": 1678540659615,
     "user": {
      "displayName": "Mohamed Antar",
      "userId": "15720700715477435377"
     },
     "user_tz": -120
    },
    "id": "cb448ba4",
    "outputId": "f240abf8-9699-4ab7-9edd-3b90021f8d8f"
   },
   "outputs": [
    {
     "name": "stdout",
     "output_type": "stream",
     "text": [
      "H\n",
      "e\n",
      "L\n",
      "l\n",
      "O\n",
      " \n",
      "W\n",
      "o\n",
      "R\n",
      "l\n",
      "D\n"
     ]
    }
   ],
   "source": [
    "s = \"hello world\"\n",
    "for i in range(0,len(s)):\n",
    "  if i % 2 ==0 :\n",
    "    print(s[i].upper())\n",
    "  else:\n",
    "    print(s[i])"
   ]
  },
  {
   "cell_type": "markdown",
   "metadata": {
    "id": "d81abe2f"
   },
   "source": [
    "## EX2 : you have a list of integers and ask user to enter number and if number exist inside list print exist else not exist ?\n",
    "- using \"in\" and using for loops"
   ]
  },
  {
   "cell_type": "code",
   "execution_count": null,
   "metadata": {
    "id": "a4970896"
   },
   "outputs": [],
   "source": []
  },
  {
   "cell_type": "markdown",
   "metadata": {
    "id": "d3ff418c"
   },
   "source": [
    "## EX3:  you have a list of integers and ask user to enter number and print number of occurrences of this number inside list ?\n",
    "- using count and using for loops"
   ]
  },
  {
   "cell_type": "code",
   "execution_count": 20,
   "metadata": {
    "id": "5fb0f267"
   },
   "outputs": [
    {
     "name": "stdout",
     "output_type": "stream",
     "text": [
      "enter number1\n",
      "2\n"
     ]
    }
   ],
   "source": [
    "number=int(input(\"enter number : \"))\n",
    "lst=[1,1,2,3,4]\n",
    "print(lst.count(number))"
   ]
  },
  {
   "cell_type": "code",
   "execution_count": 24,
   "metadata": {
    "id": "3e0dc0b1"
   },
   "outputs": [
    {
     "name": "stdout",
     "output_type": "stream",
     "text": [
      "enter number : 1\n",
      "2\n",
      "2\n"
     ]
    }
   ],
   "source": [
    "number=int(input(\"enter number : \"))\n",
    "lst=[1,1,2,3,4]\n",
    "counter=0\n",
    "for i in lst :\n",
    "    if i == number:\n",
    "        counter +=1\n",
    "print(counter)\n",
    "counter=0\n",
    "for i in range(len(lst)) :\n",
    "    if lst[i] == number:\n",
    "        counter +=1\n",
    "print(counter)  "
   ]
  },
  {
   "cell_type": "markdown",
   "metadata": {
    "id": "fcf3dfe8"
   },
   "source": [
    "## EX4: you have a string you are asked to how many numbers , how many char , how many special char in it \n",
    "* sample input 'abc123+-\\z|'\n",
    "* number of numbers = 3\n",
    "* number of char = 4\n",
    "* number of special char = 4"
   ]
  },
  {
   "cell_type": "code",
   "execution_count": 26,
   "metadata": {
    "id": "61182cc3"
   },
   "outputs": [
    {
     "name": "stdout",
     "output_type": "stream",
     "text": [
      "enter string : anfiocajio23e13\\\n",
      "integers = 4 , char = 11 , speacial char = 1\n",
      "integers = 4 , char = 11 , speacial char = 1\n"
     ]
    }
   ],
   "source": [
    "name=input(\"enter string : \")\n",
    "countn,countch,countsp=0,0,0\n",
    "for i in name :\n",
    "    if i.isdecimal() :\n",
    "        countn +=1\n",
    "    elif i.isalpha() :\n",
    "        countch +=1\n",
    "    else :\n",
    "        countsp +=1\n",
    "print(\"integers = {} , char = {} , speacial char = {}\".format(countn,countch,countsp))        \n",
    "countn,countch,countsp=0,0,0\n",
    "for i in range(len(name)) :\n",
    "    if name[i].isdecimal() :\n",
    "        countn +=1\n",
    "    elif name[i].isalpha() :\n",
    "        countch +=1\n",
    "    else :\n",
    "        countsp +=1\n",
    "print(\"integers = {} , char = {} , speacial char = {}\".format(countn,countch,countsp))                    "
   ]
  },
  {
   "cell_type": "markdown",
   "metadata": {
    "id": "47ea78fa"
   },
   "source": [
    "## EX5: you have a list and number search in list to find 2 items there sum is that number ?"
   ]
  },
  {
   "cell_type": "code",
   "execution_count": null,
   "metadata": {
    "id": "e68524f1"
   },
   "outputs": [],
   "source": [
    "lst = [2 ,3 ,6 , 10 , 12 , 16]\n",
    "target = 22"
   ]
  },
  {
   "cell_type": "code",
   "execution_count": 5,
   "metadata": {
    "id": "8aeffddf"
   },
   "outputs": [
    {
     "name": "stdout",
     "output_type": "stream",
     "text": [
      "enter target number :5\n",
      "[(2, 3), (3, 2)]\n",
      "enter target number :5\n",
      "[(2, 3)]\n"
     ]
    }
   ],
   "source": [
    "lst = [2 ,3 ,6 , 10 , 12 , 16]\n",
    "#with repetation\n",
    "target=int(input(\"enter target number :\"))\n",
    "lst_new=[]\n",
    "for i in lst :\n",
    "    if target-i in lst :\n",
    "        lst_new.append((i,target-i))\n",
    "print(lst_new)  \n",
    "#without repetation\n",
    "lst = [2 ,3 ,6 , 10 , 12 , 16]\n",
    "target=int(input(\"enter target number :\"))\n",
    "lst_new=[]\n",
    "for i in range(len(lst)) :\n",
    "    if target-lst[i] in lst[i+1 :] :\n",
    "        lst_new.append((lst[i],target-lst[i]))\n",
    "print(lst_new)  "
   ]
  },
  {
   "cell_type": "markdown",
   "metadata": {
    "id": "6bea6dca"
   },
   "source": [
    "## EX6 : For this dictionary find total price for each restaurant ?"
   ]
  },
  {
   "cell_type": "code",
   "execution_count": 9,
   "metadata": {
    "id": "44dee71c"
   },
   "outputs": [
    {
     "ename": "NameError",
     "evalue": "name 'restaurant' is not defined",
     "output_type": "error",
     "traceback": [
      "\u001b[1;31m---------------------------------------------------------------------------\u001b[0m",
      "\u001b[1;31mNameError\u001b[0m                                 Traceback (most recent call last)",
      "\u001b[1;32m<ipython-input-9-4bb0d01fe80c>\u001b[0m in \u001b[0;36m<module>\u001b[1;34m\u001b[0m\n\u001b[0;32m     28\u001b[0m \u001b[0msum\u001b[0m\u001b[1;33m=\u001b[0m\u001b[1;36m0\u001b[0m\u001b[1;33m\u001b[0m\u001b[1;33m\u001b[0m\u001b[0m\n\u001b[0;32m     29\u001b[0m \u001b[1;32mfor\u001b[0m \u001b[0mi\u001b[0m \u001b[1;32min\u001b[0m \u001b[0mrange\u001b[0m \u001b[1;33m(\u001b[0m\u001b[1;36m4\u001b[0m\u001b[1;33m)\u001b[0m \u001b[1;33m:\u001b[0m\u001b[1;33m\u001b[0m\u001b[1;33m\u001b[0m\u001b[0m\n\u001b[1;32m---> 30\u001b[1;33m     \u001b[0msum\u001b[0m\u001b[1;33m=\u001b[0m\u001b[0msum\u001b[0m\u001b[1;33m+\u001b[0m\u001b[0mrestaurant\u001b[0m\u001b[1;33m[\u001b[0m\u001b[0mrestaurant\u001b[0m\u001b[1;33m]\u001b[0m\u001b[1;33m[\u001b[0m\u001b[0mi\u001b[0m\u001b[1;33m]\u001b[0m\u001b[1;33m\u001b[0m\u001b[1;33m\u001b[0m\u001b[0m\n\u001b[0m\u001b[0;32m     31\u001b[0m \u001b[1;32mreturn\u001b[0m \u001b[0msum\u001b[0m\u001b[1;33m\u001b[0m\u001b[1;33m\u001b[0m\u001b[0m\n\u001b[0;32m     32\u001b[0m \u001b[1;33m\u001b[0m\u001b[0m\n",
      "\u001b[1;31mNameError\u001b[0m: name 'restaurant' is not defined"
     ]
    }
   ],
   "source": [
    "\n",
    "    resturants = {\n",
    "  'KFC':{\n",
    "      'chicken':75,\n",
    "      'Salad': 10,\n",
    "      'meat':80,\n",
    "      'spicy chicken':90\n",
    "  },\n",
    "  'Heart Attack':{\n",
    "      'Angry Heart':100,\n",
    "      'Brave Heart' : 88,\n",
    "      'chicken' :60,\n",
    "       'Salad': 15\n",
    "  },\n",
    "  'McDonald':{\n",
    "      'Big Mac':56,\n",
    "      'Spicy Crispy Chicken Sandwich': 77,\n",
    "      'Happy meal': 40,\n",
    "      'Big Tasty': 95\n",
    "  },\n",
    "   \"Zack's\":{\n",
    "     'chicken':120,\n",
    "      'Spicy Crispy Chicken Sandwich': 55,\n",
    "      'Salad': 20,\n",
    "      'meat':88\n",
    "  }\n",
    "}\n",
    "                                                                    "
   ]
  },
  {
   "cell_type": "code",
   "execution_count": 10,
   "metadata": {
    "id": "4361c86e"
   },
   "outputs": [
    {
     "name": "stdout",
     "output_type": "stream",
     "text": [
      "enter restaurant nameKFC\n",
      "40\n",
      "40\n",
      "40\n"
     ]
    }
   ],
   "source": [
    "def calculate():\n",
    "    name=input(\"enter restaurant name\")\n",
    "    if name == 'KFC' or name == 'Heart Attack' or name == 'McDonald' or name == 'Zack \\'s' :\n",
    "        print(summation(name))\n",
    "        print(summation_another(name))\n",
    "        print(summation_another_another(name))\n",
    "    else :\n",
    "        calculate()\n",
    "def summation(name):\n",
    "    resturants = {\n",
    "      'KFC':{\n",
    "          'chicken':10,\n",
    "          'Salad': 10,\n",
    "          'meat':10,\n",
    "          'spicy chicken':10\n",
    "      },\n",
    "      'Heart Attack':{\n",
    "          'Angry Heart':100,\n",
    "          'Brave Heart' : 88,\n",
    "          'chicken' :60,\n",
    "           'Salad': 15\n",
    "      },\n",
    "      'McDonald':{\n",
    "          'Big Mac':56,\n",
    "          'Spicy Crispy Chicken Sandwich': 77,\n",
    "          'Happy meal': 40,\n",
    "          'Big Tasty': 95\n",
    "      },\n",
    "       \"Zack's\":{\n",
    "         'chicken':120,\n",
    "          'Spicy Crispy Chicken Sandwich': 55,\n",
    "          'Salad': 20,\n",
    "          'meat':88\n",
    "      }\n",
    "    }\n",
    "    sum=0    \n",
    "    for i in resturants[name] :\n",
    "        sum=sum+resturants[name][i]\n",
    "    return sum  \n",
    "def summation_another(name):\n",
    "    resturants = {\n",
    "      'KFC':{\n",
    "          'chicken':10,\n",
    "          'Salad': 10,\n",
    "          'meat':10,\n",
    "          'spicy chicken':10\n",
    "      },\n",
    "      'Heart Attack':{\n",
    "          'Angry Heart':100,\n",
    "          'Brave Heart' : 88,\n",
    "          'chicken' :60,\n",
    "           'Salad': 15\n",
    "      },\n",
    "      'McDonald':{\n",
    "          'Big Mac':56,\n",
    "          'Spicy Crispy Chicken Sandwich': 77,\n",
    "          'Happy meal': 40,\n",
    "          'Big Tasty': 95\n",
    "      },\n",
    "       \"Zack's\":{\n",
    "         'chicken':120,\n",
    "          'Spicy Crispy Chicken Sandwich': 55,\n",
    "          'Salad': 20,\n",
    "          'meat':88\n",
    "      }\n",
    "    }\n",
    "    sum=0  \n",
    "    lst=[]\n",
    "    for i in resturants[name] :\n",
    "        lst.append(resturants[name][i])\n",
    "    for i in lst :\n",
    "        sum=sum+i\n",
    "    return sum  \n",
    "def summation_another_another(name):\n",
    "    resturants = {\n",
    "      'KFC':{\n",
    "          'chicken':10,\n",
    "          'Salad': 10,\n",
    "          'meat':10,\n",
    "          'spicy chicken':10\n",
    "      },\n",
    "      'Heart Attack':{\n",
    "          'Angry Heart':100,\n",
    "          'Brave Heart' : 88,\n",
    "          'chicken' :60,\n",
    "           'Salad': 15\n",
    "      },\n",
    "      'McDonald':{\n",
    "          'Big Mac':56,\n",
    "          'Spicy Crispy Chicken Sandwich': 77,\n",
    "          'Happy meal': 40,\n",
    "          'Big Tasty': 95\n",
    "      },\n",
    "       \"Zack's\":{\n",
    "         'chicken':120,\n",
    "          'Spicy Crispy Chicken Sandwich': 55,\n",
    "          'Salad': 20,\n",
    "          'meat':88\n",
    "      }\n",
    "    }\n",
    "    sum=0  \n",
    "    lst=[]\n",
    "    for i in resturants[name] :\n",
    "        lst.append(resturants[name][i])\n",
    "    for i in range(len(lst)) :\n",
    "        sum=sum+lst[i]\n",
    "    return sum  \n",
    "calculate()    "
   ]
  },
  {
   "cell_type": "markdown",
   "metadata": {
    "id": "327499d9"
   },
   "source": [
    "## EX7 : you have a list you are asked to reverse this list \n",
    "- using slicing\n",
    "- using for loop\n",
    "- using list method"
   ]
  },
  {
   "cell_type": "code",
   "execution_count": 21,
   "metadata": {
    "id": "f3dcf4b2"
   },
   "outputs": [
    {
     "name": "stdout",
     "output_type": "stream",
     "text": [
      "[6, 'a', 90, 1]\n",
      "[6, 'a', 90, 1]\n",
      "[1, 90, 'a', 6]\n",
      "[6, 'a', 90, 1]\n",
      "[6, 'a', 90, 1]\n",
      "[6, 'a', 90, 1]\n"
     ]
    }
   ],
   "source": [
    "lst = [ 1 , 90 ,'a' , 6]\n",
    "print(lst[::-1])\n",
    "lst = [ 1 , 90 ,'a' , 6]\n",
    "lst.reverse()\n",
    "print(lst)\n",
    "lst = [ 1 , 90 ,'a' , 6]\n",
    "lst_new=list(reversed(lst))\n",
    "print(lst)\n",
    "print(lst_new)\n",
    "lst = [ 1 , 90 ,'a' , 6]\n",
    "lst_new=[]\n",
    "for i in range(len(lst)-1,-1,-1):\n",
    "    lst_new.append(lst[i])\n",
    "print(lst_new)    \n",
    "lst = [ 1 , 90 ,'a' , 6]\n",
    "i = 0\n",
    "j = len(lst)-1\n",
    "\n",
    "\n",
    "while i < j:\n",
    "    \n",
    "    lst[i] , lst[j] = lst[j] , lst[i]\n",
    "    \n",
    "    i += 1 \n",
    "    j -= 1\n",
    "print(lst)    "
   ]
  },
  {
   "cell_type": "code",
   "execution_count": 2,
   "metadata": {
    "colab": {
     "base_uri": "https://localhost:8080/"
    },
    "executionInfo": {
     "elapsed": 6,
     "status": "ok",
     "timestamp": 1678539950512,
     "user": {
      "displayName": "Mohamed Antar",
      "userId": "15720700715477435377"
     },
     "user_tz": -120
    },
    "id": "c2BnGgeyxvYu",
    "outputId": "3d8a3f00-2d4b-42c4-8e63-ef49cd46782f"
   },
   "outputs": [
    {
     "data": {
      "text/plain": [
       "True"
      ]
     },
     "execution_count": 2,
     "metadata": {},
     "output_type": "execute_result"
    }
   ],
   "source": []
  },
  {
   "cell_type": "markdown",
   "metadata": {
    "id": "07256db1"
   },
   "source": [
    "## EX8: Write a program that asks the user to enter an integer and reports all divisors in ascending order."
   ]
  },
  {
   "cell_type": "code",
   "execution_count": 27,
   "metadata": {
    "id": "2db6fa34",
    "outputId": "1881fd43-7606-4430-a909-ee8cc5d32579"
   },
   "outputs": [
    {
     "name": "stdout",
     "output_type": "stream",
     "text": [
      "Enter Number : 12\n",
      "1\n",
      "2\n",
      "3\n",
      "4\n",
      "6\n"
     ]
    },
    {
     "data": {
      "text/plain": [
       "[1, 2, 3, 4, 6]"
      ]
     },
     "execution_count": 27,
     "metadata": {},
     "output_type": "execute_result"
    }
   ],
   "source": [
    "n = int(input('Enter Number : '))\n",
    "for i in range(1,n):\n",
    "    if n % i == 0:\n",
    "        print(i)\n",
    "[(i) for i in range(1,n) if n % i == 0]        "
   ]
  },
  {
   "cell_type": "code",
   "execution_count": null,
   "metadata": {
    "id": "c5a546f7"
   },
   "outputs": [],
   "source": []
  }
 ],
 "metadata": {
  "colab": {
   "name": "",
   "version": ""
  },
  "kernelspec": {
   "display_name": "Python 3",
   "language": "python",
   "name": "python3"
  },
  "language_info": {
   "codemirror_mode": {
    "name": "ipython",
    "version": 3
   },
   "file_extension": ".py",
   "mimetype": "text/x-python",
   "name": "python",
   "nbconvert_exporter": "python",
   "pygments_lexer": "ipython3",
   "version": "3.7.6"
  }
 },
 "nbformat": 4,
 "nbformat_minor": 5
}
