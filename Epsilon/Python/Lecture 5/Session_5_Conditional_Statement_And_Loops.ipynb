{
 "cells": [
  {
   "cell_type": "markdown",
   "metadata": {
    "id": "x7DGL5-qi-Bj"
   },
   "source": [
    "> # Dear Epsilon Students, \n",
    "> # The More you practice The better You'll Be."
   ]
  },
  {
   "cell_type": "markdown",
   "metadata": {
    "id": "meAOjVNSi-Bm"
   },
   "source": [
    "### Instructions: \n",
    "- Make sure that you understand this topics before you start.\n",
    "- If you found something hard to do, try and try then google it and finally ask someone. \n",
    "- You can divide this work into daily tasks so that you do not feel pressure.\n",
    "- After you finish, go to model answer and rate yourself. \n",
    "- If you find something ambiguous, Try to make a hypothesis to solve a problem. "
   ]
  },
  {
   "cell_type": "markdown",
   "metadata": {
    "id": "MFr56d-4i-Bm"
   },
   "source": [
    "### Question classification: \n",
    "- Green is level 1 \n",
    "- Orange is level 2 \n",
    "- Red is level 3 "
   ]
  },
  {
   "cell_type": "markdown",
   "metadata": {
    "id": "hPJYjKLgi-Bn"
   },
   "source": [
    "# <center> Let's start 💪 </center> "
   ]
  },
  {
   "cell_type": "markdown",
   "metadata": {
    "id": "QDSWJXW4i-Bo"
   },
   "source": [
    "## <p style=\"color:orange;\">Q.01 print out words that start with 's' in the following sentence.</p>\n",
    "> st = 'Print only the words that start with s in this sentence'"
   ]
  },
  {
   "cell_type": "code",
   "execution_count": 8,
   "metadata": {
    "id": "cBIYYJZgi-Bo"
   },
   "outputs": [
    {
     "name": "stdout",
     "output_type": "stream",
     "text": [
      "start   s   sentence   "
     ]
    }
   ],
   "source": [
    "# Answer here \n",
    "st = 'Print only the words that start with s in this sentence'\n",
    "st=st.split()\n",
    "for i in st:\n",
    "    if i[0] == 's':\n",
    "        print(i,\" \",end=\" \")\n",
    "        "
   ]
  },
  {
   "cell_type": "markdown",
   "metadata": {
    "id": "2OmVhVQSi-Bq"
   },
   "source": [
    "## <p style=\"color:orange;\">Q.02 Use List comprehension to create a list of all numbers between 1 and 50 that are divisible by 3.</p>"
   ]
  },
  {
   "cell_type": "code",
   "execution_count": 3,
   "metadata": {
    "id": "nbWo8Hl_i-Bq"
   },
   "outputs": [
    {
     "name": "stdout",
     "output_type": "stream",
     "text": [
      "[3, 6, 9, 12, 15, 18, 21, 24, 27, 30, 33, 36, 39, 42, 45, 48]\n",
      "[3, 6, 9, 12, 15, 18, 21, 24, 27, 30, 33, 36, 39, 42, 45, 48]\n"
     ]
    }
   ],
   "source": [
    "# Answer here \n",
    "lst=[]\n",
    "for i in range(1,51):\n",
    "    if i % 3 == 0 :\n",
    "        lst.append(i)\n",
    "print(lst)        \n",
    "lst=[i for i in range(1,51) if i % 3 == 0 ]\n",
    "print(lst)"
   ]
  },
  {
   "cell_type": "markdown",
   "metadata": {
    "id": "S7KII_6Zi-Br"
   },
   "source": [
    "## <p style=\"color:orange;\">Q.03 Go through the string below and if the length of a word is even print \"even!\"</p>\n",
    "> st = 'Print only the words that start with s in this sentence'"
   ]
  },
  {
   "cell_type": "code",
   "execution_count": 12,
   "metadata": {
    "id": "3B7WJc6vi-Br"
   },
   "outputs": [
    {
     "name": "stdout",
     "output_type": "stream",
     "text": [
      "Word : only is even\n",
      "Word : that is even\n",
      "Word : with is even\n",
      "Word : in is even\n",
      "Word : this is even\n",
      "Word : sentence is even\n",
      "even words are : ['only', 'that', 'with', 'in', 'this', 'sentence']\n"
     ]
    }
   ],
   "source": [
    "# Answer here \n",
    "st = 'Print only the words that start with s in this sentence'\n",
    "st=st.split()\n",
    "for i in st:\n",
    "    if len(i) %2 == 0:\n",
    "        print(\"Word : {} is even\".format(i))\n",
    "#another solution\n",
    "st = 'Print only the words that start with s in this sentence'\n",
    "st=st.split()\n",
    "lst=[]\n",
    "for i in st:\n",
    "    if len(i) %2 == 0:\n",
    "        lst.append(i)\n",
    "print(\"even words are : {}\".format(lst))        "
   ]
  },
  {
   "cell_type": "markdown",
   "metadata": {
    "id": "VjF2-wNJi-Bs"
   },
   "source": [
    "## <p style=\"color:green;\">Q.04 Given X which is a password. Print \"Wrong\" if the password is incorrect otherwise, print \"Correct\" and terminate the program.</p>\n",
    "> The \"Correct\" password is the number 1999.\n",
    "\n",
    "> Note: Don't end the program even if the user write the correct password."
   ]
  },
  {
   "cell_type": "code",
   "execution_count": 14,
   "metadata": {
    "id": "aW1gwZfci-Bs"
   },
   "outputs": [
    {
     "name": "stdout",
     "output_type": "stream",
     "text": [
      "Please enter the password123\n",
      "Wrong\n",
      "Please enter the password1999\n",
      "Correct\n"
     ]
    }
   ],
   "source": [
    "# Answer here \n",
    "while 1 :\n",
    "    password=input(\"Please enter the password\")\n",
    "    if password == '1999' :\n",
    "        print(\"Correct\")\n",
    "        break\n",
    "    else :\n",
    "        print(\"Wrong\")\n",
    "        "
   ]
  },
  {
   "cell_type": "markdown",
   "metadata": {
    "id": "c-NxOfRpi-Bt"
   },
   "source": [
    "## <p style=\"color:red;\">Q.05 Given a number N. Print the factorial of number N.</p>\n",
    "> For information about factorial: https://en.wikipedia.org/wiki/Factorial"
   ]
  },
  {
   "cell_type": "code",
   "execution_count": 6,
   "metadata": {
    "id": "OWNlsTISi-Bt"
   },
   "outputs": [
    {
     "name": "stdout",
     "output_type": "stream",
     "text": [
      "enter number : 2\n",
      "Factorial of 2 is : 2\n",
      "Factorial of 2 is : 2\n",
      "Factorial of 2 is : 2\n"
     ]
    }
   ],
   "source": [
    "# Answer here \n",
    "def factorial(N):\n",
    "    if N == 0 :\n",
    "        return 1 \n",
    "    elif N == 1 :\n",
    "        return 1\n",
    "    else :\n",
    "        return (N * factorial(N-1))\n",
    "    \n",
    "#another function\n",
    "def factorial_another(N):\n",
    "    fact_another=1\n",
    "    if N == 0 :\n",
    "        return 1 \n",
    "    elif N == 1 :\n",
    "        return 1\n",
    "    else :\n",
    "        for i in range(2,N+1):\n",
    "            fact_another=fact_another*i\n",
    "        return fact_another   \n",
    "#another function\n",
    "def factorial_another_1(N):\n",
    "    fact_another=1\n",
    "    if N == 0 :\n",
    "        return 1 \n",
    "    elif N == 1 :\n",
    "        return 1\n",
    "    else :\n",
    "        for i in range(N,1,-1):\n",
    "            fact_another=fact_another*i\n",
    "        return fact_another       \n",
    "            \n",
    "def calculate() :\n",
    "    N=int(input(\"enter number : \"))\n",
    "    if N < 0 :\n",
    "        calculate()\n",
    "    else :     \n",
    "        fact=factorial(N)\n",
    "        fact_another=factorial_another(N)\n",
    "        fact_another_1=factorial_another_1(N)\n",
    "        print (\"Factorial of {} is : {}\".format(N,fact))\n",
    "        print (\"Factorial of {} is : {}\".format(N,fact_another))\n",
    "        print (\"Factorial of {} is : {}\".format(N,fact_another_1))\n",
    "calculate()    "
   ]
  },
  {
   "cell_type": "markdown",
   "metadata": {
    "id": "tGfl8rzri-Bt"
   },
   "source": [
    "## <p style=\"color:red;\">Q.06 Given a number N.print sum of numbers from 1 to N, Using a loop.</p>\n",
    "> list4 = [5,3,4,6,1]"
   ]
  },
  {
   "cell_type": "code",
   "execution_count": 2,
   "metadata": {
    "id": "WrLvEHZIi-Bu"
   },
   "outputs": [
    {
     "name": "stdout",
     "output_type": "stream",
     "text": [
      "enter number2\n",
      "Sum is : 3\n"
     ]
    }
   ],
   "source": [
    "# Answer here \n",
    "N=int(input(\"enter number\"))\n",
    "sum=0\n",
    "for i in range (1,N+1):\n",
    "    sum=sum+i\n",
    "    #sum +=i\n",
    "print(\"Sum is : {}\".format(sum))    "
   ]
  },
  {
   "cell_type": "markdown",
   "metadata": {
    "id": "gA3WcwuFi-Bu"
   },
   "source": [
    "## <p style=\"color:orange;\">Q.07 - Write a Python program to construct the following pattern.</p>\n"
   ]
  },
  {
   "cell_type": "raw",
   "metadata": {
    "id": "w8x_bCqWi-Bu"
   },
   "source": [
    "* \n",
    "* * \n",
    "* * * \n",
    "* * * * \n",
    "* * * * * "
   ]
  },
  {
   "cell_type": "code",
   "execution_count": 7,
   "metadata": {
    "id": "iTGYspvTi-Bv"
   },
   "outputs": [
    {
     "name": "stdout",
     "output_type": "stream",
     "text": [
      "* \n",
      "* * \n",
      "* * * \n",
      "* * * * \n",
      "* * * * * \n"
     ]
    }
   ],
   "source": [
    "# Answer here \n",
    "i,j=0,0\n",
    "for i in range (0,5,1):\n",
    "    #for j in range (0,i+1):\n",
    "       # print(\"*\",end=\" \")\n",
    "    for j in range (i+1):\n",
    "        print(\"*\",end=\" \")    \n",
    "        \n",
    "    print()  "
   ]
  },
  {
   "cell_type": "markdown",
   "metadata": {
    "id": "bMcgR3HHi-Bv"
   },
   "source": [
    "## <p style=\"color:green;\">Q.08 Write a Python program that prints all the numbers from 0 to 6 except 3 and 6.</p>\n"
   ]
  },
  {
   "cell_type": "code",
   "execution_count": 14,
   "metadata": {
    "id": "_jHhBN1Vi-Bv"
   },
   "outputs": [
    {
     "name": "stdout",
     "output_type": "stream",
     "text": [
      "0\n",
      "1\n",
      "2\n",
      "4\n",
      "5\n"
     ]
    }
   ],
   "source": [
    "# Answer here \n",
    "for i in range (0,6+1):\n",
    "    if (i==3) or (i==6):\n",
    "        continue\n",
    "    else :\n",
    "        print(i)\n"
   ]
  },
  {
   "cell_type": "markdown",
   "metadata": {
    "id": "B-IgcjWpi-Bw"
   },
   "source": [
    "## <p style=\"color:green;\">Q.09 Timon has a candies and his friend, Pumbaa, has b candies, so Pumbaa asked Timon to tell him the value of a−b. However, Timon will tell him the value of a−b if the value is ≥0; otherwise, he will lie and say 0. Since it was a hard task for Timon, he's asking for your help.</p>\n"
   ]
  },
  {
   "cell_type": "code",
   "execution_count": 15,
   "metadata": {
    "id": "QYa7Ylxri-Bw"
   },
   "outputs": [
    {
     "name": "stdout",
     "output_type": "stream",
     "text": [
      "Please timon enter number of your candies6\n",
      "Please bomba enter number of your candies6\n",
      "Timon says : 0\n"
     ]
    }
   ],
   "source": [
    "# Answer here\n",
    "#lol \n",
    "a=int(input(\"Please timon enter number of your candies : \"))\n",
    "b=int(input(\"Please bomba enter number of your candies : \"))\n",
    "if (a-b >= 0):\n",
    "    print(\"Timon says : {}\".format(a-b))\n",
    "else :\n",
    "    print(\"Timon says : {}\".format(0))\n"
   ]
  },
  {
   "cell_type": "markdown",
   "metadata": {
    "id": "0P1INDcQi-Bx"
   },
   "source": [
    "## <p style=\"color:green;\">Q.10 Given a list. Replace every positive number by 1, Replace every negative number by 2.</p>\n",
    "> [19, 20, 21, 10, -53, -23, 10]"
   ]
  },
  {
   "cell_type": "code",
   "execution_count": 22,
   "metadata": {
    "id": "-vIi0UG_i-Bx"
   },
   "outputs": [
    {
     "name": "stdout",
     "output_type": "stream",
     "text": [
      "[1, 1, 1, 1, 2, 2, 1]\n"
     ]
    }
   ],
   "source": [
    "# Answer here \n",
    "lst=[19, 20, 21, 10, -53, -23, 10]\n",
    "for i in range(len(lst)) :\n",
    "    if lst[i] >= 0 :\n",
    "        lst[i]=1\n",
    "    else :\n",
    "        lst[i]=2\n",
    "print(lst)        "
   ]
  },
  {
   "cell_type": "markdown",
   "metadata": {
    "id": "k-qw4Bjbi-Bx"
   },
   "source": [
    "## <p style=\"color:green;\">Q.11 Write a Python program to convert temperatures to and from celsius, fahrenheit.</p>\n",
    ">[ Formula : c/5 = f-32/9 [ where c = temperature in celsius and f = temperature in fahrenheit ]"
   ]
  },
  {
   "cell_type": "code",
   "execution_count": 6,
   "metadata": {
    "id": "bmcrW3REi-By"
   },
   "outputs": [
    {
     "name": "stdout",
     "output_type": "stream",
     "text": [
      "enter celsius and fahrenheit : 30 40\n",
      "The fahrenheit of celsius will be : 4.444444444444445\n",
      "\n",
      "The celsius of fahrenheit will be : 1.6875\n"
     ]
    }
   ],
   "source": [
    "# Answer here \n",
    "c,f=map(float,input(\"enter celsius and fahrenheit : \").split())\n",
    "c_to_f=float((c*(9/5))/32)\n",
    "f_to_c=float((f-32)*(5/9))\n",
    "print(\"The fahrenheit of celsius will be : {}\".format(f_to_c))\n",
    "print()\n",
    "print(\"The celsius of fahrenheit will be : {}\".format(c_to_f))"
   ]
  },
  {
   "cell_type": "markdown",
   "metadata": {
    "id": "8Ru_oGYZi-By"
   },
   "source": [
    "## <p style=\"color:orange;\">Q.12 Write a Python program to create the multiplication table (from 1 to 10) of a number.</p>"
   ]
  },
  {
   "cell_type": "raw",
   "metadata": {
    "id": "3fTgCrJSi-Bz"
   },
   "source": [
    "Expected Output:\n",
    "\n",
    "Input a number: 6                                                       \n",
    "6 x 1 = 6                                                               \n",
    "6 x 2 = 12                                                              \n",
    "6 x 3 = 18                                                              \n",
    "6 x 4 = 24                                                              \n",
    "6 x 5 = 30                                                              \n",
    "6 x 6 = 36                                                              \n",
    "6 x 7 = 42                                                              \n",
    "6 x 8 = 48                                                              \n",
    "6 x 9 = 54                                                              \n",
    "6 x 10 = 60 "
   ]
  },
  {
   "cell_type": "code",
   "execution_count": 9,
   "metadata": {
    "id": "grtGpQBVi-Bz"
   },
   "outputs": [
    {
     "name": "stdout",
     "output_type": "stream",
     "text": [
      "enter the number : 3\n",
      "\n",
      "3  x  1  =  3\n",
      "3  x  2  =  6\n",
      "3  x  3  =  9\n",
      "3  x  4  =  12\n",
      "3  x  5  =  15\n",
      "3  x  6  =  18\n",
      "3  x  7  =  21\n",
      "3  x  8  =  24\n",
      "3  x  9  =  27\n",
      "3  x  10  =  30\n"
     ]
    }
   ],
   "source": [
    "# Answer here \n",
    "num=int(input(\"enter the number : \"))\n",
    "print()\n",
    "for i in range (1,11):\n",
    "    print(num,\" x \",i,\" = \",num*i)"
   ]
  },
  {
   "cell_type": "markdown",
   "metadata": {
    "id": "CY_XI8fGi-Bz"
   },
   "source": [
    "# <center> Thank's for your effort ❤️ </center> "
   ]
  }
 ],
 "metadata": {
  "colab": {
   "provenance": []
  },
  "kernelspec": {
   "display_name": "Python 3 (ipykernel)",
   "language": "python",
   "name": "python3"
  },
  "language_info": {
   "codemirror_mode": {
    "name": "ipython",
    "version": 3
   },
   "file_extension": ".py",
   "mimetype": "text/x-python",
   "name": "python",
   "nbconvert_exporter": "python",
   "pygments_lexer": "ipython3",
   "version": "3.9.13"
  }
 },
 "nbformat": 4,
 "nbformat_minor": 1
}
