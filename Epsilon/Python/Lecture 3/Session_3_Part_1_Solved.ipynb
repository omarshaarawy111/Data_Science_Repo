{
 "cells": [
  {
   "cell_type": "markdown",
   "metadata": {},
   "source": [
    "**print , variables, dtypes**\n"
   ]
  },
  {
   "cell_type": "code",
   "execution_count": null,
   "metadata": {},
   "outputs": [],
   "source": [
    "print(\"hello world\")"
   ]
  },
  {
   "cell_type": "code",
   "execution_count": 2,
   "metadata": {},
   "outputs": [
    {
     "name": "stdout",
     "output_type": "stream",
     "text": [
      "<class 'int'>\n",
      "<class 'float'>\n"
     ]
    }
   ],
   "source": [
    "x  = 5\n",
    "print(type(x))\n",
    "\n",
    "y = 5.3\n",
    "print(type(y))"
   ]
  },
  {
   "cell_type": "markdown",
   "metadata": {},
   "source": [
    "#### arithmetic operations\n",
    "- addition\n",
    "- subtraction \n",
    "- multiplication\n",
    "- division\n",
    "- exponent\n",
    "- floor division\n",
    "- modulus"
   ]
  },
  {
   "cell_type": "code",
   "execution_count": 3,
   "metadata": {},
   "outputs": [],
   "source": [
    "x = 5\n",
    "y = 6"
   ]
  },
  {
   "cell_type": "code",
   "execution_count": 4,
   "metadata": {},
   "outputs": [
    {
     "name": "stdout",
     "output_type": "stream",
     "text": [
      "11\n",
      "-1\n",
      "30\n",
      "0.8333333333333334\n",
      "5.0\n",
      "25\n",
      "0\n",
      "3\n",
      "1\n"
     ]
    }
   ],
   "source": [
    "print(x + y)\n",
    "print(x - y)\n",
    "print(x * y)\n",
    "print(x / y)\n",
    "print(10/2)\n",
    "print (x ** 2)\n",
    "print(x // y)\n",
    "print(10 // 3)\n",
    "print(10 % 3)"
   ]
  },
  {
   "cell_type": "markdown",
   "metadata": {},
   "source": [
    "### operations priority\n",
    "- 5 * 4 + 2\n",
    "- 5 * 2 - 2\n",
    "- 5 * (4 + 2)"
   ]
  },
  {
   "cell_type": "code",
   "execution_count": 16,
   "metadata": {},
   "outputs": [
    {
     "name": "stdout",
     "output_type": "stream",
     "text": [
      "22\n",
      "30\n"
     ]
    }
   ],
   "source": [
    "print(5 * 4 + 2)\n",
    "print(5 * (4 + 2) )"
   ]
  },
  {
   "cell_type": "markdown",
   "metadata": {},
   "source": [
    "### relational operators"
   ]
  },
  {
   "cell_type": "code",
   "execution_count": 23,
   "metadata": {},
   "outputs": [
    {
     "name": "stdout",
     "output_type": "stream",
     "text": [
      "False\n",
      "True\n"
     ]
    }
   ],
   "source": [
    "x = 5\n",
    "y = 3\n",
    "print(x < y)\n",
    "print(x != 3)"
   ]
  },
  {
   "cell_type": "markdown",
   "metadata": {},
   "source": [
    "### operators priority\n",
    "- () and ()\n",
    "- not --- and ---"
   ]
  },
  {
   "cell_type": "code",
   "execution_count": 28,
   "metadata": {},
   "outputs": [
    {
     "name": "stdout",
     "output_type": "stream",
     "text": [
      "True\n",
      "False\n"
     ]
    }
   ],
   "source": [
    "x = 5\n",
    "y = 3\n",
    "print( (x == 5) and (x > y) )\n",
    "print( not ( (x==5) or (x > y) ) )"
   ]
  },
  {
   "cell_type": "code",
   "execution_count": 30,
   "metadata": {},
   "outputs": [
    {
     "data": {
      "text/plain": [
       "True"
      ]
     },
     "execution_count": 30,
     "metadata": {},
     "output_type": "execute_result"
    }
   ],
   "source": [
    "x = \"A\"\n",
    "x == \"A\""
   ]
  },
  {
   "cell_type": "markdown",
   "metadata": {},
   "source": [
    "### strings\n",
    "- lower\n",
    "- upper\n",
    "- count\n",
    "- replace\n",
    "- [0]\n",
    "- find\n",
    "- concat ( + )\n",
    "- format"
   ]
  },
  {
   "cell_type": "code",
   "execution_count": 6,
   "metadata": {},
   "outputs": [
    {
     "name": "stdout",
     "output_type": "stream",
     "text": [
      "This Is a string\n",
      "this is a string\n",
      "THIS IS A STRING\n",
      "This Is A String\n",
      "This is a string\n",
      "2\n"
     ]
    }
   ],
   "source": [
    "s = \"This Is a string\"\n",
    "print(s)\n",
    "print(s.lower() )\n",
    "print(s.upper() )\n",
    "print(s.title() )\n",
    "print(s.capitalize())\n",
    "print(s.count(\"i\"))"
   ]
  },
  {
   "cell_type": "code",
   "execution_count": 7,
   "metadata": {},
   "outputs": [
    {
     "name": "stdout",
     "output_type": "stream",
     "text": [
      "True\n"
     ]
    }
   ],
   "source": [
    "name = \"Mohamed\"\n",
    "print( name.lower() == \"mohamed\")"
   ]
  },
  {
   "cell_type": "code",
   "execution_count": 35,
   "metadata": {},
   "outputs": [
    {
     "name": "stdout",
     "output_type": "stream",
     "text": [
      "hello\n"
     ]
    }
   ],
   "source": [
    "s = \"HELLO\"\n",
    "s_lowercase = s.lower()\n",
    "print(s_lowercase)"
   ]
  },
  {
   "cell_type": "code",
   "execution_count": 14,
   "metadata": {},
   "outputs": [
    {
     "name": "stdout",
     "output_type": "stream",
     "text": [
      "1\n"
     ]
    }
   ],
   "source": [
    "s = \"hello world\"\n",
    "print(s.count(\"o\" , 5)) ## start counting from index 5"
   ]
  },
  {
   "cell_type": "code",
   "execution_count": 10,
   "metadata": {},
   "outputs": [
    {
     "name": "stdout",
     "output_type": "stream",
     "text": [
      "0\n"
     ]
    }
   ],
   "source": [
    "s = \"hello world\"\n",
    "print(s.find(\"hello\"))"
   ]
  },
  {
   "cell_type": "code",
   "execution_count": 12,
   "metadata": {},
   "outputs": [
    {
     "name": "stdout",
     "output_type": "stream",
     "text": [
      "-1\n"
     ]
    }
   ],
   "source": [
    "## find with index\n",
    "print(s.find(\"w\", 8 )) ## if not found return -1"
   ]
  },
  {
   "cell_type": "code",
   "execution_count": 15,
   "metadata": {},
   "outputs": [
    {
     "name": "stdout",
     "output_type": "stream",
     "text": [
      "Hello mohamed ahmed  \n"
     ]
    }
   ],
   "source": [
    "firstName = \"mohamed\"\n",
    "lastName = \"ahmed\"\n",
    "\n",
    "print(\"Hello {} {}  \".format(firstName , lastName ))\n"
   ]
  },
  {
   "cell_type": "code",
   "execution_count": 2,
   "metadata": {},
   "outputs": [
    {
     "name": "stdout",
     "output_type": "stream",
     "text": [
      "O\n",
      "OmarMohamed\n",
      "Omar Mohamed\n",
      "Omar Mohamed\n",
      "0\n",
      "0\n",
      "-1\n",
      "1\n",
      "0\n",
      "Omar\n"
     ]
    }
   ],
   "source": [
    "s = \"hello world\"\n",
    "s2 = \"Ahmed\"\n",
    "print(s[1])\n",
    "print(s.count(\"o\", 5))\n",
    "print(s.replace(\"o\" , \"i\"))\n",
    "print(s.find(\"o\"))\n",
    "print(s.find(\"y\")) \n",
    "print(s + s2)\n",
    "print(s , s2)\n",
    "print(s + \" \" +s2)\n",
    "print(len(s))"
   ]
  },
  {
   "cell_type": "code",
   "execution_count": 17,
   "metadata": {},
   "outputs": [
    {
     "name": "stdout",
     "output_type": "stream",
     "text": [
      "hello Ahmed hello mohamed\n",
      "hello Ahmed, hello mohamed \n"
     ]
    }
   ],
   "source": [
    "# string format\n",
    "name = \"Ahmed\"\n",
    "#age = 28\n",
    "name2 = \"mohamed\"\n",
    "print(\"hello\" +\" \" + name + \" hello\" + \" \" + name2)\n",
    "print(\"hello {}, hello {} \".format(name , name2))"
   ]
  },
  {
   "cell_type": "markdown",
   "metadata": {},
   "source": [
    "### hello mohamed , your age is 26"
   ]
  },
  {
   "cell_type": "code",
   "execution_count": 18,
   "metadata": {},
   "outputs": [
    {
     "name": "stdout",
     "output_type": "stream",
     "text": [
      "hello mohamed your age is 26 \n"
     ]
    }
   ],
   "source": [
    "name = \"mohamed\"\n",
    "age = 26\n",
    "print(\"hello {} your age is {} \".format(name , age))"
   ]
  },
  {
   "cell_type": "code",
   "execution_count": 19,
   "metadata": {},
   "outputs": [
    {
     "name": "stdout",
     "output_type": "stream",
     "text": [
      "amed\n"
     ]
    }
   ],
   "source": [
    "print(name[3:7]) ## 5 is exclusive"
   ]
  },
  {
   "cell_type": "markdown",
   "metadata": {},
   "source": [
    "#### slicing"
   ]
  },
  {
   "attachments": {
    "image.png": {
     "image/png": "[encoded data removed]"
    }
   },
   "cell_type": "markdown",
   "metadata": {},
   "source": [
    "![image.png](attachment:image.png)"
   ]
  },
  {
   "cell_type": "code",
   "execution_count": 21,
   "metadata": {},
   "outputs": [
    {
     "name": "stdout",
     "output_type": "stream",
     "text": [
      "mhm\n",
      "moham\n",
      "hamed hassan\n",
      "mohamed hassan\n",
      "mhmdhsa\n",
      "mohamed hassan\n"
     ]
    }
   ],
   "source": [
    "s = 'mohamed hassan'\n",
    "print( s[0:5:2] ) ## start: 0 , stop: 5 , step : 2\n",
    "print(s[:5])\n",
    "print(s[2:])\n",
    "print(s[:])\n",
    "print(s[::2])\n",
    "print(s[::])"
   ]
  },
  {
   "cell_type": "code",
   "execution_count": 23,
   "metadata": {},
   "outputs": [
    {
     "name": "stdout",
     "output_type": "stream",
     "text": [
      "dem\n",
      "nassah demahom\n"
     ]
    }
   ],
   "source": [
    "s = \"mohamed hassan\"\n",
    "print(s[6:3:-1])\n",
    "print(s[::-1]) ## reverse the string"
   ]
  },
  {
   "cell_type": "code",
   "execution_count": 24,
   "metadata": {},
   "outputs": [
    {
     "name": "stdout",
     "output_type": "stream",
     "text": [
      "True\n",
      "True\n"
     ]
    }
   ],
   "source": [
    "s = \"23\"\n",
    "print(s.isalnum())\n",
    "print(s.isdigit())\n"
   ]
  },
  {
   "cell_type": "code",
   "execution_count": 25,
   "metadata": {},
   "outputs": [
    {
     "name": "stdout",
     "output_type": "stream",
     "text": [
      "Help on method_descriptor:\n",
      "\n",
      "isalnum(self, /)\n",
      "    Return True if the string is an alpha-numeric string, False otherwise.\n",
      "    \n",
      "    A string is alpha-numeric if all characters in the string are alpha-numeric and\n",
      "    there is at least one character in the string.\n",
      "\n"
     ]
    }
   ],
   "source": [
    "help(str.isalnum)"
   ]
  },
  {
   "cell_type": "markdown",
   "metadata": {},
   "source": [
    "#### write a program to check if a string is palindromic (a palindromic string is read from left to right as from right to left)\n",
    "example : NEVEN"
   ]
  },
  {
   "cell_type": "code",
   "execution_count": 26,
   "metadata": {},
   "outputs": [
    {
     "name": "stdout",
     "output_type": "stream",
     "text": [
      "neven\n",
      "neven\n",
      "True\n"
     ]
    }
   ],
   "source": [
    "s = \"Neven\"\n",
    "print(s[::-1].lower())\n",
    "print(s.lower())\n",
    "print(s.lower() == s.lower()[::-1])"
   ]
  },
  {
   "cell_type": "markdown",
   "metadata": {},
   "source": [
    "### inputs"
   ]
  },
  {
   "cell_type": "code",
   "execution_count": 27,
   "metadata": {},
   "outputs": [
    {
     "name": "stdout",
     "output_type": "stream",
     "text": [
      "please enter your name: ahmed\n",
      "<class 'str'>\n"
     ]
    }
   ],
   "source": [
    "name = input(\"please enter your name: \")\n",
    "print(type(name))"
   ]
  },
  {
   "cell_type": "markdown",
   "metadata": {},
   "source": [
    "- take the name of the user and print a greeting message for the user\n",
    "- what's your name? (ahmed)\n",
    "- hello ahmed"
   ]
  },
  {
   "cell_type": "code",
   "execution_count": 28,
   "metadata": {},
   "outputs": [
    {
     "name": "stdout",
     "output_type": "stream",
     "text": [
      "please enter your name: ahmed\n",
      "hello ahmed\n"
     ]
    }
   ],
   "source": [
    "name = input(\"please enter your name: \")\n",
    "print(\"hello \" + name )"
   ]
  },
  {
   "cell_type": "markdown",
   "metadata": {},
   "source": [
    "#### type casting"
   ]
  },
  {
   "cell_type": "code",
   "execution_count": 31,
   "metadata": {},
   "outputs": [
    {
     "name": "stdout",
     "output_type": "stream",
     "text": [
      "<class 'int'>\n",
      "<class 'float'>\n",
      "23.0\n"
     ]
    }
   ],
   "source": [
    "x = int(\"23\")\n",
    "print(type(x))\n",
    "x_float = float(23)\n",
    "print(type(x_float))\n",
    "print(x_float)"
   ]
  },
  {
   "cell_type": "code",
   "execution_count": 32,
   "metadata": {},
   "outputs": [
    {
     "name": "stdout",
     "output_type": "stream",
     "text": [
      "<class 'str'>\n",
      "5\n"
     ]
    }
   ],
   "source": [
    "x = 5\n",
    "x_string = str(x)\n",
    "print(type(x_string))\n",
    "print(x)"
   ]
  },
  {
   "cell_type": "markdown",
   "metadata": {},
   "source": [
    "- take the first name of the user \n",
    "- take the last name of the user\n",
    "- take the birth year of  the user (1992)\n",
    "- print a greeting message :\n",
    "\"hello ahmed hassan, your age is 28\"\n"
   ]
  },
  {
   "cell_type": "code",
   "execution_count": 151,
   "metadata": {},
   "outputs": [
    {
     "name": "stdout",
     "output_type": "stream",
     "text": [
      "enter your birth year: 1993\n",
      "30\n"
     ]
    }
   ],
   "source": [
    "birthyear = input(\"enter your birth year: \")\n",
    "age = 2023 - int(birthyear)\n",
    "print(age)"
   ]
  },
  {
   "cell_type": "code",
   "execution_count": 154,
   "metadata": {},
   "outputs": [
    {
     "name": "stdout",
     "output_type": "stream",
     "text": [
      "<class 'str'>\n",
      "<class 'int'>\n"
     ]
    },
    {
     "data": {
      "text/plain": [
       "30"
      ]
     },
     "execution_count": 154,
     "metadata": {},
     "output_type": "execute_result"
    }
   ],
   "source": [
    "print(type(birthyear))\n",
    "birthyear_int = int(birthyear)\n",
    "print(type(birthyear_int))\n",
    "2023 - birthyear_int"
   ]
  },
  {
   "cell_type": "markdown",
   "metadata": {},
   "source": [
    "- write a program to take a number from the user (7.5) \n",
    "- print \"double of the number  is (15)\""
   ]
  },
  {
   "cell_type": "code",
   "execution_count": 33,
   "metadata": {},
   "outputs": [
    {
     "name": "stdout",
     "output_type": "stream",
     "text": [
      "enter a number: 4.5\n",
      "double of the number is 9.0\n"
     ]
    }
   ],
   "source": [
    "num = float( input(\"enter a number: \") )\n",
    "print(\"double of the number is \" + str(num*2) )"
   ]
  },
  {
   "cell_type": "code",
   "execution_count": 34,
   "metadata": {},
   "outputs": [
    {
     "name": "stdout",
     "output_type": "stream",
     "text": [
      "double of the number is 9.0\n"
     ]
    }
   ],
   "source": [
    "print(\"double of the number is {}\".format(num * 2))"
   ]
  },
  {
   "cell_type": "markdown",
   "metadata": {},
   "source": [
    "#### \"print\" as variable name"
   ]
  },
  {
   "cell_type": "code",
   "execution_count": 161,
   "metadata": {},
   "outputs": [
    {
     "ename": "TypeError",
     "evalue": "'int' object is not callable",
     "output_type": "error",
     "traceback": [
      "\u001b[1;31m---------------------------------------------------------------------------\u001b[0m",
      "\u001b[1;31mTypeError\u001b[0m                                 Traceback (most recent call last)",
      "\u001b[1;32m<ipython-input-161-37f137ebd0ad>\u001b[0m in \u001b[0;36m<module>\u001b[1;34m\u001b[0m\n\u001b[0;32m      1\u001b[0m \u001b[0mprint\u001b[0m \u001b[1;33m=\u001b[0m \u001b[1;36m5\u001b[0m\u001b[1;33m\u001b[0m\u001b[1;33m\u001b[0m\u001b[0m\n\u001b[1;32m----> 2\u001b[1;33m \u001b[0mprint\u001b[0m\u001b[1;33m(\u001b[0m\u001b[1;34m\"hello\"\u001b[0m\u001b[1;33m)\u001b[0m\u001b[1;33m\u001b[0m\u001b[1;33m\u001b[0m\u001b[0m\n\u001b[0m",
      "\u001b[1;31mTypeError\u001b[0m: 'int' object is not callable"
     ]
    }
   ],
   "source": [
    "print = 5\n",
    "print(\"hello\")"
   ]
  },
  {
   "cell_type": "code",
   "execution_count": 162,
   "metadata": {},
   "outputs": [],
   "source": [
    "del print"
   ]
  },
  {
   "cell_type": "code",
   "execution_count": 163,
   "metadata": {},
   "outputs": [
    {
     "name": "stdout",
     "output_type": "stream",
     "text": [
      "hello\n"
     ]
    }
   ],
   "source": [
    "print(\"hello\")"
   ]
  },
  {
   "cell_type": "markdown",
   "metadata": {},
   "source": [
    "### variables names"
   ]
  },
  {
   "cell_type": "code",
   "execution_count": 29,
   "metadata": {},
   "outputs": [
    {
     "name": "stdout",
     "output_type": "stream",
     "text": [
      "5\n"
     ]
    }
   ],
   "source": [
    "Num_one = 4\n",
    "num_one = 5\n",
    "print(num_one)"
   ]
  },
  {
   "cell_type": "markdown",
   "metadata": {},
   "source": [
    "### variable increment and assignment"
   ]
  },
  {
   "cell_type": "code",
   "execution_count": 36,
   "metadata": {},
   "outputs": [
    {
     "name": "stdout",
     "output_type": "stream",
     "text": [
      "6\n"
     ]
    }
   ],
   "source": [
    "a = 5\n",
    "a = a + 1\n",
    "print(a)"
   ]
  },
  {
   "cell_type": "markdown",
   "metadata": {},
   "source": [
    "### if conditions"
   ]
  },
  {
   "cell_type": "markdown",
   "metadata": {},
   "source": [
    "- <b> make a program to take input from user and check :<br>\n",
    "    - if temperature > 50 : print(high temperetaure) <br>\n",
    "    - else : print(low temp) </b>"
   ]
  },
  {
   "cell_type": "code",
   "execution_count": 39,
   "metadata": {},
   "outputs": [
    {
     "name": "stdout",
     "output_type": "stream",
     "text": [
      "enter the temperature50\n",
      "low temp\n"
     ]
    }
   ],
   "source": [
    "temp = int(input('enter the temperature'))\n",
    "\n",
    "if temp > 50  :\n",
    "    print(\"high temp\")\n",
    "else:\n",
    "    print(\"low temp\")"
   ]
  },
  {
   "cell_type": "markdown",
   "metadata": {},
   "source": [
    "- <b> make a program to take input from user and check :<br>\n",
    "    - if temperature > 50 : print(high temperetaure) <br>\n",
    "    - if temperature > 30 and temperature < 50 : print(moderate temperature) <br> \n",
    "    - if temperature < 30 print(low temp) </b>"
   ]
  },
  {
   "cell_type": "code",
   "execution_count": 42,
   "metadata": {},
   "outputs": [
    {
     "name": "stdout",
     "output_type": "stream",
     "text": [
      "enter the temperature40\n",
      "moderate temp\n",
      "done\n"
     ]
    }
   ],
   "source": [
    "temp = int(input('enter the temperature'))\n",
    "\n",
    "if temp > 50  :\n",
    "    print(\"high temp\")\n",
    "\n",
    "else : \n",
    "    if (temp > 30):\n",
    "        print(\"moderate temp\")\n",
    "    else:\n",
    "        print(\"low temp\")\n",
    "\n",
    "print(\"done\")\n"
   ]
  },
  {
   "cell_type": "code",
   "execution_count": 43,
   "metadata": {},
   "outputs": [
    {
     "name": "stdout",
     "output_type": "stream",
     "text": [
      "enter the temperature20\n",
      "low temp\n",
      "done\n"
     ]
    }
   ],
   "source": [
    "temp = int(input('enter the temperature'))\n",
    "\n",
    "if (temp > 50 )  :\n",
    "    print(\"high temp\")\n",
    "\n",
    "elif (temp > 30):\n",
    "        print(\"moderate temp\")\n",
    "    \n",
    "else:\n",
    "    print(\"low temp\")\n",
    "\n",
    "    \n",
    "print(\"done\")\n"
   ]
  },
  {
   "cell_type": "markdown",
   "metadata": {},
   "source": [
    "- make a program to take two numbers from the user and :\n",
    "- if the first number is bigger: print(first number is bigger)\n",
    "- if the second number is bigger: print(second number is bigger)\n",
    "- if the two numbers are equal print(equal numbers)"
   ]
  },
  {
   "cell_type": "code",
   "execution_count": 44,
   "metadata": {},
   "outputs": [
    {
     "name": "stdout",
     "output_type": "stream",
     "text": [
      "enter first num3\n",
      "enter second num3\n",
      "equal numbers\n"
     ]
    }
   ],
   "source": [
    "num1 = float(input(\"enter first num\"))\n",
    "num2 = float(input(\"enter second num\"))\n",
    "if num1 > num2:\n",
    "    print(\"first number is bigger\")\n",
    "elif num2 > num1:\n",
    "    print(\"second number is bigger\")\n",
    "else:\n",
    "    print(\"equal numbers\")"
   ]
  },
  {
   "cell_type": "code",
   "execution_count": 45,
   "metadata": {},
   "outputs": [
    {
     "name": "stdout",
     "output_type": "stream",
     "text": [
      "enter first num4\n",
      "enter second num5\n",
      "second number is bigger\n"
     ]
    }
   ],
   "source": [
    "num1 = float(input(\"enter first num\"))\n",
    "num2 = float(input(\"enter second num\"))\n",
    "if num1 > num2:\n",
    "    print(\"first number is bigger\")\n",
    "elif num2 == num1:\n",
    "    print(\"equal numbers\")\n",
    "else:\n",
    "    print(\"second number is bigger\")"
   ]
  },
  {
   "cell_type": "markdown",
   "metadata": {},
   "source": [
    "### take a string from the user and check if it is a palindrome (NEVEN)"
   ]
  },
  {
   "cell_type": "code",
   "execution_count": 46,
   "metadata": {},
   "outputs": [
    {
     "name": "stdout",
     "output_type": "stream",
     "text": [
      "enter a string neven\n",
      "palindrome\n"
     ]
    }
   ],
   "source": [
    "st = input('enter a string ')\n",
    "if st == st[::-1]:\n",
    "    print(\"palindrome\")\n",
    "else:\n",
    "    print('not palindrome')"
   ]
  },
  {
   "cell_type": "markdown",
   "metadata": {},
   "source": [
    "### lists"
   ]
  },
  {
   "cell_type": "markdown",
   "metadata": {},
   "source": [
    "- len\n",
    "- index\n",
    "- [0] , [:]\n",
    "- append , + \n",
    "- remove\n",
    "- insert\n",
    "- count\n",
    "- in"
   ]
  },
  {
   "cell_type": "code",
   "execution_count": 47,
   "metadata": {},
   "outputs": [
    {
     "name": "stdout",
     "output_type": "stream",
     "text": [
      "3\n",
      "0\n",
      "['mohamed', 'ahmed']\n",
      "['menna', 'ahmed', 'hassan']\n",
      "['menna', 'ahmed', 'hassan', 'neven']\n",
      "neven\n",
      "['menna', 'hassan', 'neven']\n"
     ]
    },
    {
     "data": {
      "text/plain": [
       "1"
      ]
     },
     "execution_count": 47,
     "metadata": {},
     "output_type": "execute_result"
    }
   ],
   "source": [
    "l = [\"mohamed\" , \"ahmed\" , \"hassan\"]\n",
    "print(len(l))\n",
    "print(l.index(\"mohamed\"))\n",
    "print(l[:2])\n",
    "l[0] = \"menna\"\n",
    "print(l)\n",
    "# print(l[4]) ## error\n",
    "l.append(\"neven\")\n",
    "print(l)\n",
    "print(l[3])\n",
    "l.remove(\"ahmed\")\n",
    "print(l)\n",
    "\n",
    "l.insert(2 , \"hussien\")\n",
    "\n",
    "l.count(\"hassan\")"
   ]
  },
  {
   "cell_type": "code",
   "execution_count": 48,
   "metadata": {},
   "outputs": [
    {
     "name": "stdout",
     "output_type": "stream",
     "text": [
      "['mohamed', 'hassan']\n",
      "hassan\n"
     ]
    }
   ],
   "source": [
    "l = [\"mohamed\" , \"ahmed\" , \"hassan\"]\n",
    "l.remove(\"ahmed\")\n",
    "print(l)\n",
    "print(l[1])"
   ]
  },
  {
   "cell_type": "code",
   "execution_count": 49,
   "metadata": {},
   "outputs": [
    {
     "name": "stdout",
     "output_type": "stream",
     "text": [
      "['mohamed', 'ahmed', 'hussien', 'hassan']\n"
     ]
    }
   ],
   "source": [
    "l = [\"mohamed\" , \"ahmed\" , \"hassan\"]\n",
    "l.insert(2 , \"hussien\")\n",
    "print(l)"
   ]
  },
  {
   "cell_type": "code",
   "execution_count": 50,
   "metadata": {},
   "outputs": [
    {
     "name": "stdout",
     "output_type": "stream",
     "text": [
      "['mohamed', 'ahmed', 'hussien', 'hassan', 'hassan']\n"
     ]
    }
   ],
   "source": [
    "l.append(\"hassan\")\n",
    "print(l)"
   ]
  },
  {
   "cell_type": "code",
   "execution_count": 51,
   "metadata": {},
   "outputs": [
    {
     "data": {
      "text/plain": [
       "2"
      ]
     },
     "execution_count": 51,
     "metadata": {},
     "output_type": "execute_result"
    }
   ],
   "source": [
    "l.count(\"hassan\")"
   ]
  },
  {
   "cell_type": "code",
   "execution_count": 52,
   "metadata": {},
   "outputs": [
    {
     "data": {
      "text/plain": [
       "False"
      ]
     },
     "execution_count": 52,
     "metadata": {},
     "output_type": "execute_result"
    }
   ],
   "source": [
    "l = [\"ahmed\" , \"hassan\"]\n",
    "\"mohamed\" in l"
   ]
  },
  {
   "cell_type": "markdown",
   "metadata": {},
   "source": [
    "- take a char from the user as input and check if the char is vowel\n",
    "- vowel chars are {'a', 'e' , 'i' , 'o' , 'u'}"
   ]
  },
  {
   "cell_type": "code",
   "execution_count": 53,
   "metadata": {},
   "outputs": [
    {
     "name": "stdout",
     "output_type": "stream",
     "text": [
      "enter charachter e\n",
      "vowel char\n"
     ]
    }
   ],
   "source": [
    "vowels = ['a' , 'e' ,'o' , 'i' ,'u']\n",
    "char = input('enter charachter ')\n",
    "if char.lower() in vowels :\n",
    "    print('vowel char')\n",
    "else:\n",
    "    print('not vowel')"
   ]
  },
  {
   "cell_type": "code",
   "execution_count": 54,
   "metadata": {},
   "outputs": [
    {
     "data": {
      "text/plain": [
       "False"
      ]
     },
     "execution_count": 54,
     "metadata": {},
     "output_type": "execute_result"
    }
   ],
   "source": [
    "l = [\"ahmed\" , \"hassan\"]\n",
    "name = \"mohamed\"\n",
    "name in l"
   ]
  },
  {
   "cell_type": "markdown",
   "metadata": {},
   "source": [
    "#### slicing [:]"
   ]
  },
  {
   "cell_type": "code",
   "execution_count": 55,
   "metadata": {},
   "outputs": [
    {
     "name": "stdout",
     "output_type": "stream",
     "text": [
      "['a', 'e', 'o', 'i']\n"
     ]
    }
   ],
   "source": [
    "vowels = ['a' , 'e' ,'o' , 'i' ,'u']\n",
    "print(vowels[0:4])"
   ]
  },
  {
   "cell_type": "code",
   "execution_count": 56,
   "metadata": {},
   "outputs": [
    {
     "name": "stdout",
     "output_type": "stream",
     "text": [
      "['a', 'o', 'u']\n"
     ]
    }
   ],
   "source": [
    "print(vowels[0:5:2])"
   ]
  },
  {
   "cell_type": "markdown",
   "metadata": {},
   "source": [
    "### Tuple"
   ]
  },
  {
   "cell_type": "code",
   "execution_count": 57,
   "metadata": {},
   "outputs": [
    {
     "name": "stdout",
     "output_type": "stream",
     "text": [
      "('saturday', 'sunday', 'monday')\n",
      "<class 'tuple'>\n",
      "sunday\n",
      "monday\n",
      "3\n"
     ]
    }
   ],
   "source": [
    "## immutable\n",
    "## index\n",
    "## len\n",
    "\n",
    "week_days = (\"saturday\" , \"sunday\" , \"monday\")\n",
    "print(week_days)\n",
    "print(type(week_days))\n",
    "print(week_days[1])\n",
    "print(week_days[2])\n",
    "print(len(week_days))\n",
    "#week_days[2] = \"sunday\""
   ]
  },
  {
   "cell_type": "markdown",
   "metadata": {},
   "source": [
    "### dictionary\n",
    "- id: name\n",
    "- index\n",
    "- values\n",
    "- items"
   ]
  },
  {
   "cell_type": "code",
   "execution_count": 58,
   "metadata": {},
   "outputs": [
    {
     "name": "stdout",
     "output_type": "stream",
     "text": [
      "dict_keys([1234, 1235, 2])\n",
      "dict_values(['mohammed', 'ahmed', 'hassan'])\n",
      "{1234: 'mohammed', 1235: 'ahmed', 2: 'hassan'}\n",
      "mohammed\n"
     ]
    }
   ],
   "source": [
    "d = {1234 : \"mohamed\" , 1235 : \"ahmed\" , 2 : \"hassan\" }\n",
    "d[1234] = \"mohammed\"\n",
    "print(d.keys())\n",
    "print(d.values())\n",
    "print(d)\n",
    "print(d[1234])"
   ]
  },
  {
   "cell_type": "markdown",
   "metadata": {},
   "source": [
    "#### take the email from user \n",
    "#### take the password\n",
    "#### check if user name and password are correct"
   ]
  },
  {
   "cell_type": "code",
   "execution_count": 68,
   "metadata": {},
   "outputs": [
    {
     "name": "stdout",
     "output_type": "stream",
     "text": [
      "1234\n"
     ]
    }
   ],
   "source": [
    "#keys = emails ,  values = password\n",
    "authourized_users = {\"moahemd@epsilon.ai\" : '1234' , \"ahmed@epsilon.ai\" : '3456' }\n",
    "\n",
    "email = 'moahemd@epsilon.ai'\n",
    "\n",
    "print(authourized_users[email])"
   ]
  },
  {
   "cell_type": "code",
   "execution_count": 70,
   "metadata": {},
   "outputs": [
    {
     "name": "stdout",
     "output_type": "stream",
     "text": [
      "please enter your email : ahmed.hassan@epsilon.com\n",
      "enter password 1234\n",
      "wrong password\n"
     ]
    }
   ],
   "source": [
    "authourized_users = {'mohamed@epsilonai.com': '1234' , 'ahmed.hassan@epsilon.com' : 'hamada'}\n",
    "email = input('please enter your email : ')\n",
    "if email in authourized_users.keys():\n",
    "    password = input('enter password ')\n",
    "    if password == authourized_users[email] :\n",
    "        print('login')\n",
    "    else:\n",
    "        print('wrong password')\n",
    "else:\n",
    "    print(\"wrong email\")"
   ]
  },
  {
   "cell_type": "code",
   "execution_count": 64,
   "metadata": {},
   "outputs": [
    {
     "name": "stdout",
     "output_type": "stream",
     "text": [
      "1234\n"
     ]
    }
   ],
   "source": [
    "print(authourized_users['mohamed@epsilonai.com'])"
   ]
  },
  {
   "cell_type": "markdown",
   "metadata": {},
   "source": [
    "### range function"
   ]
  },
  {
   "cell_type": "code",
   "execution_count": 54,
   "metadata": {},
   "outputs": [
    {
     "data": {
      "text/plain": [
       "range(0, 6)"
      ]
     },
     "execution_count": 54,
     "metadata": {},
     "output_type": "execute_result"
    }
   ],
   "source": [
    "range(6)"
   ]
  },
  {
   "cell_type": "code",
   "execution_count": 71,
   "metadata": {},
   "outputs": [
    {
     "data": {
      "text/plain": [
       "range(2, 6)"
      ]
     },
     "execution_count": 71,
     "metadata": {},
     "output_type": "execute_result"
    }
   ],
   "source": [
    "range(2,6) ## start , stop"
   ]
  },
  {
   "cell_type": "markdown",
   "metadata": {},
   "source": [
    "### for loops"
   ]
  },
  {
   "cell_type": "code",
   "execution_count": 65,
   "metadata": {},
   "outputs": [
    {
     "name": "stdout",
     "output_type": "stream",
     "text": [
      "3\n",
      "4\n",
      "5\n",
      "6\n",
      "7\n",
      "8\n",
      "9\n"
     ]
    }
   ],
   "source": [
    "for u in range(3 , 10):\n",
    "    print(u)"
   ]
  },
  {
   "cell_type": "markdown",
   "metadata": {},
   "source": [
    "- take a number as input from the user \n",
    "- print the numbers from 0 to this number"
   ]
  },
  {
   "cell_type": "code",
   "execution_count": 67,
   "metadata": {},
   "outputs": [
    {
     "name": "stdout",
     "output_type": "stream",
     "text": [
      "enter a  number 5\n",
      "0\n",
      "1\n",
      "2\n",
      "3\n",
      "4\n"
     ]
    }
   ],
   "source": [
    "num  = int( input(\"enter a  number \") )\n",
    "\n",
    "for x in range(num):\n",
    "    print(x)"
   ]
  },
  {
   "cell_type": "markdown",
   "metadata": {},
   "source": [
    "- take two numbers from the user (start , end)\n",
    "- print all numbers in the range: start and end\n",
    "- \n",
    "- example:\n",
    "- start: 2\n",
    "- end: 4\n",
    "- output: <br>\n",
    "2 <br>\n",
    "3"
   ]
  },
  {
   "cell_type": "code",
   "execution_count": 72,
   "metadata": {},
   "outputs": [
    {
     "name": "stdout",
     "output_type": "stream",
     "text": [
      "enter a start number 2\n",
      "enter a stop number 10\n",
      "2\n",
      "3\n",
      "4\n",
      "5\n",
      "6\n",
      "7\n",
      "8\n",
      "9\n"
     ]
    }
   ],
   "source": [
    "start  = int( input(\"enter a start number \") )\n",
    "stop = int ( input (\"enter a stop number \"))\n",
    "\n",
    "for x in range(start , stop):\n",
    "    print(x)"
   ]
  }
 ],
 "metadata": {
  "kernelspec": {
   "display_name": "Python 3",
   "language": "python",
   "name": "python3"
  },
  "language_info": {
   "codemirror_mode": {
    "name": "ipython",
    "version": 3
   },
   "file_extension": ".py",
   "mimetype": "text/x-python",
   "name": "python",
   "nbconvert_exporter": "python",
   "pygments_lexer": "ipython3",
   "version": "3.7.6"
  }
 },
 "nbformat": 4,
 "nbformat_minor": 5
}
