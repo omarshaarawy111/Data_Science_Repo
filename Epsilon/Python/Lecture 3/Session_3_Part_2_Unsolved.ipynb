{
 "cells": [
  {
   "cell_type": "markdown",
   "id": "64a81e88",
   "metadata": {},
   "source": [
    "**print , variables, dtypes**\n"
   ]
  },
  {
   "cell_type": "code",
   "execution_count": null,
   "id": "97c6a27c",
   "metadata": {},
   "outputs": [],
   "source": [
    "print(\"hello world\")"
   ]
  },
  {
   "cell_type": "code",
   "execution_count": 2,
   "id": "93ad9102",
   "metadata": {},
   "outputs": [
    {
     "name": "stdout",
     "output_type": "stream",
     "text": [
      "<class 'int'>\n",
      "<class 'float'>\n"
     ]
    }
   ],
   "source": [
    "x  = 5\n",
    "print(type(x))\n",
    "\n",
    "y = 5.3\n",
    "print(type(y))"
   ]
  },
  {
   "cell_type": "markdown",
   "id": "5c856737",
   "metadata": {},
   "source": [
    "#### arithmetic operations\n",
    "- addition\n",
    "- subtraction \n",
    "- multiplication\n",
    "- division\n",
    "- exponent\n",
    "- floor division\n",
    "- modulus"
   ]
  },
  {
   "cell_type": "code",
   "execution_count": 3,
   "id": "88983c99",
   "metadata": {},
   "outputs": [],
   "source": [
    "x = 5\n",
    "y = 6"
   ]
  },
  {
   "cell_type": "markdown",
   "id": "7494e5ce",
   "metadata": {},
   "source": [
    "**try all the arithmatec operations on x,y**"
   ]
  },
  {
   "cell_type": "code",
   "execution_count": null,
   "id": "101f9a72",
   "metadata": {},
   "outputs": [],
   "source": []
  },
  {
   "cell_type": "markdown",
   "id": "ea80fbf2",
   "metadata": {},
   "source": [
    "### operations priority\n",
    "- 5 * 4 + 2\n",
    "- 5 * 2 - 2\n",
    "- 5 * (4 + 2)"
   ]
  },
  {
   "cell_type": "code",
   "execution_count": null,
   "id": "d8e9ad1c",
   "metadata": {},
   "outputs": [],
   "source": []
  },
  {
   "cell_type": "markdown",
   "id": "f4048f1e",
   "metadata": {},
   "source": [
    "### relational operators"
   ]
  },
  {
   "cell_type": "code",
   "execution_count": 23,
   "id": "ca993855",
   "metadata": {},
   "outputs": [
    {
     "name": "stdout",
     "output_type": "stream",
     "text": [
      "False\n",
      "True\n"
     ]
    }
   ],
   "source": [
    "x = 5\n",
    "y = 3\n",
    "print(x < y)\n",
    "print(x != 3)"
   ]
  },
  {
   "cell_type": "markdown",
   "id": "b3a5c835",
   "metadata": {},
   "source": [
    "### operators priority\n",
    "- () and ()\n",
    "- not --- and ---"
   ]
  },
  {
   "cell_type": "code",
   "execution_count": 28,
   "id": "389fec60",
   "metadata": {},
   "outputs": [
    {
     "name": "stdout",
     "output_type": "stream",
     "text": [
      "True\n",
      "False\n"
     ]
    }
   ],
   "source": [
    "x = 5\n",
    "y = 3\n",
    "print( (x == 5) and (x > y) )\n",
    "print( not ( (x==5) or (x > y) ) )"
   ]
  },
  {
   "cell_type": "markdown",
   "id": "a2b56aa6",
   "metadata": {},
   "source": [
    "### strings\n",
    "- lower\n",
    "- upper\n",
    "- count\n",
    "- replace\n",
    "- [0]\n",
    "- find\n",
    "- concat ( + )\n",
    "- format"
   ]
  },
  {
   "cell_type": "markdown",
   "id": "904affe7",
   "metadata": {},
   "source": [
    "**try all the string functions above and print them**"
   ]
  },
  {
   "cell_type": "code",
   "execution_count": 1,
   "id": "72a6fdbb",
   "metadata": {},
   "outputs": [
    {
     "name": "stdout",
     "output_type": "stream",
     "text": [
      "This Is a string\n"
     ]
    }
   ],
   "source": [
    "s = \"This Is a string\"\n",
    "print(s)\n"
   ]
  },
  {
   "cell_type": "markdown",
   "id": "33f4a6eb",
   "metadata": {},
   "source": [
    "#### write a program to check if a string is palindromic (a palindromic string is read from left to right as from right to left)\n",
    "example : NEVEN"
   ]
  },
  {
   "cell_type": "code",
   "execution_count": null,
   "id": "20a29e8f",
   "metadata": {},
   "outputs": [],
   "source": []
  },
  {
   "cell_type": "markdown",
   "id": "f0a3ff5a",
   "metadata": {},
   "source": [
    "### inputs"
   ]
  },
  {
   "cell_type": "code",
   "execution_count": 27,
   "id": "f4ed89bd",
   "metadata": {},
   "outputs": [
    {
     "name": "stdout",
     "output_type": "stream",
     "text": [
      "please enter your name: ahmed\n",
      "<class 'str'>\n"
     ]
    }
   ],
   "source": [
    "name = input(\"please enter your name: \")\n",
    "print(type(name))"
   ]
  },
  {
   "cell_type": "markdown",
   "id": "54d2319e",
   "metadata": {},
   "source": [
    "- take the name of the user and print a greeting message for the user\n",
    "- what's your name? (ahmed)\n",
    "- hello ahmed"
   ]
  },
  {
   "cell_type": "code",
   "execution_count": null,
   "id": "1808c6ca",
   "metadata": {},
   "outputs": [],
   "source": []
  },
  {
   "cell_type": "markdown",
   "id": "e92e03be",
   "metadata": {},
   "source": [
    "#### type casting"
   ]
  },
  {
   "cell_type": "code",
   "execution_count": 31,
   "id": "1ebef090",
   "metadata": {},
   "outputs": [
    {
     "name": "stdout",
     "output_type": "stream",
     "text": [
      "<class 'int'>\n",
      "<class 'float'>\n",
      "23.0\n"
     ]
    }
   ],
   "source": [
    "x = int(\"23\")\n",
    "print(type(x))\n",
    "x_float = float(23)\n",
    "print(type(x_float))\n",
    "print(x_float)"
   ]
  },
  {
   "cell_type": "code",
   "execution_count": 32,
   "id": "94de4483",
   "metadata": {},
   "outputs": [
    {
     "name": "stdout",
     "output_type": "stream",
     "text": [
      "<class 'str'>\n",
      "5\n"
     ]
    }
   ],
   "source": [
    "x = 5\n",
    "x_string = str(x)\n",
    "print(type(x_string))\n",
    "print(x)"
   ]
  },
  {
   "cell_type": "markdown",
   "id": "a0c08f06",
   "metadata": {},
   "source": [
    "- take the first name of the user \n",
    "- take the last name of the user\n",
    "- take the birth year of  the user (1992)\n",
    "- print a greeting message :\n",
    "\"hello ahmed hassan, your age is 28\"\n"
   ]
  },
  {
   "cell_type": "code",
   "execution_count": null,
   "id": "7f64ae38",
   "metadata": {},
   "outputs": [],
   "source": []
  },
  {
   "cell_type": "markdown",
   "id": "f08d0f67",
   "metadata": {},
   "source": [
    "- write a program to take a number from the user (7.5) \n",
    "- print \"double of the number  is (15)\""
   ]
  },
  {
   "cell_type": "code",
   "execution_count": null,
   "id": "0ec9af35",
   "metadata": {},
   "outputs": [],
   "source": []
  },
  {
   "cell_type": "markdown",
   "id": "721c7b48",
   "metadata": {},
   "source": [
    "### if conditions"
   ]
  },
  {
   "cell_type": "markdown",
   "id": "eeac6e60",
   "metadata": {},
   "source": [
    "- <b> make a program to take input from user and check :<br>\n",
    "    - if temperature > 50 : print(high temperetaure) <br>\n",
    "    - else : print(low temp) </b>"
   ]
  },
  {
   "cell_type": "code",
   "execution_count": null,
   "id": "a0c5ccc9",
   "metadata": {},
   "outputs": [],
   "source": []
  },
  {
   "cell_type": "markdown",
   "id": "2710ab6f",
   "metadata": {},
   "source": [
    "- <b> make a program to take input from user and check :<br>\n",
    "    - if temperature > 50 : print(high temperetaure) <br>\n",
    "    - if temperature > 30 and temperature < 50 : print(moderate temperature) <br> \n",
    "    - if temperature < 30 print(low temp) </b>"
   ]
  },
  {
   "cell_type": "code",
   "execution_count": null,
   "id": "6867880e",
   "metadata": {},
   "outputs": [],
   "source": []
  },
  {
   "cell_type": "markdown",
   "id": "afdadc73",
   "metadata": {},
   "source": [
    "- make a program to take two numbers from the user and :\n",
    "- if the first number is bigger: print(first number is bigger)\n",
    "- if the second number is bigger: print(second number is bigger)\n",
    "- if the two numbers are equal print(equal numbers)"
   ]
  },
  {
   "cell_type": "code",
   "execution_count": null,
   "id": "ffc18b25",
   "metadata": {},
   "outputs": [],
   "source": []
  },
  {
   "cell_type": "markdown",
   "id": "3bb9304d",
   "metadata": {},
   "source": [
    "### take a string from the user and check if it is a palindrome (NEVEN)"
   ]
  },
  {
   "cell_type": "code",
   "execution_count": null,
   "id": "bc2338cc",
   "metadata": {},
   "outputs": [],
   "source": []
  },
  {
   "cell_type": "markdown",
   "id": "031e731a",
   "metadata": {},
   "source": [
    "### lists"
   ]
  },
  {
   "cell_type": "markdown",
   "id": "d30f2995",
   "metadata": {},
   "source": [
    "- len\n",
    "- index\n",
    "- [0] , [:]\n",
    "- append , + \n",
    "- remove\n",
    "- insert\n",
    "- count\n",
    "- in"
   ]
  },
  {
   "cell_type": "markdown",
   "id": "03938f32",
   "metadata": {},
   "source": [
    "**try the above functions on the list below**"
   ]
  },
  {
   "cell_type": "code",
   "execution_count": null,
   "id": "23933ecd",
   "metadata": {},
   "outputs": [],
   "source": [
    "l = [\"mohamed\" , \"ahmed\" , \"hassan\"]\n"
   ]
  },
  {
   "cell_type": "markdown",
   "id": "508e0c37",
   "metadata": {},
   "source": [
    "- take a char from the user as input and check if the char is vowel\n",
    "- vowel chars are {'a', 'e' , 'i' , 'o' , 'u'}"
   ]
  },
  {
   "cell_type": "markdown",
   "id": "efa563a8",
   "metadata": {},
   "source": [
    "### dictionary"
   ]
  },
  {
   "cell_type": "markdown",
   "id": "413c6ebb",
   "metadata": {},
   "source": [
    "#### using the dictionary below:\n",
    "#### take the email from user \n",
    "#### take the password\n",
    "#### check if user name and password are correct"
   ]
  },
  {
   "cell_type": "code",
   "execution_count": null,
   "id": "5ba5878e",
   "metadata": {},
   "outputs": [],
   "source": [
    "authourized_users = {\"moahemd@epsilon.ai\" : '1234' , \"ahmed@epsilon.ai\" : '3456' }\n"
   ]
  },
  {
   "cell_type": "markdown",
   "id": "ec7a4f31",
   "metadata": {},
   "source": [
    "### for loops"
   ]
  },
  {
   "cell_type": "code",
   "execution_count": 65,
   "id": "2bb0e8cc",
   "metadata": {},
   "outputs": [
    {
     "name": "stdout",
     "output_type": "stream",
     "text": [
      "3\n",
      "4\n",
      "5\n",
      "6\n",
      "7\n",
      "8\n",
      "9\n"
     ]
    }
   ],
   "source": [
    "for u in range(3 , 10):\n",
    "    print(u)"
   ]
  },
  {
   "cell_type": "markdown",
   "id": "77f02497",
   "metadata": {},
   "source": [
    "- take a number as input from the user \n",
    "- print the numbers from 0 to this number"
   ]
  },
  {
   "cell_type": "code",
   "execution_count": null,
   "id": "08c4c626",
   "metadata": {},
   "outputs": [],
   "source": []
  },
  {
   "cell_type": "markdown",
   "id": "9c741803",
   "metadata": {},
   "source": [
    "- take two numbers from the user (start , end)\n",
    "- print all numbers in the range: start and end\n",
    "- \n",
    "- example:\n",
    "- start: 2\n",
    "- end: 4\n",
    "- output: <br>\n",
    "2 <br>\n",
    "3"
   ]
  },
  {
   "cell_type": "code",
   "execution_count": null,
   "id": "bd44ecad",
   "metadata": {},
   "outputs": [],
   "source": []
  }
 ],
 "metadata": {
  "kernelspec": {
   "display_name": "Python 3 (ipykernel)",
   "language": "python",
   "name": "python3"
  },
  "language_info": {
   "codemirror_mode": {
    "name": "ipython",
    "version": 3
   },
   "file_extension": ".py",
   "mimetype": "text/x-python",
   "name": "python",
   "nbconvert_exporter": "python",
   "pygments_lexer": "ipython3",
   "version": "3.9.13"
  }
 },
 "nbformat": 4,
 "nbformat_minor": 5
}
